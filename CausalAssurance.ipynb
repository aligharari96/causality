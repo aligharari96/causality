{
 "cells": [
  {
   "cell_type": "markdown",
   "metadata": {},
   "source": [
    "# Generate Synthetic Data"
   ]
  },
  {
   "cell_type": "markdown",
   "metadata": {},
   "source": [
    "## Notes \n",
    "### Required installing Oracle JAVA 8 to get javabridge installed\n",
    "### Then, I was able to install py-causal from https://bd2kccd.github.io/docs/py-causal/\n",
    "### GFCI is slower than RFCI, but more accurate (SPIRTES), GFCI and RFCI account for unobserved variables, FGES assumes no unobserved variables."
   ]
  },
  {
   "cell_type": "markdown",
   "metadata": {},
   "source": [
    "Structure Learning Performance Guarantees If the assumptions in the previous section hold, then in the large sample limit, the CBN structure output by GFCId will contain an edge of one of four kinds between Xand Y   if and only if Xand Yare not independent conditional on any subset of the other measured variables of less than or equal to a specified size. In addition, there is (1) an arc X->Y   if and only if Xdirectly or indirectly causes Y, and Y   does not directly or indirectly cause X; (2) an edge X <-->Y   if and only if X   is not a direct or indirect cause of Yand Y   is not a direct or indirect cause of X(which can only occur if there are latent confounders of Xand some other variable or Yand some other variable; (3) an edge Xo->Y   only if Yis not a direct or indirect cause of X, but Xmay or may not be an indirect cause of Y; (4) an edge X o–o Y   indicates that Xand Y   are dependent no matter what subset of observed variables is conditioned on, but contains no orientation information (X   may be a direct or indirect cause of Y, and Ymay be an indirect cause of X, or there may be a latent common cause of Xand Y."
   ]
  },
  {
   "cell_type": "code",
   "execution_count": null,
   "metadata": {},
   "outputs": [],
   "source": [
    "#Synthetic data\n",
    "import numpy as np\n",
    "import pandas as pd\n",
    "import random\n",
    "import matplotlib.pyplot as plt"
   ]
  },
  {
   "cell_type": "code",
   "execution_count": null,
   "metadata": {},
   "outputs": [],
   "source": [
    "def transform1(x):\n",
    "    return x * random.randint(1,2) + random.randint(0,10)\n",
    "\n",
    "def transform2(x):\n",
    "    return x * random.randint(1,2) + random.randint(0,10)\n",
    "\n",
    "center = 0\n",
    "std_dev = 1\n",
    "nb_samples = 1000000\n",
    "gauss = np.random.normal(loc = center, scale = std_dev, size = nb_samples)\n",
    "X = gauss * 3\n",
    "Y = transform1(X)\n",
    "Z = transform2(Y)"
   ]
  },
  {
   "cell_type": "code",
   "execution_count": null,
   "metadata": {},
   "outputs": [],
   "source": [
    "plt.hist(X, alpha = 1, label = 'X')\n",
    "plt.hist(Y, alpha = 0.3, label = 'Y')\n",
    "plt.hist(Z, alpha = 0.2, label = 'Z')\n",
    "\n",
    "plt.legend(loc = 'upper right')\n",
    "plt.show()"
   ]
  },
  {
   "cell_type": "markdown",
   "metadata": {},
   "source": [
    "# Steps\n",
    "### 1) Use various ml algorithms to predict Z* given X, Y\n",
    "### 2) Use the PC algorithm on each to vizualize a graph."
   ]
  },
  {
   "cell_type": "code",
   "execution_count": null,
   "metadata": {},
   "outputs": [],
   "source": [
    "from pcalg import *\n",
    "\n",
    "import networkx as nx\n",
    "import numpy as np\n",
    "from gsq.ci_tests import ci_test_bin, ci_test_dis\n",
    "from gsq.gsq_testdata import bin_data, dis_data\n",
    "\n"
   ]
  },
  {
   "cell_type": "code",
   "execution_count": null,
   "metadata": {},
   "outputs": [],
   "source": [
    "dm = np.array(dis_data).reshape((10000, 5))\n",
    "(g, sep_set) = estimate_skeleton(indep_test_func=ci_test_dis,\n",
    "                             data_matrix=dm,\n",
    "                             alpha=0.01)\n",
    "g = estimate_cpdag(skel_graph=g, sep_set=sep_set)\n",
    "\n",
    "print('Edges are:', g.edges(), end='')\n",
    "\n",
    "dmt = np.transpose(dm)\n",
    "#dmt[3].copy()\n",
    "dmt = np.append(dmt[1:].copy(), [dmt[0].copy()], axis =0)\n",
    "#dmt = dmt[1:]\n",
    "dmt = np.transpose(dmt)\n",
    "dmt = dmt.copy()+dmt.copy()\n",
    "dm = np.array(dis_data).reshape((10000, 5))\n",
    "(g, sep_set) = estimate_skeleton(indep_test_func=ci_test_dis,\n",
    "                             data_matrix=dmt,\n",
    "                             alpha=0.01)\n",
    "g = estimate_cpdag(skel_graph=g, sep_set=sep_set)\n",
    "\n",
    "print('Edges are:', g.edges(), end='')"
   ]
  },
  {
   "cell_type": "code",
   "execution_count": null,
   "metadata": {},
   "outputs": [],
   "source": [
    "import numpy as np\n",
    "import pandas as pd\n",
    "from pcalg import *\n",
    "\n",
    "import networkx as nx\n",
    "import numpy as np\n",
    "from gsq.ci_tests import ci_test_bin, ci_test_dis\n",
    "from gsq.gsq_testdata import bin_data, dis_data\n",
    "def generate_data(n_samples=10000, set_X=None, show_z=True):\n",
    "    p_z = 0.5\n",
    "    p_x_z = [0.9, 0.1]\n",
    "    p_y_xz = [0.2, 0.4, 0.6, 0.8]\n",
    "    Z = np.random.binomial(n=1, p=p_z, size=n_samples)\n",
    "    if set_X is not None:\n",
    "        assert(len(set_X) == n_samples)\n",
    "        X = set_X\n",
    "    else:\n",
    "        p_x = np.choose(Z, p_x_z)\n",
    "        X = np.random.binomial(n=1, p=p_x, size=n_samples)\n",
    "        \n",
    "    p_y = np.choose(X+2*Z, p_y_xz)\n",
    "    Y = np.random.binomial(n=1, p=p_y, size=n_samples)\n",
    "    if show_z:\n",
    "        return pd.DataFrame({\"x\":X, \"y\":Y, \"z\":Z})\n",
    "    \n",
    "    return pd.DataFrame({\"x\":X, \"y\":Y})\n",
    "\n",
    "\n",
    "\n",
    "def generate_data2(n_samples=5000):\n",
    "    p_z = 0.5\n",
    "    p_x_z = [0.9, 0.1]\n",
    "    p_y_xz = [0.2, 0.8]\n",
    "    p_x_y = [0.9, 0.1]\n",
    "    Z = np.random.binomial(n=1, p=p_z, size=n_samples)\n",
    "    \n",
    "    p_y = np.choose(Z, p_y_xz)\n",
    "    Y = np.random.binomial(n=1, p=p_y, size=n_samples)\n",
    "    \n",
    "    p_x = np.choose(Y, p_x_y)\n",
    "    X = np.random.binomial(n=1, p=p_x, size=n_samples)\n",
    "\n",
    "    return pd.DataFrame({\"x\":X, \"y\":Y, \"z\":Z}) \n",
    "\n",
    "\n",
    "def random_data(n_samples=5000):\n",
    "    p_z = 0.5\n",
    "\n",
    "    Z = np.random.binomial(n=1, p=p_z, size=n_samples)\n",
    "    Y = np.random.binomial(n=1, p=p_z, size=n_samples)\n",
    "    X = np.random.binomial(n=1, p=p_z, size=n_samples)\n",
    "\n",
    "    return pd.DataFrame({\"x\":X, \"y\":Y, \"z\":Y}) \n",
    "\n",
    "\n",
    "\n",
    "gen_df = generate_data()\n",
    "\n",
    "from pcalg import *\n",
    "\n",
    "import networkx as nx\n",
    "import numpy as np\n",
    "from gsq.ci_tests import ci_test_bin, ci_test_dis\n",
    "from gsq.gsq_testdata import bin_data, dis_data\n",
    "\n",
    "\n",
    "(g, sep_set) = estimate_skeleton(indep_test_func=ci_test_dis,\n",
    "                                 data_matrix=gen_df.values,\n",
    "                                 alpha=0.01)\n",
    "g = estimate_cpdag(skel_graph=g, sep_set=sep_set)\n",
    "\n",
    "print('Edges are:', g.edges(), end='')"
   ]
  },
  {
   "cell_type": "markdown",
   "metadata": {},
   "source": [
    "# Lung Cancer LUCAS dataset  http://www.causality.inf.ethz.ch/data/LUCAS.html\n",
    "# more found here http://www.causality.inf.ethz.ch/challenge.php?page=datasets"
   ]
  },
  {
   "cell_type": "code",
   "execution_count": 4,
   "metadata": {},
   "outputs": [],
   "source": [
    "\n",
    "df = pd.read_csv('/home/tkyono/Desktop/lucas0_text/lucas0_train.data', delim_whitespace=True, \n",
    "                 names = ['Smoking', 'Yellowfingers', 'Anxiety', 'PeerPressure', 'Genetics', 'Attention_disorder',\n",
    "                         'Born_on_even_day', 'Car_accident', 'Fatigue', 'Allergy', 'coughing'])\n",
    "\n",
    "targets = pd.read_csv('/home/tkyono/Desktop/lucas0_text/lucas0_train.targets', delim_whitespace=True, \n",
    "                 names = ['Lung_Cancer'])\n",
    "\n",
    "df = df.join(targets)"
   ]
  },
  {
   "cell_type": "code",
   "execution_count": 7,
   "metadata": {},
   "outputs": [],
   "source": [
    "import matplotlib.pyplot as plt\n",
    "import numpy as np\n",
    "import pandas as pd\n",
    "\n",
    "# generate some toy data:\n",
    "SIZE = 2000\n",
    "x1 = np.random.normal(size=SIZE)\n",
    "x2 = x1 + np.random.normal(size=SIZE)\n",
    "x3 = x1 + np.random.normal(size=SIZE)\n",
    "x4 = x2 + x3 + np.random.normal(size=SIZE)\n",
    "x5 = x4 + np.random.normal(size=SIZE)\n",
    "\n",
    "# load the data into a dataframe:\n",
    "df = pd.DataFrame({'x1' : x1, 'x2' : x2, 'x3' : x3, 'x4' : x4, 'x5' : x5})"
   ]
  },
  {
   "cell_type": "markdown",
   "metadata": {},
   "source": [
    "# This non bootstrap GFCI seems to work the best"
   ]
  },
  {
   "cell_type": "code",
   "execution_count": null,
   "metadata": {},
   "outputs": [],
   "source": [
    "# This is for discrete data.\n",
    "\n",
    "import pandas as pd\n",
    "from pycausal.pycausal import pycausal as pc\n",
    "from pycausal import search as s\n",
    "pc = pc()\n",
    "pc.start_vm(java_max_heap_size = '500M')\n",
    "from pycausal import prior as p\n",
    "\n",
    "tetrad = s.tetradrunner()\n",
    "#GFCI = Greedy Fast Causal Interference (GFCI) \n",
    "# bdeu = Bayesian Dirichlet likelihood equivalence and uniform\n",
    "tetrad.run(algoId = 'gfci', dfs = df, testId = 'bdeu', scoreId = 'bdeu', dataType = 'discrete',\n",
    "           structurePrior = 1.0, samplePrior = 1.0, maxDegree = -1, maxPathLength = -1, \n",
    "           completeRuleSetUsed = False, faithfulnessAssumed = True, verbose = True)\n",
    "\n",
    "import pydot\n",
    "from IPython.display import SVG\n",
    "dot_str = pc.tetradGraphToDot(tetrad.getTetradGraph())\n",
    "graphs = pydot.graph_from_dot_data(dot_str)\n",
    "svg_str = graphs[0].create_svg()\n",
    "SVG(svg_str)"
   ]
  },
  {
   "cell_type": "code",
   "execution_count": 35,
   "metadata": {},
   "outputs": [
    {
     "data": {
      "image/svg+xml": [
       "<svg height=\"188pt\" viewBox=\"0.00 0.00 350.00 188.00\" width=\"350pt\" xmlns=\"http://www.w3.org/2000/svg\" xmlns:xlink=\"http://www.w3.org/1999/xlink\">\n",
       "<g class=\"graph\" id=\"graph0\" transform=\"scale(1 1) rotate(0) translate(4 184)\">\n",
       "<title>g</title>\n",
       "<polygon fill=\"#ffffff\" points=\"-4,4 -4,-184 346,-184 346,4 -4,4\" stroke=\"transparent\"/>\n",
       "<!-- x1b -->\n",
       "<g class=\"node\" id=\"node1\">\n",
       "<title>x1b</title>\n",
       "<ellipse cx=\"27\" cy=\"-162\" fill=\"none\" rx=\"27\" ry=\"18\" stroke=\"#000000\"/>\n",
       "<text fill=\"#000000\" font-family=\"Times,serif\" font-size=\"14.00\" text-anchor=\"middle\" x=\"27\" y=\"-158.3\">x1b</text>\n",
       "</g>\n",
       "<!-- x2 -->\n",
       "<g class=\"node\" id=\"node2\">\n",
       "<title>x2</title>\n",
       "<ellipse cx=\"171\" cy=\"-90\" fill=\"none\" rx=\"27\" ry=\"18\" stroke=\"#000000\"/>\n",
       "<text fill=\"#000000\" font-family=\"Times,serif\" font-size=\"14.00\" text-anchor=\"middle\" x=\"171\" y=\"-86.3\">x2</text>\n",
       "</g>\n",
       "<!-- x1b&#45;&gt;x2 -->\n",
       "<g class=\"edge\" id=\"edge1\">\n",
       "<title>x1b-&gt;x2</title>\n",
       "<path d=\"M56.2853,-147.3574C80.766,-135.117 115.5658,-117.7171 140.4054,-105.2973\" fill=\"none\" stroke=\"#000000\"/>\n",
       "<ellipse cx=\"52.4482\" cy=\"-149.2759\" fill=\"none\" rx=\"4\" ry=\"4\" stroke=\"#000000\"/>\n",
       "<polygon fill=\"#000000\" points=\"142.0165,-108.4049 149.3955,-100.8022 138.886,-102.1439 142.0165,-108.4049\" stroke=\"#000000\"/>\n",
       "</g>\n",
       "<!-- x3 -->\n",
       "<g class=\"node\" id=\"node7\">\n",
       "<title>x3</title>\n",
       "<ellipse cx=\"171\" cy=\"-18\" fill=\"none\" rx=\"27\" ry=\"18\" stroke=\"#000000\"/>\n",
       "<text fill=\"#000000\" font-family=\"Times,serif\" font-size=\"14.00\" text-anchor=\"middle\" x=\"171\" y=\"-14.3\">x3</text>\n",
       "</g>\n",
       "<!-- x2&#45;&gt;x3 -->\n",
       "<g class=\"edge\" id=\"edge6\">\n",
       "<title>x2-&gt;x3</title>\n",
       "<path d=\"M171,-71.8314C171,-64.131 171,-54.9743 171,-46.4166\" fill=\"none\" stroke=\"#000000\"/>\n",
       "<polygon fill=\"#000000\" points=\"174.5001,-46.4132 171,-36.4133 167.5001,-46.4133 174.5001,-46.4132\" stroke=\"#000000\"/>\n",
       "</g>\n",
       "<!-- x1 -->\n",
       "<g class=\"node\" id=\"node3\">\n",
       "<title>x1</title>\n",
       "<ellipse cx=\"99\" cy=\"-162\" fill=\"none\" rx=\"27\" ry=\"18\" stroke=\"#000000\"/>\n",
       "<text fill=\"#000000\" font-family=\"Times,serif\" font-size=\"14.00\" text-anchor=\"middle\" x=\"99\" y=\"-158.3\">x1</text>\n",
       "</g>\n",
       "<!-- x1&#45;&gt;x2 -->\n",
       "<g class=\"edge\" id=\"edge2\">\n",
       "<title>x1-&gt;x2</title>\n",
       "<path d=\"M119.9983,-141.0017C128.94,-132.06 139.3854,-121.6146 148.4864,-112.5136\" fill=\"none\" stroke=\"#000000\"/>\n",
       "<ellipse cx=\"117.0978\" cy=\"-143.9022\" fill=\"none\" rx=\"4\" ry=\"4\" stroke=\"#000000\"/>\n",
       "<polygon fill=\"#000000\" points=\"151.1564,-114.7933 155.7527,-105.2473 146.2067,-109.8436 151.1564,-114.7933\" stroke=\"#000000\"/>\n",
       "</g>\n",
       "<!-- x1a -->\n",
       "<g class=\"node\" id=\"node4\">\n",
       "<title>x1a</title>\n",
       "<ellipse cx=\"171\" cy=\"-162\" fill=\"none\" rx=\"27\" ry=\"18\" stroke=\"#000000\"/>\n",
       "<text fill=\"#000000\" font-family=\"Times,serif\" font-size=\"14.00\" text-anchor=\"middle\" x=\"171\" y=\"-158.3\">x1a</text>\n",
       "</g>\n",
       "<!-- x1a&#45;&gt;x2 -->\n",
       "<g class=\"edge\" id=\"edge3\">\n",
       "<title>x1a-&gt;x2</title>\n",
       "<path d=\"M171,-135.8144C171,-130.2775 171,-124.4053 171,-118.7785\" fill=\"none\" stroke=\"#000000\"/>\n",
       "<ellipse cx=\"171\" cy=\"-139.8314\" fill=\"none\" rx=\"4\" ry=\"4\" stroke=\"#000000\"/>\n",
       "<polygon fill=\"#000000\" points=\"174.5001,-118.4132 171,-108.4133 167.5001,-118.4133 174.5001,-118.4132\" stroke=\"#000000\"/>\n",
       "</g>\n",
       "<!-- x1d -->\n",
       "<g class=\"node\" id=\"node5\">\n",
       "<title>x1d</title>\n",
       "<ellipse cx=\"243\" cy=\"-162\" fill=\"none\" rx=\"27\" ry=\"18\" stroke=\"#000000\"/>\n",
       "<text fill=\"#000000\" font-family=\"Times,serif\" font-size=\"14.00\" text-anchor=\"middle\" x=\"243\" y=\"-158.3\">x1d</text>\n",
       "</g>\n",
       "<!-- x1d&#45;&gt;x2 -->\n",
       "<g class=\"edge\" id=\"edge4\">\n",
       "<title>x1d-&gt;x2</title>\n",
       "<path d=\"M222.0017,-141.0017C213.06,-132.06 202.6146,-121.6146 193.5136,-112.5136\" fill=\"none\" stroke=\"#000000\"/>\n",
       "<ellipse cx=\"224.9022\" cy=\"-143.9022\" fill=\"none\" rx=\"4\" ry=\"4\" stroke=\"#000000\"/>\n",
       "<polygon fill=\"#000000\" points=\"195.7933,-109.8436 186.2473,-105.2473 190.8436,-114.7933 195.7933,-109.8436\" stroke=\"#000000\"/>\n",
       "</g>\n",
       "<!-- x1c -->\n",
       "<g class=\"node\" id=\"node6\">\n",
       "<title>x1c</title>\n",
       "<ellipse cx=\"315\" cy=\"-162\" fill=\"none\" rx=\"27\" ry=\"18\" stroke=\"#000000\"/>\n",
       "<text fill=\"#000000\" font-family=\"Times,serif\" font-size=\"14.00\" text-anchor=\"middle\" x=\"315\" y=\"-158.3\">x1c</text>\n",
       "</g>\n",
       "<!-- x1c&#45;&gt;x2 -->\n",
       "<g class=\"edge\" id=\"edge5\">\n",
       "<title>x1c-&gt;x2</title>\n",
       "<path d=\"M285.7147,-147.3574C261.234,-135.117 226.4342,-117.7171 201.5946,-105.2973\" fill=\"none\" stroke=\"#000000\"/>\n",
       "<ellipse cx=\"289.5518\" cy=\"-149.2759\" fill=\"none\" rx=\"4\" ry=\"4\" stroke=\"#000000\"/>\n",
       "<polygon fill=\"#000000\" points=\"203.114,-102.1439 192.6045,-100.8022 199.9835,-108.4049 203.114,-102.1439\" stroke=\"#000000\"/>\n",
       "</g>\n",
       "</g>\n",
       "</svg>"
      ],
      "text/plain": [
       "<IPython.core.display.SVG object>"
      ]
     },
     "execution_count": 35,
     "metadata": {},
     "output_type": "execute_result"
    }
   ],
   "source": [
    "# This is for continous data.\n",
    "# generate some toy data:\n",
    "SIZE = 20000\n",
    "x1 = np.random.normal(size=SIZE, scale = 1)\n",
    "x1a = np.random.normal(size=SIZE, scale = 1)\n",
    "x1b = np.random.normal(size=SIZE, scale = 1)\n",
    "x1c = np.random.normal(size=SIZE, scale = 1)\n",
    "x1d = np.random.normal(size=SIZE, scale = 1)\n",
    "\n",
    "x2 = x1 + x1a + x1b + x1c + x1d + np.random.normal(size=SIZE, scale = 1)\n",
    "x3 = x2 + np.random.normal(size=SIZE, scale = 1)\n",
    "\n",
    "# load the data into a dataframe:\n",
    "df = pd.DataFrame({'x1' : x1,'x1a' : x1a,'x1b' : x1b, 'x1c' : x1c,'x1d' : x1d,'x2' : x2, 'x3' : x3})\n",
    "import pandas as pd\n",
    "from pycausal.pycausal import pycausal as pc\n",
    "from pycausal import search as s\n",
    "pc = pc()\n",
    "pc.start_vm(java_max_heap_size = '500M')\n",
    "from pycausal import prior as p\n",
    "\n",
    "tetrad = s.tetradrunner()\n",
    "#GFCI = Greedy Fast Causal Interference (GFCI) \n",
    "# bdeu = Bayesian Dirichlet likelihood equivalence and uniform\n",
    "tetrad.run(algoId = 'gfci', dfs = df, testId = 'sem-bic', scoreId = 'sem-bic', dataType = 'continuous',\n",
    "           structurePrior = 1.0, samplePrior = 1.0, maxDegree = -1, maxPathLength = -1, \n",
    "           completeRuleSetUsed = False, faithfulnessAssumed = True, verbose = True)\n",
    "\n",
    "import pydot\n",
    "from IPython.display import SVG\n",
    "dot_str = pc.tetradGraphToDot(tetrad.getTetradGraph())\n",
    "graphs = pydot.graph_from_dot_data(dot_str)\n",
    "svg_str = graphs[0].create_svg()\n",
    "SVG(svg_str)\n",
    "\n",
    "\n"
   ]
  },
  {
   "cell_type": "code",
   "execution_count": null,
   "metadata": {},
   "outputs": [],
   "source": [
    "from pycausal import search as s\n",
    "tetrad = s.tetradrunner()\n",
    "tetrad.getAlgorithmParameters(algoId = 'fges', scoreId = 'bdeu')\n",
    "tetrad.run(algoId = 'fges', dfs = df, scoreId = 'bdeu', dataType = 'discrete',\n",
    "           structurePrior = 1.0, \n",
    "           samplePrior = 1.0, \n",
    "           maxDegree = 3, \n",
    "           faithfulnessAssumed = True, \n",
    "           verbose = True, \n",
    "           numberResampling = 5, \n",
    "           resamplingEnsemble = 1, \n",
    "           addOriginalDataset = True\n",
    "          )\n"
   ]
  },
  {
   "cell_type": "code",
   "execution_count": null,
   "metadata": {},
   "outputs": [],
   "source": [
    "\n",
    "import pydot\n",
    "from IPython.display import SVG\n",
    "dot_str = pc.tetradGraphToDot(tetrad.getTetradGraph())\n",
    "graphs = pydot.graph_from_dot_data(dot_str)\n",
    "svg_str = graphs[0].create_svg()\n",
    "SVG(svg_str)\n",
    "\n",
    "#BOOTSTRAP GFCI\n",
    "tetrad.run(algoId = 'gfci', dfs = df, testId = 'disc-bic', scoreId = 'bdeu', dataType = 'discrete',\n",
    "           structurePrior = 1.0, samplePrior = 1.0, maxDegree = 3, maxPathLength = -1, \n",
    "           completeRuleSetUsed = False, faithfulnessAssumed = True, verbose = True,\n",
    "           numberResampling = 5, resamplingEnsemble = 1, addOriginalDataset = True)\n",
    "\n",
    "\n",
    "import pydot\n",
    "from IPython.display import SVG\n",
    "dot_str = pc.tetradGraphToDot(tetrad.getTetradGraph())\n",
    "graphs = pydot.graph_from_dot_data(dot_str)\n",
    "svg_str = graphs[0].create_svg()\n",
    "SVG(svg_str)\n",
    "\n",
    "#FGES\n",
    "tetrad.run(algoId = 'fges', dfs = df, scoreId = 'bdeu', \n",
    "           #priorKnowledge = prior, \n",
    "           dataType = 'discrete',\n",
    "           structurePrior = 1.0, samplePrior = 1.0, maxDegree = 3, faithfulnessAssumed = True, verbose = True)\n",
    "\n",
    "import pydot\n",
    "from IPython.display import SVG\n",
    "dot_str = pc.tetradGraphToDot(tetrad.getTetradGraph())\n",
    "graphs = pydot.graph_from_dot_data(dot_str)\n",
    "svg_str = graphs[0].create_svg()\n",
    "SVG(svg_str)"
   ]
  },
  {
   "cell_type": "code",
   "execution_count": 10,
   "metadata": {},
   "outputs": [
    {
     "data": {
      "text/plain": [
       "{'kci': Instance of edu.cmu.tetrad.annotation.AnnotatedClass: edu.cmu.tetrad.annotation.AnnotatedClass@152221ea,\n",
       " 'fisher-z': Instance of edu.cmu.tetrad.annotation.AnnotatedClass: edu.cmu.tetrad.annotation.AnnotatedClass@23ed348b,\n",
       " 'correlation-t': Instance of edu.cmu.tetrad.annotation.AnnotatedClass: edu.cmu.tetrad.annotation.AnnotatedClass@d973f13,\n",
       " 'multinomial-logistic-regression-wald': Instance of edu.cmu.tetrad.annotation.AnnotatedClass: edu.cmu.tetrad.annotation.AnnotatedClass@3433f4af,\n",
       " 'sem-bic': Instance of edu.cmu.tetrad.annotation.AnnotatedClass: edu.cmu.tetrad.annotation.AnnotatedClass@309abeb2,\n",
       " 'multinomial-logistic-regression-likelihood-ratio': Instance of edu.cmu.tetrad.annotation.AnnotatedClass: edu.cmu.tetrad.annotation.AnnotatedClass@7a999d46,\n",
       " 'prob': Instance of edu.cmu.tetrad.annotation.AnnotatedClass: edu.cmu.tetrad.annotation.AnnotatedClass@4ec25aa1,\n",
       " 'chi-square': Instance of edu.cmu.tetrad.annotation.AnnotatedClass: edu.cmu.tetrad.annotation.AnnotatedClass@657f495a,\n",
       " 'bdeu': Instance of edu.cmu.tetrad.annotation.AnnotatedClass: edu.cmu.tetrad.annotation.AnnotatedClass@f50469,\n",
       " 'cci-test': Instance of edu.cmu.tetrad.annotation.AnnotatedClass: edu.cmu.tetrad.annotation.AnnotatedClass@3630ca9c,\n",
       " 'cond-gauss-lrt': Instance of edu.cmu.tetrad.annotation.AnnotatedClass: edu.cmu.tetrad.annotation.AnnotatedClass@6a7b89a9,\n",
       " 'g-square': Instance of edu.cmu.tetrad.annotation.AnnotatedClass: edu.cmu.tetrad.annotation.AnnotatedClass@75d12825,\n",
       " 'mixed-var-polynominal-likelihood-ratio': Instance of edu.cmu.tetrad.annotation.AnnotatedClass: edu.cmu.tetrad.annotation.AnnotatedClass@5d2facba,\n",
       " 'd-sep': Instance of edu.cmu.tetrad.annotation.AnnotatedClass: edu.cmu.tetrad.annotation.AnnotatedClass@6dfbf9a9,\n",
       " 'disc-bic': Instance of edu.cmu.tetrad.annotation.AnnotatedClass: edu.cmu.tetrad.annotation.AnnotatedClass@5b7b037e}"
      ]
     },
     "execution_count": 10,
     "metadata": {},
     "output_type": "execute_result"
    }
   ],
   "source": [
    "pc.extractTetradGraphEdges(tetrad.getTetradGraph())\n",
    "tetrad.tests"
   ]
  },
  {
   "cell_type": "code",
   "execution_count": null,
   "metadata": {},
   "outputs": [],
   "source": [
    "import pydot\n",
    "from IPython.display import SVG\n",
    "dot_str = pc.tetradGraphToDot(tetrad.getTetradGraph())\n",
    "graphs = pydot.graph_from_dot_data(dot_str)\n",
    "svg_str = graphs[0].create_svg()\n",
    "SVG(svg_str)"
   ]
  },
  {
   "cell_type": "code",
   "execution_count": null,
   "metadata": {},
   "outputs": [],
   "source": [
    "dm = np.array(bin_data).reshape((5000, 5))\n",
    "df = pd.DataFrame(dm, columns = ['a', 'b', 'c', 'd', 'e']) "
   ]
  },
  {
   "cell_type": "code",
   "execution_count": null,
   "metadata": {},
   "outputs": [],
   "source": []
  },
  {
   "cell_type": "code",
   "execution_count": null,
   "metadata": {},
   "outputs": [],
   "source": []
  }
 ],
 "metadata": {
  "kernelspec": {
   "display_name": "Python 3",
   "language": "python",
   "name": "python3"
  },
  "language_info": {
   "codemirror_mode": {
    "name": "ipython",
    "version": 3
   },
   "file_extension": ".py",
   "mimetype": "text/x-python",
   "name": "python",
   "nbconvert_exporter": "python",
   "pygments_lexer": "ipython3",
   "version": "3.6.5"
  }
 },
 "nbformat": 4,
 "nbformat_minor": 2
}
