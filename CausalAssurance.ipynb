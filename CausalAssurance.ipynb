{
 "cells": [
  {
   "cell_type": "markdown",
   "metadata": {},
   "source": [
    "## Notes \n",
    "### Required installing Oracle JAVA 8 to get javabridge installed\n",
    "### Then, I was able to install py-causal from https://bd2kccd.github.io/docs/py-causal/\n",
    "### GFCI is slower than RFCI, but more accurate (SPIRTES), GFCI and RFCI account for unobserved variables, FGES assumes no unobserved variables."
   ]
  },
  {
   "cell_type": "markdown",
   "metadata": {},
   "source": [
    "Structure Learning Performance Guarantees If the assumptions in the previous section hold, then in the large sample limit, the CBN structure output by GFCId will contain an edge of one of four kinds between Xand Y   if and only if Xand Yare not independent conditional on any subset of the other measured variables of less than or equal to a specified size. In addition, there is (1) an arc X->Y   if and only if Xdirectly or indirectly causes Y, and Y   does not directly or indirectly cause X; (2) an edge X <-->Y   if and only if X   is not a direct or indirect cause of Yand Y   is not a direct or indirect cause of X(which can only occur if there are latent confounders of Xand some other variable or Yand some other variable; (3) an edge Xo->Y   only if Yis not a direct or indirect cause of X, but Xmay or may not be an indirect cause of Y; (4) an edge X o–o Y   indicates that Xand Y   are dependent no matter what subset of observed variables is conditioned on, but contains no orientation information (X   may be a direct or indirect cause of Y, and Ymay be an indirect cause of X, or there may be a latent common cause of Xand Y."
   ]
  },
  {
   "cell_type": "markdown",
   "metadata": {},
   "source": [
    "# Trying some various ML models"
   ]
  },
  {
   "cell_type": "code",
   "execution_count": 37,
   "metadata": {},
   "outputs": [],
   "source": [
    "#Synthetic data\n",
    "import numpy as np\n",
    "import pandas as pd\n",
    "import random\n",
    "import matplotlib.pyplot as plt\n",
    "import pydot\n",
    "from IPython.display import SVG\n",
    "import scipy.stats as ss\n",
    "import numpy as np\n",
    "import matplotlib.pyplot as plt\n",
    "\n",
    "\n",
    "def gen_data():\n",
    "    #SIZE = 40000\n",
    "    SIZE = 4000\n",
    "    a = np.random.normal(0, 1, SIZE)\n",
    "    b = np.random.normal(0, 1, SIZE)\n",
    "    c = np.random.normal(0, 1, SIZE)\n",
    "    d = np.random.normal(0, 1, SIZE)\n",
    "    e = np.random.normal(0, 1, SIZE)\n",
    "    f= a + b + c + d + e + np.random.normal(0, 1, SIZE)\n",
    "    g = f + np.random.normal(0, 1, SIZE)\n",
    "    g = np.rint(g)\n",
    "    return pd.DataFrame({'a' : a,'b' : b, 'c' : c, 'd' : d,'e' : e,'f':f, 'g':g})\n",
    "\n",
    "def gen_data_binomial():\n",
    "    SIZE = 10000\n",
    "    a = np.random.binomial(2, 0.5, size=SIZE)\n",
    "    b = np.random.binomial(2, 0.5, size=SIZE)\n",
    "    c = np.random.binomial(2, 0.5, size=SIZE)\n",
    "    d = np.random.binomial(2, 0.5, size=SIZE)\n",
    "    e = np.random.binomial(2, 0.5, size=SIZE)\n",
    "    f= a + b + c + d + e + np.random.binomial(2, 0.5, size=SIZE)\n",
    "    g = f + np.random.binomial(2, 0.5, size=SIZE)\n",
    "    return pd.DataFrame({'a' : a,'b' : b, 'c' : c, 'd' : d,'e' : e,'f':f, 'g':g})\n",
    "\n",
    "def gen_data_discrete():\n",
    "    SIZE = 40000\n",
    "    a = discrete_gauss(-3,3, SIZE)\n",
    "    b = discrete_gauss(-3,3, SIZE)\n",
    "    c = discrete_gauss(-3,3, SIZE)\n",
    "    d = discrete_gauss(-3,3, SIZE)\n",
    "    e = discrete_gauss(-3,3, SIZE)\n",
    "    f= a + b + c + d + e + np.random.binomial(2, 0.5, size=SIZE)\n",
    "    g = f + discrete_gauss(-3,3, SIZE)\n",
    "    return pd.DataFrame({'a' : a,'b' : b, 'c' : c, 'd' : d,'e' : e,'f':f, 'g':g})\n",
    "\n",
    "\n",
    "def discrete_gauss(low, high, samples, std = 20):\n",
    "    x = np.arange(low, high)\n",
    "    xU, xL = x + 0.5, x - 0.5 \n",
    "    prob = ss.norm.cdf(xU, scale = std) - ss.norm.cdf(xL, scale = std)\n",
    "    prob = prob / prob.sum() #normalize the probabilities so their sum is 1\n",
    "    nums = np.random.choice(x, size = samples, p = prob)\n",
    "    return nums\n",
    "\n",
    "\n",
    "\n",
    "def bar_plot(x_ax, val1, val1std, val2, val2std):\n",
    "    fig = plt.figure()\n",
    "    ax = fig.add_subplot(111)\n",
    "\n",
    "    ## the data\n",
    "    N = len(x_ax)\n",
    "\n",
    "    ## necessary variables\n",
    "    ind = np.arange(N)                # the x locations for the groups\n",
    "    width = 0.35                      # the width of the bars\n",
    "    fig.set_size_inches(18.5, 10.5)\n",
    "    ## the bars\n",
    "    rects1 = ax.bar(ind, val1, width,\n",
    "                    color='gray',\n",
    "                    yerr=val1std,\n",
    "                    error_kw=dict(elinewidth=2,ecolor='blue'))\n",
    "\n",
    "    rects2 = ax.bar(ind+width, val2, width,\n",
    "                        color='blue',\n",
    "                        #yerr=val2std,\n",
    "                        error_kw=dict(elinewidth=2,ecolor='gray'))\n",
    "\n",
    "    # axes and labels\n",
    "    ax.set_xlim(-width,len(ind)+width)\n",
    "    #ax.set_ylim(0,45)\n",
    "    ax.set_ylabel('Percentage')\n",
    "    ax.set_title('')\n",
    "    plt.xticks(ind + width / 2, x_ax, rotation=75, size = 14)\n",
    "    ## add a legend\n",
    "    ax.legend( (rects1[0], rects2[0]), ('Accuracy', '% Violations') )\n",
    "    fig.savefig(\"violations.pdf\", bbox_inches='tight')\n",
    "    plt.show()\n"
   ]
  },
  {
   "cell_type": "code",
   "execution_count": 6,
   "metadata": {},
   "outputs": [],
   "source": [
    "# generate our data\n",
    "df = gen_data()"
   ]
  },
  {
   "cell_type": "code",
   "execution_count": 2,
   "metadata": {
    "scrolled": true
   },
   "outputs": [
    {
     "name": "stderr",
     "output_type": "stream",
     "text": [
      "/home/tkyono/anaconda3/lib/python3.6/site-packages/sklearn/ensemble/weight_boosting.py:29: DeprecationWarning: numpy.core.umath_tests is an internal NumPy module and should not be imported. It will be removed in a future NumPy release.\n",
      "  from numpy.core.umath_tests import inner1d\n",
      "/home/tkyono/anaconda3/lib/python3.6/site-packages/sklearn/model_selection/_split.py:605: Warning: The least populated class in y has only 1 members, which is too few. The minimum number of members in any class cannot be less than n_splits=40.\n",
      "  % (min_groups, self.n_splits)), Warning)\n"
     ]
    },
    {
     "name": "stdout",
     "output_type": "stream",
     "text": [
      "Error: LogisticRegression() 0.26995073891625615\n"
     ]
    },
    {
     "name": "stderr",
     "output_type": "stream",
     "text": [
      "/home/tkyono/anaconda3/lib/python3.6/site-packages/sklearn/linear_model/stochastic_gradient.py:128: FutureWarning: max_iter and tol parameters have been added in <class 'sklearn.linear_model.perceptron.Perceptron'> in 0.19. If both are left unset, they default to max_iter=5 and tol=None. If tol is not None, max_iter defaults to max_iter=1000. From 0.21, default max_iter will be 1000, and default tol will be 1e-3.\n",
      "  \"and default tol will be 1e-3.\" % type(self), FutureWarning)\n"
     ]
    },
    {
     "name": "stdout",
     "output_type": "stream",
     "text": [
      "Error: Perceptron() 0.1812807881773399\n",
      "Error: DecisionTreeClassifier() 0.2650246305418719\n",
      "Error: LinearSVC() 0.3054187192118227\n",
      "Error: GaussianNB() 0.3812807881773399\n",
      "Violation: {'f'} {'a', 'e', 'f', 'c', 'b', 'd'} g <pycausal.pycausal.pycausal object at 0x7fdc8a4fdf28>\n",
      "Error: BernoulliNB() 0.23842364532019705\n",
      "Error: LinearDiscriminantAnalysis() 0.37438423645320196\n",
      "Error: RandomForestClassifier() 0.30935960591133005\n",
      "Error: ExtraTreesClassifier() 0.30738916256157633\n",
      "Error: AdaBoostClassifier() 0.29064039408866993\n",
      "Error: BaggingClassifier() 0.30935960591133005\n",
      "Error: GradientBoostingClassifier() 0.35960591133004927\n",
      "Error: MLPClassifier() 0.3724137931034483\n",
      "Violation: {'f'} {'a', 'e', 'f', 'c', 'b', 'd'} g <pycausal.pycausal.pycausal object at 0x7fdc8a4fdf28>\n",
      "Error: LogisticRegression() 0.2861386138613861\n"
     ]
    },
    {
     "name": "stderr",
     "output_type": "stream",
     "text": [
      "/home/tkyono/anaconda3/lib/python3.6/site-packages/sklearn/linear_model/stochastic_gradient.py:128: FutureWarning: max_iter and tol parameters have been added in <class 'sklearn.linear_model.perceptron.Perceptron'> in 0.19. If both are left unset, they default to max_iter=5 and tol=None. If tol is not None, max_iter defaults to max_iter=1000. From 0.21, default max_iter will be 1000, and default tol will be 1e-3.\n",
      "  \"and default tol will be 1e-3.\" % type(self), FutureWarning)\n"
     ]
    },
    {
     "name": "stdout",
     "output_type": "stream",
     "text": [
      "Error: Perceptron() 0.18118811881188118\n",
      "Error: DecisionTreeClassifier() 0.2801980198019802\n",
      "Error: LinearSVC() 0.31485148514851485\n",
      "Error: GaussianNB() 0.3574257425742574\n",
      "Violation: {'f'} {'a', 'e', 'f', 'c', 'b', 'd'} g <pycausal.pycausal.pycausal object at 0x7fdc8a4fdf28>\n",
      "Error: BernoulliNB() 0.2524752475247525\n",
      "Error: LinearDiscriminantAnalysis() 0.37425742574257426\n",
      "Error: RandomForestClassifier() 0.29504950495049503\n",
      "Error: ExtraTreesClassifier() 0.29306930693069305\n",
      "Error: AdaBoostClassifier() 0.2603960396039604\n",
      "Error: BaggingClassifier() 0.3118811881188119\n",
      "Error: GradientBoostingClassifier() 0.3722772277227723\n",
      "Error: MLPClassifier() 0.36633663366336633\n",
      "Error: LogisticRegression() 0.26884920634920634\n"
     ]
    },
    {
     "name": "stderr",
     "output_type": "stream",
     "text": [
      "/home/tkyono/anaconda3/lib/python3.6/site-packages/sklearn/linear_model/stochastic_gradient.py:128: FutureWarning: max_iter and tol parameters have been added in <class 'sklearn.linear_model.perceptron.Perceptron'> in 0.19. If both are left unset, they default to max_iter=5 and tol=None. If tol is not None, max_iter defaults to max_iter=1000. From 0.21, default max_iter will be 1000, and default tol will be 1e-3.\n",
      "  \"and default tol will be 1e-3.\" % type(self), FutureWarning)\n"
     ]
    },
    {
     "name": "stdout",
     "output_type": "stream",
     "text": [
      "Error: Perceptron() 0.16170634920634921\n",
      "Error: DecisionTreeClassifier() 0.24702380952380953\n",
      "Error: LinearSVC() 0.30952380952380953\n",
      "Error: GaussianNB() 0.3888888888888889\n",
      "Violation: {'f'} {'a', 'e', 'f', 'c', 'b', 'd'} g <pycausal.pycausal.pycausal object at 0x7fdc8a4fdf28>\n",
      "Error: BernoulliNB() 0.2638888888888889\n"
     ]
    },
    {
     "name": "stderr",
     "output_type": "stream",
     "text": [
      "/home/tkyono/anaconda3/lib/python3.6/site-packages/sklearn/discriminant_analysis.py:442: UserWarning: The priors do not sum to 1. Renormalizing\n",
      "  UserWarning)\n"
     ]
    },
    {
     "name": "stdout",
     "output_type": "stream",
     "text": [
      "Error: LinearDiscriminantAnalysis() 0.38492063492063494\n",
      "Error: RandomForestClassifier() 0.32341269841269843\n",
      "Error: ExtraTreesClassifier() 0.2976190476190476\n",
      "Error: AdaBoostClassifier() 0.25496031746031744\n",
      "Error: BaggingClassifier() 0.3055555555555556\n",
      "Error: GradientBoostingClassifier() 0.3472222222222222\n",
      "Error: MLPClassifier() 0.3740079365079365\n",
      "Error: LogisticRegression() 0.26613704071499505\n"
     ]
    },
    {
     "name": "stderr",
     "output_type": "stream",
     "text": [
      "/home/tkyono/anaconda3/lib/python3.6/site-packages/sklearn/linear_model/stochastic_gradient.py:128: FutureWarning: max_iter and tol parameters have been added in <class 'sklearn.linear_model.perceptron.Perceptron'> in 0.19. If both are left unset, they default to max_iter=5 and tol=None. If tol is not None, max_iter defaults to max_iter=1000. From 0.21, default max_iter will be 1000, and default tol will be 1e-3.\n",
      "  \"and default tol will be 1e-3.\" % type(self), FutureWarning)\n"
     ]
    },
    {
     "name": "stdout",
     "output_type": "stream",
     "text": [
      "Error: Perceptron() 0.1717974180734856\n",
      "Error: DecisionTreeClassifier() 0.25819265143992054\n",
      "Error: LinearSVC() 0.31082423038728896\n",
      "Error: GaussianNB() 0.38033763654419067\n",
      "Violation: {'f'} {'a', 'e', 'f', 'c', 'b', 'd'} g <pycausal.pycausal.pycausal object at 0x7fdc8a4fdf28>\n",
      "Error: BernoulliNB() 0.23535253227408143\n",
      "Error: LinearDiscriminantAnalysis() 0.37934458788480635\n",
      "Violation: {'f'} {'e', 'f', 'c', 'b', 'd'} g <pycausal.pycausal.pycausal object at 0x7fdc8a4fdf28>\n",
      "Error: RandomForestClassifier() 0.2969215491559086\n",
      "Error: ExtraTreesClassifier() 0.30784508440913605\n",
      "Error: AdaBoostClassifier() 0.24627606752730885\n",
      "Error: BaggingClassifier() 0.30784508440913605\n",
      "Error: GradientBoostingClassifier() 0.3684210526315789\n",
      "Error: MLPClassifier() 0.3743793445878848\n",
      "Error: LogisticRegression() 0.29096325719960275\n"
     ]
    },
    {
     "name": "stderr",
     "output_type": "stream",
     "text": [
      "/home/tkyono/anaconda3/lib/python3.6/site-packages/sklearn/linear_model/stochastic_gradient.py:128: FutureWarning: max_iter and tol parameters have been added in <class 'sklearn.linear_model.perceptron.Perceptron'> in 0.19. If both are left unset, they default to max_iter=5 and tol=None. If tol is not None, max_iter defaults to max_iter=1000. From 0.21, default max_iter will be 1000, and default tol will be 1e-3.\n",
      "  \"and default tol will be 1e-3.\" % type(self), FutureWarning)\n"
     ]
    },
    {
     "name": "stdout",
     "output_type": "stream",
     "text": [
      "Error: Perceptron() 0.21946375372393248\n",
      "Error: DecisionTreeClassifier() 0.23535253227408143\n",
      "Error: LinearSVC() 0.2919563058589871\n",
      "Error: GaussianNB() 0.35253227408143\n",
      "Violation: {'f'} {'a', 'e', 'f', 'c', 'b', 'd'} g <pycausal.pycausal.pycausal object at 0x7fdc8a4fdf28>\n",
      "Error: BernoulliNB() 0.23435948361469713\n",
      "Error: LinearDiscriminantAnalysis() 0.35253227408143\n",
      "Violation: {'f'} {'a', 'e', 'f', 'c', 'b', 'd'} g <pycausal.pycausal.pycausal object at 0x7fdc8a4fdf28>\n",
      "Error: RandomForestClassifier() 0.3028798411122145\n",
      "Error: ExtraTreesClassifier() 0.2869910625620655\n",
      "Error: AdaBoostClassifier() 0.26514399205561073\n",
      "Error: BaggingClassifier() 0.27805362462760674\n",
      "Error: GradientBoostingClassifier() 0.3346573982125124\n",
      "Error: MLPClassifier() 0.3316782522343595\n",
      "Error: LogisticRegression() 0.2614314115308151\n"
     ]
    },
    {
     "name": "stderr",
     "output_type": "stream",
     "text": [
      "/home/tkyono/anaconda3/lib/python3.6/site-packages/sklearn/linear_model/stochastic_gradient.py:128: FutureWarning: max_iter and tol parameters have been added in <class 'sklearn.linear_model.perceptron.Perceptron'> in 0.19. If both are left unset, they default to max_iter=5 and tol=None. If tol is not None, max_iter defaults to max_iter=1000. From 0.21, default max_iter will be 1000, and default tol will be 1e-3.\n",
      "  \"and default tol will be 1e-3.\" % type(self), FutureWarning)\n"
     ]
    },
    {
     "name": "stdout",
     "output_type": "stream",
     "text": [
      "Error: Perceptron() 0.24552683896620278\n",
      "Violation: {'f'} {'b', 'f'} g <pycausal.pycausal.pycausal object at 0x7fdc8a4fdf28>\n",
      "Error: DecisionTreeClassifier() 0.2664015904572565\n",
      "Error: LinearSVC() 0.2962226640159046\n",
      "Error: GaussianNB() 0.34592445328031807\n",
      "Violation: {'f'} {'a', 'e', 'f', 'c', 'b', 'd'} g <pycausal.pycausal.pycausal object at 0x7fdc8a4fdf28>\n",
      "Error: BernoulliNB() 0.24950298210735586\n",
      "Error: LinearDiscriminantAnalysis() 0.3658051689860835\n",
      "Error: RandomForestClassifier() 0.28727634194831014\n",
      "Error: ExtraTreesClassifier() 0.3111332007952286\n",
      "Error: AdaBoostClassifier() 0.24453280318091453\n",
      "Error: BaggingClassifier() 0.31510934393638174\n",
      "Error: GradientBoostingClassifier() 0.3379721669980119\n",
      "Error: MLPClassifier() 0.34791252485089463\n",
      "Error: LogisticRegression() 0.27435387673956263\n"
     ]
    },
    {
     "name": "stderr",
     "output_type": "stream",
     "text": [
      "/home/tkyono/anaconda3/lib/python3.6/site-packages/sklearn/linear_model/stochastic_gradient.py:128: FutureWarning: max_iter and tol parameters have been added in <class 'sklearn.linear_model.perceptron.Perceptron'> in 0.19. If both are left unset, they default to max_iter=5 and tol=None. If tol is not None, max_iter defaults to max_iter=1000. From 0.21, default max_iter will be 1000, and default tol will be 1e-3.\n",
      "  \"and default tol will be 1e-3.\" % type(self), FutureWarning)\n"
     ]
    },
    {
     "name": "stdout",
     "output_type": "stream",
     "text": [
      "Error: Perceptron() 0.2117296222664016\n",
      "Error: DecisionTreeClassifier() 0.27236580516898606\n",
      "Error: LinearSVC() 0.2982107355864811\n",
      "Error: GaussianNB() 0.34791252485089463\n",
      "Violation: {'f'} {'a', 'e', 'f', 'c', 'b', 'd'} g <pycausal.pycausal.pycausal object at 0x7fdc8a4fdf28>\n",
      "Error: BernoulliNB() 0.2504970178926441\n",
      "Error: LinearDiscriminantAnalysis() 0.3558648111332008\n",
      "Violation: {'f'} {'a', 'e', 'f', 'c', 'b', 'd'} g <pycausal.pycausal.pycausal object at 0x7fdc8a4fdf28>\n",
      "Error: RandomForestClassifier() 0.3061630218687873\n",
      "Error: ExtraTreesClassifier() 0.31411530815109345\n",
      "Error: AdaBoostClassifier() 0.24254473161033796\n",
      "Error: BaggingClassifier() 0.30218687872763417\n",
      "Error: GradientBoostingClassifier() 0.3399602385685885\n",
      "Error: MLPClassifier() 0.352882703777336\n",
      "Error: LogisticRegression() 0.2716417910447761\n"
     ]
    },
    {
     "name": "stderr",
     "output_type": "stream",
     "text": [
      "/home/tkyono/anaconda3/lib/python3.6/site-packages/sklearn/linear_model/stochastic_gradient.py:128: FutureWarning: max_iter and tol parameters have been added in <class 'sklearn.linear_model.perceptron.Perceptron'> in 0.19. If both are left unset, they default to max_iter=5 and tol=None. If tol is not None, max_iter defaults to max_iter=1000. From 0.21, default max_iter will be 1000, and default tol will be 1e-3.\n",
      "  \"and default tol will be 1e-3.\" % type(self), FutureWarning)\n"
     ]
    },
    {
     "name": "stdout",
     "output_type": "stream",
     "text": [
      "Error: Perceptron() 0.16616915422885573\n",
      "Violation: {'f'} {'c'} g <pycausal.pycausal.pycausal object at 0x7fdc8a4fdf28>\n",
      "Error: DecisionTreeClassifier() 0.281592039800995\n",
      "Error: LinearSVC() 0.2676616915422886\n",
      "Error: GaussianNB() 0.373134328358209\n",
      "Violation: {'f'} {'a', 'e', 'f', 'c', 'b', 'd'} g <pycausal.pycausal.pycausal object at 0x7fdc8a4fdf28>\n",
      "Error: BernoulliNB() 0.25771144278606967\n",
      "Error: LinearDiscriminantAnalysis() 0.3611940298507463\n",
      "Error: RandomForestClassifier() 0.33034825870646767\n",
      "Error: ExtraTreesClassifier() 0.32338308457711445\n",
      "Error: AdaBoostClassifier() 0.2626865671641791\n",
      "Error: BaggingClassifier() 0.30646766169154227\n",
      "Error: GradientBoostingClassifier() 0.3522388059701492\n",
      "Error: MLPClassifier() 0.382089552238806\n",
      "Error: LogisticRegression() 0.25771144278606967\n"
     ]
    },
    {
     "name": "stderr",
     "output_type": "stream",
     "text": [
      "/home/tkyono/anaconda3/lib/python3.6/site-packages/sklearn/linear_model/stochastic_gradient.py:128: FutureWarning: max_iter and tol parameters have been added in <class 'sklearn.linear_model.perceptron.Perceptron'> in 0.19. If both are left unset, they default to max_iter=5 and tol=None. If tol is not None, max_iter defaults to max_iter=1000. From 0.21, default max_iter will be 1000, and default tol will be 1e-3.\n",
      "  \"and default tol will be 1e-3.\" % type(self), FutureWarning)\n"
     ]
    },
    {
     "name": "stdout",
     "output_type": "stream",
     "text": [
      "Error: Perceptron() 0.2019900497512438\n",
      "Violation: {'f'} {'c', 'f'} g <pycausal.pycausal.pycausal object at 0x7fdc8a4fdf28>\n",
      "Error: DecisionTreeClassifier() 0.2537313432835821\n",
      "Error: LinearSVC() 0.2855721393034826\n",
      "Error: GaussianNB() 0.3562189054726368\n",
      "Violation: {'f'} {'a', 'e', 'f', 'c', 'b', 'd'} g <pycausal.pycausal.pycausal object at 0x7fdc8a4fdf28>\n",
      "Error: BernoulliNB() 0.23482587064676616\n",
      "Error: LinearDiscriminantAnalysis() 0.3661691542288557\n",
      "Error: RandomForestClassifier() 0.31144278606965176\n",
      "Error: ExtraTreesClassifier() 0.30149253731343284\n",
      "Error: AdaBoostClassifier() 0.24676616915422886\n",
      "Error: BaggingClassifier() 0.3124378109452736\n",
      "Error: GradientBoostingClassifier() 0.3582089552238806\n",
      "Error: MLPClassifier() 0.3522388059701492\n",
      "Error: LogisticRegression() 0.28913260219341974\n"
     ]
    },
    {
     "name": "stderr",
     "output_type": "stream",
     "text": [
      "/home/tkyono/anaconda3/lib/python3.6/site-packages/sklearn/linear_model/stochastic_gradient.py:128: FutureWarning: max_iter and tol parameters have been added in <class 'sklearn.linear_model.perceptron.Perceptron'> in 0.19. If both are left unset, they default to max_iter=5 and tol=None. If tol is not None, max_iter defaults to max_iter=1000. From 0.21, default max_iter will be 1000, and default tol will be 1e-3.\n",
      "  \"and default tol will be 1e-3.\" % type(self), FutureWarning)\n"
     ]
    },
    {
     "name": "stdout",
     "output_type": "stream",
     "text": [
      "Error: Perceptron() 0.2193419740777667\n",
      "Error: DecisionTreeClassifier() 0.2831505483549352\n",
      "Error: LinearSVC() 0.3240279162512463\n",
      "Error: GaussianNB() 0.35194416749750745\n",
      "Violation: {'f'} {'a', 'e', 'f', 'c', 'b', 'd'} g <pycausal.pycausal.pycausal object at 0x7fdc8a4fdf28>\n",
      "Error: BernoulliNB() 0.2432701894317049\n",
      "Error: LinearDiscriminantAnalysis() 0.36390827517447655\n",
      "Error: RandomForestClassifier() 0.3090727816550349\n",
      "Error: ExtraTreesClassifier() 0.29910269192422734\n",
      "Error: AdaBoostClassifier() 0.2472582253240279\n",
      "Error: BaggingClassifier() 0.3180458624127617\n",
      "Error: GradientBoostingClassifier() 0.35992023928215355\n",
      "Error: MLPClassifier() 0.36490528414755735\n",
      "Error: LogisticRegression() 0.26520438683948155\n"
     ]
    },
    {
     "name": "stderr",
     "output_type": "stream",
     "text": [
      "/home/tkyono/anaconda3/lib/python3.6/site-packages/sklearn/linear_model/stochastic_gradient.py:128: FutureWarning: max_iter and tol parameters have been added in <class 'sklearn.linear_model.perceptron.Perceptron'> in 0.19. If both are left unset, they default to max_iter=5 and tol=None. If tol is not None, max_iter defaults to max_iter=1000. From 0.21, default max_iter will be 1000, and default tol will be 1e-3.\n",
      "  \"and default tol will be 1e-3.\" % type(self), FutureWarning)\n"
     ]
    },
    {
     "name": "stdout",
     "output_type": "stream",
     "text": [
      "Error: Perceptron() 0.10967098703888335\n",
      "Violation: {'f'} {'c', 'b', 'a'} g <pycausal.pycausal.pycausal object at 0x7fdc8a4fdf28>\n",
      "Error: DecisionTreeClassifier() 0.259222333000997\n",
      "Error: LinearSVC() 0.30309072781655033\n",
      "Error: GaussianNB() 0.35194416749750745\n",
      "Violation: {'f'} {'a', 'e', 'f', 'c', 'b', 'd'} g <pycausal.pycausal.pycausal object at 0x7fdc8a4fdf28>\n",
      "Error: BernoulliNB() 0.24426719840478564\n",
      "Error: LinearDiscriminantAnalysis() 0.3339980059820538\n",
      "Violation: {'f'} {'c', 'e', 'd', 'f'} g <pycausal.pycausal.pycausal object at 0x7fdc8a4fdf28>\n",
      "Error: RandomForestClassifier() 0.3190428713858425\n",
      "Error: ExtraTreesClassifier() 0.3320039880358923\n",
      "Error: AdaBoostClassifier() 0.23429710867397807\n",
      "Error: BaggingClassifier() 0.29112662013958124\n",
      "Error: GradientBoostingClassifier() 0.33998005982053836\n",
      "Error: MLPClassifier() 0.33599202392821537\n",
      "Error: LogisticRegression() 0.2502492522432702\n"
     ]
    },
    {
     "name": "stderr",
     "output_type": "stream",
     "text": [
      "/home/tkyono/anaconda3/lib/python3.6/site-packages/sklearn/linear_model/stochastic_gradient.py:128: FutureWarning: max_iter and tol parameters have been added in <class 'sklearn.linear_model.perceptron.Perceptron'> in 0.19. If both are left unset, they default to max_iter=5 and tol=None. If tol is not None, max_iter defaults to max_iter=1000. From 0.21, default max_iter will be 1000, and default tol will be 1e-3.\n",
      "  \"and default tol will be 1e-3.\" % type(self), FutureWarning)\n"
     ]
    },
    {
     "name": "stdout",
     "output_type": "stream",
     "text": [
      "Error: Perceptron() 0.18045862412761715\n",
      "Error: DecisionTreeClassifier() 0.26321036889332006\n",
      "Error: LinearSVC() 0.292123629112662\n",
      "Error: GaussianNB() 0.3629112662013958\n",
      "Violation: {'f'} {'a', 'e', 'f', 'c', 'b', 'd'} g <pycausal.pycausal.pycausal object at 0x7fdc8a4fdf28>\n",
      "Error: BernoulliNB() 0.23030907278165502\n",
      "Error: LinearDiscriminantAnalysis() 0.37387836490528414\n",
      "Error: RandomForestClassifier() 0.2951146560319043\n",
      "Error: ExtraTreesClassifier() 0.32103688933200397\n",
      "Error: AdaBoostClassifier() 0.24027916251246262\n",
      "Error: BaggingClassifier() 0.30109670987038883\n",
      "Error: GradientBoostingClassifier() 0.3589232303090728\n",
      "Error: MLPClassifier() 0.36490528414755735\n",
      "Error: LogisticRegression() 0.28771228771228774\n"
     ]
    },
    {
     "name": "stderr",
     "output_type": "stream",
     "text": [
      "/home/tkyono/anaconda3/lib/python3.6/site-packages/sklearn/linear_model/stochastic_gradient.py:128: FutureWarning: max_iter and tol parameters have been added in <class 'sklearn.linear_model.perceptron.Perceptron'> in 0.19. If both are left unset, they default to max_iter=5 and tol=None. If tol is not None, max_iter defaults to max_iter=1000. From 0.21, default max_iter will be 1000, and default tol will be 1e-3.\n",
      "  \"and default tol will be 1e-3.\" % type(self), FutureWarning)\n"
     ]
    },
    {
     "name": "stdout",
     "output_type": "stream",
     "text": [
      "Error: Perceptron() 0.22077922077922077\n",
      "Error: DecisionTreeClassifier() 0.26973026973026976\n",
      "Error: LinearSVC() 0.3146853146853147\n",
      "Error: GaussianNB() 0.34965034965034963\n",
      "Violation: {'f'} {'a', 'e', 'f', 'c', 'b', 'd'} g <pycausal.pycausal.pycausal object at 0x7fdc8a4fdf28>\n",
      "Error: BernoulliNB() 0.24475524475524477\n",
      "Error: LinearDiscriminantAnalysis() 0.36063936063936064\n",
      "Error: RandomForestClassifier() 0.2947052947052947\n",
      "Error: ExtraTreesClassifier() 0.31368631368631367\n",
      "Error: AdaBoostClassifier() 0.24875124875124874\n",
      "Error: BaggingClassifier() 0.31368631368631367\n",
      "Error: GradientBoostingClassifier() 0.33166833166833165\n",
      "Error: MLPClassifier() 0.35664335664335667\n",
      "Error: LogisticRegression() 0.27172827172827174\n"
     ]
    },
    {
     "name": "stderr",
     "output_type": "stream",
     "text": [
      "/home/tkyono/anaconda3/lib/python3.6/site-packages/sklearn/linear_model/stochastic_gradient.py:128: FutureWarning: max_iter and tol parameters have been added in <class 'sklearn.linear_model.perceptron.Perceptron'> in 0.19. If both are left unset, they default to max_iter=5 and tol=None. If tol is not None, max_iter defaults to max_iter=1000. From 0.21, default max_iter will be 1000, and default tol will be 1e-3.\n",
      "  \"and default tol will be 1e-3.\" % type(self), FutureWarning)\n"
     ]
    },
    {
     "name": "stdout",
     "output_type": "stream",
     "text": [
      "Error: Perceptron() 0.2057942057942058\n",
      "Error: DecisionTreeClassifier() 0.2707292707292707\n",
      "Error: LinearSVC() 0.2887112887112887\n",
      "Error: GaussianNB() 0.36863136863136864\n",
      "Violation: {'f'} {'a', 'e', 'f', 'c', 'b', 'd'} g <pycausal.pycausal.pycausal object at 0x7fdc8a4fdf28>\n",
      "Error: BernoulliNB() 0.24975024975024976\n",
      "Error: LinearDiscriminantAnalysis() 0.36063936063936064\n",
      "Error: RandomForestClassifier() 0.2997002997002997\n",
      "Error: ExtraTreesClassifier() 0.2947052947052947\n",
      "Error: AdaBoostClassifier() 0.24775224775224775\n",
      "Error: BaggingClassifier() 0.3086913086913087\n",
      "Error: GradientBoostingClassifier() 0.34865134865134867\n",
      "Error: MLPClassifier() 0.36063936063936064\n",
      "Error: LogisticRegression() 0.24775224775224775\n"
     ]
    },
    {
     "name": "stderr",
     "output_type": "stream",
     "text": [
      "/home/tkyono/anaconda3/lib/python3.6/site-packages/sklearn/linear_model/stochastic_gradient.py:128: FutureWarning: max_iter and tol parameters have been added in <class 'sklearn.linear_model.perceptron.Perceptron'> in 0.19. If both are left unset, they default to max_iter=5 and tol=None. If tol is not None, max_iter defaults to max_iter=1000. From 0.21, default max_iter will be 1000, and default tol will be 1e-3.\n",
      "  \"and default tol will be 1e-3.\" % type(self), FutureWarning)\n"
     ]
    },
    {
     "name": "stdout",
     "output_type": "stream",
     "text": [
      "Error: Perceptron() 0.22277722277722278\n",
      "Error: DecisionTreeClassifier() 0.28471528471528473\n",
      "Error: LinearSVC() 0.2907092907092907\n",
      "Violation: {'f'} {'d', 'f'} g <pycausal.pycausal.pycausal object at 0x7fdc8a4fdf28>\n",
      "Error: GaussianNB() 0.3886113886113886\n",
      "Violation: {'f'} {'a', 'e', 'f', 'c', 'b', 'd'} g <pycausal.pycausal.pycausal object at 0x7fdc8a4fdf28>\n",
      "Error: BernoulliNB() 0.23476523476523475\n",
      "Error: LinearDiscriminantAnalysis() 0.3756243756243756\n",
      "Error: RandomForestClassifier() 0.34465534465534464\n",
      "Error: ExtraTreesClassifier() 0.3276723276723277\n",
      "Error: AdaBoostClassifier() 0.24075924075924077\n",
      "Error: BaggingClassifier() 0.33466533466533466\n",
      "Error: GradientBoostingClassifier() 0.3626373626373626\n",
      "Error: MLPClassifier() 0.3696303696303696\n",
      "Error: LogisticRegression() 0.2807192807192807\n"
     ]
    },
    {
     "name": "stderr",
     "output_type": "stream",
     "text": [
      "/home/tkyono/anaconda3/lib/python3.6/site-packages/sklearn/linear_model/stochastic_gradient.py:128: FutureWarning: max_iter and tol parameters have been added in <class 'sklearn.linear_model.perceptron.Perceptron'> in 0.19. If both are left unset, they default to max_iter=5 and tol=None. If tol is not None, max_iter defaults to max_iter=1000. From 0.21, default max_iter will be 1000, and default tol will be 1e-3.\n",
      "  \"and default tol will be 1e-3.\" % type(self), FutureWarning)\n"
     ]
    },
    {
     "name": "stdout",
     "output_type": "stream",
     "text": [
      "Error: Perceptron() 0.17382617382617382\n",
      "Violation: {'f'} {'a', 'f'} g <pycausal.pycausal.pycausal object at 0x7fdc8a4fdf28>\n",
      "Error: DecisionTreeClassifier() 0.26673326673326675\n",
      "Error: LinearSVC() 0.3096903096903097\n",
      "Error: GaussianNB() 0.34665334665334663\n",
      "Violation: {'f'} {'a', 'e', 'f', 'c', 'b', 'd'} g <pycausal.pycausal.pycausal object at 0x7fdc8a4fdf28>\n",
      "Error: BernoulliNB() 0.2517482517482518\n",
      "Error: LinearDiscriminantAnalysis() 0.35264735264735264\n",
      "Error: RandomForestClassifier() 0.2957042957042957\n",
      "Error: ExtraTreesClassifier() 0.3046953046953047\n",
      "Error: AdaBoostClassifier() 0.25674325674325676\n",
      "Error: BaggingClassifier() 0.3096903096903097\n",
      "Error: GradientBoostingClassifier() 0.3436563436563437\n",
      "Error: MLPClassifier() 0.34665334665334663\n",
      "Error: LogisticRegression() 0.26673326673326675\n"
     ]
    },
    {
     "name": "stderr",
     "output_type": "stream",
     "text": [
      "/home/tkyono/anaconda3/lib/python3.6/site-packages/sklearn/linear_model/stochastic_gradient.py:128: FutureWarning: max_iter and tol parameters have been added in <class 'sklearn.linear_model.perceptron.Perceptron'> in 0.19. If both are left unset, they default to max_iter=5 and tol=None. If tol is not None, max_iter defaults to max_iter=1000. From 0.21, default max_iter will be 1000, and default tol will be 1e-3.\n",
      "  \"and default tol will be 1e-3.\" % type(self), FutureWarning)\n"
     ]
    },
    {
     "name": "stdout",
     "output_type": "stream",
     "text": [
      "Error: Perceptron() 0.1968031968031968\n",
      "Error: DecisionTreeClassifier() 0.27972027972027974\n",
      "Error: LinearSVC() 0.2977022977022977\n",
      "Error: GaussianNB() 0.3646353646353646\n",
      "Violation: {'f'} {'a', 'e', 'f', 'c', 'b', 'd'} g <pycausal.pycausal.pycausal object at 0x7fdc8a4fdf28>\n",
      "Error: BernoulliNB() 0.24875124875124874\n",
      "Error: LinearDiscriminantAnalysis() 0.36863136863136864\n",
      "Error: RandomForestClassifier() 0.2987012987012987\n",
      "Error: ExtraTreesClassifier() 0.3036963036963037\n",
      "Error: AdaBoostClassifier() 0.24175824175824176\n",
      "Error: BaggingClassifier() 0.2997002997002997\n",
      "Error: GradientBoostingClassifier() 0.35564435564435565\n",
      "Error: MLPClassifier() 0.36863136863136864\n",
      "Error: LogisticRegression() 0.23876123876123875\n"
     ]
    },
    {
     "name": "stderr",
     "output_type": "stream",
     "text": [
      "/home/tkyono/anaconda3/lib/python3.6/site-packages/sklearn/linear_model/stochastic_gradient.py:128: FutureWarning: max_iter and tol parameters have been added in <class 'sklearn.linear_model.perceptron.Perceptron'> in 0.19. If both are left unset, they default to max_iter=5 and tol=None. If tol is not None, max_iter defaults to max_iter=1000. From 0.21, default max_iter will be 1000, and default tol will be 1e-3.\n",
      "  \"and default tol will be 1e-3.\" % type(self), FutureWarning)\n"
     ]
    },
    {
     "name": "stdout",
     "output_type": "stream",
     "text": [
      "Error: Perceptron() 0.21878121878121878\n",
      "Error: DecisionTreeClassifier() 0.26873126873126874\n",
      "Error: LinearSVC() 0.2917082917082917\n",
      "Error: GaussianNB() 0.34765234765234765\n",
      "Violation: {'f'} {'a', 'e', 'f', 'c', 'b', 'd'} g <pycausal.pycausal.pycausal object at 0x7fdc8a4fdf28>\n",
      "Error: BernoulliNB() 0.26673326673326675\n",
      "Error: LinearDiscriminantAnalysis() 0.35864135864135865\n",
      "Violation: {'f'} {'a', 'e', 'f', 'c', 'b', 'd'} g <pycausal.pycausal.pycausal object at 0x7fdc8a4fdf28>\n",
      "Error: RandomForestClassifier() 0.3026973026973027\n",
      "Error: ExtraTreesClassifier() 0.2997002997002997\n",
      "Violation: {'f'} {'d', 'f'} g <pycausal.pycausal.pycausal object at 0x7fdc8a4fdf28>\n",
      "Error: AdaBoostClassifier() 0.24975024975024976\n",
      "Error: BaggingClassifier() 0.32367632367632365\n",
      "Error: GradientBoostingClassifier() 0.3336663336663337\n",
      "Error: MLPClassifier() 0.3546453546453546\n",
      "Violation: {'f'} {'a', 'e', 'f', 'c', 'b', 'd'} g <pycausal.pycausal.pycausal object at 0x7fdc8a4fdf28>\n",
      "Error: LogisticRegression() 0.25274725274725274\n"
     ]
    },
    {
     "name": "stderr",
     "output_type": "stream",
     "text": [
      "/home/tkyono/anaconda3/lib/python3.6/site-packages/sklearn/linear_model/stochastic_gradient.py:128: FutureWarning: max_iter and tol parameters have been added in <class 'sklearn.linear_model.perceptron.Perceptron'> in 0.19. If both are left unset, they default to max_iter=5 and tol=None. If tol is not None, max_iter defaults to max_iter=1000. From 0.21, default max_iter will be 1000, and default tol will be 1e-3.\n",
      "  \"and default tol will be 1e-3.\" % type(self), FutureWarning)\n"
     ]
    },
    {
     "name": "stdout",
     "output_type": "stream",
     "text": [
      "Error: Perceptron() 0.1998001998001998\n",
      "Error: DecisionTreeClassifier() 0.29270729270729273\n",
      "Error: LinearSVC() 0.29270729270729273\n",
      "Error: GaussianNB() 0.34765234765234765\n",
      "Violation: {'f'} {'a', 'e', 'f', 'c', 'b', 'd'} g <pycausal.pycausal.pycausal object at 0x7fdc8a4fdf28>\n",
      "Error: BernoulliNB() 0.23876123876123875\n",
      "Error: LinearDiscriminantAnalysis() 0.3676323676323676\n",
      "Violation: {'f'} set() g <pycausal.pycausal.pycausal object at 0x7fdc8a4fdf28>\n",
      "Error: RandomForestClassifier() 0.3076923076923077\n",
      "Error: ExtraTreesClassifier() 0.3126873126873127\n",
      "Error: AdaBoostClassifier() 0.2517482517482518\n",
      "Error: BaggingClassifier() 0.3166833166833167\n",
      "Error: GradientBoostingClassifier() 0.32967032967032966\n",
      "Error: MLPClassifier() 0.34665334665334663\n",
      "Violation: {'f'} set() g <pycausal.pycausal.pycausal object at 0x7fdc8a4fdf28>\n",
      "Error: LogisticRegression() 0.2732732732732733\n"
     ]
    },
    {
     "name": "stderr",
     "output_type": "stream",
     "text": [
      "/home/tkyono/anaconda3/lib/python3.6/site-packages/sklearn/linear_model/stochastic_gradient.py:128: FutureWarning: max_iter and tol parameters have been added in <class 'sklearn.linear_model.perceptron.Perceptron'> in 0.19. If both are left unset, they default to max_iter=5 and tol=None. If tol is not None, max_iter defaults to max_iter=1000. From 0.21, default max_iter will be 1000, and default tol will be 1e-3.\n",
      "  \"and default tol will be 1e-3.\" % type(self), FutureWarning)\n"
     ]
    },
    {
     "name": "stdout",
     "output_type": "stream",
     "text": [
      "Error: Perceptron() 0.19519519519519518\n",
      "Violation: {'f'} {'d', 'f'} g <pycausal.pycausal.pycausal object at 0x7fdc8a4fdf28>\n",
      "Error: DecisionTreeClassifier() 0.2672672672672673\n",
      "Error: LinearSVC() 0.3083083083083083\n",
      "Error: GaussianNB() 0.35735735735735735\n",
      "Violation: {'f'} {'a', 'e', 'f', 'c', 'b', 'd'} g <pycausal.pycausal.pycausal object at 0x7fdc8a4fdf28>\n",
      "Error: BernoulliNB() 0.25825825825825827\n"
     ]
    },
    {
     "name": "stderr",
     "output_type": "stream",
     "text": [
      "/home/tkyono/anaconda3/lib/python3.6/site-packages/sklearn/discriminant_analysis.py:442: UserWarning: The priors do not sum to 1. Renormalizing\n",
      "  UserWarning)\n"
     ]
    },
    {
     "name": "stdout",
     "output_type": "stream",
     "text": [
      "Error: LinearDiscriminantAnalysis() 0.35735735735735735\n",
      "Violation: {'f'} {'c', 'f'} g <pycausal.pycausal.pycausal object at 0x7fdc8a4fdf28>\n",
      "Error: RandomForestClassifier() 0.30930930930930933\n",
      "Error: ExtraTreesClassifier() 0.2912912912912913\n",
      "Error: AdaBoostClassifier() 0.2552552552552553\n",
      "Error: BaggingClassifier() 0.2932932932932933\n",
      "Error: GradientBoostingClassifier() 0.3563563563563564\n",
      "Error: MLPClassifier() 0.35735735735735735\n",
      "Error: LogisticRegression() 0.25625625625625625\n"
     ]
    },
    {
     "name": "stderr",
     "output_type": "stream",
     "text": [
      "/home/tkyono/anaconda3/lib/python3.6/site-packages/sklearn/linear_model/stochastic_gradient.py:128: FutureWarning: max_iter and tol parameters have been added in <class 'sklearn.linear_model.perceptron.Perceptron'> in 0.19. If both are left unset, they default to max_iter=5 and tol=None. If tol is not None, max_iter defaults to max_iter=1000. From 0.21, default max_iter will be 1000, and default tol will be 1e-3.\n",
      "  \"and default tol will be 1e-3.\" % type(self), FutureWarning)\n"
     ]
    },
    {
     "name": "stdout",
     "output_type": "stream",
     "text": [
      "Error: Perceptron() 0.18118118118118118\n",
      "Violation: {'f'} {'d', 'a'} g <pycausal.pycausal.pycausal object at 0x7fdc8a4fdf28>\n",
      "Error: DecisionTreeClassifier() 0.26226226226226224\n",
      "Error: LinearSVC() 0.3023023023023023\n",
      "Error: GaussianNB() 0.36936936936936937\n",
      "Violation: {'f'} {'a', 'e', 'f', 'c', 'b', 'd'} g <pycausal.pycausal.pycausal object at 0x7fdc8a4fdf28>\n",
      "Error: BernoulliNB() 0.25125125125125125\n"
     ]
    },
    {
     "name": "stderr",
     "output_type": "stream",
     "text": [
      "/home/tkyono/anaconda3/lib/python3.6/site-packages/sklearn/discriminant_analysis.py:442: UserWarning: The priors do not sum to 1. Renormalizing\n",
      "  UserWarning)\n"
     ]
    },
    {
     "name": "stdout",
     "output_type": "stream",
     "text": [
      "Error: LinearDiscriminantAnalysis() 0.37537537537537535\n",
      "Error: RandomForestClassifier() 0.3153153153153153\n",
      "Error: ExtraTreesClassifier() 0.3063063063063063\n",
      "Error: AdaBoostClassifier() 0.24824824824824826\n",
      "Error: BaggingClassifier() 0.30930930930930933\n",
      "Error: GradientBoostingClassifier() 0.3713713713713714\n",
      "Error: MLPClassifier() 0.3663663663663664\n",
      "Violation: {'f'} {'a', 'f'} g <pycausal.pycausal.pycausal object at 0x7fdc8a4fdf28>\n",
      "Error: LogisticRegression() 0.25925925925925924\n"
     ]
    },
    {
     "name": "stderr",
     "output_type": "stream",
     "text": [
      "/home/tkyono/anaconda3/lib/python3.6/site-packages/sklearn/linear_model/stochastic_gradient.py:128: FutureWarning: max_iter and tol parameters have been added in <class 'sklearn.linear_model.perceptron.Perceptron'> in 0.19. If both are left unset, they default to max_iter=5 and tol=None. If tol is not None, max_iter defaults to max_iter=1000. From 0.21, default max_iter will be 1000, and default tol will be 1e-3.\n",
      "  \"and default tol will be 1e-3.\" % type(self), FutureWarning)\n"
     ]
    },
    {
     "name": "stdout",
     "output_type": "stream",
     "text": [
      "Error: Perceptron() 0.17517517517517517\n",
      "Error: DecisionTreeClassifier() 0.2682682682682683\n",
      "Error: LinearSVC() 0.30430430430430433\n",
      "Error: GaussianNB() 0.35535535535535534\n",
      "Violation: {'f'} {'a', 'e', 'f', 'c', 'b', 'd'} g <pycausal.pycausal.pycausal object at 0x7fdc8a4fdf28>\n",
      "Error: BernoulliNB() 0.23123123123123124\n"
     ]
    },
    {
     "name": "stderr",
     "output_type": "stream",
     "text": [
      "/home/tkyono/anaconda3/lib/python3.6/site-packages/sklearn/discriminant_analysis.py:442: UserWarning: The priors do not sum to 1. Renormalizing\n",
      "  UserWarning)\n"
     ]
    },
    {
     "name": "stdout",
     "output_type": "stream",
     "text": [
      "Error: LinearDiscriminantAnalysis() 0.3733733733733734\n",
      "Error: RandomForestClassifier() 0.2982982982982983\n",
      "Error: ExtraTreesClassifier() 0.27127127127127126\n",
      "Error: AdaBoostClassifier() 0.24924924924924924\n",
      "Error: BaggingClassifier() 0.3283283283283283\n",
      "Error: GradientBoostingClassifier() 0.3533533533533533\n",
      "Error: MLPClassifier() 0.3613613613613614\n",
      "Error: LogisticRegression() 0.25925925925925924\n"
     ]
    },
    {
     "name": "stderr",
     "output_type": "stream",
     "text": [
      "/home/tkyono/anaconda3/lib/python3.6/site-packages/sklearn/linear_model/stochastic_gradient.py:128: FutureWarning: max_iter and tol parameters have been added in <class 'sklearn.linear_model.perceptron.Perceptron'> in 0.19. If both are left unset, they default to max_iter=5 and tol=None. If tol is not None, max_iter defaults to max_iter=1000. From 0.21, default max_iter will be 1000, and default tol will be 1e-3.\n",
      "  \"and default tol will be 1e-3.\" % type(self), FutureWarning)\n"
     ]
    },
    {
     "name": "stdout",
     "output_type": "stream",
     "text": [
      "Error: Perceptron() 0.1831831831831832\n",
      "Error: DecisionTreeClassifier() 0.27127127127127126\n",
      "Error: LinearSVC() 0.3183183183183183\n",
      "Error: GaussianNB() 0.34434434434434436\n",
      "Violation: {'f'} {'a', 'e', 'f', 'c', 'b', 'd'} g <pycausal.pycausal.pycausal object at 0x7fdc8a4fdf28>\n",
      "Error: BernoulliNB() 0.23323323323323322\n",
      "Error: LinearDiscriminantAnalysis() 0.3533533533533533\n"
     ]
    },
    {
     "name": "stderr",
     "output_type": "stream",
     "text": [
      "/home/tkyono/anaconda3/lib/python3.6/site-packages/sklearn/discriminant_analysis.py:442: UserWarning: The priors do not sum to 1. Renormalizing\n",
      "  UserWarning)\n"
     ]
    },
    {
     "name": "stdout",
     "output_type": "stream",
     "text": [
      "Error: RandomForestClassifier() 0.3183183183183183\n",
      "Error: ExtraTreesClassifier() 0.32732732732732733\n",
      "Error: AdaBoostClassifier() 0.24824824824824826\n",
      "Error: BaggingClassifier() 0.3083083083083083\n",
      "Error: GradientBoostingClassifier() 0.34734734734734735\n",
      "Violation: {'f'} {'a', 'e', 'f', 'c', 'b', 'd'} g <pycausal.pycausal.pycausal object at 0x7fdc8a4fdf28>\n",
      "Error: MLPClassifier() 0.35035035035035034\n",
      "Error: LogisticRegression() 0.26178535606820463\n"
     ]
    },
    {
     "name": "stderr",
     "output_type": "stream",
     "text": [
      "/home/tkyono/anaconda3/lib/python3.6/site-packages/sklearn/linear_model/stochastic_gradient.py:128: FutureWarning: max_iter and tol parameters have been added in <class 'sklearn.linear_model.perceptron.Perceptron'> in 0.19. If both are left unset, they default to max_iter=5 and tol=None. If tol is not None, max_iter defaults to max_iter=1000. From 0.21, default max_iter will be 1000, and default tol will be 1e-3.\n",
      "  \"and default tol will be 1e-3.\" % type(self), FutureWarning)\n"
     ]
    },
    {
     "name": "stdout",
     "output_type": "stream",
     "text": [
      "Error: Perceptron() 0.15446339017051153\n",
      "Violation: {'f'} set() g <pycausal.pycausal.pycausal object at 0x7fdc8a4fdf28>\n",
      "Error: DecisionTreeClassifier() 0.2657973921765296\n",
      "Error: LinearSVC() 0.2928786359077232\n",
      "Error: GaussianNB() 0.34704112337011034\n",
      "Violation: {'f'} {'a', 'e', 'f', 'c', 'b', 'd'} g <pycausal.pycausal.pycausal object at 0x7fdc8a4fdf28>\n",
      "Error: BernoulliNB() 0.23671013039117353\n"
     ]
    },
    {
     "name": "stderr",
     "output_type": "stream",
     "text": [
      "/home/tkyono/anaconda3/lib/python3.6/site-packages/sklearn/discriminant_analysis.py:442: UserWarning: The priors do not sum to 1. Renormalizing\n",
      "  UserWarning)\n"
     ]
    },
    {
     "name": "stdout",
     "output_type": "stream",
     "text": [
      "Error: LinearDiscriminantAnalysis() 0.3510531594784353\n",
      "Violation: {'f'} {'a', 'e', 'f', 'c', 'd'} g <pycausal.pycausal.pycausal object at 0x7fdc8a4fdf28>\n",
      "Error: RandomForestClassifier() 0.30090270812437314\n",
      "Error: ExtraTreesClassifier() 0.2768304914744233\n",
      "Error: AdaBoostClassifier() 0.2477432296890672\n",
      "Error: BaggingClassifier() 0.3069207622868606\n",
      "Error: GradientBoostingClassifier() 0.33600802407221664\n",
      "Error: MLPClassifier() 0.3510531594784353\n",
      "Error: LogisticRegression() 0.2657973921765296\n"
     ]
    },
    {
     "name": "stderr",
     "output_type": "stream",
     "text": [
      "/home/tkyono/anaconda3/lib/python3.6/site-packages/sklearn/linear_model/stochastic_gradient.py:128: FutureWarning: max_iter and tol parameters have been added in <class 'sklearn.linear_model.perceptron.Perceptron'> in 0.19. If both are left unset, they default to max_iter=5 and tol=None. If tol is not None, max_iter defaults to max_iter=1000. From 0.21, default max_iter will be 1000, and default tol will be 1e-3.\n",
      "  \"and default tol will be 1e-3.\" % type(self), FutureWarning)\n"
     ]
    },
    {
     "name": "stdout",
     "output_type": "stream",
     "text": [
      "Error: Perceptron() 0.18956870611835505\n",
      "Error: DecisionTreeClassifier() 0.279839518555667\n",
      "Error: LinearSVC() 0.31293881644934807\n",
      "Error: GaussianNB() 0.3319959879638917\n",
      "Violation: {'f'} {'a', 'e', 'f', 'c', 'b', 'd'} g <pycausal.pycausal.pycausal object at 0x7fdc8a4fdf28>\n",
      "Error: BernoulliNB() 0.2547642928786359\n",
      "Error: LinearDiscriminantAnalysis() 0.3550651955867603\n"
     ]
    },
    {
     "name": "stderr",
     "output_type": "stream",
     "text": [
      "/home/tkyono/anaconda3/lib/python3.6/site-packages/sklearn/discriminant_analysis.py:442: UserWarning: The priors do not sum to 1. Renormalizing\n",
      "  UserWarning)\n"
     ]
    },
    {
     "name": "stdout",
     "output_type": "stream",
     "text": [
      "Error: RandomForestClassifier() 0.3159478435305918\n",
      "Error: ExtraTreesClassifier() 0.31995987963891676\n",
      "Error: AdaBoostClassifier() 0.26078234704112335\n",
      "Error: BaggingClassifier() 0.31795386158475425\n",
      "Error: GradientBoostingClassifier() 0.34704112337011034\n",
      "Error: MLPClassifier() 0.36108324974924777\n",
      "Error: LogisticRegression() 0.2848545636910732\n"
     ]
    },
    {
     "name": "stderr",
     "output_type": "stream",
     "text": [
      "/home/tkyono/anaconda3/lib/python3.6/site-packages/sklearn/linear_model/stochastic_gradient.py:128: FutureWarning: max_iter and tol parameters have been added in <class 'sklearn.linear_model.perceptron.Perceptron'> in 0.19. If both are left unset, they default to max_iter=5 and tol=None. If tol is not None, max_iter defaults to max_iter=1000. From 0.21, default max_iter will be 1000, and default tol will be 1e-3.\n",
      "  \"and default tol will be 1e-3.\" % type(self), FutureWarning)\n"
     ]
    },
    {
     "name": "stdout",
     "output_type": "stream",
     "text": [
      "Error: Perceptron() 0.1334002006018054\n",
      "Violation: {'f'} set() g <pycausal.pycausal.pycausal object at 0x7fdc8a4fdf28>\n",
      "Error: DecisionTreeClassifier() 0.26980942828485455\n",
      "Error: LinearSVC() 0.3229689067201605\n",
      "Error: GaussianNB() 0.3430290872617854\n",
      "Violation: {'f'} {'a', 'e', 'f', 'c', 'b', 'd'} g <pycausal.pycausal.pycausal object at 0x7fdc8a4fdf28>\n",
      "Error: BernoulliNB() 0.24674022066198595\n"
     ]
    },
    {
     "name": "stderr",
     "output_type": "stream",
     "text": [
      "/home/tkyono/anaconda3/lib/python3.6/site-packages/sklearn/discriminant_analysis.py:442: UserWarning: The priors do not sum to 1. Renormalizing\n",
      "  UserWarning)\n"
     ]
    },
    {
     "name": "stdout",
     "output_type": "stream",
     "text": [
      "Error: LinearDiscriminantAnalysis() 0.34804413239719156\n",
      "Violation: {'f'} set() g <pycausal.pycausal.pycausal object at 0x7fdc8a4fdf28>\n",
      "Error: RandomForestClassifier() 0.30190571715145437\n",
      "Error: ExtraTreesClassifier() 0.2848545636910732\n",
      "Error: AdaBoostClassifier() 0.25075225677031093\n",
      "Error: BaggingClassifier() 0.3159478435305918\n",
      "Error: GradientBoostingClassifier() 0.35606820461384153\n",
      "Error: MLPClassifier() 0.3420260782347041\n",
      "Error: LogisticRegression() 0.2978936810431294\n"
     ]
    },
    {
     "name": "stderr",
     "output_type": "stream",
     "text": [
      "/home/tkyono/anaconda3/lib/python3.6/site-packages/sklearn/linear_model/stochastic_gradient.py:128: FutureWarning: max_iter and tol parameters have been added in <class 'sklearn.linear_model.perceptron.Perceptron'> in 0.19. If both are left unset, they default to max_iter=5 and tol=None. If tol is not None, max_iter defaults to max_iter=1000. From 0.21, default max_iter will be 1000, and default tol will be 1e-3.\n",
      "  \"and default tol will be 1e-3.\" % type(self), FutureWarning)\n"
     ]
    },
    {
     "name": "stdout",
     "output_type": "stream",
     "text": [
      "Error: Perceptron() 0.11634904714142427\n",
      "Violation: {'f'} set() g <pycausal.pycausal.pycausal object at 0x7fdc8a4fdf28>\n",
      "Error: DecisionTreeClassifier() 0.24573721163490472\n",
      "Error: LinearSVC() 0.3239719157472417\n",
      "Error: GaussianNB() 0.37612838515546637\n",
      "Violation: {'f'} {'a', 'e', 'f', 'c', 'b', 'd'} g <pycausal.pycausal.pycausal object at 0x7fdc8a4fdf28>\n",
      "Error: BernoulliNB() 0.24674022066198595\n"
     ]
    },
    {
     "name": "stderr",
     "output_type": "stream",
     "text": [
      "/home/tkyono/anaconda3/lib/python3.6/site-packages/sklearn/discriminant_analysis.py:442: UserWarning: The priors do not sum to 1. Renormalizing\n",
      "  UserWarning)\n"
     ]
    },
    {
     "name": "stdout",
     "output_type": "stream",
     "text": [
      "Error: LinearDiscriminantAnalysis() 0.3811434302908726\n",
      "Error: RandomForestClassifier() 0.31093279839518556\n",
      "Violation: {'f'} {'e', 'f'} g <pycausal.pycausal.pycausal object at 0x7fdc8a4fdf28>\n",
      "Error: ExtraTreesClassifier() 0.3149448345035105\n",
      "Error: AdaBoostClassifier() 0.2547642928786359\n",
      "Error: BaggingClassifier() 0.2888665997993982\n",
      "Error: GradientBoostingClassifier() 0.3711133400200602\n",
      "Error: MLPClassifier() 0.3891675025075226\n",
      "Error: LogisticRegression() 0.28012048192771083\n"
     ]
    },
    {
     "name": "stderr",
     "output_type": "stream",
     "text": [
      "/home/tkyono/anaconda3/lib/python3.6/site-packages/sklearn/linear_model/stochastic_gradient.py:128: FutureWarning: max_iter and tol parameters have been added in <class 'sklearn.linear_model.perceptron.Perceptron'> in 0.19. If both are left unset, they default to max_iter=5 and tol=None. If tol is not None, max_iter defaults to max_iter=1000. From 0.21, default max_iter will be 1000, and default tol will be 1e-3.\n",
      "  \"and default tol will be 1e-3.\" % type(self), FutureWarning)\n"
     ]
    },
    {
     "name": "stdout",
     "output_type": "stream",
     "text": [
      "Error: Perceptron() 0.2389558232931727\n",
      "Violation: {'f'} {'b', 'f'} g <pycausal.pycausal.pycausal object at 0x7fdc8a4fdf28>\n",
      "Error: DecisionTreeClassifier() 0.2710843373493976\n",
      "Error: LinearSVC() 0.3142570281124498\n",
      "Error: GaussianNB() 0.3614457831325301\n",
      "Violation: {'f'} {'a', 'e', 'f', 'c', 'b', 'd'} g <pycausal.pycausal.pycausal object at 0x7fdc8a4fdf28>\n",
      "Error: BernoulliNB() 0.2469879518072289\n",
      "Error: LinearDiscriminantAnalysis() 0.36646586345381527\n",
      "Error: RandomForestClassifier() 0.30220883534136544\n",
      "Error: ExtraTreesClassifier() 0.3092369477911647\n",
      "Error: AdaBoostClassifier() 0.25\n",
      "Error: BaggingClassifier() 0.3373493975903614\n",
      "Error: GradientBoostingClassifier() 0.37349397590361444\n",
      "Error: MLPClassifier() 0.38755020080321284\n",
      "Error: LogisticRegression() 0.27710843373493976\n"
     ]
    },
    {
     "name": "stderr",
     "output_type": "stream",
     "text": [
      "/home/tkyono/anaconda3/lib/python3.6/site-packages/sklearn/linear_model/stochastic_gradient.py:128: FutureWarning: max_iter and tol parameters have been added in <class 'sklearn.linear_model.perceptron.Perceptron'> in 0.19. If both are left unset, they default to max_iter=5 and tol=None. If tol is not None, max_iter defaults to max_iter=1000. From 0.21, default max_iter will be 1000, and default tol will be 1e-3.\n",
      "  \"and default tol will be 1e-3.\" % type(self), FutureWarning)\n"
     ]
    },
    {
     "name": "stdout",
     "output_type": "stream",
     "text": [
      "Error: Perceptron() 0.2419678714859438\n",
      "Error: DecisionTreeClassifier() 0.27309236947791166\n",
      "Error: LinearSVC() 0.3373493975903614\n",
      "Error: GaussianNB() 0.37650602409638556\n",
      "Violation: {'f'} {'a', 'e', 'f', 'c', 'b', 'd'} g <pycausal.pycausal.pycausal object at 0x7fdc8a4fdf28>\n",
      "Error: BernoulliNB() 0.2399598393574297\n",
      "Error: LinearDiscriminantAnalysis() 0.3795180722891566\n",
      "Violation: {'f'} {'e', 'f', 'c', 'b', 'd'} g <pycausal.pycausal.pycausal object at 0x7fdc8a4fdf28>\n",
      "Error: RandomForestClassifier() 0.32028112449799195\n",
      "Error: ExtraTreesClassifier() 0.30823293172690763\n",
      "Error: AdaBoostClassifier() 0.25301204819277107\n",
      "Error: BaggingClassifier() 0.3102409638554217\n",
      "Error: GradientBoostingClassifier() 0.3714859437751004\n",
      "Error: MLPClassifier() 0.37248995983935745\n",
      "Error: LogisticRegression() 0.28442211055276384\n"
     ]
    },
    {
     "name": "stderr",
     "output_type": "stream",
     "text": [
      "/home/tkyono/anaconda3/lib/python3.6/site-packages/sklearn/linear_model/stochastic_gradient.py:128: FutureWarning: max_iter and tol parameters have been added in <class 'sklearn.linear_model.perceptron.Perceptron'> in 0.19. If both are left unset, they default to max_iter=5 and tol=None. If tol is not None, max_iter defaults to max_iter=1000. From 0.21, default max_iter will be 1000, and default tol will be 1e-3.\n",
      "  \"and default tol will be 1e-3.\" % type(self), FutureWarning)\n"
     ]
    },
    {
     "name": "stdout",
     "output_type": "stream",
     "text": [
      "Error: Perceptron() 0.1798994974874372\n",
      "Violation: {'f'} {'c', 'f'} g <pycausal.pycausal.pycausal object at 0x7fdc8a4fdf28>\n",
      "Error: DecisionTreeClassifier() 0.2633165829145729\n",
      "Error: LinearSVC() 0.31758793969849247\n",
      "Error: GaussianNB() 0.3829145728643216\n",
      "Violation: {'f'} {'a', 'e', 'f', 'c', 'b', 'd'} g <pycausal.pycausal.pycausal object at 0x7fdc8a4fdf28>\n",
      "Error: BernoulliNB() 0.24824120603015076\n",
      "Violation: {'f'} {'b', 'f'} g <pycausal.pycausal.pycausal object at 0x7fdc8a4fdf28>\n"
     ]
    },
    {
     "name": "stderr",
     "output_type": "stream",
     "text": [
      "/home/tkyono/anaconda3/lib/python3.6/site-packages/sklearn/discriminant_analysis.py:442: UserWarning: The priors do not sum to 1. Renormalizing\n",
      "  UserWarning)\n"
     ]
    },
    {
     "name": "stdout",
     "output_type": "stream",
     "text": [
      "Error: LinearDiscriminantAnalysis() 0.38391959798994973\n",
      "Violation: {'f'} {'a', 'e', 'f', 'c', 'b', 'd'} g <pycausal.pycausal.pycausal object at 0x7fdc8a4fdf28>\n",
      "Error: RandomForestClassifier() 0.29447236180904524\n",
      "Error: ExtraTreesClassifier() 0.31055276381909547\n",
      "Error: AdaBoostClassifier() 0.2613065326633166\n",
      "Error: BaggingClassifier() 0.31256281407035175\n",
      "Error: GradientBoostingClassifier() 0.35577889447236183\n",
      "Error: MLPClassifier() 0.38190954773869346\n",
      "Error: LogisticRegression() 0.2834170854271357\n"
     ]
    },
    {
     "name": "stderr",
     "output_type": "stream",
     "text": [
      "/home/tkyono/anaconda3/lib/python3.6/site-packages/sklearn/linear_model/stochastic_gradient.py:128: FutureWarning: max_iter and tol parameters have been added in <class 'sklearn.linear_model.perceptron.Perceptron'> in 0.19. If both are left unset, they default to max_iter=5 and tol=None. If tol is not None, max_iter defaults to max_iter=1000. From 0.21, default max_iter will be 1000, and default tol will be 1e-3.\n",
      "  \"and default tol will be 1e-3.\" % type(self), FutureWarning)\n"
     ]
    },
    {
     "name": "stdout",
     "output_type": "stream",
     "text": [
      "Error: Perceptron() 0.20100502512562815\n",
      "Violation: {'f'} {'a', 'f'} g <pycausal.pycausal.pycausal object at 0x7fdc8a4fdf28>\n",
      "Error: DecisionTreeClassifier() 0.2562814070351759\n",
      "Error: LinearSVC() 0.3165829145728643\n",
      "Error: GaussianNB() 0.36482412060301506\n",
      "Violation: {'f'} {'a', 'e', 'f', 'c', 'b', 'd'} g <pycausal.pycausal.pycausal object at 0x7fdc8a4fdf28>\n",
      "Error: BernoulliNB() 0.24824120603015076\n"
     ]
    },
    {
     "name": "stderr",
     "output_type": "stream",
     "text": [
      "/home/tkyono/anaconda3/lib/python3.6/site-packages/sklearn/discriminant_analysis.py:442: UserWarning: The priors do not sum to 1. Renormalizing\n",
      "  UserWarning)\n"
     ]
    },
    {
     "name": "stdout",
     "output_type": "stream",
     "text": [
      "Error: LinearDiscriminantAnalysis() 0.37286432160804023\n",
      "Error: RandomForestClassifier() 0.32864321608040203\n",
      "Error: ExtraTreesClassifier() 0.2793969849246231\n",
      "Error: AdaBoostClassifier() 0.25125628140703515\n",
      "Error: BaggingClassifier() 0.271356783919598\n",
      "Error: GradientBoostingClassifier() 0.35477386934673366\n",
      "Error: MLPClassifier() 0.37185929648241206\n",
      "Error: LogisticRegression() 0.28542713567839195\n"
     ]
    },
    {
     "name": "stderr",
     "output_type": "stream",
     "text": [
      "/home/tkyono/anaconda3/lib/python3.6/site-packages/sklearn/linear_model/stochastic_gradient.py:128: FutureWarning: max_iter and tol parameters have been added in <class 'sklearn.linear_model.perceptron.Perceptron'> in 0.19. If both are left unset, they default to max_iter=5 and tol=None. If tol is not None, max_iter defaults to max_iter=1000. From 0.21, default max_iter will be 1000, and default tol will be 1e-3.\n",
      "  \"and default tol will be 1e-3.\" % type(self), FutureWarning)\n"
     ]
    },
    {
     "name": "stdout",
     "output_type": "stream",
     "text": [
      "Error: Perceptron() 0.207035175879397\n",
      "Violation: {'f'} {'c', 'a', 'f'} g <pycausal.pycausal.pycausal object at 0x7fdc8a4fdf28>\n",
      "Error: DecisionTreeClassifier() 0.2733668341708543\n",
      "Error: LinearSVC() 0.3055276381909548\n",
      "Error: GaussianNB() 0.3829145728643216\n",
      "Violation: {'f'} {'a', 'e', 'f', 'c', 'b', 'd'} g <pycausal.pycausal.pycausal object at 0x7fdc8a4fdf28>\n",
      "Error: BernoulliNB() 0.24321608040201004\n"
     ]
    },
    {
     "name": "stderr",
     "output_type": "stream",
     "text": [
      "/home/tkyono/anaconda3/lib/python3.6/site-packages/sklearn/discriminant_analysis.py:442: UserWarning: The priors do not sum to 1. Renormalizing\n",
      "  UserWarning)\n"
     ]
    },
    {
     "name": "stdout",
     "output_type": "stream",
     "text": [
      "Error: LinearDiscriminantAnalysis() 0.3849246231155779\n",
      "Error: RandomForestClassifier() 0.3065326633165829\n",
      "Error: ExtraTreesClassifier() 0.29346733668341707\n",
      "Error: AdaBoostClassifier() 0.2492462311557789\n",
      "Error: BaggingClassifier() 0.2914572864321608\n",
      "Error: GradientBoostingClassifier() 0.3628140703517588\n",
      "Violation: {'f'} set() g <pycausal.pycausal.pycausal object at 0x7fdc8a4fdf28>\n",
      "Error: MLPClassifier() 0.38894472361809046\n",
      "Error: LogisticRegression() 0.2814070351758794\n"
     ]
    },
    {
     "name": "stderr",
     "output_type": "stream",
     "text": [
      "/home/tkyono/anaconda3/lib/python3.6/site-packages/sklearn/linear_model/stochastic_gradient.py:128: FutureWarning: max_iter and tol parameters have been added in <class 'sklearn.linear_model.perceptron.Perceptron'> in 0.19. If both are left unset, they default to max_iter=5 and tol=None. If tol is not None, max_iter defaults to max_iter=1000. From 0.21, default max_iter will be 1000, and default tol will be 1e-3.\n",
      "  \"and default tol will be 1e-3.\" % type(self), FutureWarning)\n"
     ]
    },
    {
     "name": "stdout",
     "output_type": "stream",
     "text": [
      "Error: Perceptron() 0.21708542713567838\n",
      "Error: DecisionTreeClassifier() 0.2492462311557789\n",
      "Error: LinearSVC() 0.3135678391959799\n",
      "Error: GaussianNB() 0.385929648241206\n",
      "Violation: {'f'} {'a', 'e', 'f', 'c', 'b', 'd'} g <pycausal.pycausal.pycausal object at 0x7fdc8a4fdf28>\n",
      "Error: BernoulliNB() 0.2522613065326633\n"
     ]
    },
    {
     "name": "stderr",
     "output_type": "stream",
     "text": [
      "/home/tkyono/anaconda3/lib/python3.6/site-packages/sklearn/discriminant_analysis.py:442: UserWarning: The priors do not sum to 1. Renormalizing\n",
      "  UserWarning)\n"
     ]
    },
    {
     "name": "stdout",
     "output_type": "stream",
     "text": [
      "Error: LinearDiscriminantAnalysis() 0.38391959798994973\n",
      "Error: RandomForestClassifier() 0.31959798994974875\n",
      "Error: ExtraTreesClassifier() 0.314572864321608\n",
      "Error: AdaBoostClassifier() 0.25728643216080405\n",
      "Error: BaggingClassifier() 0.3165829145728643\n",
      "Error: GradientBoostingClassifier() 0.3708542713567839\n",
      "Error: MLPClassifier() 0.39195979899497485\n",
      "Error: LogisticRegression() 0.29547738693467335\n"
     ]
    },
    {
     "name": "stderr",
     "output_type": "stream",
     "text": [
      "/home/tkyono/anaconda3/lib/python3.6/site-packages/sklearn/linear_model/stochastic_gradient.py:128: FutureWarning: max_iter and tol parameters have been added in <class 'sklearn.linear_model.perceptron.Perceptron'> in 0.19. If both are left unset, they default to max_iter=5 and tol=None. If tol is not None, max_iter defaults to max_iter=1000. From 0.21, default max_iter will be 1000, and default tol will be 1e-3.\n",
      "  \"and default tol will be 1e-3.\" % type(self), FutureWarning)\n"
     ]
    },
    {
     "name": "stdout",
     "output_type": "stream",
     "text": [
      "Error: Perceptron() 0.1879396984924623\n",
      "Violation: {'f'} {'c', 'f'} g <pycausal.pycausal.pycausal object at 0x7fdc8a4fdf28>\n",
      "Error: DecisionTreeClassifier() 0.26532663316582916\n",
      "Error: LinearSVC() 0.3407035175879397\n",
      "Error: GaussianNB() 0.4050251256281407\n",
      "Violation: {'f'} {'a', 'e', 'f', 'c', 'b', 'd'} g <pycausal.pycausal.pycausal object at 0x7fdc8a4fdf28>\n",
      "Error: BernoulliNB() 0.2693467336683417\n"
     ]
    },
    {
     "name": "stderr",
     "output_type": "stream",
     "text": [
      "/home/tkyono/anaconda3/lib/python3.6/site-packages/sklearn/discriminant_analysis.py:442: UserWarning: The priors do not sum to 1. Renormalizing\n",
      "  UserWarning)\n"
     ]
    },
    {
     "name": "stdout",
     "output_type": "stream",
     "text": [
      "Error: LinearDiscriminantAnalysis() 0.40603015075376886\n",
      "Violation: {'f'} {'c', 'f'} g <pycausal.pycausal.pycausal object at 0x7fdc8a4fdf28>\n",
      "Error: RandomForestClassifier() 0.3135678391959799\n",
      "Error: ExtraTreesClassifier() 0.314572864321608\n",
      "Error: AdaBoostClassifier() 0.2623115577889447\n",
      "Error: BaggingClassifier() 0.30954773869346736\n",
      "Error: GradientBoostingClassifier() 0.3768844221105528\n",
      "Error: MLPClassifier() 0.40804020100502514\n",
      "Violation: {'f'} {'e', 'f'} g <pycausal.pycausal.pycausal object at 0x7fdc8a4fdf28>\n",
      "Error: LogisticRegression() 0.24723618090452262\n"
     ]
    },
    {
     "name": "stderr",
     "output_type": "stream",
     "text": [
      "/home/tkyono/anaconda3/lib/python3.6/site-packages/sklearn/linear_model/stochastic_gradient.py:128: FutureWarning: max_iter and tol parameters have been added in <class 'sklearn.linear_model.perceptron.Perceptron'> in 0.19. If both are left unset, they default to max_iter=5 and tol=None. If tol is not None, max_iter defaults to max_iter=1000. From 0.21, default max_iter will be 1000, and default tol will be 1e-3.\n",
      "  \"and default tol will be 1e-3.\" % type(self), FutureWarning)\n"
     ]
    },
    {
     "name": "stdout",
     "output_type": "stream",
     "text": [
      "Error: Perceptron() 0.21306532663316582\n",
      "Error: DecisionTreeClassifier() 0.24321608040201004\n",
      "Error: LinearSVC() 0.3005025125628141\n",
      "Error: GaussianNB() 0.3527638190954774\n",
      "Violation: {'f'} {'a', 'e', 'f', 'c', 'b', 'd'} g <pycausal.pycausal.pycausal object at 0x7fdc8a4fdf28>\n",
      "Error: BernoulliNB() 0.23316582914572864\n"
     ]
    },
    {
     "name": "stderr",
     "output_type": "stream",
     "text": [
      "/home/tkyono/anaconda3/lib/python3.6/site-packages/sklearn/discriminant_analysis.py:442: UserWarning: The priors do not sum to 1. Renormalizing\n",
      "  UserWarning)\n"
     ]
    },
    {
     "name": "stdout",
     "output_type": "stream",
     "text": [
      "Error: LinearDiscriminantAnalysis() 0.36381909547738694\n",
      "Violation: {'f'} {'a', 'e', 'f', 'c', 'b', 'd'} g <pycausal.pycausal.pycausal object at 0x7fdc8a4fdf28>\n",
      "Error: RandomForestClassifier() 0.2864321608040201\n",
      "Error: ExtraTreesClassifier() 0.31155778894472363\n",
      "Error: AdaBoostClassifier() 0.24321608040201004\n",
      "Error: BaggingClassifier() 0.2804020100502513\n",
      "Error: GradientBoostingClassifier() 0.35678391959798994\n",
      "Error: MLPClassifier() 0.35678391959798994\n",
      "Error: LogisticRegression() 0.27638190954773867\n"
     ]
    },
    {
     "name": "stderr",
     "output_type": "stream",
     "text": [
      "/home/tkyono/anaconda3/lib/python3.6/site-packages/sklearn/linear_model/stochastic_gradient.py:128: FutureWarning: max_iter and tol parameters have been added in <class 'sklearn.linear_model.perceptron.Perceptron'> in 0.19. If both are left unset, they default to max_iter=5 and tol=None. If tol is not None, max_iter defaults to max_iter=1000. From 0.21, default max_iter will be 1000, and default tol will be 1e-3.\n",
      "  \"and default tol will be 1e-3.\" % type(self), FutureWarning)\n"
     ]
    },
    {
     "name": "stdout",
     "output_type": "stream",
     "text": [
      "Error: Perceptron() 0.16884422110552763\n",
      "Violation: {'f'} {'c', 'f'} g <pycausal.pycausal.pycausal object at 0x7fdc8a4fdf28>\n",
      "Error: DecisionTreeClassifier() 0.28442211055276384\n",
      "Error: LinearSVC() 0.3165829145728643\n",
      "Error: GaussianNB() 0.3608040201005025\n",
      "Violation: {'f'} {'a', 'e', 'f', 'c', 'b', 'd'} g <pycausal.pycausal.pycausal object at 0x7fdc8a4fdf28>\n",
      "Error: BernoulliNB() 0.26030150753768844\n",
      "Error: LinearDiscriminantAnalysis() 0.3608040201005025\n"
     ]
    },
    {
     "name": "stderr",
     "output_type": "stream",
     "text": [
      "/home/tkyono/anaconda3/lib/python3.6/site-packages/sklearn/discriminant_analysis.py:442: UserWarning: The priors do not sum to 1. Renormalizing\n",
      "  UserWarning)\n"
     ]
    },
    {
     "name": "stdout",
     "output_type": "stream",
     "text": [
      "Violation: {'f'} {'e', 'f'} g <pycausal.pycausal.pycausal object at 0x7fdc8a4fdf28>\n",
      "Error: RandomForestClassifier() 0.30452261306532663\n",
      "Error: ExtraTreesClassifier() 0.3306532663316583\n",
      "Error: AdaBoostClassifier() 0.25125628140703515\n",
      "Error: BaggingClassifier() 0.31155778894472363\n",
      "Error: GradientBoostingClassifier() 0.35477386934673366\n",
      "Error: MLPClassifier() 0.35577889447236183\n",
      "Error: LogisticRegression() 0.28169014084507044\n"
     ]
    },
    {
     "name": "stderr",
     "output_type": "stream",
     "text": [
      "/home/tkyono/anaconda3/lib/python3.6/site-packages/sklearn/linear_model/stochastic_gradient.py:128: FutureWarning: max_iter and tol parameters have been added in <class 'sklearn.linear_model.perceptron.Perceptron'> in 0.19. If both are left unset, they default to max_iter=5 and tol=None. If tol is not None, max_iter defaults to max_iter=1000. From 0.21, default max_iter will be 1000, and default tol will be 1e-3.\n",
      "  \"and default tol will be 1e-3.\" % type(self), FutureWarning)\n"
     ]
    },
    {
     "name": "stdout",
     "output_type": "stream",
     "text": [
      "Error: Perceptron() 0.19919517102615694\n",
      "Error: DecisionTreeClassifier() 0.29074446680080485\n",
      "Error: LinearSVC() 0.30784708249496984\n",
      "Error: GaussianNB() 0.3672032193158954\n",
      "Violation: {'f'} {'a', 'e', 'f', 'c', 'b', 'd'} g <pycausal.pycausal.pycausal object at 0x7fdc8a4fdf28>\n",
      "Error: BernoulliNB() 0.2635814889336016\n"
     ]
    },
    {
     "name": "stderr",
     "output_type": "stream",
     "text": [
      "/home/tkyono/anaconda3/lib/python3.6/site-packages/sklearn/discriminant_analysis.py:442: UserWarning: The priors do not sum to 1. Renormalizing\n",
      "  UserWarning)\n"
     ]
    },
    {
     "name": "stdout",
     "output_type": "stream",
     "text": [
      "Error: LinearDiscriminantAnalysis() 0.37424547283702214\n",
      "Error: RandomForestClassifier() 0.32696177062374243\n",
      "Error: ExtraTreesClassifier() 0.30181086519114686\n",
      "Error: AdaBoostClassifier() 0.2605633802816901\n",
      "Error: BaggingClassifier() 0.2937625754527163\n",
      "Error: GradientBoostingClassifier() 0.36519114688128773\n",
      "Violation: {'f'} set() g <pycausal.pycausal.pycausal object at 0x7fdc8a4fdf28>\n",
      "Error: MLPClassifier() 0.3611670020120724\n",
      "Error: LogisticRegression() 0.2796780684104628\n"
     ]
    },
    {
     "name": "stderr",
     "output_type": "stream",
     "text": [
      "/home/tkyono/anaconda3/lib/python3.6/site-packages/sklearn/linear_model/stochastic_gradient.py:128: FutureWarning: max_iter and tol parameters have been added in <class 'sklearn.linear_model.perceptron.Perceptron'> in 0.19. If both are left unset, they default to max_iter=5 and tol=None. If tol is not None, max_iter defaults to max_iter=1000. From 0.21, default max_iter will be 1000, and default tol will be 1e-3.\n",
      "  \"and default tol will be 1e-3.\" % type(self), FutureWarning)\n"
     ]
    },
    {
     "name": "stdout",
     "output_type": "stream",
     "text": [
      "Error: Perceptron() 0.17002012072434608\n",
      "Error: DecisionTreeClassifier() 0.2857142857142857\n",
      "Error: LinearSVC() 0.31287726358148893\n",
      "Error: GaussianNB() 0.403420523138833\n",
      "Violation: {'f'} {'a', 'e', 'f', 'c', 'b', 'd'} g <pycausal.pycausal.pycausal object at 0x7fdc8a4fdf28>\n",
      "Error: BernoulliNB() 0.2535211267605634\n"
     ]
    },
    {
     "name": "stderr",
     "output_type": "stream",
     "text": [
      "/home/tkyono/anaconda3/lib/python3.6/site-packages/sklearn/discriminant_analysis.py:442: UserWarning: The priors do not sum to 1. Renormalizing\n",
      "  UserWarning)\n"
     ]
    },
    {
     "name": "stdout",
     "output_type": "stream",
     "text": [
      "Error: LinearDiscriminantAnalysis() 0.41448692152917505\n",
      "Violation: {'f'} {'e', 'b', 'a', 'f'} g <pycausal.pycausal.pycausal object at 0x7fdc8a4fdf28>\n",
      "Error: RandomForestClassifier() 0.317907444668008\n",
      "Error: ExtraTreesClassifier() 0.3329979879275654\n",
      "Error: AdaBoostClassifier() 0.2635814889336016\n",
      "Error: BaggingClassifier() 0.30885311871227367\n",
      "Error: GradientBoostingClassifier() 0.37927565392354123\n",
      "Error: MLPClassifier() 0.4044265593561368\n",
      "Violation: {'f'} {'c', 'f'} g <pycausal.pycausal.pycausal object at 0x7fdc8a4fdf28>\n",
      "Error: LogisticRegression() 0.27794561933534745\n"
     ]
    },
    {
     "name": "stderr",
     "output_type": "stream",
     "text": [
      "/home/tkyono/anaconda3/lib/python3.6/site-packages/sklearn/linear_model/stochastic_gradient.py:128: FutureWarning: max_iter and tol parameters have been added in <class 'sklearn.linear_model.perceptron.Perceptron'> in 0.19. If both are left unset, they default to max_iter=5 and tol=None. If tol is not None, max_iter defaults to max_iter=1000. From 0.21, default max_iter will be 1000, and default tol will be 1e-3.\n",
      "  \"and default tol will be 1e-3.\" % type(self), FutureWarning)\n"
     ]
    },
    {
     "name": "stdout",
     "output_type": "stream",
     "text": [
      "Error: Perceptron() 0.2366565961732125\n",
      "Violation: {'f'} {'c', 'e', 'b', 'f'} g <pycausal.pycausal.pycausal object at 0x7fdc8a4fdf28>\n",
      "Error: DecisionTreeClassifier() 0.24773413897280966\n",
      "Error: LinearSVC() 0.3041289023162135\n",
      "Violation: {'f'} set() g <pycausal.pycausal.pycausal object at 0x7fdc8a4fdf28>\n",
      "Error: GaussianNB() 0.39375629405840884\n",
      "Violation: {'f'} {'a', 'e', 'f', 'c', 'b', 'd'} g <pycausal.pycausal.pycausal object at 0x7fdc8a4fdf28>\n",
      "Error: BernoulliNB() 0.24672708962739173\n",
      "Error: LinearDiscriminantAnalysis() 0.3816717019133938\n",
      "Error: RandomForestClassifier() 0.3041289023162135\n",
      "Error: ExtraTreesClassifier() 0.30513595166163143\n",
      "Error: AdaBoostClassifier() 0.2527693856998993\n",
      "Error: BaggingClassifier() 0.3031218529707956\n",
      "Error: GradientBoostingClassifier() 0.3726082578046324\n",
      "Error: MLPClassifier() 0.3776435045317221\n",
      "Error: LogisticRegression() 0.2799597180261833\n"
     ]
    },
    {
     "name": "stderr",
     "output_type": "stream",
     "text": [
      "/home/tkyono/anaconda3/lib/python3.6/site-packages/sklearn/linear_model/stochastic_gradient.py:128: FutureWarning: max_iter and tol parameters have been added in <class 'sklearn.linear_model.perceptron.Perceptron'> in 0.19. If both are left unset, they default to max_iter=5 and tol=None. If tol is not None, max_iter defaults to max_iter=1000. From 0.21, default max_iter will be 1000, and default tol will be 1e-3.\n",
      "  \"and default tol will be 1e-3.\" % type(self), FutureWarning)\n"
     ]
    },
    {
     "name": "stdout",
     "output_type": "stream",
     "text": [
      "Error: Perceptron() 0.22457200402819738\n",
      "Violation: {'f'} {'e', 'f'} g <pycausal.pycausal.pycausal object at 0x7fdc8a4fdf28>\n",
      "Error: DecisionTreeClassifier() 0.2537764350453172\n",
      "Error: LinearSVC() 0.311178247734139\n",
      "Error: GaussianNB() 0.36555891238670696\n",
      "Violation: {'f'} {'a', 'e', 'f', 'c', 'b', 'd'} g <pycausal.pycausal.pycausal object at 0x7fdc8a4fdf28>\n",
      "Error: BernoulliNB() 0.23564954682779457\n",
      "Error: LinearDiscriminantAnalysis() 0.36253776435045315\n",
      "Error: RandomForestClassifier() 0.31017119838872104\n",
      "Error: ExtraTreesClassifier() 0.3121852970795569\n",
      "Error: AdaBoostClassifier() 0.2457200402819738\n",
      "Error: BaggingClassifier() 0.30614300100704933\n",
      "Error: GradientBoostingClassifier() 0.33131923464249746\n",
      "Error: MLPClassifier() 0.3635448136958711\n",
      "Violation: {'f'} {'a', 'f'} g <pycausal.pycausal.pycausal object at 0x7fdc8a4fdf28>\n",
      "Violations =  [ 0. 18.  0.  2. 40.  1. 15.  1.  1.  0.  0.  3.  7.]\n",
      "Model_name =  LogisticRegression() Violations =  0.0\n",
      "Average_violations =  0.0 0.0\n",
      "Accuracy =  0.2721641953525123 0.013954169040695824 MSE =  2.1535293890349467 0.09315729630365276\n",
      "Model_name =  Perceptron() Violations =  18.0\n",
      "Average_violations =  0.135 0.19176808910765109\n",
      "Accuracy =  0.19259107885921387 0.031026728507101135 MSE =  4.818721662775007 2.099114481883394\n",
      "Model_name =  DecisionTreeClassifier() Violations =  0.0\n",
      "Average_violations =  0.0 0.0\n",
      "Accuracy =  0.26715267845218016 0.013331184010636932 MSE =  2.1793276892153775 0.0953010808990911\n",
      "Model_name =  LinearSVC() Violations =  2.0\n",
      "Average_violations =  0.01 0.04358898943540674\n",
      "Accuracy =  0.30675207114855907 0.01388986745651979 MSE =  1.8413541299798872 0.08939931825860849\n",
      "Model_name =  GaussianNB() Violations =  40.0\n",
      "Average_violations =  1.0 0.0\n",
      "Accuracy =  0.3647907325653629 0.01738492443645073 MSE =  1.189620952850232 0.04971983947733838\n",
      "Model_name =  BernoulliNB() Violations =  1.0\n",
      "Average_violations =  0.005 0.03122498999199199\n",
      "Accuracy =  0.24675695145417081 0.010082724078147462 MSE =  2.979071445058648 0.12008965469623711\n",
      "Model_name =  LinearDiscriminantAnalysis() Violations =  15.0\n",
      "Average_violations =  0.24000000000000005 0.37202150475476553\n",
      "Accuracy =  0.3690171273604951 0.014927470100761115 MSE =  1.1596770251942434 0.04659315590468161\n",
      "Model_name =  RandomForestClassifier() Violations =  1.0\n",
      "Average_violations =  0.005 0.03122498999199199\n",
      "Accuracy =  0.3084074622391196 0.012215506669432408 MSE =  1.6938254065424219 0.07922322483915792\n",
      "Model_name =  ExtraTreesClassifier() Violations =  1.0\n",
      "Average_violations =  0.005 0.03122498999199199\n",
      "Accuracy =  0.3067296084320874 0.014677794782015743 MSE =  1.7371089984012555 0.08288280573701899\n",
      "Model_name =  AdaBoostClassifier() Violations =  0.0\n",
      "Average_violations =  0.0 0.0\n",
      "Accuracy =  0.2522403295843433 0.009398201124718323 MSE =  3.087994420008421 0.17883023870348033\n",
      "Model_name =  BaggingClassifier() Violations =  0.0\n",
      "Average_violations =  0.0 0.0\n",
      "Accuracy =  0.3071956426463022 0.013523793132303966 MSE =  1.6682168818115002 0.06511608168285819\n",
      "Model_name =  GradientBoostingClassifier() Violations =  3.0\n",
      "Average_violations =  0.034999999999999996 0.16054594358002322\n",
      "Accuracy =  0.35499196409760453 0.013812341879305617 MSE =  1.3115802770040084 0.06342618727724274\n",
      "Model_name =  MLPClassifier() Violations =  7.0\n",
      "Average_violations =  0.07500000000000001 0.22220486043288973\n",
      "Accuracy =  0.365602562255182 0.016959148186181272 MSE =  1.1958899213981355 0.0530553752220782\n",
      "[0.2721642  0.19259108 0.26715268 0.30675207 0.36479073 0.24675695\n",
      " 0.36901713 0.30840746 0.30672961 0.25224033 0.30719564 0.35499196\n",
      " 0.36560256] [0.01395417 0.03102673 0.01333118 0.01388987 0.01738492 0.01008272\n",
      " 0.01492747 0.01221551 0.01467779 0.0093982  0.01352379 0.01381234\n",
      " 0.01695915] [0.    0.135 0.    0.01  1.    0.005 0.24  0.005 0.005 0.    0.    0.035\n",
      " 0.075] [0.         0.19176809 0.         0.04358899 0.         0.03122499\n",
      " 0.3720215  0.03122499 0.03122499 0.         0.         0.16054594\n",
      " 0.22220486]\n"
     ]
    },
    {
     "data": {
      "image/png": "[encoded data removed]",
      "text/plain": [
       "<Figure size 1332x756 with 1 Axes>"
      ]
     },
     "metadata": {},
     "output_type": "display_data"
    }
   ],
   "source": [
    "import numpy as np\n",
    "import pandas as pd\n",
    "import matplotlib.pyplot as plt\n",
    "import sys\n",
    "from sklearn.metrics import roc_auc_score, average_precision_score, mean_squared_error, accuracy_score\n",
    "from sklearn.model_selection import StratifiedKFold\n",
    "from sklearn.linear_model import LogisticRegression, Perceptron\n",
    "from sklearn.neighbors import KNeighborsClassifier\n",
    "from sklearn.tree import DecisionTreeClassifier\n",
    "from sklearn.svm import LinearSVC\n",
    "from sklearn.naive_bayes import GaussianNB, BernoulliNB\n",
    "from sklearn.discriminant_analysis import LinearDiscriminantAnalysis\n",
    "from sklearn.ensemble import RandomForestClassifier, ExtraTreesClassifier, AdaBoostClassifier, BaggingClassifier, GradientBoostingClassifier\n",
    "from sklearn.neural_network import MLPClassifier\n",
    "import pandas as pd\n",
    "from pycausal import search as s\n",
    "\n",
    "def get_CG(df, tetrad):\n",
    "    tetrad.run(algoId = 'gfci', dfs = df, testId = 'sem-bic', scoreId = 'sem-bic', dataType = 'continuous',\n",
    "           structurePrior = 1.0, samplePrior = 1.0, maxDegree = -1, maxPathLength = -1, \n",
    "           completeRuleSetUsed = False, faithfulnessAssumed = True, verbose = True)\n",
    "    #tetrad.run(algoId = 'gfci', dfs = df, testId = 'bdeu', scoreId = 'bdeu', dataType = 'discrete',\n",
    "    #       structurePrior = 1.0, samplePrior = 1.0, maxDegree = 3, faithfulnessAssumed = True, verbose = True)\n",
    "\n",
    "\n",
    "    return tetrad.getTetradGraph()\n",
    "\n",
    "def get_MB(graph, var, pc):\n",
    "    parents = set()\n",
    "    for i in pc.extractTetradGraphEdges(graph):\n",
    "        if i[-1] == var and i[3:5] == '->':\n",
    "            parents.add(i[0])\n",
    "        if i[0] == var and i[3:5] == '->':\n",
    "            parents.add(i[-1])\n",
    "    return parents\n",
    "\n",
    "from pycausal.pycausal import pycausal as pc\n",
    "pc = pc()\n",
    "pc.start_vm(java_max_heap_size = '5000M')\n",
    "tetrad = s.tetradrunner()\n",
    "def run_models(models, model_names, x, y, num_folds=40):\n",
    "    violations = np.zeros(len(models))\n",
    "    violation_mean = np.zeros((len(models), num_folds))\n",
    "    mean = np.zeros((len(models), num_folds))\n",
    "    mean2 = np.zeros((len(models), num_folds)) # used to store our secondary metric\n",
    "    \n",
    "    skf = StratifiedKFold(n_splits=num_folds)\n",
    "    fold = 0\n",
    "    for train_index, test_index in skf.split(x, y):\n",
    "        x_train, x_test = x[train_index], x[test_index]\n",
    "        y_train, y_test = y[train_index], y[test_index]\n",
    "        for idx, model in enumerate(models):\n",
    "            model.fit(x_train, y_train)\n",
    "            original_df = pd.DataFrame(x_test, columns = ['a', 'b', 'c', 'd', 'e', 'f'])\n",
    "\n",
    "            original_targets = pd.DataFrame(y_test, columns = ['g'])\n",
    "            original_df = original_df.join(original_targets)\n",
    "            test_df = pd.DataFrame(x_test, columns = ['a', 'b', 'c', 'd', 'e', 'f'])\n",
    "            test_targets = pd.DataFrame(model.predict(x_test), columns = ['g'])\n",
    "            test_df = test_df.join(test_targets)\n",
    "            #print(get_MB(get_CG(test_df), 'g'))\n",
    "            print(\"Error:\", model_names[idx], accuracy_score(y_test, model.predict(x_test)))\n",
    "            \n",
    "            \n",
    "            mean[idx][fold] = accuracy_score(y_test, model.predict(x_test))\n",
    "            mean2[idx][fold] = mean_squared_error(y_test, model.predict(x_test))\n",
    "            \n",
    "            setA = get_MB(get_CG(original_df, tetrad), 'g', pc)\n",
    "            setB = get_MB(get_CG(test_df, tetrad), 'g', pc)\n",
    "            #assert(setA == {'f'})\n",
    "            violation_mean[idx][fold] = len(setA.difference(setB)) + len(setB.difference(setA))\n",
    "            if setA != setB:\n",
    "                print(\"Violation:\", setA , setB, 'g', pc)\n",
    "                violations[idx] += 1\n",
    "            \n",
    "            #pc.stop_vm()\n",
    "        fold += 1\n",
    "    \n",
    "    print(\"Violations = \", violations)\n",
    "    \n",
    "    metric = []\n",
    "    metric_err = []\n",
    "    viol = []\n",
    "    viol_err = []\n",
    "    \n",
    "    #normalize the violations for prettier graphing.\n",
    "    #also violations are always positive, so just divide by max.\n",
    "    violation_mean = violation_mean / np.max(violation_mean)\n",
    "    \n",
    "    for i in range(len(violations)):\n",
    "        print(\"Model_name = \", model_names[i], \"Violations = \", violations[i])\n",
    "        print(\"Average_violations = \", np.mean(violation_mean[i]), np.std(violation_mean[i]))\n",
    "        print(\"Accuracy = \", np.mean(mean[i]), np.std(mean[i]), \"MSE = \", np.mean(mean2[i]), np.std(mean2[i]),)\n",
    "        metric.append(np.mean(mean[i]))\n",
    "        metric_err.append(np.std(mean[i]))\n",
    "        viol.append(np.mean(violation_mean[i]))\n",
    "        \n",
    "        viol_err.append(np.std(violation_mean[i]))\n",
    "    print(np.array(metric), \n",
    "             np.array(metric_err), \n",
    "             np.array(viol), \n",
    "             np.array(viol_err))    \n",
    "    \n",
    "    bar_plot(model_names, \n",
    "             np.array(metric), \n",
    "             np.array(metric_err), \n",
    "             np.array(viol), \n",
    "             np.array(viol_err))\n",
    "    return \n",
    "\n",
    "X = df[['a', 'b', 'c', 'd', 'e', 'f']].values\n",
    "y = df['g'].values\n",
    "\n",
    "models = [LogisticRegression(), \n",
    "          Perceptron(),  \n",
    "          DecisionTreeClassifier(),\n",
    "          LinearSVC(),\n",
    "          GaussianNB(),\n",
    "          BernoulliNB(),\n",
    "          LinearDiscriminantAnalysis(),\n",
    "          RandomForestClassifier(),\n",
    "          ExtraTreesClassifier(),\n",
    "          AdaBoostClassifier(),\n",
    "          BaggingClassifier(),\n",
    "          GradientBoostingClassifier(),\n",
    "          MLPClassifier()\n",
    "         ]\n",
    "model_names = ['LogisticRegression()', \n",
    "          'Perceptron()',  \n",
    "          'DecisionTreeClassifier()',\n",
    "          'LinearSVC()',\n",
    "          'GaussianNB()',\n",
    "          'BernoulliNB()',\n",
    "          'LinearDiscriminantAnalysis()',\n",
    "          'RandomForestClassifier()',\n",
    "          'ExtraTreesClassifier()', \n",
    "          'AdaBoostClassifier()',\n",
    "          'BaggingClassifier()',\n",
    "          'GradientBoostingClassifier()',\n",
    "          'MLPClassifier()'\n",
    "         ]\n",
    "\n",
    "run_models(models,model_names, X,y)"
   ]
  },
  {
   "cell_type": "code",
   "execution_count": 25,
   "metadata": {},
   "outputs": [
    {
     "data": {
      "image/png": "[encoded data removed]",
      "text/plain": [
       "<Figure size 432x288 with 1 Axes>"
      ]
     },
     "metadata": {},
     "output_type": "display_data"
    }
   ],
   "source": [
    "import matplotlib              # plotting library\n",
    "import matplotlib.mlab as mlab # matlab compatibility functions\n",
    "from matplotlib.backends import backend_agg as agg # raster backend\n",
    "\n",
    "\n",
    "#table = pandas.read_table(\"../example_data/non_gridded_2D.txt\", \n",
    "#                          sep=' ', header=None, \n",
    "#                          names=[\"x\", \"y\", \"z\"])\n",
    "save_file = \"save.png\"\n",
    "d = {'x': [1, 2, 3], 'y': [3, 4, 5], 'z':[5,6, 7]}\n",
    "table = pd.DataFrame(d)\n",
    "fig = matplotlib.figure.Figure() # create the figure\n",
    "agg.FigureCanvasAgg(fig)         # attach the rasterizer\n",
    "ax = fig.add_subplot(1, 1, 1)    # make axes to plot on\n",
    "\n",
    "cmap = matplotlib.cm.get_cmap(\"jet\")\n",
    "pts = ax.scatter(table.x, table.y, s=60, c=table.z, cmap=cmap, \n",
    "                 linewidth=0)\n",
    "cbar = fig.colorbar(pts, ax=ax)\n",
    "fig.axes[-1].set_ylabel(\"Z\")\n",
    "\n",
    "ax.grid()\n",
    "ax.set_xlabel(\"X\")\n",
    "ax.set_ylabel(\"Y\")\n",
    "ax.set_xlim(0,10)\n",
    "ax.set_ylim(0,10)\n",
    "ax.set_title(\"Scatter Plot of Non-Gridded 2D Data\")\n",
    "fig.savefig(save_file)\n",
    "\n",
    "import matplotlib.pyplot as plt\n",
    "import matplotlib.image as mpimg\n",
    "\n",
    "img = mpimg.imread(save_file)\n",
    "plt.imshow(img)\n",
    "plt.show()"
   ]
  },
  {
   "cell_type": "markdown",
   "metadata": {},
   "source": [
    "# Experiment for generalization "
   ]
  },
  {
   "cell_type": "code",
   "execution_count": null,
   "metadata": {},
   "outputs": [
    {
     "name": "stderr",
     "output_type": "stream",
     "text": [
      "/home/tkyono/anaconda3/lib/python3.6/site-packages/sklearn/model_selection/_split.py:605: Warning: The least populated class in y has only 1 members, which is too few. The minimum number of members in any class cannot be less than n_splits=5.\n",
      "  % (min_groups, self.n_splits)), Warning)\n"
     ]
    },
    {
     "name": "stdout",
     "output_type": "stream",
     "text": [
      "Error: LogisticRegression() 0.26607566487701334\n"
     ]
    },
    {
     "name": "stderr",
     "output_type": "stream",
     "text": [
      "/home/tkyono/anaconda3/lib/python3.6/site-packages/sklearn/linear_model/stochastic_gradient.py:128: FutureWarning: max_iter and tol parameters have been added in <class 'sklearn.linear_model.perceptron.Perceptron'> in 0.19. If both are left unset, they default to max_iter=5 and tol=None. If tol is not None, max_iter defaults to max_iter=1000. From 0.21, default max_iter will be 1000, and default tol will be 1e-3.\n",
      "  \"and default tol will be 1e-3.\" % type(self), FutureWarning)\n"
     ]
    },
    {
     "name": "stdout",
     "output_type": "stream",
     "text": [
      "Error: Perceptron() 0.183418654014234\n",
      "Error: GaussianNB() 0.360719190910226\n",
      "Violation: {'f'} {'a', 'e', 'f', 'c', 'b', 'd'}\n",
      "Error: LogisticRegression() 0.26739972510308635\n",
      "Error: Perceptron() 0.20667249781332\n",
      "Violation: {'f'} {'b', 'f'}\n",
      "Error: GaussianNB() 0.3667374734474572\n",
      "Violation: {'f'} {'a', 'e', 'f', 'c', 'b', 'd'}\n",
      "Error: LogisticRegression() 0.27071616047994\n",
      "Error: Perceptron() 0.121734783152106\n",
      "Violation: {'f'} {'e', 'd', 'a'}\n",
      "Error: GaussianNB() 0.36145481814773156\n",
      "Violation: {'f'} {'a', 'e', 'f', 'c', 'b', 'd'}\n",
      "Error: LogisticRegression() 0.2674171357098186\n"
     ]
    }
   ],
   "source": [
    "import numpy as np\n",
    "import pandas as pd\n",
    "import matplotlib.pyplot as plt\n",
    "import sys\n",
    "from sklearn.metrics import roc_auc_score, average_precision_score, mean_squared_error, accuracy_score\n",
    "from sklearn.model_selection import StratifiedKFold\n",
    "from sklearn.linear_model import LogisticRegression, Perceptron\n",
    "from sklearn.neighbors import KNeighborsClassifier\n",
    "from sklearn.tree import DecisionTreeClassifier\n",
    "from sklearn.svm import LinearSVC\n",
    "from sklearn.naive_bayes import GaussianNB, BernoulliNB\n",
    "from sklearn.discriminant_analysis import LinearDiscriminantAnalysis\n",
    "from sklearn.ensemble import RandomForestClassifier, ExtraTreesClassifier, AdaBoostClassifier, BaggingClassifier, GradientBoostingClassifier\n",
    "from sklearn.neural_network import MLPClassifier\n",
    "import pandas as pd\n",
    "from pycausal import search as s\n",
    "\n",
    "\n",
    "\n",
    "def gen_data(mean = 0, var = 1, SIZE = 40000):\n",
    "    a = np.random.normal(mean, var, SIZE)\n",
    "    b = np.random.normal(mean, var, SIZE)\n",
    "    c = np.random.normal(mean, var, SIZE)\n",
    "    d = np.random.normal(mean, var, SIZE)\n",
    "    e = np.random.normal(mean, var, SIZE)\n",
    "    f= a + b + c + d + e + np.random.normal(mean, var, SIZE)\n",
    "    g = f + np.random.normal(mean,var, SIZE)\n",
    "    g = np.rint(g)\n",
    "    return pd.DataFrame({'a' : a,'b' : b, 'c' : c, 'd' : d,'e' : e,'f':f, 'g':g})\n",
    "\n",
    "def get_CG(df, tetrad):\n",
    "    tetrad.run(algoId = 'gfci', dfs = df, testId = 'sem-bic', scoreId = 'sem-bic', dataType = 'continuous',\n",
    "           structurePrior = 1.0, samplePrior = 1.0, maxDegree = -1, maxPathLength = -1, \n",
    "           completeRuleSetUsed = False, faithfulnessAssumed = True, verbose = True)\n",
    "    #tetrad.run(algoId = 'gfci', dfs = df, testId = 'bdeu', scoreId = 'bdeu', dataType = 'discrete',\n",
    "    #       structurePrior = 1.0, samplePrior = 1.0, maxDegree = 3, faithfulnessAssumed = True, verbose = True)\n",
    "\n",
    "\n",
    "    return tetrad.getTetradGraph()\n",
    "\n",
    "def get_MB(graph, var, pc):\n",
    "    parents = set()\n",
    "    for i in pc.extractTetradGraphEdges(graph):\n",
    "        if i[-1] == var and i[3:5] == '->':\n",
    "            parents.add(i[0])\n",
    "        if i[0] == var and i[3:5] == '->':\n",
    "            parents.add(i[-1])\n",
    "    return parents\n",
    "\n",
    "from pycausal.pycausal import pycausal as pc\n",
    "from collections import defaultdict\n",
    "pc = pc()\n",
    "pc.start_vm(java_max_heap_size = '5000M')\n",
    "tetrad = s.tetradrunner()\n",
    "\n",
    "df = gen_data()\n",
    "\n",
    "means = [1, 2, 3, 4, 5, 6, 7, 8, 9, 10]\n",
    "variances = [1, 2, 3, 4, 5, 6, 7, 8, 9, 10]\n",
    "def run_models(models, model_names, x, y, num_folds=5):\n",
    "    violations = np.zeros(len(models))\n",
    "    violation_mean = np.zeros((len(models), num_folds))\n",
    "    mean = np.zeros((len(models), num_folds))\n",
    "    mean2 = np.zeros((len(models), num_folds)) # used to store our secondary metric\n",
    "    \n",
    "    skf = StratifiedKFold(n_splits=num_folds)\n",
    "    fold = 0\n",
    "    \n",
    "    metrics_dicts = []\n",
    "    causal_dicts = []\n",
    "    for m in models:\n",
    "        metrics_dicts.append(defaultdict(list))\n",
    "        causal_dicts.append(defaultdict(list))\n",
    "    \n",
    "    for train_index, test_index in skf.split(x, y):\n",
    "        x_train, x_test = x[train_index], x[test_index]\n",
    "        y_train, y_test = y[train_index], y[test_index]\n",
    "        for idx, model in enumerate(models):\n",
    "            model.fit(x_train, y_train)\n",
    "            original_df = pd.DataFrame(x_test, columns = ['a', 'b', 'c', 'd', 'e', 'f'])\n",
    "\n",
    "            original_targets = pd.DataFrame(y_test, columns = ['g'])\n",
    "            original_df = original_df.join(original_targets)\n",
    "            test_df = pd.DataFrame(x_test, columns = ['a', 'b', 'c', 'd', 'e', 'f'])\n",
    "            test_targets = pd.DataFrame(model.predict(x_test), columns = ['g'])\n",
    "            test_df = test_df.join(test_targets)\n",
    "            #print(get_MB(get_CG(test_df), 'g'))\n",
    "            print(\"Error:\", model_names[idx], accuracy_score(y_test, model.predict(x_test)))\n",
    "            mean[idx][fold] = accuracy_score(y_test, model.predict(x_test))\n",
    "            mean2[idx][fold] = mean_squared_error(y_test, model.predict(x_test))\n",
    "            \n",
    "        \n",
    "            setA = get_MB(get_CG(original_df, tetrad), 'g', pc)\n",
    "            setB = get_MB(get_CG(test_df, tetrad), 'g', pc)\n",
    "            #assert(setA == {'f'})\n",
    "            violation_mean[idx][fold] = len(setA.difference(setB)) + len(setB.difference(setA))\n",
    "            if setA != setB:\n",
    "                print(\"Violation:\", setA , setB)\n",
    "                violations[idx] += 1\n",
    "            \n",
    "            \n",
    "            # ok at this point we need to check the model on various variances and means\n",
    "            for m in means:\n",
    "                for v in variances:\n",
    "                    perturbed_df = gen_data(mean =m, var = v, SIZE = 2000)\n",
    "                    y_test2 = perturbed_df['g']\n",
    "                    x_test2 = perturbed_df[['a', 'b', 'c', 'd', 'e', 'f']]\n",
    "                    y_pred2 = model.predict(x_test2)\n",
    "                    metrics_dicts[idx][str(m) + '_' + str(v)].append(accuracy_score(y_test2, y_pred2))\n",
    "                    \n",
    "                    \n",
    "                    test_df2 = pd.DataFrame(x_test2, columns = ['a', 'b', 'c', 'd', 'e', 'f'])\n",
    "                    test_targets2 = pd.DataFrame(model.predict(x_test2), columns = ['g'])\n",
    "                    test_df2 = test_df2.join(test_targets2)\n",
    "                    setC = get_MB(get_CG(test_df2, tetrad), 'g', pc)\n",
    "                    if setA != setC:\n",
    "                        causal_dicts[idx][str(m) + '_' + str(v)].append(1)\n",
    "                    else:\n",
    "                        causal_dicts[idx][str(m) + '_' + str(v)].append(0)\n",
    "                    \n",
    "        fold += 1\n",
    "    \n",
    "    print(\"Violations = \", violations)\n",
    "    \n",
    "    metric = []\n",
    "    metric_err = []\n",
    "    viol = []\n",
    "    viol_err = []\n",
    "    \n",
    "    #normalize the violations for prettier graphing.\n",
    "    #also violations are always positive, so just divide by max.\n",
    "    violation_mean = violation_mean / np.max(violation_mean)\n",
    "    \n",
    "    for i in range(len(violations)):\n",
    "        print(\"Model_name = \", model_names[i], \"Violations = \", violations[i])\n",
    "        print(\"Average_violations = \", np.mean(violation_mean[i]), np.std(violation_mean[i]))\n",
    "        print(\"Accuracy = \", np.mean(mean[i]), np.std(mean[i]), \"MSE = \", np.mean(mean2[i]), np.std(mean2[i]),)\n",
    "        metric.append(np.mean(mean[i]))\n",
    "        metric_err.append(np.std(mean[i]))\n",
    "        viol.append(np.mean(violation_mean[i]))\n",
    "        \n",
    "        viol_err.append(np.std(violation_mean[i]))\n",
    "    print(np.array(metric), \n",
    "             np.array(metric_err), \n",
    "             np.array(viol), \n",
    "             np.array(viol_err))    \n",
    "    \n",
    "    bar_plot(model_names, \n",
    "             np.array(metric), \n",
    "             np.array(metric_err), \n",
    "             np.array(viol), \n",
    "             np.array(viol_err))\n",
    "    return metrics_dicts, causal_dicts\n",
    "\n",
    "X = df[['a', 'b', 'c', 'd', 'e', 'f']].values\n",
    "y = df['g'].values\n",
    "\n",
    "models = [LogisticRegression(), \n",
    "          Perceptron(),  \n",
    "          #DecisionTreeClassifier(),\n",
    "          #LinearSVC(),\n",
    "          GaussianNB(),\n",
    "          #LinearDiscriminantAnalysis(),\n",
    "          #RandomForestClassifier(),\n",
    "          #ExtraTreesClassifier(),\n",
    "          #AdaBoostClassifier(),\n",
    "          #BaggingClassifier(),\n",
    "          #GradientBoostingClassifier(),\n",
    "          #MLPClassifier()\n",
    "         ]\n",
    "model_names = ['LogisticRegression()', \n",
    "          'Perceptron()',  \n",
    "          #'DecisionTreeClassifier()',\n",
    "          #'LinearSVC()',\n",
    "          'GaussianNB()',\n",
    "          #'LinearDiscriminantAnalysis()',\n",
    "          #'RandomForestClassifier()',\n",
    "          #'ExtraTreesClassifier()', \n",
    "          #'AdaBoostClassifier()',\n",
    "          #'BaggingClassifier()',\n",
    "          #'GradientBoostingClassifier()',\n",
    "          #'MLPClassifier()'\n",
    "         ]\n",
    "\n",
    "metrics, violations = run_models(models,model_names, X,y)"
   ]
  },
  {
   "cell_type": "code",
   "execution_count": null,
   "metadata": {
    "scrolled": false
   },
   "outputs": [],
   "source": [
    "def heat_plot(x,y,z):\n",
    "    fig, ax = plt.subplots()\n",
    "    cax = ax.scatter(x, y, c=z, s=100, edgecolor='')\n",
    "    plt.colorbar(cax)\n",
    "    plt.show()\n",
    "\n",
    "for idx, m in enumerate(models):\n",
    "    print(model_names[idx])\n",
    "    x = []\n",
    "    y = []\n",
    "    z = []\n",
    "    for k, v in metrics[idx].items():\n",
    "        x.append(int(k.split('_')[0]))\n",
    "        y.append(int(k.split('_')[-1]))\n",
    "        z.append(np.mean(v))\n",
    "    heat_plot(x,y,z)\n",
    "        \n",
    "    x = []\n",
    "    y = []\n",
    "    z = []\n",
    "    for k, v in violations[idx].items():\n",
    "        x.append(int(k.split('_')[0]))\n",
    "        y.append(int(k.split('_')[-1]))\n",
    "        z.append(np.sum(v) / len(v))\n",
    "    heat_plot(x,y,z) "
   ]
  },
  {
   "cell_type": "code",
   "execution_count": null,
   "metadata": {},
   "outputs": [],
   "source": []
  }
 ],
 "metadata": {
  "kernelspec": {
   "display_name": "Python 3",
   "language": "python",
   "name": "python3"
  },
  "language_info": {
   "codemirror_mode": {
    "name": "ipython",
    "version": 3
   },
   "file_extension": ".py",
   "mimetype": "text/x-python",
   "name": "python",
   "nbconvert_exporter": "python",
   "pygments_lexer": "ipython3",
   "version": "3.6.5"
  }
 },
 "nbformat": 4,
 "nbformat_minor": 2
}
