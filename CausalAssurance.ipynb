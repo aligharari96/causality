{
 "cells": [
  {
   "cell_type": "markdown",
   "metadata": {},
   "source": [
    "## Notes \n",
    "### Required installing Oracle JAVA 8 to get javabridge installed\n",
    "### Then, I was able to install py-causal from https://bd2kccd.github.io/docs/py-causal/\n",
    "### GFCI is slower than RFCI, but more accurate (SPIRTES), GFCI and RFCI account for unobserved variables, FGES assumes no unobserved variables."
   ]
  },
  {
   "cell_type": "markdown",
   "metadata": {},
   "source": [
    "Structure Learning Performance Guarantees If the assumptions in the previous section hold, then in the large sample limit, the CBN structure output by GFCId will contain an edge of one of four kinds between Xand Y   if and only if Xand Yare not independent conditional on any subset of the other measured variables of less than or equal to a specified size. In addition, there is (1) an arc X->Y   if and only if Xdirectly or indirectly causes Y, and Y   does not directly or indirectly cause X; (2) an edge X <-->Y   if and only if X   is not a direct or indirect cause of Yand Y   is not a direct or indirect cause of X(which can only occur if there are latent confounders of Xand some other variable or Yand some other variable; (3) an edge Xo->Y   only if Yis not a direct or indirect cause of X, but Xmay or may not be an indirect cause of Y; (4) an edge X o–o Y   indicates that Xand Y   are dependent no matter what subset of observed variables is conditioned on, but contains no orientation information (X   may be a direct or indirect cause of Y, and Ymay be an indirect cause of X, or there may be a latent common cause of Xand Y."
   ]
  },
  {
   "cell_type": "code",
   "execution_count": null,
   "metadata": {},
   "outputs": [],
   "source": [
    "\n"
   ]
  },
  {
   "cell_type": "code",
   "execution_count": null,
   "metadata": {},
   "outputs": [],
   "source": [
    "# This is for continous data.\n",
    "# generate some toy data:\n",
    "SIZE = 20000\n",
    "a = np.random.normal(size=SIZE, scale = 1)\n",
    "b = np.random.normal(size=SIZE, scale = 1)\n",
    "c = np.random.normal(size=SIZE, scale = 1)\n",
    "d = np.random.normal(size=SIZE, scale = 1)\n",
    "e = np.random.normal(size=SIZE, scale = 1)\n",
    "\n",
    "f= a + b + c + d + e + np.random.normal(size=SIZE, scale = 1)\n",
    "g = f + np.random.normal(size=SIZE, scale = 1)\n",
    "\n",
    "# load the data into a dataframe:\n",
    "df = pd.DataFrame({'a' : a,'b' : b, 'c' : c, 'd' : d,'e' : e,'f':f, 'g':g})\n",
    "import pandas as pd\n",
    "from pycausal.pycausal import pycausal as pc\n",
    "from pycausal import search as s\n",
    "pc = pc()\n",
    "pc.start_vm(java_max_heap_size = '500M')\n",
    "from pycausal import prior as p\n",
    "\n",
    "tetrad = s.tetradrunner()\n",
    "#GFCI = Greedy Fast Causal Interference (GFCI) \n",
    "# bdeu = Bayesian Dirichlet likelihood equivalence and uniform\n",
    "tetrad.run(algoId = 'gfci', dfs = df, testId = 'sem-bic', scoreId = 'sem-bic', dataType = 'continuous',\n",
    "           structurePrior = 1.0, samplePrior = 1.0, maxDegree = -1, maxPathLength = -1, \n",
    "           completeRuleSetUsed = False, faithfulnessAssumed = True, verbose = True)\n",
    "\n",
    "import pydot\n",
    "from IPython.display import SVG\n",
    "dot_str = pc.tetradGraphToDot(tetrad.getTetradGraph())\n",
    "graphs = pydot.graph_from_dot_data(dot_str)\n",
    "svg_str = graphs[0].create_svg()\n",
    "SVG(svg_str)\n",
    "\n",
    "\n"
   ]
  },
  {
   "cell_type": "code",
   "execution_count": null,
   "metadata": {},
   "outputs": [],
   "source": [
    "# let's try and predict D HERE\n",
    "\n",
    "# This is for continous data.\n",
    "# generate some toy data:\n",
    "SIZE = 100000\n",
    "a = np.random.normal(size=SIZE, scale = 1)\n",
    "b = np.random.normal(size=SIZE, scale = 1)\n",
    "c = np.random.normal(size=SIZE, scale = 1)\n",
    "d = a + b + c + np.random.normal(size=SIZE, scale = 1)\n",
    "e = d + np.random.normal(size=SIZE, scale = 1)\n",
    "f= d + np.random.normal(size=SIZE, scale = 1)\n",
    "g = d + np.random.normal(size=SIZE, scale = 1)\n",
    "\n",
    "# load the data into a dataframe:\n",
    "df = pd.DataFrame({'a' : a,'b' : b, 'c' : c, 'd' : d,'e' : e,'f':f, 'g':g})\n",
    "import pandas as pd\n",
    "from pycausal.pycausal import pycausal as pc\n",
    "from pycausal import search as s\n",
    "pc = pc()\n",
    "pc.start_vm(java_max_heap_size = '2500M')\n",
    "from pycausal import prior as p\n",
    "\n",
    "tetrad = s.tetradrunner()\n",
    "#GFCI = Greedy Fast Causal Interference (GFCI) \n",
    "# bdeu = Bayesian Dirichlet likelihood equivalence and uniform\n",
    "tetrad.run(algoId = 'gfci', dfs = df, testId = 'sem-bic', scoreId = 'sem-bic', dataType = 'continuous',\n",
    "           structurePrior = 1.0, samplePrior = 1.0, maxDegree = -1, maxPathLength = -1, \n",
    "           completeRuleSetUsed = False, faithfulnessAssumed = True, verbose = True)\n",
    "\n",
    "import pydot\n",
    "from IPython.display import SVG\n",
    "dot_str = pc.tetradGraphToDot(tetrad.getTetradGraph())\n",
    "graphs = pydot.graph_from_dot_data(dot_str)\n",
    "svg_str = graphs[0].create_svg()\n",
    "SVG(svg_str)"
   ]
  },
  {
   "cell_type": "code",
   "execution_count": null,
   "metadata": {},
   "outputs": [],
   "source": [
    "pc = pc()\n",
    "pc.start_vm(java_max_heap_size = '500M')\n",
    "from pycausal import prior as p\n",
    "\n",
    "tetrad = s.tetradrunner()\n",
    "#GFCI = Greedy Fast Causal Interference (GFCI) \n",
    "# bdeu = Bayesian Dirichlet likelihood equivalence and uniform\n",
    "tetrad.run(algoId = 'gfci', dfs = df, testId = 'sem-bic', scoreId = 'sem-bic', dataType = 'continuous',\n",
    "           structurePrior = 1.0, samplePrior = 1.0, maxDegree = -1, maxPathLength = -1, \n",
    "           completeRuleSetUsed = False, faithfulnessAssumed = True, verbose = True)\n",
    "\n",
    "import pydot\n",
    "from IPython.display import SVG\n",
    "dot_str = pc.tetradGraphToDot(tetrad.getTetradGraph())\n",
    "graphs = pydot.graph_from_dot_data(dot_str)\n",
    "print(len(graphs))\n",
    "svg_str = graphs[0].create_svg()\n",
    "SVG(svg_str)"
   ]
  },
  {
   "cell_type": "markdown",
   "metadata": {},
   "source": [
    "# Trying some various ML models"
   ]
  },
  {
   "cell_type": "code",
   "execution_count": 18,
   "metadata": {},
   "outputs": [],
   "source": [
    "#Synthetic data\n",
    "import numpy as np\n",
    "import pandas as pd\n",
    "import random\n",
    "import matplotlib.pyplot as plt\n",
    "import pydot\n",
    "from IPython.display import SVG\n",
    "\n",
    "def gen_data():\n",
    "    SIZE = 10000\n",
    "    a = np.random.binomial(2, 0.5, size=SIZE)\n",
    "    b = np.random.binomial(2, 0.5, size=SIZE)\n",
    "    c = np.random.binomial(2, 0.5, size=SIZE)\n",
    "    d = np.random.binomial(2, 0.5, size=SIZE)\n",
    "    e = np.random.binomial(2, 0.5, size=SIZE)\n",
    "    f= a + b + c + d + e + np.random.binomial(2, 0.5, size=SIZE)\n",
    "    g = f + np.random.binomial(2, 0.5, size=SIZE)\n",
    "    return pd.DataFrame({'a' : a,'b' : b, 'c' : c, 'd' : d,'e' : e,'f':f, 'g':g})\n",
    "\n",
    "\n",
    "import scipy.stats as ss\n",
    "import numpy as np\n",
    "import matplotlib.pyplot as plt\n",
    "\n",
    "def discrete_gauss(low, high, samples, std = 20):\n",
    "    x = np.arange(low, high)\n",
    "    xU, xL = x + 0.5, x - 0.5 \n",
    "    prob = ss.norm.cdf(xU, scale = std) - ss.norm.cdf(xL, scale = std)\n",
    "    prob = prob / prob.sum() #normalize the probabilities so their sum is 1\n",
    "    nums = np.random.choice(x, size = samples, p = prob)\n",
    "    return nums\n",
    "\n",
    "def gen_data():\n",
    "    SIZE = 40000\n",
    "    a = discrete_gauss(-3,3, SIZE)\n",
    "    b = discrete_gauss(-3,3, SIZE)\n",
    "    c = discrete_gauss(-3,3, SIZE)\n",
    "    d = discrete_gauss(-3,3, SIZE)\n",
    "    e = discrete_gauss(-3,3, SIZE)\n",
    "    f= a + b + c + d + e + np.random.binomial(2, 0.5, size=SIZE)\n",
    "    g = f + discrete_gauss(-3,3, SIZE)\n",
    "\n",
    "    #g[g < 0] = 0\n",
    "    #g[g > 0] = 1\n",
    "    #g[(g <= 3) & (g >= -3)] = 1\n",
    "    #g[g < -3] = 0\n",
    "    #g[g > 3] = 2\n",
    "    return pd.DataFrame({'a' : a,'b' : b, 'c' : c, 'd' : d,'e' : e,'f':f, 'g':g})\n",
    "\n",
    "def gen_data():\n",
    "    #SIZE = 40000\n",
    "    SIZE = 40000\n",
    "    a = np.random.normal(0, 1, SIZE)\n",
    "    b = np.random.normal(0, 1, SIZE)\n",
    "    c = np.random.normal(0, 1, SIZE)\n",
    "    d = np.random.normal(0, 1, SIZE)\n",
    "    e = np.random.normal(0, 1, SIZE)\n",
    "    f= a + b + c + d + e + np.random.normal(0, 1, SIZE)\n",
    "    g = f + np.random.normal(0, 1, SIZE)\n",
    "    g = np.rint(g)\n",
    "    #m = np.mean(g)\n",
    "    #g[g < m] = 0\n",
    "    #g[g >= m] = 1\n",
    "\n",
    "    return pd.DataFrame({'a' : a,'b' : b, 'c' : c, 'd' : d,'e' : e,'f':f, 'g':g})\n",
    "\n",
    "df = gen_data()\n",
    "\n",
    "\n",
    "\n",
    "import numpy as np\n",
    "import matplotlib.pyplot as plt\n",
    "def bar_plot(x_ax, val1, val1std, val2, val2std):\n",
    "    fig = plt.figure()\n",
    "    ax = fig.add_subplot(111)\n",
    "\n",
    "    ## the data\n",
    "    N = len(x_ax)\n",
    "\n",
    "    ## necessary variables\n",
    "    ind = np.arange(N)                # the x locations for the groups\n",
    "    width = 0.35                      # the width of the bars\n",
    "    fig.set_size_inches(18.5, 10.5)\n",
    "    ## the bars\n",
    "    rects1 = ax.bar(ind, val1, width,\n",
    "                    color='gray',\n",
    "                    yerr=val1std,\n",
    "                    error_kw=dict(elinewidth=2,ecolor='blue'))\n",
    "\n",
    "    rects2 = ax.bar(ind+width, val2, width,\n",
    "                        color='blue',\n",
    "                        #yerr=val2std,\n",
    "                        error_kw=dict(elinewidth=2,ecolor='gray'))\n",
    "\n",
    "    # axes and labels\n",
    "    ax.set_xlim(-width,len(ind)+width)\n",
    "    #ax.set_ylim(0,45)\n",
    "    ax.set_ylabel('Percentage')\n",
    "    ax.set_title('')\n",
    "    plt.xticks(ind + width / 2, x_ax, rotation=75, size = 14)\n",
    "    ## add a legend\n",
    "    ax.legend( (rects1[0], rects2[0]), ('Accuracy', '% Violations') )\n",
    "    fig.savefig(\"violations.pdf\", bbox_inches='tight')\n",
    "    plt.show()\n"
   ]
  },
  {
   "cell_type": "code",
   "execution_count": 19,
   "metadata": {
    "scrolled": true
   },
   "outputs": [
    {
     "name": "stderr",
     "output_type": "stream",
     "text": [
      "/home/tkyono/anaconda3/lib/python3.6/site-packages/sklearn/model_selection/_split.py:605: Warning: The least populated class in y has only 1 members, which is too few. The minimum number of members in any class cannot be less than n_splits=40.\n",
      "  % (min_groups, self.n_splits)), Warning)\n"
     ]
    },
    {
     "name": "stdout",
     "output_type": "stream",
     "text": [
      "Error: LogisticRegression() 0.26279527559055116\n"
     ]
    },
    {
     "name": "stderr",
     "output_type": "stream",
     "text": [
      "/home/tkyono/anaconda3/lib/python3.6/site-packages/sklearn/linear_model/stochastic_gradient.py:128: FutureWarning: max_iter and tol parameters have been added in <class 'sklearn.linear_model.perceptron.Perceptron'> in 0.19. If both are left unset, they default to max_iter=5 and tol=None. If tol is not None, max_iter defaults to max_iter=1000. From 0.21, default max_iter will be 1000, and default tol will be 1e-3.\n",
      "  \"and default tol will be 1e-3.\" % type(self), FutureWarning)\n"
     ]
    },
    {
     "name": "stdout",
     "output_type": "stream",
     "text": [
      "Error: Perceptron() 0.20078740157480315\n",
      "Violation: {'f'} {'c', 'f'} g <pycausal.pycausal.pycausal object at 0x7f4dc40e89b0>\n",
      "Error: DecisionTreeClassifier() 0.27263779527559057\n",
      "Error: LinearSVC() 0.30708661417322836\n",
      "Error: GaussianNB() 0.35826771653543305\n",
      "Violation: {'f'} {'a', 'd', 'f', 'c', 'e', 'b'} g <pycausal.pycausal.pycausal object at 0x7f4dc40e89b0>\n",
      "Error: BernoulliNB() 0.25393700787401574\n"
     ]
    },
    {
     "name": "stderr",
     "output_type": "stream",
     "text": [
      "/home/tkyono/anaconda3/lib/python3.6/site-packages/sklearn/discriminant_analysis.py:442: UserWarning: The priors do not sum to 1. Renormalizing\n",
      "  UserWarning)\n"
     ]
    },
    {
     "name": "stdout",
     "output_type": "stream",
     "text": [
      "Error: LinearDiscriminantAnalysis() 0.37696850393700787\n",
      "Error: RandomForestClassifier() 0.31200787401574803\n",
      "Error: ExtraTreesClassifier() 0.296259842519685\n",
      "Error: AdaBoostClassifier() 0.2637795275590551\n",
      "Error: BaggingClassifier() 0.296259842519685\n",
      "Error: GradientBoostingClassifier() 0.3661417322834646\n",
      "Error: MLPClassifier() 0.3641732283464567\n",
      "Error: LogisticRegression() 0.26528599605522685\n"
     ]
    },
    {
     "name": "stderr",
     "output_type": "stream",
     "text": [
      "/home/tkyono/anaconda3/lib/python3.6/site-packages/sklearn/linear_model/stochastic_gradient.py:128: FutureWarning: max_iter and tol parameters have been added in <class 'sklearn.linear_model.perceptron.Perceptron'> in 0.19. If both are left unset, they default to max_iter=5 and tol=None. If tol is not None, max_iter defaults to max_iter=1000. From 0.21, default max_iter will be 1000, and default tol will be 1e-3.\n",
      "  \"and default tol will be 1e-3.\" % type(self), FutureWarning)\n"
     ]
    },
    {
     "name": "stdout",
     "output_type": "stream",
     "text": [
      "Error: Perceptron() 0.17258382642998027\n",
      "Violation: {'f'} {'d', 'f'} g <pycausal.pycausal.pycausal object at 0x7f4dc40e89b0>\n",
      "Error: DecisionTreeClassifier() 0.2534516765285996\n",
      "Error: LinearSVC() 0.3145956607495069\n",
      "Error: GaussianNB() 0.3668639053254438\n",
      "Violation: {'f'} {'a', 'd', 'f', 'c', 'e', 'b'} g <pycausal.pycausal.pycausal object at 0x7f4dc40e89b0>\n",
      "Error: BernoulliNB() 0.2593688362919132\n"
     ]
    },
    {
     "name": "stderr",
     "output_type": "stream",
     "text": [
      "/home/tkyono/anaconda3/lib/python3.6/site-packages/sklearn/discriminant_analysis.py:442: UserWarning: The priors do not sum to 1. Renormalizing\n",
      "  UserWarning)\n"
     ]
    },
    {
     "name": "stdout",
     "output_type": "stream",
     "text": [
      "Error: LinearDiscriminantAnalysis() 0.36489151873767256\n",
      "Violation: {'f'} {'e', 'f'} g <pycausal.pycausal.pycausal object at 0x7f4dc40e89b0>\n",
      "Error: RandomForestClassifier() 0.3136094674556213\n",
      "Error: ExtraTreesClassifier() 0.28303747534516766\n",
      "Error: AdaBoostClassifier() 0.22090729783037474\n",
      "Error: BaggingClassifier() 0.2958579881656805\n",
      "Error: GradientBoostingClassifier() 0.35700197238658776\n",
      "Error: MLPClassifier() 0.35009861932938857\n",
      "Error: LogisticRegression() 0.2744323790720632\n"
     ]
    },
    {
     "name": "stderr",
     "output_type": "stream",
     "text": [
      "/home/tkyono/anaconda3/lib/python3.6/site-packages/sklearn/linear_model/stochastic_gradient.py:128: FutureWarning: max_iter and tol parameters have been added in <class 'sklearn.linear_model.perceptron.Perceptron'> in 0.19. If both are left unset, they default to max_iter=5 and tol=None. If tol is not None, max_iter defaults to max_iter=1000. From 0.21, default max_iter will be 1000, and default tol will be 1e-3.\n",
      "  \"and default tol will be 1e-3.\" % type(self), FutureWarning)\n"
     ]
    },
    {
     "name": "stdout",
     "output_type": "stream",
     "text": [
      "Error: Perceptron() 0.23000987166831194\n",
      "Error: DecisionTreeClassifier() 0.2744323790720632\n",
      "Error: LinearSVC() 0.3139190523198421\n",
      "Error: GaussianNB() 0.3455083909180652\n",
      "Violation: {'f'} {'a', 'd', 'f', 'c', 'e', 'b'} g <pycausal.pycausal.pycausal object at 0x7f4dc40e89b0>\n",
      "Error: BernoulliNB() 0.228035538005923\n",
      "Error: LinearDiscriminantAnalysis() 0.351431391905232\n",
      "Error: RandomForestClassifier() 0.3139190523198421\n",
      "Error: ExtraTreesClassifier() 0.29318854886475815\n",
      "Error: AdaBoostClassifier() 0.24679170779861798\n",
      "Error: BaggingClassifier() 0.31786771964461996\n",
      "Error: GradientBoostingClassifier() 0.35735439289239884\n",
      "Violation: {'f'} {'a', 'd', 'f', 'c', 'e', 'b'} g <pycausal.pycausal.pycausal object at 0x7f4dc40e89b0>\n",
      "Error: MLPClassifier() 0.33859822309970383\n",
      "Error: LogisticRegression() 0.2816205533596838\n"
     ]
    },
    {
     "name": "stderr",
     "output_type": "stream",
     "text": [
      "/home/tkyono/anaconda3/lib/python3.6/site-packages/sklearn/linear_model/stochastic_gradient.py:128: FutureWarning: max_iter and tol parameters have been added in <class 'sklearn.linear_model.perceptron.Perceptron'> in 0.19. If both are left unset, they default to max_iter=5 and tol=None. If tol is not None, max_iter defaults to max_iter=1000. From 0.21, default max_iter will be 1000, and default tol will be 1e-3.\n",
      "  \"and default tol will be 1e-3.\" % type(self), FutureWarning)\n"
     ]
    },
    {
     "name": "stdout",
     "output_type": "stream",
     "text": [
      "Error: Perceptron() 0.2628458498023715\n",
      "Violation: {'f'} {'d', 'f', 'b'} g <pycausal.pycausal.pycausal object at 0x7f4dc40e89b0>\n",
      "Error: DecisionTreeClassifier() 0.25889328063241107\n",
      "Error: LinearSVC() 0.3092885375494071\n",
      "Error: GaussianNB() 0.39920948616600793\n",
      "Violation: {'f'} {'a', 'd', 'f', 'c', 'e', 'b'} g <pycausal.pycausal.pycausal object at 0x7f4dc40e89b0>\n",
      "Error: BernoulliNB() 0.2509881422924901\n",
      "Error: LinearDiscriminantAnalysis() 0.4031620553359684\n",
      "Error: RandomForestClassifier() 0.30138339920948615\n",
      "Error: ExtraTreesClassifier() 0.31521739130434784\n",
      "Error: AdaBoostClassifier() 0.23122529644268774\n",
      "Error: BaggingClassifier() 0.3181818181818182\n",
      "Error: GradientBoostingClassifier() 0.3705533596837945\n",
      "Error: MLPClassifier() 0.39920948616600793\n",
      "Error: LogisticRegression() 0.25742574257425743\n"
     ]
    },
    {
     "name": "stderr",
     "output_type": "stream",
     "text": [
      "/home/tkyono/anaconda3/lib/python3.6/site-packages/sklearn/linear_model/stochastic_gradient.py:128: FutureWarning: max_iter and tol parameters have been added in <class 'sklearn.linear_model.perceptron.Perceptron'> in 0.19. If both are left unset, they default to max_iter=5 and tol=None. If tol is not None, max_iter defaults to max_iter=1000. From 0.21, default max_iter will be 1000, and default tol will be 1e-3.\n",
      "  \"and default tol will be 1e-3.\" % type(self), FutureWarning)\n"
     ]
    },
    {
     "name": "stdout",
     "output_type": "stream",
     "text": [
      "Error: Perceptron() 0.20693069306930692\n",
      "Error: DecisionTreeClassifier() 0.2316831683168317\n",
      "Error: LinearSVC() 0.29504950495049503\n",
      "Error: GaussianNB() 0.32772277227722774\n",
      "Violation: {'f'} {'a', 'd', 'f', 'c', 'e', 'b'} g <pycausal.pycausal.pycausal object at 0x7f4dc40e89b0>\n",
      "Error: BernoulliNB() 0.2396039603960396\n",
      "Error: LinearDiscriminantAnalysis() 0.3415841584158416\n"
     ]
    },
    {
     "name": "stderr",
     "output_type": "stream",
     "text": [
      "/home/tkyono/anaconda3/lib/python3.6/site-packages/sklearn/discriminant_analysis.py:442: UserWarning: The priors do not sum to 1. Renormalizing\n",
      "  UserWarning)\n"
     ]
    },
    {
     "name": "stdout",
     "output_type": "stream",
     "text": [
      "Error: RandomForestClassifier() 0.3287128712871287\n",
      "Error: ExtraTreesClassifier() 0.28217821782178215\n",
      "Error: AdaBoostClassifier() 0.25742574257425743\n",
      "Error: BaggingClassifier() 0.3188118811881188\n",
      "Violation: {'f'} {'d', 'f'} g <pycausal.pycausal.pycausal object at 0x7f4dc40e89b0>\n",
      "Error: GradientBoostingClassifier() 0.32574257425742575\n",
      "Error: MLPClassifier() 0.32772277227722774\n",
      "Error: LogisticRegression() 0.2633663366336634\n"
     ]
    },
    {
     "name": "stderr",
     "output_type": "stream",
     "text": [
      "/home/tkyono/anaconda3/lib/python3.6/site-packages/sklearn/linear_model/stochastic_gradient.py:128: FutureWarning: max_iter and tol parameters have been added in <class 'sklearn.linear_model.perceptron.Perceptron'> in 0.19. If both are left unset, they default to max_iter=5 and tol=None. If tol is not None, max_iter defaults to max_iter=1000. From 0.21, default max_iter will be 1000, and default tol will be 1e-3.\n",
      "  \"and default tol will be 1e-3.\" % type(self), FutureWarning)\n"
     ]
    },
    {
     "name": "stdout",
     "output_type": "stream",
     "text": [
      "Error: Perceptron() 0.2\n",
      "Error: DecisionTreeClassifier() 0.27524752475247527\n",
      "Error: LinearSVC() 0.299009900990099\n",
      "Error: GaussianNB() 0.38514851485148516\n",
      "Violation: {'f'} {'a', 'd', 'f', 'c', 'e', 'b'} g <pycausal.pycausal.pycausal object at 0x7f4dc40e89b0>\n",
      "Error: BernoulliNB() 0.24356435643564356\n"
     ]
    },
    {
     "name": "stderr",
     "output_type": "stream",
     "text": [
      "/home/tkyono/anaconda3/lib/python3.6/site-packages/sklearn/discriminant_analysis.py:442: UserWarning: The priors do not sum to 1. Renormalizing\n",
      "  UserWarning)\n"
     ]
    },
    {
     "name": "stdout",
     "output_type": "stream",
     "text": [
      "Error: LinearDiscriminantAnalysis() 0.3891089108910891\n",
      "Violation: {'f'} {'a', 'd', 'f', 'c', 'e', 'b'} g <pycausal.pycausal.pycausal object at 0x7f4dc40e89b0>\n",
      "Error: RandomForestClassifier() 0.32475247524752476\n",
      "Error: ExtraTreesClassifier() 0.31386138613861386\n",
      "Error: AdaBoostClassifier() 0.25544554455445545\n",
      "Error: BaggingClassifier() 0.3089108910891089\n",
      "Error: GradientBoostingClassifier() 0.3693069306930693\n",
      "Error: MLPClassifier() 0.3702970297029703\n",
      "Violation: {'f'} {'a', 'd', 'f', 'c', 'e', 'b'} g <pycausal.pycausal.pycausal object at 0x7f4dc40e89b0>\n",
      "Error: LogisticRegression() 0.2732673267326733\n",
      "Violation: {'f'} {'d', 'f'} g <pycausal.pycausal.pycausal object at 0x7f4dc40e89b0>\n"
     ]
    },
    {
     "name": "stderr",
     "output_type": "stream",
     "text": [
      "/home/tkyono/anaconda3/lib/python3.6/site-packages/sklearn/linear_model/stochastic_gradient.py:128: FutureWarning: max_iter and tol parameters have been added in <class 'sklearn.linear_model.perceptron.Perceptron'> in 0.19. If both are left unset, they default to max_iter=5 and tol=None. If tol is not None, max_iter defaults to max_iter=1000. From 0.21, default max_iter will be 1000, and default tol will be 1e-3.\n",
      "  \"and default tol will be 1e-3.\" % type(self), FutureWarning)\n"
     ]
    },
    {
     "name": "stdout",
     "output_type": "stream",
     "text": [
      "Error: Perceptron() 0.201980198019802\n",
      "Error: DecisionTreeClassifier() 0.24752475247524752\n",
      "Error: LinearSVC() 0.296039603960396\n",
      "Error: GaussianNB() 0.3712871287128713\n",
      "Violation: {'f'} {'a', 'd', 'f', 'c', 'e', 'b'} g <pycausal.pycausal.pycausal object at 0x7f4dc40e89b0>\n",
      "Error: BernoulliNB() 0.24455445544554455\n",
      "Error: LinearDiscriminantAnalysis() 0.3693069306930693\n"
     ]
    },
    {
     "name": "stderr",
     "output_type": "stream",
     "text": [
      "/home/tkyono/anaconda3/lib/python3.6/site-packages/sklearn/discriminant_analysis.py:442: UserWarning: The priors do not sum to 1. Renormalizing\n",
      "  UserWarning)\n"
     ]
    },
    {
     "name": "stdout",
     "output_type": "stream",
     "text": [
      "Error: RandomForestClassifier() 0.299009900990099\n",
      "Error: ExtraTreesClassifier() 0.30396039603960395\n",
      "Error: AdaBoostClassifier() 0.25643564356435644\n",
      "Error: BaggingClassifier() 0.30198019801980197\n",
      "Error: GradientBoostingClassifier() 0.3613861386138614\n",
      "Error: MLPClassifier() 0.37524752475247525\n",
      "Error: LogisticRegression() 0.2933597621407334\n"
     ]
    },
    {
     "name": "stderr",
     "output_type": "stream",
     "text": [
      "/home/tkyono/anaconda3/lib/python3.6/site-packages/sklearn/linear_model/stochastic_gradient.py:128: FutureWarning: max_iter and tol parameters have been added in <class 'sklearn.linear_model.perceptron.Perceptron'> in 0.19. If both are left unset, they default to max_iter=5 and tol=None. If tol is not None, max_iter defaults to max_iter=1000. From 0.21, default max_iter will be 1000, and default tol will be 1e-3.\n",
      "  \"and default tol will be 1e-3.\" % type(self), FutureWarning)\n"
     ]
    },
    {
     "name": "stdout",
     "output_type": "stream",
     "text": [
      "Error: Perceptron() 0.12388503468780972\n",
      "Violation: {'f'} set() g <pycausal.pycausal.pycausal object at 0x7f4dc40e89b0>\n",
      "Error: DecisionTreeClassifier() 0.27849355797819625\n",
      "Error: LinearSVC() 0.3072348860257681\n",
      "Error: GaussianNB() 0.3676907829534192\n",
      "Violation: {'f'} {'a', 'd', 'f', 'c', 'e', 'b'} g <pycausal.pycausal.pycausal object at 0x7f4dc40e89b0>\n",
      "Error: BernoulliNB() 0.2616451932606541\n"
     ]
    },
    {
     "name": "stderr",
     "output_type": "stream",
     "text": [
      "/home/tkyono/anaconda3/lib/python3.6/site-packages/sklearn/discriminant_analysis.py:442: UserWarning: The priors do not sum to 1. Renormalizing\n",
      "  UserWarning)\n"
     ]
    },
    {
     "name": "stdout",
     "output_type": "stream",
     "text": [
      "Error: LinearDiscriminantAnalysis() 0.3815659068384539\n",
      "Violation: {'f'} {'a', 'd', 'f', 'c', 'e', 'b'} g <pycausal.pycausal.pycausal object at 0x7f4dc40e89b0>\n",
      "Error: RandomForestClassifier() 0.30426164519326065\n",
      "Error: ExtraTreesClassifier() 0.3260654112983152\n",
      "Error: AdaBoostClassifier() 0.2527254707631318\n",
      "Error: BaggingClassifier() 0.2993062438057483\n",
      "Error: GradientBoostingClassifier() 0.35777998017839446\n",
      "Violation: {'f'} {'a', 'd', 'f', 'c', 'e', 'b'} g <pycausal.pycausal.pycausal object at 0x7f4dc40e89b0>\n",
      "Error: MLPClassifier() 0.38354806739345887\n",
      "Error: LogisticRegression() 0.2837301587301587\n"
     ]
    },
    {
     "name": "stderr",
     "output_type": "stream",
     "text": [
      "/home/tkyono/anaconda3/lib/python3.6/site-packages/sklearn/linear_model/stochastic_gradient.py:128: FutureWarning: max_iter and tol parameters have been added in <class 'sklearn.linear_model.perceptron.Perceptron'> in 0.19. If both are left unset, they default to max_iter=5 and tol=None. If tol is not None, max_iter defaults to max_iter=1000. From 0.21, default max_iter will be 1000, and default tol will be 1e-3.\n",
      "  \"and default tol will be 1e-3.\" % type(self), FutureWarning)\n"
     ]
    },
    {
     "name": "stdout",
     "output_type": "stream",
     "text": [
      "Error: Perceptron() 0.11210317460317461\n",
      "Violation: {'f'} set() g <pycausal.pycausal.pycausal object at 0x7f4dc40e89b0>\n",
      "Error: DecisionTreeClassifier() 0.29464285714285715\n",
      "Error: LinearSVC() 0.3005952380952381\n",
      "Error: GaussianNB() 0.35119047619047616\n",
      "Violation: {'f'} {'a', 'd', 'f', 'c', 'e', 'b'} g <pycausal.pycausal.pycausal object at 0x7f4dc40e89b0>\n",
      "Error: BernoulliNB() 0.2777777777777778\n",
      "Error: LinearDiscriminantAnalysis() 0.34424603174603174\n",
      "Error: RandomForestClassifier() 0.30853174603174605\n",
      "Error: ExtraTreesClassifier() 0.29464285714285715\n",
      "Error: AdaBoostClassifier() 0.26587301587301587\n",
      "Error: BaggingClassifier() 0.30456349206349204\n",
      "Error: GradientBoostingClassifier() 0.35714285714285715\n",
      "Error: MLPClassifier() 0.35813492063492064\n",
      "Error: LogisticRegression() 0.2753479125248509\n"
     ]
    },
    {
     "name": "stderr",
     "output_type": "stream",
     "text": [
      "/home/tkyono/anaconda3/lib/python3.6/site-packages/sklearn/linear_model/stochastic_gradient.py:128: FutureWarning: max_iter and tol parameters have been added in <class 'sklearn.linear_model.perceptron.Perceptron'> in 0.19. If both are left unset, they default to max_iter=5 and tol=None. If tol is not None, max_iter defaults to max_iter=1000. From 0.21, default max_iter will be 1000, and default tol will be 1e-3.\n",
      "  \"and default tol will be 1e-3.\" % type(self), FutureWarning)\n"
     ]
    },
    {
     "name": "stdout",
     "output_type": "stream",
     "text": [
      "Error: Perceptron() 0.20377733598409542\n",
      "Violation: {'f'} {'a', 'f'} g <pycausal.pycausal.pycausal object at 0x7f4dc40e89b0>\n",
      "Error: DecisionTreeClassifier() 0.2634194831013916\n",
      "Error: LinearSVC() 0.30218687872763417\n",
      "Error: GaussianNB() 0.352882703777336\n",
      "Violation: {'f'} {'a', 'd', 'f', 'c', 'e', 'b'} g <pycausal.pycausal.pycausal object at 0x7f4dc40e89b0>\n",
      "Error: BernoulliNB() 0.24353876739562624\n",
      "Violation: {'f'} {'f', 'b'} g <pycausal.pycausal.pycausal object at 0x7f4dc40e89b0>\n",
      "Error: LinearDiscriminantAnalysis() 0.34691848906560635\n"
     ]
    },
    {
     "name": "stderr",
     "output_type": "stream",
     "text": [
      "/home/tkyono/anaconda3/lib/python3.6/site-packages/sklearn/discriminant_analysis.py:442: UserWarning: The priors do not sum to 1. Renormalizing\n",
      "  UserWarning)\n"
     ]
    },
    {
     "name": "stdout",
     "output_type": "stream",
     "text": [
      "Error: RandomForestClassifier() 0.3091451292246521\n",
      "Violation: {'f'} {'e', 'f'} g <pycausal.pycausal.pycausal object at 0x7f4dc40e89b0>\n",
      "Error: ExtraTreesClassifier() 0.30218687872763417\n",
      "Error: AdaBoostClassifier() 0.25944333996023855\n",
      "Error: BaggingClassifier() 0.31709741550695825\n",
      "Error: GradientBoostingClassifier() 0.3220675944333996\n",
      "Violation: {'f'} {'e', 'f'} g <pycausal.pycausal.pycausal object at 0x7f4dc40e89b0>\n",
      "Error: MLPClassifier() 0.3379721669980119\n",
      "Error: LogisticRegression() 0.2845771144278607\n"
     ]
    },
    {
     "name": "stderr",
     "output_type": "stream",
     "text": [
      "/home/tkyono/anaconda3/lib/python3.6/site-packages/sklearn/linear_model/stochastic_gradient.py:128: FutureWarning: max_iter and tol parameters have been added in <class 'sklearn.linear_model.perceptron.Perceptron'> in 0.19. If both are left unset, they default to max_iter=5 and tol=None. If tol is not None, max_iter defaults to max_iter=1000. From 0.21, default max_iter will be 1000, and default tol will be 1e-3.\n",
      "  \"and default tol will be 1e-3.\" % type(self), FutureWarning)\n"
     ]
    },
    {
     "name": "stdout",
     "output_type": "stream",
     "text": [
      "Error: Perceptron() 0.1691542288557214\n",
      "Error: DecisionTreeClassifier() 0.2676616915422886\n",
      "Error: LinearSVC() 0.3004975124378109\n",
      "Error: GaussianNB() 0.36218905472636814\n",
      "Violation: {'f'} {'a', 'd', 'f', 'c', 'e', 'b'} g <pycausal.pycausal.pycausal object at 0x7f4dc40e89b0>\n",
      "Error: BernoulliNB() 0.2417910447761194\n"
     ]
    },
    {
     "name": "stderr",
     "output_type": "stream",
     "text": [
      "/home/tkyono/anaconda3/lib/python3.6/site-packages/sklearn/discriminant_analysis.py:442: UserWarning: The priors do not sum to 1. Renormalizing\n",
      "  UserWarning)\n"
     ]
    },
    {
     "name": "stdout",
     "output_type": "stream",
     "text": [
      "Error: LinearDiscriminantAnalysis() 0.36218905472636814\n",
      "Error: RandomForestClassifier() 0.32139303482587067\n",
      "Error: ExtraTreesClassifier() 0.2766169154228856\n",
      "Error: AdaBoostClassifier() 0.25970149253731345\n",
      "Error: BaggingClassifier() 0.309452736318408\n",
      "Error: GradientBoostingClassifier() 0.3562189054726368\n",
      "Error: MLPClassifier() 0.3611940298507463\n",
      "Error: LogisticRegression() 0.2951146560319043\n"
     ]
    },
    {
     "name": "stderr",
     "output_type": "stream",
     "text": [
      "/home/tkyono/anaconda3/lib/python3.6/site-packages/sklearn/linear_model/stochastic_gradient.py:128: FutureWarning: max_iter and tol parameters have been added in <class 'sklearn.linear_model.perceptron.Perceptron'> in 0.19. If both are left unset, they default to max_iter=5 and tol=None. If tol is not None, max_iter defaults to max_iter=1000. From 0.21, default max_iter will be 1000, and default tol will be 1e-3.\n",
      "  \"and default tol will be 1e-3.\" % type(self), FutureWarning)\n"
     ]
    },
    {
     "name": "stdout",
     "output_type": "stream",
     "text": [
      "Error: Perceptron() 0.2033898305084746\n",
      "Error: DecisionTreeClassifier() 0.2642073778664008\n",
      "Error: LinearSVC() 0.317048853439681\n",
      "Error: GaussianNB() 0.34795613160518446\n",
      "Violation: {'f'} {'a', 'd', 'f', 'c', 'e', 'b'} g <pycausal.pycausal.pycausal object at 0x7f4dc40e89b0>\n",
      "Error: BernoulliNB() 0.2472582253240279\n",
      "Error: LinearDiscriminantAnalysis() 0.3629112662013958\n",
      "Error: RandomForestClassifier() 0.2951146560319043\n",
      "Violation: {'f'} set() g <pycausal.pycausal.pycausal object at 0x7f4dc40e89b0>\n",
      "Error: ExtraTreesClassifier() 0.2851445663010967\n",
      "Error: AdaBoostClassifier() 0.2741774675972084\n",
      "Error: BaggingClassifier() 0.29910269192422734\n",
      "Error: GradientBoostingClassifier() 0.34995014955134596\n",
      "Error: MLPClassifier() 0.3369890329012961\n",
      "Error: LogisticRegression() 0.28215353938185445\n"
     ]
    },
    {
     "name": "stderr",
     "output_type": "stream",
     "text": [
      "/home/tkyono/anaconda3/lib/python3.6/site-packages/sklearn/linear_model/stochastic_gradient.py:128: FutureWarning: max_iter and tol parameters have been added in <class 'sklearn.linear_model.perceptron.Perceptron'> in 0.19. If both are left unset, they default to max_iter=5 and tol=None. If tol is not None, max_iter defaults to max_iter=1000. From 0.21, default max_iter will be 1000, and default tol will be 1e-3.\n",
      "  \"and default tol will be 1e-3.\" % type(self), FutureWarning)\n"
     ]
    },
    {
     "name": "stdout",
     "output_type": "stream",
     "text": [
      "Error: Perceptron() 0.17846460618145563\n",
      "Error: DecisionTreeClassifier() 0.26819541375872386\n",
      "Error: LinearSVC() 0.29112662013958124\n",
      "Error: GaussianNB() 0.357926221335992\n",
      "Violation: {'f'} {'a', 'd', 'f', 'c', 'e', 'b'} g <pycausal.pycausal.pycausal object at 0x7f4dc40e89b0>\n",
      "Error: BernoulliNB() 0.2432701894317049\n",
      "Error: LinearDiscriminantAnalysis() 0.35194416749750745\n",
      "Error: RandomForestClassifier() 0.30109670987038883\n",
      "Error: ExtraTreesClassifier() 0.3230309072781655\n",
      "Error: AdaBoostClassifier() 0.2522432701894317\n",
      "Error: BaggingClassifier() 0.2741774675972084\n",
      "Error: GradientBoostingClassifier() 0.33300099700897307\n",
      "Error: MLPClassifier() 0.34995014955134596\n",
      "Error: LogisticRegression() 0.28614157527417744\n"
     ]
    },
    {
     "name": "stderr",
     "output_type": "stream",
     "text": [
      "/home/tkyono/anaconda3/lib/python3.6/site-packages/sklearn/linear_model/stochastic_gradient.py:128: FutureWarning: max_iter and tol parameters have been added in <class 'sklearn.linear_model.perceptron.Perceptron'> in 0.19. If both are left unset, they default to max_iter=5 and tol=None. If tol is not None, max_iter defaults to max_iter=1000. From 0.21, default max_iter will be 1000, and default tol will be 1e-3.\n",
      "  \"and default tol will be 1e-3.\" % type(self), FutureWarning)\n"
     ]
    },
    {
     "name": "stdout",
     "output_type": "stream",
     "text": [
      "Error: Perceptron() 0.22033898305084745\n",
      "Error: DecisionTreeClassifier() 0.24027916251246262\n",
      "Error: LinearSVC() 0.29910269192422734\n",
      "Error: GaussianNB() 0.35992023928215355\n",
      "Violation: {'f'} {'a', 'd', 'f', 'c', 'e', 'b'} g <pycausal.pycausal.pycausal object at 0x7f4dc40e89b0>\n",
      "Error: BernoulliNB() 0.2432701894317049\n",
      "Error: LinearDiscriminantAnalysis() 0.353938185443669\n",
      "Violation: {'f'} {'a', 'd', 'f', 'c', 'e'} g <pycausal.pycausal.pycausal object at 0x7f4dc40e89b0>\n",
      "Error: RandomForestClassifier() 0.30309072781655033\n",
      "Error: ExtraTreesClassifier() 0.2901296111665005\n",
      "Error: AdaBoostClassifier() 0.27218344965104685\n",
      "Error: BaggingClassifier() 0.3040877367896311\n",
      "Error: GradientBoostingClassifier() 0.3629112662013958\n",
      "Violation: {'f'} {'a', 'd', 'f', 'c', 'e'} g <pycausal.pycausal.pycausal object at 0x7f4dc40e89b0>\n",
      "Error: MLPClassifier() 0.36390827517447655\n",
      "Error: LogisticRegression() 0.26447105788423153\n"
     ]
    },
    {
     "name": "stderr",
     "output_type": "stream",
     "text": [
      "/home/tkyono/anaconda3/lib/python3.6/site-packages/sklearn/linear_model/stochastic_gradient.py:128: FutureWarning: max_iter and tol parameters have been added in <class 'sklearn.linear_model.perceptron.Perceptron'> in 0.19. If both are left unset, they default to max_iter=5 and tol=None. If tol is not None, max_iter defaults to max_iter=1000. From 0.21, default max_iter will be 1000, and default tol will be 1e-3.\n",
      "  \"and default tol will be 1e-3.\" % type(self), FutureWarning)\n"
     ]
    },
    {
     "name": "stdout",
     "output_type": "stream",
     "text": [
      "Error: Perceptron() 0.14570858283433133\n",
      "Violation: {'f'} {'d', 'f'} g <pycausal.pycausal.pycausal object at 0x7f4dc40e89b0>\n",
      "Error: DecisionTreeClassifier() 0.27245508982035926\n",
      "Error: LinearSVC() 0.2884231536926148\n",
      "Error: GaussianNB() 0.36926147704590817\n",
      "Violation: {'f'} {'a', 'd', 'f', 'c', 'e', 'b'} g <pycausal.pycausal.pycausal object at 0x7f4dc40e89b0>\n",
      "Error: BernoulliNB() 0.23652694610778444\n"
     ]
    },
    {
     "name": "stderr",
     "output_type": "stream",
     "text": [
      "/home/tkyono/anaconda3/lib/python3.6/site-packages/sklearn/discriminant_analysis.py:442: UserWarning: The priors do not sum to 1. Renormalizing\n",
      "  UserWarning)\n"
     ]
    },
    {
     "name": "stdout",
     "output_type": "stream",
     "text": [
      "Error: LinearDiscriminantAnalysis() 0.3772455089820359\n",
      "Error: RandomForestClassifier() 0.3283433133732535\n",
      "Error: ExtraTreesClassifier() 0.29241516966067865\n",
      "Error: AdaBoostClassifier() 0.25149700598802394\n",
      "Error: BaggingClassifier() 0.33632734530938124\n",
      "Error: GradientBoostingClassifier() 0.35728542914171657\n",
      "Error: MLPClassifier() 0.36826347305389223\n",
      "Error: LogisticRegression() 0.256\n"
     ]
    },
    {
     "name": "stderr",
     "output_type": "stream",
     "text": [
      "/home/tkyono/anaconda3/lib/python3.6/site-packages/sklearn/linear_model/stochastic_gradient.py:128: FutureWarning: max_iter and tol parameters have been added in <class 'sklearn.linear_model.perceptron.Perceptron'> in 0.19. If both are left unset, they default to max_iter=5 and tol=None. If tol is not None, max_iter defaults to max_iter=1000. From 0.21, default max_iter will be 1000, and default tol will be 1e-3.\n",
      "  \"and default tol will be 1e-3.\" % type(self), FutureWarning)\n"
     ]
    },
    {
     "name": "stdout",
     "output_type": "stream",
     "text": [
      "Error: Perceptron() 0.186\n",
      "Violation: {'f'} {'c', 'f'} g <pycausal.pycausal.pycausal object at 0x7f4dc40e89b0>\n",
      "Error: DecisionTreeClassifier() 0.241\n",
      "Error: LinearSVC() 0.286\n",
      "Error: GaussianNB() 0.353\n",
      "Violation: {'f'} {'a', 'd', 'f', 'c', 'e', 'b'} g <pycausal.pycausal.pycausal object at 0x7f4dc40e89b0>\n",
      "Error: BernoulliNB() 0.232\n",
      "Error: LinearDiscriminantAnalysis() 0.364\n"
     ]
    },
    {
     "name": "stderr",
     "output_type": "stream",
     "text": [
      "/home/tkyono/anaconda3/lib/python3.6/site-packages/sklearn/discriminant_analysis.py:442: UserWarning: The priors do not sum to 1. Renormalizing\n",
      "  UserWarning)\n"
     ]
    },
    {
     "name": "stdout",
     "output_type": "stream",
     "text": [
      "Violation: {'f'} {'e', 'f'} g <pycausal.pycausal.pycausal object at 0x7f4dc40e89b0>\n",
      "Error: RandomForestClassifier() 0.304\n",
      "Error: ExtraTreesClassifier() 0.285\n",
      "Error: AdaBoostClassifier() 0.262\n",
      "Error: BaggingClassifier() 0.296\n",
      "Error: GradientBoostingClassifier() 0.346\n",
      "Error: MLPClassifier() 0.346\n",
      "Violation: {'f'} {'e', 'f'} g <pycausal.pycausal.pycausal object at 0x7f4dc40e89b0>\n",
      "Error: LogisticRegression() 0.283\n"
     ]
    },
    {
     "name": "stderr",
     "output_type": "stream",
     "text": [
      "/home/tkyono/anaconda3/lib/python3.6/site-packages/sklearn/linear_model/stochastic_gradient.py:128: FutureWarning: max_iter and tol parameters have been added in <class 'sklearn.linear_model.perceptron.Perceptron'> in 0.19. If both are left unset, they default to max_iter=5 and tol=None. If tol is not None, max_iter defaults to max_iter=1000. From 0.21, default max_iter will be 1000, and default tol will be 1e-3.\n",
      "  \"and default tol will be 1e-3.\" % type(self), FutureWarning)\n"
     ]
    },
    {
     "name": "stdout",
     "output_type": "stream",
     "text": [
      "Error: Perceptron() 0.205\n",
      "Violation: {'f'} {'e', 'f'} g <pycausal.pycausal.pycausal object at 0x7f4dc40e89b0>\n",
      "Error: DecisionTreeClassifier() 0.267\n",
      "Error: LinearSVC() 0.295\n",
      "Error: GaussianNB() 0.36\n",
      "Violation: {'f'} {'a', 'd', 'f', 'c', 'e', 'b'} g <pycausal.pycausal.pycausal object at 0x7f4dc40e89b0>\n",
      "Error: BernoulliNB() 0.224\n"
     ]
    },
    {
     "name": "stderr",
     "output_type": "stream",
     "text": [
      "/home/tkyono/anaconda3/lib/python3.6/site-packages/sklearn/discriminant_analysis.py:442: UserWarning: The priors do not sum to 1. Renormalizing\n",
      "  UserWarning)\n"
     ]
    },
    {
     "name": "stdout",
     "output_type": "stream",
     "text": [
      "Error: LinearDiscriminantAnalysis() 0.372\n",
      "Violation: {'f'} {'e', 'f'} g <pycausal.pycausal.pycausal object at 0x7f4dc40e89b0>\n",
      "Error: RandomForestClassifier() 0.3\n",
      "Error: ExtraTreesClassifier() 0.287\n",
      "Error: AdaBoostClassifier() 0.259\n",
      "Error: BaggingClassifier() 0.29\n",
      "Error: GradientBoostingClassifier() 0.36\n",
      "Error: MLPClassifier() 0.356\n",
      "Violation: {'f'} {'e', 'f'} g <pycausal.pycausal.pycausal object at 0x7f4dc40e89b0>\n",
      "Error: LogisticRegression() 0.2665330661322645\n"
     ]
    },
    {
     "name": "stderr",
     "output_type": "stream",
     "text": [
      "/home/tkyono/anaconda3/lib/python3.6/site-packages/sklearn/linear_model/stochastic_gradient.py:128: FutureWarning: max_iter and tol parameters have been added in <class 'sklearn.linear_model.perceptron.Perceptron'> in 0.19. If both are left unset, they default to max_iter=5 and tol=None. If tol is not None, max_iter defaults to max_iter=1000. From 0.21, default max_iter will be 1000, and default tol will be 1e-3.\n",
      "  \"and default tol will be 1e-3.\" % type(self), FutureWarning)\n"
     ]
    },
    {
     "name": "stdout",
     "output_type": "stream",
     "text": [
      "Error: Perceptron() 0.16432865731462926\n",
      "Violation: {'f'} set() g <pycausal.pycausal.pycausal object at 0x7f4dc40e89b0>\n",
      "Error: DecisionTreeClassifier() 0.2955911823647295\n",
      "Error: LinearSVC() 0.312625250501002\n",
      "Error: GaussianNB() 0.39879759519038077\n",
      "Violation: {'f'} {'a', 'd', 'f', 'c', 'e', 'b'} g <pycausal.pycausal.pycausal object at 0x7f4dc40e89b0>\n",
      "Error: BernoulliNB() 0.2575150300601202\n",
      "Error: LinearDiscriminantAnalysis() 0.3897795591182365\n",
      "Error: RandomForestClassifier() 0.2935871743486974\n",
      "Error: ExtraTreesClassifier() 0.31162324649298595\n",
      "Error: AdaBoostClassifier() 0.26452905811623245\n",
      "Error: BaggingClassifier() 0.3016032064128257\n",
      "Error: GradientBoostingClassifier() 0.3687374749498998\n",
      "Violation: {'f'} {'e', 'f'} g <pycausal.pycausal.pycausal object at 0x7f4dc40e89b0>\n",
      "Error: MLPClassifier() 0.3787575150300601\n",
      "Violation: {'f'} {'e', 'f'} g <pycausal.pycausal.pycausal object at 0x7f4dc40e89b0>\n",
      "Error: LogisticRegression() 0.25851703406813625\n"
     ]
    },
    {
     "name": "stderr",
     "output_type": "stream",
     "text": [
      "/home/tkyono/anaconda3/lib/python3.6/site-packages/sklearn/linear_model/stochastic_gradient.py:128: FutureWarning: max_iter and tol parameters have been added in <class 'sklearn.linear_model.perceptron.Perceptron'> in 0.19. If both are left unset, they default to max_iter=5 and tol=None. If tol is not None, max_iter defaults to max_iter=1000. From 0.21, default max_iter will be 1000, and default tol will be 1e-3.\n",
      "  \"and default tol will be 1e-3.\" % type(self), FutureWarning)\n"
     ]
    },
    {
     "name": "stdout",
     "output_type": "stream",
     "text": [
      "Error: Perceptron() 0.1432865731462926\n",
      "Violation: {'f'} set() g <pycausal.pycausal.pycausal object at 0x7f4dc40e89b0>\n",
      "Error: DecisionTreeClassifier() 0.26452905811623245\n",
      "Error: LinearSVC() 0.2755511022044088\n",
      "Error: GaussianNB() 0.3306613226452906\n",
      "Violation: {'f'} {'a', 'd', 'f', 'c', 'e', 'b'} g <pycausal.pycausal.pycausal object at 0x7f4dc40e89b0>\n",
      "Error: BernoulliNB() 0.24949899799599198\n",
      "Error: LinearDiscriminantAnalysis() 0.3336673346693387\n",
      "Error: RandomForestClassifier() 0.2905811623246493\n",
      "Error: ExtraTreesClassifier() 0.29458917835671344\n",
      "Error: AdaBoostClassifier() 0.2575150300601202\n",
      "Error: BaggingClassifier() 0.2835671342685371\n",
      "Error: GradientBoostingClassifier() 0.32965931863727455\n",
      "Error: MLPClassifier() 0.32665330661322645\n",
      "Error: LogisticRegression() 0.27354709418837675\n"
     ]
    },
    {
     "name": "stderr",
     "output_type": "stream",
     "text": [
      "/home/tkyono/anaconda3/lib/python3.6/site-packages/sklearn/linear_model/stochastic_gradient.py:128: FutureWarning: max_iter and tol parameters have been added in <class 'sklearn.linear_model.perceptron.Perceptron'> in 0.19. If both are left unset, they default to max_iter=5 and tol=None. If tol is not None, max_iter defaults to max_iter=1000. From 0.21, default max_iter will be 1000, and default tol will be 1e-3.\n",
      "  \"and default tol will be 1e-3.\" % type(self), FutureWarning)\n"
     ]
    },
    {
     "name": "stdout",
     "output_type": "stream",
     "text": [
      "Error: Perceptron() 0.13827655310621242\n",
      "Violation: {'f'} set() g <pycausal.pycausal.pycausal object at 0x7f4dc40e89b0>\n",
      "Error: DecisionTreeClassifier() 0.2565130260521042\n",
      "Error: LinearSVC() 0.29158316633266534\n",
      "Error: GaussianNB() 0.3376753507014028\n",
      "Violation: {'f'} {'a', 'd', 'f', 'c', 'e', 'b'} g <pycausal.pycausal.pycausal object at 0x7f4dc40e89b0>\n",
      "Error: BernoulliNB() 0.24348697394789579\n",
      "Error: LinearDiscriminantAnalysis() 0.32965931863727455\n",
      "Error: RandomForestClassifier() 0.28557114228456915\n",
      "Error: ExtraTreesClassifier() 0.2965931863727455\n",
      "Error: AdaBoostClassifier() 0.2605210420841683\n",
      "Error: BaggingClassifier() 0.3066132264529058\n",
      "Error: GradientBoostingClassifier() 0.3316633266533066\n",
      "Error: MLPClassifier() 0.3276553106212425\n",
      "Error: LogisticRegression() 0.2728184553660983\n",
      "Violation: {'f'} {'e', 'f'} g <pycausal.pycausal.pycausal object at 0x7f4dc40e89b0>\n",
      "Error: Perceptron() 0.20160481444332998\n"
     ]
    },
    {
     "name": "stderr",
     "output_type": "stream",
     "text": [
      "/home/tkyono/anaconda3/lib/python3.6/site-packages/sklearn/linear_model/stochastic_gradient.py:128: FutureWarning: max_iter and tol parameters have been added in <class 'sklearn.linear_model.perceptron.Perceptron'> in 0.19. If both are left unset, they default to max_iter=5 and tol=None. If tol is not None, max_iter defaults to max_iter=1000. From 0.21, default max_iter will be 1000, and default tol will be 1e-3.\n",
      "  \"and default tol will be 1e-3.\" % type(self), FutureWarning)\n"
     ]
    },
    {
     "name": "stdout",
     "output_type": "stream",
     "text": [
      "Violation: {'f'} {'c', 'e', 'f'} g <pycausal.pycausal.pycausal object at 0x7f4dc40e89b0>\n",
      "Error: DecisionTreeClassifier() 0.283851554663992\n",
      "Error: LinearSVC() 0.29889669007021064\n",
      "Error: GaussianNB() 0.35807422266800404\n",
      "Violation: {'f'} {'a', 'd', 'f', 'c', 'e', 'b'} g <pycausal.pycausal.pycausal object at 0x7f4dc40e89b0>\n",
      "Error: BernoulliNB() 0.24674022066198595\n"
     ]
    },
    {
     "name": "stderr",
     "output_type": "stream",
     "text": [
      "/home/tkyono/anaconda3/lib/python3.6/site-packages/sklearn/discriminant_analysis.py:442: UserWarning: The priors do not sum to 1. Renormalizing\n",
      "  UserWarning)\n"
     ]
    },
    {
     "name": "stdout",
     "output_type": "stream",
     "text": [
      "Error: LinearDiscriminantAnalysis() 0.37011033099297896\n",
      "Violation: {'f'} {'e', 'f'} g <pycausal.pycausal.pycausal object at 0x7f4dc40e89b0>\n",
      "Error: RandomForestClassifier() 0.30892678034102306\n",
      "Error: ExtraTreesClassifier() 0.2888665997993982\n",
      "Error: AdaBoostClassifier() 0.25576730190571717\n",
      "Error: BaggingClassifier() 0.32698094282848544\n",
      "Error: GradientBoostingClassifier() 0.36108324974924777\n",
      "Error: MLPClassifier() 0.35907723169508526\n",
      "Violation: {'f'} {'e', 'f'} g <pycausal.pycausal.pycausal object at 0x7f4dc40e89b0>\n",
      "Error: LogisticRegression() 0.275827482447342\n"
     ]
    },
    {
     "name": "stderr",
     "output_type": "stream",
     "text": [
      "/home/tkyono/anaconda3/lib/python3.6/site-packages/sklearn/linear_model/stochastic_gradient.py:128: FutureWarning: max_iter and tol parameters have been added in <class 'sklearn.linear_model.perceptron.Perceptron'> in 0.19. If both are left unset, they default to max_iter=5 and tol=None. If tol is not None, max_iter defaults to max_iter=1000. From 0.21, default max_iter will be 1000, and default tol will be 1e-3.\n",
      "  \"and default tol will be 1e-3.\" % type(self), FutureWarning)\n"
     ]
    },
    {
     "name": "stdout",
     "output_type": "stream",
     "text": [
      "Error: Perceptron() 0.18956870611835505\n",
      "Error: DecisionTreeClassifier() 0.2768304914744233\n",
      "Error: LinearSVC() 0.3049147442326981\n",
      "Error: GaussianNB() 0.37011033099297896\n",
      "Violation: {'f'} {'a', 'd', 'f', 'c', 'e', 'b'} g <pycausal.pycausal.pycausal object at 0x7f4dc40e89b0>\n",
      "Error: BernoulliNB() 0.242728184553661\n"
     ]
    },
    {
     "name": "stderr",
     "output_type": "stream",
     "text": [
      "/home/tkyono/anaconda3/lib/python3.6/site-packages/sklearn/discriminant_analysis.py:442: UserWarning: The priors do not sum to 1. Renormalizing\n",
      "  UserWarning)\n"
     ]
    },
    {
     "name": "stdout",
     "output_type": "stream",
     "text": [
      "Error: LinearDiscriminantAnalysis() 0.3791374122367101\n",
      "Error: RandomForestClassifier() 0.32196589769307926\n",
      "Error: ExtraTreesClassifier() 0.31795386158475425\n",
      "Error: AdaBoostClassifier() 0.2547642928786359\n",
      "Error: BaggingClassifier() 0.31795386158475425\n",
      "Violation: {'f'} set() g <pycausal.pycausal.pycausal object at 0x7f4dc40e89b0>\n",
      "Error: GradientBoostingClassifier() 0.3721163490471414\n",
      "Error: MLPClassifier() 0.39117352056168503\n",
      "Violation: {'f'} {'d', 'f'} g <pycausal.pycausal.pycausal object at 0x7f4dc40e89b0>\n",
      "Error: LogisticRegression() 0.2688064192577733\n"
     ]
    },
    {
     "name": "stderr",
     "output_type": "stream",
     "text": [
      "/home/tkyono/anaconda3/lib/python3.6/site-packages/sklearn/linear_model/stochastic_gradient.py:128: FutureWarning: max_iter and tol parameters have been added in <class 'sklearn.linear_model.perceptron.Perceptron'> in 0.19. If both are left unset, they default to max_iter=5 and tol=None. If tol is not None, max_iter defaults to max_iter=1000. From 0.21, default max_iter will be 1000, and default tol will be 1e-3.\n",
      "  \"and default tol will be 1e-3.\" % type(self), FutureWarning)\n"
     ]
    },
    {
     "name": "stdout",
     "output_type": "stream",
     "text": [
      "Error: Perceptron() 0.20361083249749248\n",
      "Violation: {'f'} {'e', 'f'} g <pycausal.pycausal.pycausal object at 0x7f4dc40e89b0>\n",
      "Error: DecisionTreeClassifier() 0.25576730190571717\n",
      "Error: LinearSVC() 0.2958876629889669\n",
      "Error: GaussianNB() 0.3530591775325978\n",
      "Violation: {'f'} {'a', 'd', 'f', 'c', 'e', 'b'} g <pycausal.pycausal.pycausal object at 0x7f4dc40e89b0>\n",
      "Error: BernoulliNB() 0.24373119358074222\n"
     ]
    },
    {
     "name": "stderr",
     "output_type": "stream",
     "text": [
      "/home/tkyono/anaconda3/lib/python3.6/site-packages/sklearn/discriminant_analysis.py:442: UserWarning: The priors do not sum to 1. Renormalizing\n",
      "  UserWarning)\n"
     ]
    },
    {
     "name": "stdout",
     "output_type": "stream",
     "text": [
      "Error: LinearDiscriminantAnalysis() 0.3630892678034102\n",
      "Violation: {'f'} {'d', 'f', 'c', 'e', 'b'} g <pycausal.pycausal.pycausal object at 0x7f4dc40e89b0>\n",
      "Error: RandomForestClassifier() 0.3029087261785356\n",
      "Error: ExtraTreesClassifier() 0.30792377131394183\n",
      "Error: AdaBoostClassifier() 0.24974924774322968\n",
      "Error: BaggingClassifier() 0.3159478435305918\n",
      "Error: GradientBoostingClassifier() 0.35606820461384153\n",
      "Error: MLPClassifier() 0.36810431293881646\n",
      "Violation: {'f'} {'e', 'f'} g <pycausal.pycausal.pycausal object at 0x7f4dc40e89b0>\n",
      "Error: LogisticRegression() 0.2577733199598796\n"
     ]
    },
    {
     "name": "stderr",
     "output_type": "stream",
     "text": [
      "/home/tkyono/anaconda3/lib/python3.6/site-packages/sklearn/linear_model/stochastic_gradient.py:128: FutureWarning: max_iter and tol parameters have been added in <class 'sklearn.linear_model.perceptron.Perceptron'> in 0.19. If both are left unset, they default to max_iter=5 and tol=None. If tol is not None, max_iter defaults to max_iter=1000. From 0.21, default max_iter will be 1000, and default tol will be 1e-3.\n",
      "  \"and default tol will be 1e-3.\" % type(self), FutureWarning)\n"
     ]
    },
    {
     "name": "stdout",
     "output_type": "stream",
     "text": [
      "Error: Perceptron() 0.23570712136409228\n",
      "Violation: {'f'} {'e', 'f'} g <pycausal.pycausal.pycausal object at 0x7f4dc40e89b0>\n",
      "Error: DecisionTreeClassifier() 0.26178535606820463\n",
      "Error: LinearSVC() 0.2888665997993982\n",
      "Error: GaussianNB() 0.3901705115346038\n",
      "Violation: {'f'} {'a', 'd', 'f', 'c', 'e', 'b'} g <pycausal.pycausal.pycausal object at 0x7f4dc40e89b0>\n",
      "Error: BernoulliNB() 0.25175526579739216\n"
     ]
    },
    {
     "name": "stderr",
     "output_type": "stream",
     "text": [
      "/home/tkyono/anaconda3/lib/python3.6/site-packages/sklearn/discriminant_analysis.py:442: UserWarning: The priors do not sum to 1. Renormalizing\n",
      "  UserWarning)\n"
     ]
    },
    {
     "name": "stdout",
     "output_type": "stream",
     "text": [
      "Error: LinearDiscriminantAnalysis() 0.37612838515546637\n",
      "Error: RandomForestClassifier() 0.316950852557673\n",
      "Error: ExtraTreesClassifier() 0.3069207622868606\n",
      "Error: AdaBoostClassifier() 0.23771313941825475\n",
      "Error: BaggingClassifier() 0.3029087261785356\n",
      "Error: GradientBoostingClassifier() 0.36609829488465395\n",
      "Error: MLPClassifier() 0.35707121364092276\n",
      "Error: LogisticRegression() 0.28112449799196787\n"
     ]
    },
    {
     "name": "stderr",
     "output_type": "stream",
     "text": [
      "/home/tkyono/anaconda3/lib/python3.6/site-packages/sklearn/linear_model/stochastic_gradient.py:128: FutureWarning: max_iter and tol parameters have been added in <class 'sklearn.linear_model.perceptron.Perceptron'> in 0.19. If both are left unset, they default to max_iter=5 and tol=None. If tol is not None, max_iter defaults to max_iter=1000. From 0.21, default max_iter will be 1000, and default tol will be 1e-3.\n",
      "  \"and default tol will be 1e-3.\" % type(self), FutureWarning)\n"
     ]
    },
    {
     "name": "stdout",
     "output_type": "stream",
     "text": [
      "Error: Perceptron() 0.10140562248995984\n",
      "Violation: {'f'} set() g <pycausal.pycausal.pycausal object at 0x7f4dc40e89b0>\n",
      "Error: DecisionTreeClassifier() 0.2781124497991968\n",
      "Error: LinearSVC() 0.3142570281124498\n",
      "Error: GaussianNB() 0.37349397590361444\n",
      "Violation: {'f'} {'a', 'd', 'f', 'c', 'e', 'b'} g <pycausal.pycausal.pycausal object at 0x7f4dc40e89b0>\n",
      "Error: BernoulliNB() 0.25\n"
     ]
    },
    {
     "name": "stderr",
     "output_type": "stream",
     "text": [
      "/home/tkyono/anaconda3/lib/python3.6/site-packages/sklearn/discriminant_analysis.py:442: UserWarning: The priors do not sum to 1. Renormalizing\n",
      "  UserWarning)\n"
     ]
    },
    {
     "name": "stdout",
     "output_type": "stream",
     "text": [
      "Error: LinearDiscriminantAnalysis() 0.36947791164658633\n",
      "Violation: {'f'} set() g <pycausal.pycausal.pycausal object at 0x7f4dc40e89b0>\n",
      "Error: RandomForestClassifier() 0.32831325301204817\n",
      "Error: ExtraTreesClassifier() 0.29116465863453816\n",
      "Error: AdaBoostClassifier() 0.26305220883534136\n",
      "Error: BaggingClassifier() 0.3132530120481928\n",
      "Error: GradientBoostingClassifier() 0.357429718875502\n",
      "Error: MLPClassifier() 0.37650602409638556\n",
      "Error: LogisticRegression() 0.2542713567839196\n"
     ]
    },
    {
     "name": "stderr",
     "output_type": "stream",
     "text": [
      "/home/tkyono/anaconda3/lib/python3.6/site-packages/sklearn/linear_model/stochastic_gradient.py:128: FutureWarning: max_iter and tol parameters have been added in <class 'sklearn.linear_model.perceptron.Perceptron'> in 0.19. If both are left unset, they default to max_iter=5 and tol=None. If tol is not None, max_iter defaults to max_iter=1000. From 0.21, default max_iter will be 1000, and default tol will be 1e-3.\n",
      "  \"and default tol will be 1e-3.\" % type(self), FutureWarning)\n"
     ]
    },
    {
     "name": "stdout",
     "output_type": "stream",
     "text": [
      "Error: Perceptron() 0.19396984924623115\n",
      "Error: DecisionTreeClassifier() 0.27537688442211056\n",
      "Error: LinearSVC() 0.2804020100502513\n",
      "Error: GaussianNB() 0.3698492462311558\n",
      "Violation: {'f'} {'a', 'd', 'f', 'c', 'e', 'b'} g <pycausal.pycausal.pycausal object at 0x7f4dc40e89b0>\n",
      "Error: BernoulliNB() 0.25125628140703515\n",
      "Error: LinearDiscriminantAnalysis() 0.3829145728643216\n",
      "Violation: {'f'} {'a', 'd', 'f', 'c', 'e', 'b'} g <pycausal.pycausal.pycausal object at 0x7f4dc40e89b0>\n",
      "Error: RandomForestClassifier() 0.31256281407035175\n",
      "Error: ExtraTreesClassifier() 0.2974874371859296\n",
      "Error: AdaBoostClassifier() 0.25125628140703515\n",
      "Error: BaggingClassifier() 0.3085427135678392\n",
      "Error: GradientBoostingClassifier() 0.36180904522613067\n",
      "Violation: {'f'} {'a', 'd', 'f', 'c', 'e', 'b'} g <pycausal.pycausal.pycausal object at 0x7f4dc40e89b0>\n",
      "Error: MLPClassifier() 0.36180904522613067\n",
      "Violation: {'f'} {'a', 'd', 'f', 'c', 'e', 'b'} g <pycausal.pycausal.pycausal object at 0x7f4dc40e89b0>\n",
      "Error: LogisticRegression() 0.2665995975855131\n"
     ]
    },
    {
     "name": "stderr",
     "output_type": "stream",
     "text": [
      "/home/tkyono/anaconda3/lib/python3.6/site-packages/sklearn/linear_model/stochastic_gradient.py:128: FutureWarning: max_iter and tol parameters have been added in <class 'sklearn.linear_model.perceptron.Perceptron'> in 0.19. If both are left unset, they default to max_iter=5 and tol=None. If tol is not None, max_iter defaults to max_iter=1000. From 0.21, default max_iter will be 1000, and default tol will be 1e-3.\n",
      "  \"and default tol will be 1e-3.\" % type(self), FutureWarning)\n"
     ]
    },
    {
     "name": "stdout",
     "output_type": "stream",
     "text": [
      "Error: Perceptron() 0.176056338028169\n",
      "Violation: {'f'} {'e', 'f', 'b'} g <pycausal.pycausal.pycausal object at 0x7f4dc40e89b0>\n",
      "Error: DecisionTreeClassifier() 0.24949698189134809\n",
      "Error: LinearSVC() 0.2947686116700201\n",
      "Error: GaussianNB() 0.3762575452716298\n",
      "Violation: {'f'} {'a', 'd', 'f', 'c', 'e', 'b'} g <pycausal.pycausal.pycausal object at 0x7f4dc40e89b0>\n",
      "Error: BernoulliNB() 0.25653923541247486\n"
     ]
    },
    {
     "name": "stderr",
     "output_type": "stream",
     "text": [
      "/home/tkyono/anaconda3/lib/python3.6/site-packages/sklearn/discriminant_analysis.py:442: UserWarning: The priors do not sum to 1. Renormalizing\n",
      "  UserWarning)\n"
     ]
    },
    {
     "name": "stdout",
     "output_type": "stream",
     "text": [
      "Error: LinearDiscriminantAnalysis() 0.3682092555331992\n",
      "Error: RandomForestClassifier() 0.2887323943661972\n",
      "Error: ExtraTreesClassifier() 0.3028169014084507\n",
      "Error: AdaBoostClassifier() 0.26961770623742454\n",
      "Error: BaggingClassifier() 0.32293762575452717\n",
      "Error: GradientBoostingClassifier() 0.36619718309859156\n",
      "Error: MLPClassifier() 0.3762575452716298\n",
      "Error: LogisticRegression() 0.27794561933534745\n"
     ]
    },
    {
     "name": "stderr",
     "output_type": "stream",
     "text": [
      "/home/tkyono/anaconda3/lib/python3.6/site-packages/sklearn/linear_model/stochastic_gradient.py:128: FutureWarning: max_iter and tol parameters have been added in <class 'sklearn.linear_model.perceptron.Perceptron'> in 0.19. If both are left unset, they default to max_iter=5 and tol=None. If tol is not None, max_iter defaults to max_iter=1000. From 0.21, default max_iter will be 1000, and default tol will be 1e-3.\n",
      "  \"and default tol will be 1e-3.\" % type(self), FutureWarning)\n"
     ]
    },
    {
     "name": "stdout",
     "output_type": "stream",
     "text": [
      "Error: Perceptron() 0.18328298086606243\n",
      "Violation: {'f'} {'e'} g <pycausal.pycausal.pycausal object at 0x7f4dc40e89b0>\n",
      "Error: DecisionTreeClassifier() 0.26686807653575023\n",
      "Error: LinearSVC() 0.30614300100704933\n",
      "Error: GaussianNB() 0.3333333333333333\n",
      "Violation: {'f'} {'a', 'd', 'f', 'c', 'e', 'b'} g <pycausal.pycausal.pycausal object at 0x7f4dc40e89b0>\n",
      "Error: BernoulliNB() 0.2406847935548842\n",
      "Error: LinearDiscriminantAnalysis() 0.3403826787512588\n",
      "Violation: {'f'} {'e', 'f'} g <pycausal.pycausal.pycausal object at 0x7f4dc40e89b0>\n",
      "Error: RandomForestClassifier() 0.31319234642497484\n",
      "Error: ExtraTreesClassifier() 0.283987915407855\n",
      "Error: AdaBoostClassifier() 0.2618328298086606\n",
      "Error: BaggingClassifier() 0.3011077542799597\n",
      "Error: GradientBoostingClassifier() 0.33131923464249746\n",
      "Error: MLPClassifier() 0.3544813695871098\n",
      "Violation: {'f'} {'e', 'f'} g <pycausal.pycausal.pycausal object at 0x7f4dc40e89b0>\n",
      "Error: LogisticRegression() 0.2759315206445116\n"
     ]
    },
    {
     "name": "stderr",
     "output_type": "stream",
     "text": [
      "/home/tkyono/anaconda3/lib/python3.6/site-packages/sklearn/linear_model/stochastic_gradient.py:128: FutureWarning: max_iter and tol parameters have been added in <class 'sklearn.linear_model.perceptron.Perceptron'> in 0.19. If both are left unset, they default to max_iter=5 and tol=None. If tol is not None, max_iter defaults to max_iter=1000. From 0.21, default max_iter will be 1000, and default tol will be 1e-3.\n",
      "  \"and default tol will be 1e-3.\" % type(self), FutureWarning)\n"
     ]
    },
    {
     "name": "stdout",
     "output_type": "stream",
     "text": [
      "Error: Perceptron() 0.17220543806646527\n",
      "Error: DecisionTreeClassifier() 0.24370594159113795\n",
      "Error: LinearSVC() 0.2930513595166163\n",
      "Error: GaussianNB() 0.37865055387714\n",
      "Violation: {'f'} {'a', 'd', 'f', 'c', 'e', 'b'} g <pycausal.pycausal.pycausal object at 0x7f4dc40e89b0>\n",
      "Error: BernoulliNB() 0.2578046324269889\n",
      "Error: LinearDiscriminantAnalysis() 0.3867069486404834\n",
      "Violation: {'f'} {'a', 'f'} g <pycausal.pycausal.pycausal object at 0x7f4dc40e89b0>\n",
      "Error: RandomForestClassifier() 0.28298086606243705\n",
      "Error: ExtraTreesClassifier() 0.29506545820745217\n",
      "Error: AdaBoostClassifier() 0.25579053373615307\n",
      "Error: BaggingClassifier() 0.3021148036253776\n",
      "Error: GradientBoostingClassifier() 0.34441087613293053\n",
      "Error: MLPClassifier() 0.36153071500503525\n",
      "Error: LogisticRegression() 0.26686807653575023\n"
     ]
    },
    {
     "name": "stderr",
     "output_type": "stream",
     "text": [
      "/home/tkyono/anaconda3/lib/python3.6/site-packages/sklearn/linear_model/stochastic_gradient.py:128: FutureWarning: max_iter and tol parameters have been added in <class 'sklearn.linear_model.perceptron.Perceptron'> in 0.19. If both are left unset, they default to max_iter=5 and tol=None. If tol is not None, max_iter defaults to max_iter=1000. From 0.21, default max_iter will be 1000, and default tol will be 1e-3.\n",
      "  \"and default tol will be 1e-3.\" % type(self), FutureWarning)\n"
     ]
    },
    {
     "name": "stdout",
     "output_type": "stream",
     "text": [
      "Error: Perceptron() 0.1772406847935549\n",
      "Error: DecisionTreeClassifier() 0.2688821752265861\n",
      "Violation: set() {'f'} g <pycausal.pycausal.pycausal object at 0x7f4dc40e89b0>\n",
      "Error: LinearSVC() 0.297079556898288\n",
      "Violation: set() {'f'} g <pycausal.pycausal.pycausal object at 0x7f4dc40e89b0>\n",
      "Error: GaussianNB() 0.36656596173212486\n",
      "Violation: set() {'a', 'd', 'f', 'c', 'e', 'b'} g <pycausal.pycausal.pycausal object at 0x7f4dc40e89b0>\n",
      "Error: BernoulliNB() 0.25579053373615307\n",
      "Violation: set() {'f'} g <pycausal.pycausal.pycausal object at 0x7f4dc40e89b0>\n",
      "Error: LinearDiscriminantAnalysis() 0.3675730110775428\n",
      "Violation: set() {'a', 'd', 'f', 'b'} g <pycausal.pycausal.pycausal object at 0x7f4dc40e89b0>\n",
      "Error: RandomForestClassifier() 0.32326283987915405\n",
      "Violation: set() {'f'} g <pycausal.pycausal.pycausal object at 0x7f4dc40e89b0>\n",
      "Error: ExtraTreesClassifier() 0.33434038267875127\n",
      "Violation: set() {'f'} g <pycausal.pycausal.pycausal object at 0x7f4dc40e89b0>\n",
      "Error: AdaBoostClassifier() 0.256797583081571\n",
      "Violation: set() {'f'} g <pycausal.pycausal.pycausal object at 0x7f4dc40e89b0>\n",
      "Error: BaggingClassifier() 0.30614300100704933\n",
      "Violation: set() {'f'} g <pycausal.pycausal.pycausal object at 0x7f4dc40e89b0>\n",
      "Error: GradientBoostingClassifier() 0.35246727089627394\n",
      "Error: MLPClassifier() 0.3595166163141994\n",
      "Violation: set() {'e', 'f'} g <pycausal.pycausal.pycausal object at 0x7f4dc40e89b0>\n",
      "Error: LogisticRegression() 0.28298086606243705\n"
     ]
    },
    {
     "name": "stderr",
     "output_type": "stream",
     "text": [
      "/home/tkyono/anaconda3/lib/python3.6/site-packages/sklearn/linear_model/stochastic_gradient.py:128: FutureWarning: max_iter and tol parameters have been added in <class 'sklearn.linear_model.perceptron.Perceptron'> in 0.19. If both are left unset, they default to max_iter=5 and tol=None. If tol is not None, max_iter defaults to max_iter=1000. From 0.21, default max_iter will be 1000, and default tol will be 1e-3.\n",
      "  \"and default tol will be 1e-3.\" % type(self), FutureWarning)\n"
     ]
    },
    {
     "name": "stdout",
     "output_type": "stream",
     "text": [
      "Error: Perceptron() 0.1581067472306143\n",
      "Violation: {'f'} set() g <pycausal.pycausal.pycausal object at 0x7f4dc40e89b0>\n",
      "Error: DecisionTreeClassifier() 0.26686807653575023\n",
      "Error: LinearSVC() 0.30513595166163143\n",
      "Error: GaussianNB() 0.35347432024169184\n",
      "Violation: {'f'} {'a', 'd', 'f', 'c', 'e', 'b'} g <pycausal.pycausal.pycausal object at 0x7f4dc40e89b0>\n",
      "Error: BernoulliNB() 0.24874118831822759\n",
      "Error: LinearDiscriminantAnalysis() 0.351460221550856\n",
      "Error: RandomForestClassifier() 0.31319234642497484\n",
      "Error: ExtraTreesClassifier() 0.3121852970795569\n",
      "Error: AdaBoostClassifier() 0.2628398791540785\n",
      "Error: BaggingClassifier() 0.3001007049345418\n",
      "Error: GradientBoostingClassifier() 0.33434038267875127\n",
      "Error: MLPClassifier() 0.3595166163141994\n",
      "Error: LogisticRegression() 0.256797583081571\n"
     ]
    },
    {
     "name": "stderr",
     "output_type": "stream",
     "text": [
      "/home/tkyono/anaconda3/lib/python3.6/site-packages/sklearn/linear_model/stochastic_gradient.py:128: FutureWarning: max_iter and tol parameters have been added in <class 'sklearn.linear_model.perceptron.Perceptron'> in 0.19. If both are left unset, they default to max_iter=5 and tol=None. If tol is not None, max_iter defaults to max_iter=1000. From 0.21, default max_iter will be 1000, and default tol will be 1e-3.\n",
      "  \"and default tol will be 1e-3.\" % type(self), FutureWarning)\n"
     ]
    },
    {
     "name": "stdout",
     "output_type": "stream",
     "text": [
      "Error: Perceptron() 0.1973816717019134\n",
      "Error: DecisionTreeClassifier() 0.23967774420946628\n",
      "Error: LinearSVC() 0.29003021148036257\n",
      "Error: GaussianNB() 0.34843907351460224\n",
      "Violation: {'f'} {'a', 'd', 'f', 'c', 'e', 'b'} g <pycausal.pycausal.pycausal object at 0x7f4dc40e89b0>\n",
      "Error: BernoulliNB() 0.2537764350453172\n",
      "Error: LinearDiscriminantAnalysis() 0.35750251762336355\n",
      "Error: RandomForestClassifier() 0.311178247734139\n",
      "Error: ExtraTreesClassifier() 0.31017119838872104\n",
      "Error: AdaBoostClassifier() 0.2457200402819738\n",
      "Error: BaggingClassifier() 0.31722054380664655\n",
      "Error: GradientBoostingClassifier() 0.3393756294058409\n",
      "Violation: {'f'} {'d', 'f', 'c', 'e', 'b'} g <pycausal.pycausal.pycausal object at 0x7f4dc40e89b0>\n",
      "Error: MLPClassifier() 0.3544813695871098\n",
      "Error: LogisticRegression() 0.26586102719033233\n"
     ]
    },
    {
     "name": "stderr",
     "output_type": "stream",
     "text": [
      "/home/tkyono/anaconda3/lib/python3.6/site-packages/sklearn/linear_model/stochastic_gradient.py:128: FutureWarning: max_iter and tol parameters have been added in <class 'sklearn.linear_model.perceptron.Perceptron'> in 0.19. If both are left unset, they default to max_iter=5 and tol=None. If tol is not None, max_iter defaults to max_iter=1000. From 0.21, default max_iter will be 1000, and default tol will be 1e-3.\n",
      "  \"and default tol will be 1e-3.\" % type(self), FutureWarning)\n"
     ]
    },
    {
     "name": "stdout",
     "output_type": "stream",
     "text": [
      "Error: Perceptron() 0.18932527693857\n",
      "Violation: {'f'} set() g <pycausal.pycausal.pycausal object at 0x7f4dc40e89b0>\n",
      "Error: DecisionTreeClassifier() 0.27391742195367574\n",
      "Error: LinearSVC() 0.2809667673716012\n",
      "Error: GaussianNB() 0.337361530715005\n",
      "Violation: {'f'} {'a', 'd', 'f', 'c', 'e', 'b'} g <pycausal.pycausal.pycausal object at 0x7f4dc40e89b0>\n",
      "Error: BernoulliNB() 0.25176233635448136\n",
      "Error: LinearDiscriminantAnalysis() 0.3504531722054381\n",
      "Error: RandomForestClassifier() 0.2940584088620342\n",
      "Error: ExtraTreesClassifier() 0.3041289023162135\n",
      "Error: AdaBoostClassifier() 0.26586102719033233\n",
      "Error: BaggingClassifier() 0.3081570996978852\n",
      "Error: GradientBoostingClassifier() 0.34843907351460224\n",
      "Error: MLPClassifier() 0.338368580060423\n",
      "Violation: {'f'} {'a', 'd', 'f', 'c', 'e', 'b'} g <pycausal.pycausal.pycausal object at 0x7f4dc40e89b0>\n",
      "Error: LogisticRegression() 0.2729103726082578\n"
     ]
    },
    {
     "name": "stderr",
     "output_type": "stream",
     "text": [
      "/home/tkyono/anaconda3/lib/python3.6/site-packages/sklearn/linear_model/stochastic_gradient.py:128: FutureWarning: max_iter and tol parameters have been added in <class 'sklearn.linear_model.perceptron.Perceptron'> in 0.19. If both are left unset, they default to max_iter=5 and tol=None. If tol is not None, max_iter defaults to max_iter=1000. From 0.21, default max_iter will be 1000, and default tol will be 1e-3.\n",
      "  \"and default tol will be 1e-3.\" % type(self), FutureWarning)\n"
     ]
    },
    {
     "name": "stdout",
     "output_type": "stream",
     "text": [
      "Error: Perceptron() 0.18932527693857\n",
      "Error: DecisionTreeClassifier() 0.2719033232628399\n",
      "Error: LinearSVC() 0.2799597180261833\n",
      "Error: GaussianNB() 0.3464249748237664\n",
      "Violation: {'f'} {'a', 'd', 'f', 'c', 'e', 'b'} g <pycausal.pycausal.pycausal object at 0x7f4dc40e89b0>\n",
      "Error: BernoulliNB() 0.2628398791540785\n",
      "Error: LinearDiscriminantAnalysis() 0.33434038267875127\n",
      "Error: RandomForestClassifier() 0.31017119838872104\n",
      "Error: ExtraTreesClassifier() 0.30614300100704933\n",
      "Error: AdaBoostClassifier() 0.25478348439073517\n",
      "Error: BaggingClassifier() 0.3001007049345418\n",
      "Error: GradientBoostingClassifier() 0.3333333333333333\n",
      "Error: MLPClassifier() 0.3434038267875126\n",
      "Error: LogisticRegression() 0.2628398791540785\n",
      "Violation: {'f'} {'e', 'f'} g <pycausal.pycausal.pycausal object at 0x7f4dc40e89b0>\n"
     ]
    },
    {
     "name": "stderr",
     "output_type": "stream",
     "text": [
      "/home/tkyono/anaconda3/lib/python3.6/site-packages/sklearn/linear_model/stochastic_gradient.py:128: FutureWarning: max_iter and tol parameters have been added in <class 'sklearn.linear_model.perceptron.Perceptron'> in 0.19. If both are left unset, they default to max_iter=5 and tol=None. If tol is not None, max_iter defaults to max_iter=1000. From 0.21, default max_iter will be 1000, and default tol will be 1e-3.\n",
      "  \"and default tol will be 1e-3.\" % type(self), FutureWarning)\n"
     ]
    },
    {
     "name": "stdout",
     "output_type": "stream",
     "text": [
      "Error: Perceptron() 0.19838872104733132\n",
      "Error: DecisionTreeClassifier() 0.27794561933534745\n",
      "Error: LinearSVC() 0.27794561933534745\n",
      "Error: GaussianNB() 0.3595166163141994\n",
      "Violation: {'f'} {'a', 'd', 'f', 'c', 'e', 'b'} g <pycausal.pycausal.pycausal object at 0x7f4dc40e89b0>\n",
      "Error: BernoulliNB() 0.2255790533736153\n",
      "Error: LinearDiscriminantAnalysis() 0.34541792547834843\n",
      "Violation: {'f'} {'e', 'f'} g <pycausal.pycausal.pycausal object at 0x7f4dc40e89b0>\n",
      "Error: RandomForestClassifier() 0.3121852970795569\n",
      "Error: ExtraTreesClassifier() 0.29607250755287007\n",
      "Violation: {'f'} {'e', 'f'} g <pycausal.pycausal.pycausal object at 0x7f4dc40e89b0>\n",
      "Error: AdaBoostClassifier() 0.24269889224572003\n",
      "Error: BaggingClassifier() 0.3011077542799597\n",
      "Error: GradientBoostingClassifier() 0.34843907351460224\n",
      "Error: MLPClassifier() 0.3544813695871098\n",
      "Error: LogisticRegression() 0.2648539778449144\n"
     ]
    },
    {
     "name": "stderr",
     "output_type": "stream",
     "text": [
      "/home/tkyono/anaconda3/lib/python3.6/site-packages/sklearn/linear_model/stochastic_gradient.py:128: FutureWarning: max_iter and tol parameters have been added in <class 'sklearn.linear_model.perceptron.Perceptron'> in 0.19. If both are left unset, they default to max_iter=5 and tol=None. If tol is not None, max_iter defaults to max_iter=1000. From 0.21, default max_iter will be 1000, and default tol will be 1e-3.\n",
      "  \"and default tol will be 1e-3.\" % type(self), FutureWarning)\n"
     ]
    },
    {
     "name": "stdout",
     "output_type": "stream",
     "text": [
      "Error: Perceptron() 0.162134944612286\n",
      "Violation: {'f'} {'a', 'f'} g <pycausal.pycausal.pycausal object at 0x7f4dc40e89b0>\n",
      "Error: DecisionTreeClassifier() 0.26686807653575023\n",
      "Error: LinearSVC() 0.297079556898288\n",
      "Error: GaussianNB() 0.3766364551863041\n",
      "Violation: {'f'} {'a', 'd', 'f', 'c', 'e', 'b'} g <pycausal.pycausal.pycausal object at 0x7f4dc40e89b0>\n",
      "Error: BernoulliNB() 0.2527693856998993\n",
      "Error: LinearDiscriminantAnalysis() 0.37865055387714\n",
      "Violation: {'f'} {'a', 'd', 'f', 'c', 'e'} g <pycausal.pycausal.pycausal object at 0x7f4dc40e89b0>\n",
      "Error: RandomForestClassifier() 0.29003021148036257\n",
      "Error: ExtraTreesClassifier() 0.2880161127895267\n",
      "Error: AdaBoostClassifier() 0.25579053373615307\n",
      "Error: BaggingClassifier() 0.3041289023162135\n",
      "Error: GradientBoostingClassifier() 0.337361530715005\n",
      "Violation: {'f'} set() g <pycausal.pycausal.pycausal object at 0x7f4dc40e89b0>\n",
      "Error: MLPClassifier() 0.3756294058408862\n",
      "Violation: {'f'} {'f', 'b'} g <pycausal.pycausal.pycausal object at 0x7f4dc40e89b0>\n",
      "Error: LogisticRegression() 0.24370594159113795\n"
     ]
    },
    {
     "name": "stderr",
     "output_type": "stream",
     "text": [
      "/home/tkyono/anaconda3/lib/python3.6/site-packages/sklearn/linear_model/stochastic_gradient.py:128: FutureWarning: max_iter and tol parameters have been added in <class 'sklearn.linear_model.perceptron.Perceptron'> in 0.19. If both are left unset, they default to max_iter=5 and tol=None. If tol is not None, max_iter defaults to max_iter=1000. From 0.21, default max_iter will be 1000, and default tol will be 1e-3.\n",
      "  \"and default tol will be 1e-3.\" % type(self), FutureWarning)\n"
     ]
    },
    {
     "name": "stdout",
     "output_type": "stream",
     "text": [
      "Error: Perceptron() 0.1732124874118832\n",
      "Violation: {'f'} {'e', 'f'} g <pycausal.pycausal.pycausal object at 0x7f4dc40e89b0>\n",
      "Error: DecisionTreeClassifier() 0.27895266868076535\n",
      "Error: LinearSVC() 0.2799597180261833\n",
      "Error: GaussianNB() 0.33534743202416917\n",
      "Violation: {'f'} {'a', 'd', 'f', 'c', 'e', 'b'} g <pycausal.pycausal.pycausal object at 0x7f4dc40e89b0>\n",
      "Error: BernoulliNB() 0.2457200402819738\n",
      "Error: LinearDiscriminantAnalysis() 0.3393756294058409\n",
      "Error: RandomForestClassifier() 0.3031218529707956\n",
      "Error: ExtraTreesClassifier() 0.297079556898288\n",
      "Error: AdaBoostClassifier() 0.2688821752265861\n",
      "Error: BaggingClassifier() 0.3001007049345418\n",
      "Error: GradientBoostingClassifier() 0.34441087613293053\n",
      "Error: MLPClassifier() 0.33434038267875127\n",
      "Error: LogisticRegression() 0.2628398791540785\n"
     ]
    },
    {
     "name": "stderr",
     "output_type": "stream",
     "text": [
      "/home/tkyono/anaconda3/lib/python3.6/site-packages/sklearn/linear_model/stochastic_gradient.py:128: FutureWarning: max_iter and tol parameters have been added in <class 'sklearn.linear_model.perceptron.Perceptron'> in 0.19. If both are left unset, they default to max_iter=5 and tol=None. If tol is not None, max_iter defaults to max_iter=1000. From 0.21, default max_iter will be 1000, and default tol will be 1e-3.\n",
      "  \"and default tol will be 1e-3.\" % type(self), FutureWarning)\n"
     ]
    },
    {
     "name": "stdout",
     "output_type": "stream",
     "text": [
      "Error: Perceptron() 0.18328298086606243\n",
      "Error: DecisionTreeClassifier() 0.2618328298086606\n",
      "Error: LinearSVC() 0.2990936555891239\n",
      "Error: GaussianNB() 0.3806646525679758\n",
      "Violation: {'f'} {'a', 'd', 'f', 'c', 'e', 'b'} g <pycausal.pycausal.pycausal object at 0x7f4dc40e89b0>\n",
      "Error: BernoulliNB() 0.24269889224572003\n",
      "Error: LinearDiscriminantAnalysis() 0.38972809667673713\n",
      "Error: RandomForestClassifier() 0.33031218529707956\n",
      "Error: ExtraTreesClassifier() 0.31822759315206445\n",
      "Error: AdaBoostClassifier() 0.23867069486404835\n",
      "Error: BaggingClassifier() 0.3121852970795569\n",
      "Error: GradientBoostingClassifier() 0.3544813695871098\n",
      "Error: MLPClassifier() 0.364551863041289\n",
      "Error: LogisticRegression() 0.2598187311178248\n"
     ]
    },
    {
     "name": "stderr",
     "output_type": "stream",
     "text": [
      "/home/tkyono/anaconda3/lib/python3.6/site-packages/sklearn/linear_model/stochastic_gradient.py:128: FutureWarning: max_iter and tol parameters have been added in <class 'sklearn.linear_model.perceptron.Perceptron'> in 0.19. If both are left unset, they default to max_iter=5 and tol=None. If tol is not None, max_iter defaults to max_iter=1000. From 0.21, default max_iter will be 1000, and default tol will be 1e-3.\n",
      "  \"and default tol will be 1e-3.\" % type(self), FutureWarning)\n"
     ]
    },
    {
     "name": "stdout",
     "output_type": "stream",
     "text": [
      "Error: Perceptron() 0.20443101711983888\n",
      "Error: DecisionTreeClassifier() 0.2719033232628399\n",
      "Error: LinearSVC() 0.28600201409869086\n",
      "Error: GaussianNB() 0.38469284994964753\n",
      "Violation: {'f'} {'a', 'd', 'f', 'c', 'e', 'b'} g <pycausal.pycausal.pycausal object at 0x7f4dc40e89b0>\n",
      "Error: BernoulliNB() 0.23766364551863042\n",
      "Error: LinearDiscriminantAnalysis() 0.3877139979859013\n",
      "Error: RandomForestClassifier() 0.3021148036253776\n",
      "Error: ExtraTreesClassifier() 0.3031218529707956\n",
      "Error: AdaBoostClassifier() 0.26586102719033233\n",
      "Error: BaggingClassifier() 0.3021148036253776\n",
      "Error: GradientBoostingClassifier() 0.35347432024169184\n",
      "Violation: {'f'} {'e', 'f'} g <pycausal.pycausal.pycausal object at 0x7f4dc40e89b0>\n",
      "Error: MLPClassifier() 0.38469284994964753\n",
      "Error: LogisticRegression() 0.2497482376636455\n",
      "Violation: {'f'} {'a', 'd', 'f', 'c', 'e'} g <pycausal.pycausal.pycausal object at 0x7f4dc40e89b0>\n",
      "Error: Perceptron() 0.13695871097683787\n"
     ]
    },
    {
     "name": "stderr",
     "output_type": "stream",
     "text": [
      "/home/tkyono/anaconda3/lib/python3.6/site-packages/sklearn/linear_model/stochastic_gradient.py:128: FutureWarning: max_iter and tol parameters have been added in <class 'sklearn.linear_model.perceptron.Perceptron'> in 0.19. If both are left unset, they default to max_iter=5 and tol=None. If tol is not None, max_iter defaults to max_iter=1000. From 0.21, default max_iter will be 1000, and default tol will be 1e-3.\n",
      "  \"and default tol will be 1e-3.\" % type(self), FutureWarning)\n"
     ]
    },
    {
     "name": "stdout",
     "output_type": "stream",
     "text": [
      "Violation: {'f'} set() g <pycausal.pycausal.pycausal object at 0x7f4dc40e89b0>\n",
      "Error: DecisionTreeClassifier() 0.27391742195367574\n",
      "Error: LinearSVC() 0.28197381671701915\n",
      "Violation: {'f'} set() g <pycausal.pycausal.pycausal object at 0x7f4dc40e89b0>\n",
      "Error: GaussianNB() 0.3504531722054381\n",
      "Violation: {'f'} {'a', 'd', 'f', 'c', 'e', 'b'} g <pycausal.pycausal.pycausal object at 0x7f4dc40e89b0>\n",
      "Error: BernoulliNB() 0.25478348439073517\n",
      "Error: LinearDiscriminantAnalysis() 0.351460221550856\n",
      "Error: RandomForestClassifier() 0.3041289023162135\n",
      "Error: ExtraTreesClassifier() 0.29204431017119836\n",
      "Error: AdaBoostClassifier() 0.2527693856998993\n",
      "Error: BaggingClassifier() 0.33031218529707956\n",
      "Error: GradientBoostingClassifier() 0.3282980866062437\n",
      "Error: MLPClassifier() 0.3504531722054381\n",
      "Violations =  [ 4. 23.  1.  2. 40.  2. 15.  3.  2.  1.  3.  9. 12.]\n",
      "Model_name =  LogisticRegression() Violations =  4.0\n",
      "Average_violations =  0.029166666666666664 0.11110243021644485\n",
      "Accuracy =  0.2700252355544762 0.011612653080952015 MSE =  2.141223713389264 0.07675564973880436\n",
      "Model_name =  Perceptron() Violations =  23.0\n",
      "Average_violations =  0.1125 0.10793194872490516\n",
      "Accuracy =  0.182401290589881 0.03233573320546245 MSE =  5.125847574418637 1.7356768117944514\n",
      "Model_name =  DecisionTreeClassifier() Violations =  1.0\n",
      "Average_violations =  0.004166666666666667 0.026020824993326655\n",
      "Accuracy =  0.2658080549106551 0.014147383084479942 MSE =  2.189924559747916 0.10181194428469854\n",
      "Model_name =  LinearSVC() Violations =  2.0\n",
      "Average_violations =  0.008333333333333333 0.03632415786283895\n",
      "Accuracy =  0.2963594630440996 0.011009815673844603 MSE =  1.850262178455632 0.07216876298621248\n",
      "Model_name =  GaussianNB() Violations =  40.0\n",
      "Average_violations =  0.8375 0.026020824993326655\n",
      "Accuracy =  0.3611433801715107 0.017665738953047957 MSE =  1.200600870813039 0.059176670461391065\n",
      "Model_name =  BernoulliNB() Violations =  2.0\n",
      "Average_violations =  0.008333333333333333 0.03632415786283895\n",
      "Accuracy =  0.24737490784412436 0.0103093515572203 MSE =  2.9859447980172265 0.14139792871782417\n",
      "Model_name =  LinearDiscriminantAnalysis() Violations =  15.0\n",
      "Average_violations =  0.16249999999999998 0.2750946806707344\n",
      "Accuracy =  0.3639087696644247 0.018015895764185153 MSE =  1.169289387123176 0.059351529628277916\n",
      "Model_name =  RandomForestClassifier() Violations =  3.0\n",
      "Average_violations =  0.0125 0.04389855730355307\n",
      "Accuracy =  0.30771004266539304 0.012241916191759081 MSE =  1.713405375151379 0.06322714483638583\n",
      "Model_name =  ExtraTreesClassifier() Violations =  2.0\n",
      "Average_violations =  0.008333333333333333 0.03632415786283894\n",
      "Accuracy =  0.3001614816772188 0.013065827224216193 MSE =  1.7815327160127736 0.08196559137460288\n",
      "Model_name =  AdaBoostClassifier() Violations =  1.0\n",
      "Average_violations =  0.004166666666666667 0.026020824993326655\n",
      "Accuracy =  0.2558409667043905 0.010680105171395502 MSE =  3.0003823231612725 0.39801545430085483\n",
      "Model_name =  BaggingClassifier() Violations =  3.0\n",
      "Average_violations =  0.0125 0.04389855730355307\n",
      "Accuracy =  0.3068297005142453 0.011912378297341788 MSE =  1.6907315468335207 0.09040394290303166\n",
      "Model_name =  GradientBoostingClassifier() Violations =  9.0\n",
      "Average_violations =  0.1125 0.2538249068419672\n",
      "Accuracy =  0.3507714375769681 0.013779955225503154 MSE =  1.3235807048810493 0.07581985577487325\n",
      "Model_name =  MLPClassifier() Violations =  12.0\n",
      "Average_violations =  0.10416666666666667 0.22263416678987577\n",
      "Accuracy =  0.3586455040471569 0.017282432474562487 MSE =  1.2042275622864813 0.06569178498844383\n",
      "[0.27002524 0.18240129 0.26580805 0.29635946 0.36114338 0.24737491\n",
      " 0.36390877 0.30771004 0.30016148 0.25584097 0.3068297  0.35077144\n",
      " 0.3586455 ] [0.01161265 0.03233573 0.01414738 0.01100982 0.01766574 0.01030935\n",
      " 0.0180159  0.01224192 0.01306583 0.01068011 0.01191238 0.01377996\n",
      " 0.01728243] [0.02916667 0.1125     0.00416667 0.00833333 0.8375     0.00833333\n",
      " 0.1625     0.0125     0.00833333 0.00416667 0.0125     0.1125\n",
      " 0.10416667] [0.11110243 0.10793195 0.02602082 0.03632416 0.02602082 0.03632416\n",
      " 0.27509468 0.04389856 0.03632416 0.02602082 0.04389856 0.25382491\n",
      " 0.22263417]\n"
     ]
    },
    {
     "data": {
      "image/png": "[encoded data removed]",
      "text/plain": [
       "<Figure size 1332x756 with 1 Axes>"
      ]
     },
     "metadata": {},
     "output_type": "display_data"
    }
   ],
   "source": [
    "import numpy as np\n",
    "import pandas as pd\n",
    "import matplotlib.pyplot as plt\n",
    "import sys\n",
    "from sklearn.metrics import roc_auc_score, average_precision_score, mean_squared_error, accuracy_score\n",
    "from sklearn.model_selection import StratifiedKFold\n",
    "from sklearn.linear_model import LogisticRegression, Perceptron\n",
    "from sklearn.neighbors import KNeighborsClassifier\n",
    "from sklearn.tree import DecisionTreeClassifier\n",
    "from sklearn.svm import LinearSVC\n",
    "from sklearn.naive_bayes import GaussianNB, BernoulliNB\n",
    "from sklearn.discriminant_analysis import LinearDiscriminantAnalysis\n",
    "from sklearn.ensemble import RandomForestClassifier, ExtraTreesClassifier, AdaBoostClassifier, BaggingClassifier, GradientBoostingClassifier\n",
    "from sklearn.neural_network import MLPClassifier\n",
    "import pandas as pd\n",
    "\n",
    "from pycausal import search as s\n",
    "\n",
    "def get_CG(df, tetrad):\n",
    "    tetrad.run(algoId = 'gfci', dfs = df, testId = 'sem-bic', scoreId = 'sem-bic', dataType = 'continuous',\n",
    "           structurePrior = 1.0, samplePrior = 1.0, maxDegree = -1, maxPathLength = -1, \n",
    "           completeRuleSetUsed = False, faithfulnessAssumed = True, verbose = True)\n",
    "    #tetrad.run(algoId = 'gfci', dfs = df, testId = 'bdeu', scoreId = 'bdeu', dataType = 'discrete',\n",
    "    #       structurePrior = 1.0, samplePrior = 1.0, maxDegree = 3, faithfulnessAssumed = True, verbose = True)\n",
    "\n",
    "\n",
    "    return tetrad.getTetradGraph()\n",
    "\n",
    "def get_MB(graph, var, pc):\n",
    "    parents = set()\n",
    "    for i in pc.extractTetradGraphEdges(graph):\n",
    "        if i[-1] == var and i[3:5] == '->':\n",
    "            parents.add(i[0])\n",
    "        if i[0] == var and i[3:5] == '->':\n",
    "            parents.add(i[-1])\n",
    "    return parents\n",
    "\n",
    "from pycausal.pycausal import pycausal as pc\n",
    "pc = pc()\n",
    "pc.start_vm(java_max_heap_size = '5000M')\n",
    "tetrad = s.tetradrunner()\n",
    "def run_models(models, model_names, x, y, num_folds=40):\n",
    "    violations = np.zeros(len(models))\n",
    "    violation_mean = np.zeros((len(models), num_folds))\n",
    "    mean = np.zeros((len(models), num_folds))\n",
    "    mean2 = np.zeros((len(models), num_folds)) # used to store our secondary metric\n",
    "    \n",
    "    skf = StratifiedKFold(n_splits=num_folds)\n",
    "    fold = 0\n",
    "    for train_index, test_index in skf.split(x, y):\n",
    "        x_train, x_test = x[train_index], x[test_index]\n",
    "        y_train, y_test = y[train_index], y[test_index]\n",
    "        for idx, model in enumerate(models):\n",
    "            model.fit(x_train, y_train)\n",
    "            original_df = pd.DataFrame(x_test, columns = ['a', 'b', 'c', 'd', 'e', 'f'])\n",
    "\n",
    "            original_targets = pd.DataFrame(y_test, columns = ['g'])\n",
    "            original_df = original_df.join(original_targets)\n",
    "            test_df = pd.DataFrame(x_test, columns = ['a', 'b', 'c', 'd', 'e', 'f'])\n",
    "            test_targets = pd.DataFrame(model.predict(x_test), columns = ['g'])\n",
    "            test_df = test_df.join(test_targets)\n",
    "            #print(get_MB(get_CG(test_df), 'g'))\n",
    "            print(\"Error:\", model_names[idx], accuracy_score(y_test, model.predict(x_test)))\n",
    "            \n",
    "            \n",
    "            mean[idx][fold] = accuracy_score(y_test, model.predict(x_test))\n",
    "            mean2[idx][fold] = mean_squared_error(y_test, model.predict(x_test))\n",
    "            \n",
    "            setA = get_MB(get_CG(original_df, tetrad), 'g', pc)\n",
    "            setB = get_MB(get_CG(test_df, tetrad), 'g', pc)\n",
    "            #assert(setA == {'f'})\n",
    "            violation_mean[idx][fold] = len(setA.difference(setB)) + len(setB.difference(setA))\n",
    "            if setA != setB:\n",
    "                print(\"Violation:\", setA , setB, 'g', pc)\n",
    "                violations[idx] += 1\n",
    "            \n",
    "            #pc.stop_vm()\n",
    "        fold += 1\n",
    "    \n",
    "    print(\"Violations = \", violations)\n",
    "    \n",
    "    metric = []\n",
    "    metric_err = []\n",
    "    viol = []\n",
    "    viol_err = []\n",
    "    \n",
    "    #normalize the violations for prettier graphing.\n",
    "    #also violations are always positive, so just divide by max.\n",
    "    violation_mean = violation_mean / np.max(violation_mean)\n",
    "    \n",
    "    for i in range(len(violations)):\n",
    "        print(\"Model_name = \", model_names[i], \"Violations = \", violations[i])\n",
    "        print(\"Average_violations = \", np.mean(violation_mean[i]), np.std(violation_mean[i]))\n",
    "        print(\"Accuracy = \", np.mean(mean[i]), np.std(mean[i]), \"MSE = \", np.mean(mean2[i]), np.std(mean2[i]),)\n",
    "        metric.append(np.mean(mean[i]))\n",
    "        metric_err.append(np.std(mean[i]))\n",
    "        viol.append(np.mean(violation_mean[i]))\n",
    "        \n",
    "        viol_err.append(np.std(violation_mean[i]))\n",
    "    print(np.array(metric), \n",
    "             np.array(metric_err), \n",
    "             np.array(viol), \n",
    "             np.array(viol_err))    \n",
    "    \n",
    "    bar_plot(model_names, \n",
    "             np.array(metric), \n",
    "             np.array(metric_err), \n",
    "             np.array(viol), \n",
    "             np.array(viol_err))\n",
    "    return \n",
    "\n",
    "X = df[['a', 'b', 'c', 'd', 'e', 'f']].values\n",
    "y = df['g'].values\n",
    "\n",
    "models = [LogisticRegression(), \n",
    "          Perceptron(),  \n",
    "          DecisionTreeClassifier(),\n",
    "          LinearSVC(),\n",
    "          GaussianNB(),\n",
    "          BernoulliNB(),\n",
    "          LinearDiscriminantAnalysis(),\n",
    "          RandomForestClassifier(),\n",
    "          ExtraTreesClassifier(),\n",
    "          AdaBoostClassifier(),\n",
    "          BaggingClassifier(),\n",
    "          GradientBoostingClassifier(),\n",
    "          MLPClassifier()\n",
    "         ]\n",
    "model_names = ['LogisticRegression()', \n",
    "          'Perceptron()',  \n",
    "          'DecisionTreeClassifier()',\n",
    "          'LinearSVC()',\n",
    "          'GaussianNB()',\n",
    "          'BernoulliNB()',\n",
    "          'LinearDiscriminantAnalysis()',\n",
    "          'RandomForestClassifier()',\n",
    "          'ExtraTreesClassifier()', \n",
    "          'AdaBoostClassifier()',\n",
    "          'BaggingClassifier()',\n",
    "          'GradientBoostingClassifier()',\n",
    "          'MLPClassifier()'\n",
    "         ]\n",
    "\n",
    "run_models(models,model_names, X,y)"
   ]
  },
  {
   "cell_type": "code",
   "execution_count": null,
   "metadata": {},
   "outputs": [],
   "source": []
  }
 ],
 "metadata": {
  "kernelspec": {
   "display_name": "Python 3",
   "language": "python",
   "name": "python3"
  },
  "language_info": {
   "codemirror_mode": {
    "name": "ipython",
    "version": 3
   },
   "file_extension": ".py",
   "mimetype": "text/x-python",
   "name": "python",
   "nbconvert_exporter": "python",
   "pygments_lexer": "ipython3",
   "version": "3.6.5"
  }
 },
 "nbformat": 4,
 "nbformat_minor": 2
}
