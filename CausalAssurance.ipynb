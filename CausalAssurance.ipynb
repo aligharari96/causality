{
 "cells": [
  {
   "cell_type": "markdown",
   "metadata": {},
   "source": [
    "## Notes \n",
    "### Required installing Oracle JAVA 8 to get javabridge installed\n",
    "### Then, I was able to install py-causal from https://bd2kccd.github.io/docs/py-causal/\n",
    "### GFCI is slower than RFCI, but more accurate (SPIRTES), GFCI and RFCI account for unobserved variables, FGES assumes no unobserved variables."
   ]
  },
  {
   "cell_type": "markdown",
   "metadata": {},
   "source": [
    "Structure Learning Performance Guarantees If the assumptions in the previous section hold, then in the large sample limit, the CBN structure output by GFCId will contain an edge of one of four kinds between Xand Y   if and only if Xand Yare not independent conditional on any subset of the other measured variables of less than or equal to a specified size. In addition, there is (1) an arc X->Y   if and only if Xdirectly or indirectly causes Y, and Y   does not directly or indirectly cause X; (2) an edge X <-->Y   if and only if X   is not a direct or indirect cause of Yand Y   is not a direct or indirect cause of X(which can only occur if there are latent confounders of Xand some other variable or Yand some other variable; (3) an edge Xo->Y   only if Yis not a direct or indirect cause of X, but Xmay or may not be an indirect cause of Y; (4) an edge X o–o Y   indicates that Xand Y   are dependent no matter what subset of observed variables is conditioned on, but contains no orientation information (X   may be a direct or indirect cause of Y, and Ymay be an indirect cause of X, or there may be a latent common cause of Xand Y."
   ]
  },
  {
   "cell_type": "code",
   "execution_count": null,
   "metadata": {},
   "outputs": [],
   "source": [
    "\n"
   ]
  },
  {
   "cell_type": "code",
   "execution_count": null,
   "metadata": {},
   "outputs": [],
   "source": [
    "# This is for continous data.\n",
    "# generate some toy data:\n",
    "SIZE = 20000\n",
    "a = np.random.normal(size=SIZE, scale = 1)\n",
    "b = np.random.normal(size=SIZE, scale = 1)\n",
    "c = np.random.normal(size=SIZE, scale = 1)\n",
    "d = np.random.normal(size=SIZE, scale = 1)\n",
    "e = np.random.normal(size=SIZE, scale = 1)\n",
    "\n",
    "f= a + b + c + d + e + np.random.normal(size=SIZE, scale = 1)\n",
    "g = f + np.random.normal(size=SIZE, scale = 1)\n",
    "\n",
    "# load the data into a dataframe:\n",
    "df = pd.DataFrame({'a' : a,'b' : b, 'c' : c, 'd' : d,'e' : e,'f':f, 'g':g})\n",
    "import pandas as pd\n",
    "from pycausal.pycausal import pycausal as pc\n",
    "from pycausal import search as s\n",
    "pc = pc()\n",
    "pc.start_vm(java_max_heap_size = '500M')\n",
    "from pycausal import prior as p\n",
    "\n",
    "tetrad = s.tetradrunner()\n",
    "#GFCI = Greedy Fast Causal Interference (GFCI) \n",
    "# bdeu = Bayesian Dirichlet likelihood equivalence and uniform\n",
    "tetrad.run(algoId = 'gfci', dfs = df, testId = 'sem-bic', scoreId = 'sem-bic', dataType = 'continuous',\n",
    "           structurePrior = 1.0, samplePrior = 1.0, maxDegree = -1, maxPathLength = -1, \n",
    "           completeRuleSetUsed = False, faithfulnessAssumed = True, verbose = True)\n",
    "\n",
    "import pydot\n",
    "from IPython.display import SVG\n",
    "dot_str = pc.tetradGraphToDot(tetrad.getTetradGraph())\n",
    "graphs = pydot.graph_from_dot_data(dot_str)\n",
    "svg_str = graphs[0].create_svg()\n",
    "SVG(svg_str)\n",
    "\n",
    "\n"
   ]
  },
  {
   "cell_type": "code",
   "execution_count": null,
   "metadata": {},
   "outputs": [],
   "source": [
    "# let's try and predict D HERE\n",
    "\n",
    "# This is for continous data.\n",
    "# generate some toy data:\n",
    "SIZE = 100000\n",
    "a = np.random.normal(size=SIZE, scale = 1)\n",
    "b = np.random.normal(size=SIZE, scale = 1)\n",
    "c = np.random.normal(size=SIZE, scale = 1)\n",
    "d = a + b + c + np.random.normal(size=SIZE, scale = 1)\n",
    "e = d + np.random.normal(size=SIZE, scale = 1)\n",
    "f= d + np.random.normal(size=SIZE, scale = 1)\n",
    "g = d + np.random.normal(size=SIZE, scale = 1)\n",
    "\n",
    "# load the data into a dataframe:\n",
    "df = pd.DataFrame({'a' : a,'b' : b, 'c' : c, 'd' : d,'e' : e,'f':f, 'g':g})\n",
    "import pandas as pd\n",
    "from pycausal.pycausal import pycausal as pc\n",
    "from pycausal import search as s\n",
    "pc = pc()\n",
    "pc.start_vm(java_max_heap_size = '2500M')\n",
    "from pycausal import prior as p\n",
    "\n",
    "tetrad = s.tetradrunner()\n",
    "#GFCI = Greedy Fast Causal Interference (GFCI) \n",
    "# bdeu = Bayesian Dirichlet likelihood equivalence and uniform\n",
    "tetrad.run(algoId = 'gfci', dfs = df, testId = 'sem-bic', scoreId = 'sem-bic', dataType = 'continuous',\n",
    "           structurePrior = 1.0, samplePrior = 1.0, maxDegree = -1, maxPathLength = -1, \n",
    "           completeRuleSetUsed = False, faithfulnessAssumed = True, verbose = True)\n",
    "\n",
    "import pydot\n",
    "from IPython.display import SVG\n",
    "dot_str = pc.tetradGraphToDot(tetrad.getTetradGraph())\n",
    "graphs = pydot.graph_from_dot_data(dot_str)\n",
    "svg_str = graphs[0].create_svg()\n",
    "SVG(svg_str)"
   ]
  },
  {
   "cell_type": "code",
   "execution_count": null,
   "metadata": {},
   "outputs": [],
   "source": [
    "pc = pc()\n",
    "pc.start_vm(java_max_heap_size = '500M')\n",
    "from pycausal import prior as p\n",
    "\n",
    "tetrad = s.tetradrunner()\n",
    "#GFCI = Greedy Fast Causal Interference (GFCI) \n",
    "# bdeu = Bayesian Dirichlet likelihood equivalence and uniform\n",
    "tetrad.run(algoId = 'gfci', dfs = df, testId = 'sem-bic', scoreId = 'sem-bic', dataType = 'continuous',\n",
    "           structurePrior = 1.0, samplePrior = 1.0, maxDegree = -1, maxPathLength = -1, \n",
    "           completeRuleSetUsed = False, faithfulnessAssumed = True, verbose = True)\n",
    "\n",
    "import pydot\n",
    "from IPython.display import SVG\n",
    "dot_str = pc.tetradGraphToDot(tetrad.getTetradGraph())\n",
    "graphs = pydot.graph_from_dot_data(dot_str)\n",
    "print(len(graphs))\n",
    "svg_str = graphs[0].create_svg()\n",
    "SVG(svg_str)"
   ]
  },
  {
   "cell_type": "markdown",
   "metadata": {},
   "source": [
    "# Trying some various ML models"
   ]
  },
  {
   "cell_type": "code",
   "execution_count": 1,
   "metadata": {},
   "outputs": [],
   "source": [
    "#Synthetic data\n",
    "import numpy as np\n",
    "import pandas as pd\n",
    "import random\n",
    "import matplotlib.pyplot as plt\n",
    "import pydot\n",
    "from IPython.display import SVG\n",
    "\n",
    "def gen_data():\n",
    "    SIZE = 10000\n",
    "    a = np.random.binomial(2, 0.5, size=SIZE)\n",
    "    b = np.random.binomial(2, 0.5, size=SIZE)\n",
    "    c = np.random.binomial(2, 0.5, size=SIZE)\n",
    "    d = np.random.binomial(2, 0.5, size=SIZE)\n",
    "    e = np.random.binomial(2, 0.5, size=SIZE)\n",
    "    f= a + b + c + d + e + np.random.binomial(2, 0.5, size=SIZE)\n",
    "    g = f + np.random.binomial(2, 0.5, size=SIZE)\n",
    "    return pd.DataFrame({'a' : a,'b' : b, 'c' : c, 'd' : d,'e' : e,'f':f, 'g':g})\n",
    "\n",
    "\n",
    "import scipy.stats as ss\n",
    "import numpy as np\n",
    "import matplotlib.pyplot as plt\n",
    "\n",
    "def discrete_gauss(low, high, samples, std = 20):\n",
    "    x = np.arange(low, high)\n",
    "    xU, xL = x + 0.5, x - 0.5 \n",
    "    prob = ss.norm.cdf(xU, scale = std) - ss.norm.cdf(xL, scale = std)\n",
    "    prob = prob / prob.sum() #normalize the probabilities so their sum is 1\n",
    "    nums = np.random.choice(x, size = samples, p = prob)\n",
    "    return nums\n",
    "\n",
    "def gen_data():\n",
    "    SIZE = 40000\n",
    "    a = discrete_gauss(-3,3, SIZE)\n",
    "    b = discrete_gauss(-3,3, SIZE)\n",
    "    c = discrete_gauss(-3,3, SIZE)\n",
    "    d = discrete_gauss(-3,3, SIZE)\n",
    "    e = discrete_gauss(-3,3, SIZE)\n",
    "    f= a + b + c + d + e + np.random.binomial(2, 0.5, size=SIZE)\n",
    "    g = f + discrete_gauss(-3,3, SIZE)\n",
    "\n",
    "    #g[g < 0] = 0\n",
    "    #g[g > 0] = 1\n",
    "    #g[(g <= 3) & (g >= -3)] = 1\n",
    "    #g[g < -3] = 0\n",
    "    #g[g > 3] = 2\n",
    "    return pd.DataFrame({'a' : a,'b' : b, 'c' : c, 'd' : d,'e' : e,'f':f, 'g':g})\n",
    "\n",
    "def gen_data():\n",
    "    #SIZE = 40000\n",
    "    SIZE = 40000\n",
    "    a = np.random.normal(0, 1, SIZE)\n",
    "    b = np.random.normal(0, 1, SIZE)\n",
    "    c = np.random.normal(0, 1, SIZE)\n",
    "    d = np.random.normal(0, 1, SIZE)\n",
    "    e = np.random.normal(0, 1, SIZE)\n",
    "    f= a + b + c + d + e + np.random.normal(0, 1, SIZE)\n",
    "    g = f + np.random.normal(0, 1, SIZE)\n",
    "    g = np.rint(g)\n",
    "    #m = np.mean(g)\n",
    "    #g[g < m] = 0\n",
    "    #g[g >= m] = 1\n",
    "\n",
    "    return pd.DataFrame({'a' : a,'b' : b, 'c' : c, 'd' : d,'e' : e,'f':f, 'g':g})\n",
    "\n",
    "df = gen_data()\n",
    "\n",
    "\n",
    "\n",
    "import numpy as np\n",
    "import matplotlib.pyplot as plt\n"
   ]
  },
  {
   "cell_type": "code",
   "execution_count": 3,
   "metadata": {
    "scrolled": true
   },
   "outputs": [
    {
     "name": "stderr",
     "output_type": "stream",
     "text": [
      "/home/tkyono/anaconda3/lib/python3.6/site-packages/sklearn/model_selection/_split.py:605: Warning: The least populated class in y has only 1 members, which is too few. The minimum number of members in any class cannot be less than n_splits=40.\n",
      "  % (min_groups, self.n_splits)), Warning)\n"
     ]
    },
    {
     "name": "stdout",
     "output_type": "stream",
     "text": [
      "Error: LogisticRegression() 0.2702169625246548\n"
     ]
    },
    {
     "name": "stderr",
     "output_type": "stream",
     "text": [
      "/home/tkyono/anaconda3/lib/python3.6/site-packages/sklearn/linear_model/stochastic_gradient.py:128: FutureWarning: max_iter and tol parameters have been added in <class 'sklearn.linear_model.perceptron.Perceptron'> in 0.19. If both are left unset, they default to max_iter=5 and tol=None. If tol is not None, max_iter defaults to max_iter=1000. From 0.21, default max_iter will be 1000, and default tol will be 1e-3.\n",
      "  \"and default tol will be 1e-3.\" % type(self), FutureWarning)\n"
     ]
    },
    {
     "name": "stdout",
     "output_type": "stream",
     "text": [
      "Error: Perceptron() 0.20512820512820512\n",
      "Error: DecisionTreeClassifier() 0.2583826429980276\n",
      "Error: LinearSVC() 0.2958579881656805\n",
      "Error: GaussianNB() 0.3530571992110454\n",
      "Violation: {'f'} {'a', 'd', 'f', 'c', 'e', 'b'} g <pycausal.pycausal.pycausal object at 0x7f4e18272f60>\n",
      "Error: BernoulliNB() 0.252465483234714\n",
      "Error: LinearDiscriminantAnalysis() 0.3609467455621302\n",
      "Error: RandomForestClassifier() 0.3096646942800789\n",
      "Violation: {'f'} {'d', 'c', 'e', 'f'} g <pycausal.pycausal.pycausal object at 0x7f4e18272f60>\n",
      "Error: ExtraTreesClassifier() 0.2968441814595661\n",
      "Error: AdaBoostClassifier() 0.28205128205128205\n",
      "Error: BaggingClassifier() 0.3175542406311637\n",
      "Error: GradientBoostingClassifier() 0.35700197238658776\n",
      "Error: MLPClassifier() 0.35009861932938857\n",
      "Error: LogisticRegression() 0.27964426877470355\n"
     ]
    },
    {
     "name": "stderr",
     "output_type": "stream",
     "text": [
      "/home/tkyono/anaconda3/lib/python3.6/site-packages/sklearn/linear_model/stochastic_gradient.py:128: FutureWarning: max_iter and tol parameters have been added in <class 'sklearn.linear_model.perceptron.Perceptron'> in 0.19. If both are left unset, they default to max_iter=5 and tol=None. If tol is not None, max_iter defaults to max_iter=1000. From 0.21, default max_iter will be 1000, and default tol will be 1e-3.\n",
      "  \"and default tol will be 1e-3.\" % type(self), FutureWarning)\n"
     ]
    },
    {
     "name": "stdout",
     "output_type": "stream",
     "text": [
      "Error: Perceptron() 0.208498023715415\n",
      "Violation: {'f'} {'a', 'f', 'b'} g <pycausal.pycausal.pycausal object at 0x7f4e18272f60>\n",
      "Error: DecisionTreeClassifier() 0.2727272727272727\n",
      "Error: LinearSVC() 0.3102766798418972\n",
      "Error: GaussianNB() 0.3685770750988142\n",
      "Violation: {'f'} {'a', 'd', 'f', 'c', 'e', 'b'} g <pycausal.pycausal.pycausal object at 0x7f4e18272f60>\n",
      "Error: BernoulliNB() 0.24703557312252963\n",
      "Error: LinearDiscriminantAnalysis() 0.3606719367588933\n",
      "Error: RandomForestClassifier() 0.3241106719367589\n",
      "Error: ExtraTreesClassifier() 0.33300395256917\n",
      "Error: AdaBoostClassifier() 0.2737154150197628\n",
      "Error: BaggingClassifier() 0.3102766798418972\n",
      "Error: GradientBoostingClassifier() 0.3695652173913043\n",
      "Error: MLPClassifier() 0.3567193675889328\n",
      "Error: LogisticRegression() 0.2943508424182359\n"
     ]
    },
    {
     "name": "stderr",
     "output_type": "stream",
     "text": [
      "/home/tkyono/anaconda3/lib/python3.6/site-packages/sklearn/linear_model/stochastic_gradient.py:128: FutureWarning: max_iter and tol parameters have been added in <class 'sklearn.linear_model.perceptron.Perceptron'> in 0.19. If both are left unset, they default to max_iter=5 and tol=None. If tol is not None, max_iter defaults to max_iter=1000. From 0.21, default max_iter will be 1000, and default tol will be 1e-3.\n",
      "  \"and default tol will be 1e-3.\" % type(self), FutureWarning)\n"
     ]
    },
    {
     "name": "stdout",
     "output_type": "stream",
     "text": [
      "Error: Perceptron() 0.16551040634291378\n",
      "Error: DecisionTreeClassifier() 0.25966303270564917\n",
      "Error: LinearSVC() 0.3240832507433102\n",
      "Error: GaussianNB() 0.34985133795837464\n",
      "Violation: {'f'} {'a', 'd', 'f', 'c', 'e', 'b'} g <pycausal.pycausal.pycausal object at 0x7f4e18272f60>\n",
      "Error: BernoulliNB() 0.22299306243805747\n"
     ]
    },
    {
     "name": "stderr",
     "output_type": "stream",
     "text": [
      "/home/tkyono/anaconda3/lib/python3.6/site-packages/sklearn/discriminant_analysis.py:442: UserWarning: The priors do not sum to 1. Renormalizing\n",
      "  UserWarning)\n"
     ]
    },
    {
     "name": "stdout",
     "output_type": "stream",
     "text": [
      "Error: LinearDiscriminantAnalysis() 0.36967294350842417\n",
      "Error: RandomForestClassifier() 0.3062438057482656\n",
      "Violation: {'f'} set() g <pycausal.pycausal.pycausal object at 0x7f4e18272f60>\n",
      "Error: ExtraTreesClassifier() 0.28543111992071357\n",
      "Error: AdaBoostClassifier() 0.25173439048562934\n",
      "Error: BaggingClassifier() 0.3012884043607532\n",
      "Error: GradientBoostingClassifier() 0.3607532210109019\n",
      "Error: MLPClassifier() 0.36967294350842417\n",
      "Error: LogisticRegression() 0.2705649157581764\n",
      "Violation: {'f'} set() g <pycausal.pycausal.pycausal object at 0x7f4e18272f60>\n"
     ]
    },
    {
     "name": "stderr",
     "output_type": "stream",
     "text": [
      "/home/tkyono/anaconda3/lib/python3.6/site-packages/sklearn/linear_model/stochastic_gradient.py:128: FutureWarning: max_iter and tol parameters have been added in <class 'sklearn.linear_model.perceptron.Perceptron'> in 0.19. If both are left unset, they default to max_iter=5 and tol=None. If tol is not None, max_iter defaults to max_iter=1000. From 0.21, default max_iter will be 1000, and default tol will be 1e-3.\n",
      "  \"and default tol will be 1e-3.\" % type(self), FutureWarning)\n"
     ]
    },
    {
     "name": "stdout",
     "output_type": "stream",
     "text": [
      "Error: Perceptron() 0.1605550049554014\n",
      "Error: DecisionTreeClassifier() 0.2705649157581764\n",
      "Error: LinearSVC() 0.31714568880079286\n",
      "Error: GaussianNB() 0.39544103072348863\n",
      "Violation: {'f'} {'a', 'd', 'f', 'c', 'e', 'b'} g <pycausal.pycausal.pycausal object at 0x7f4e18272f60>\n",
      "Error: BernoulliNB() 0.2566897918731417\n"
     ]
    },
    {
     "name": "stderr",
     "output_type": "stream",
     "text": [
      "/home/tkyono/anaconda3/lib/python3.6/site-packages/sklearn/discriminant_analysis.py:442: UserWarning: The priors do not sum to 1. Renormalizing\n",
      "  UserWarning)\n"
     ]
    },
    {
     "name": "stdout",
     "output_type": "stream",
     "text": [
      "Error: LinearDiscriminantAnalysis() 0.400396432111001\n",
      "Error: RandomForestClassifier() 0.3260654112983152\n",
      "Error: ExtraTreesClassifier() 0.31020812685827553\n",
      "Error: AdaBoostClassifier() 0.27651139742319125\n",
      "Error: BaggingClassifier() 0.3409316154608523\n",
      "Error: GradientBoostingClassifier() 0.37561942517343905\n",
      "Error: MLPClassifier() 0.3815659068384539\n",
      "Violation: {'f'} {'a', 'e', 'f', 'b'} g <pycausal.pycausal.pycausal object at 0x7f4e18272f60>\n",
      "Error: LogisticRegression() 0.2705649157581764\n"
     ]
    },
    {
     "name": "stderr",
     "output_type": "stream",
     "text": [
      "/home/tkyono/anaconda3/lib/python3.6/site-packages/sklearn/linear_model/stochastic_gradient.py:128: FutureWarning: max_iter and tol parameters have been added in <class 'sklearn.linear_model.perceptron.Perceptron'> in 0.19. If both are left unset, they default to max_iter=5 and tol=None. If tol is not None, max_iter defaults to max_iter=1000. From 0.21, default max_iter will be 1000, and default tol will be 1e-3.\n",
      "  \"and default tol will be 1e-3.\" % type(self), FutureWarning)\n"
     ]
    },
    {
     "name": "stdout",
     "output_type": "stream",
     "text": [
      "Error: Perceptron() 0.19127849355797819\n",
      "Violation: {'f'} {'a', 'd', 'f'} g <pycausal.pycausal.pycausal object at 0x7f4e18272f60>\n",
      "Error: DecisionTreeClassifier() 0.27750247770069375\n",
      "Error: LinearSVC() 0.3002973240832507\n",
      "Error: GaussianNB() 0.37165510406342916\n",
      "Violation: {'f'} {'a', 'd', 'f', 'c', 'e', 'b'} g <pycausal.pycausal.pycausal object at 0x7f4e18272f60>\n",
      "Error: BernoulliNB() 0.2556987115956392\n"
     ]
    },
    {
     "name": "stderr",
     "output_type": "stream",
     "text": [
      "/home/tkyono/anaconda3/lib/python3.6/site-packages/sklearn/discriminant_analysis.py:442: UserWarning: The priors do not sum to 1. Renormalizing\n",
      "  UserWarning)\n"
     ]
    },
    {
     "name": "stdout",
     "output_type": "stream",
     "text": [
      "Error: LinearDiscriminantAnalysis() 0.38453914767096137\n",
      "Error: RandomForestClassifier() 0.3012884043607532\n",
      "Error: ExtraTreesClassifier() 0.30921704658077304\n",
      "Error: AdaBoostClassifier() 0.2626362735381566\n",
      "Error: BaggingClassifier() 0.3191278493557978\n",
      "Error: GradientBoostingClassifier() 0.35678889990089196\n",
      "Violation: {'f'} set() g <pycausal.pycausal.pycausal object at 0x7f4e18272f60>\n",
      "Error: MLPClassifier() 0.38057482656095143\n",
      "Violation: {'f'} set() g <pycausal.pycausal.pycausal object at 0x7f4e18272f60>\n",
      "Error: LogisticRegression() 0.2644135188866799\n"
     ]
    },
    {
     "name": "stderr",
     "output_type": "stream",
     "text": [
      "/home/tkyono/anaconda3/lib/python3.6/site-packages/sklearn/linear_model/stochastic_gradient.py:128: FutureWarning: max_iter and tol parameters have been added in <class 'sklearn.linear_model.perceptron.Perceptron'> in 0.19. If both are left unset, they default to max_iter=5 and tol=None. If tol is not None, max_iter defaults to max_iter=1000. From 0.21, default max_iter will be 1000, and default tol will be 1e-3.\n",
      "  \"and default tol will be 1e-3.\" % type(self), FutureWarning)\n"
     ]
    },
    {
     "name": "stdout",
     "output_type": "stream",
     "text": [
      "Error: Perceptron() 0.15705765407554673\n",
      "Error: DecisionTreeClassifier() 0.2783300198807157\n",
      "Error: LinearSVC() 0.3111332007952286\n",
      "Error: GaussianNB() 0.33399602385685884\n",
      "Violation: {'f'} {'a', 'd', 'f', 'c', 'e', 'b'} g <pycausal.pycausal.pycausal object at 0x7f4e18272f60>\n",
      "Error: BernoulliNB() 0.24254473161033796\n",
      "Error: LinearDiscriminantAnalysis() 0.34095427435387676\n",
      "Error: RandomForestClassifier() 0.2753479125248509\n",
      "Violation: {'f'} {'d', 'f', 'c', 'e', 'b'} g <pycausal.pycausal.pycausal object at 0x7f4e18272f60>\n",
      "Error: ExtraTreesClassifier() 0.28926441351888665\n",
      "Error: AdaBoostClassifier() 0.2485089463220676\n",
      "Error: BaggingClassifier() 0.31809145129224653\n",
      "Error: GradientBoostingClassifier() 0.34393638170974156\n",
      "Error: MLPClassifier() 0.3379721669980119\n",
      "Error: LogisticRegression() 0.26043737574552683\n"
     ]
    },
    {
     "name": "stderr",
     "output_type": "stream",
     "text": [
      "/home/tkyono/anaconda3/lib/python3.6/site-packages/sklearn/linear_model/stochastic_gradient.py:128: FutureWarning: max_iter and tol parameters have been added in <class 'sklearn.linear_model.perceptron.Perceptron'> in 0.19. If both are left unset, they default to max_iter=5 and tol=None. If tol is not None, max_iter defaults to max_iter=1000. From 0.21, default max_iter will be 1000, and default tol will be 1e-3.\n",
      "  \"and default tol will be 1e-3.\" % type(self), FutureWarning)\n"
     ]
    },
    {
     "name": "stdout",
     "output_type": "stream",
     "text": [
      "Error: Perceptron() 0.21570576540755468\n",
      "Error: DecisionTreeClassifier() 0.2823061630218688\n",
      "Error: LinearSVC() 0.29721669980119286\n",
      "Error: GaussianNB() 0.37475149105367794\n",
      "Violation: {'f'} {'a', 'd', 'f', 'c', 'e', 'b'} g <pycausal.pycausal.pycausal object at 0x7f4e18272f60>\n",
      "Error: BernoulliNB() 0.24751491053677932\n",
      "Error: LinearDiscriminantAnalysis() 0.3827037773359841\n",
      "Error: RandomForestClassifier() 0.30019880715705766\n",
      "Error: ExtraTreesClassifier() 0.28429423459244535\n",
      "Error: AdaBoostClassifier() 0.2614314115308151\n",
      "Error: BaggingClassifier() 0.28926441351888665\n",
      "Error: GradientBoostingClassifier() 0.3667992047713718\n",
      "Error: MLPClassifier() 0.378727634194831\n",
      "Violation: {'f'} {'c', 'f'} g <pycausal.pycausal.pycausal object at 0x7f4e18272f60>\n",
      "Error: LogisticRegression() 0.24378109452736318\n"
     ]
    },
    {
     "name": "stderr",
     "output_type": "stream",
     "text": [
      "/home/tkyono/anaconda3/lib/python3.6/site-packages/sklearn/linear_model/stochastic_gradient.py:128: FutureWarning: max_iter and tol parameters have been added in <class 'sklearn.linear_model.perceptron.Perceptron'> in 0.19. If both are left unset, they default to max_iter=5 and tol=None. If tol is not None, max_iter defaults to max_iter=1000. From 0.21, default max_iter will be 1000, and default tol will be 1e-3.\n",
      "  \"and default tol will be 1e-3.\" % type(self), FutureWarning)\n"
     ]
    },
    {
     "name": "stdout",
     "output_type": "stream",
     "text": [
      "Error: Perceptron() 0.20398009950248755\n",
      "Error: DecisionTreeClassifier() 0.272636815920398\n",
      "Error: LinearSVC() 0.2965174129353234\n",
      "Error: GaussianNB() 0.36716417910447763\n",
      "Violation: {'f'} {'a', 'd', 'f', 'c', 'e', 'b'} g <pycausal.pycausal.pycausal object at 0x7f4e18272f60>\n",
      "Error: BernoulliNB() 0.2656716417910448\n",
      "Error: LinearDiscriminantAnalysis() 0.3701492537313433\n",
      "Error: RandomForestClassifier() 0.3253731343283582\n",
      "Error: ExtraTreesClassifier() 0.2955223880597015\n",
      "Error: AdaBoostClassifier() 0.2716417910447761\n",
      "Error: BaggingClassifier() 0.3283582089552239\n",
      "Error: GradientBoostingClassifier() 0.3661691542288557\n",
      "Error: MLPClassifier() 0.3761194029850746\n",
      "Violation: {'f'} {'c', 'f'} g <pycausal.pycausal.pycausal object at 0x7f4e18272f60>\n",
      "Error: LogisticRegression() 0.24477611940298508\n"
     ]
    },
    {
     "name": "stderr",
     "output_type": "stream",
     "text": [
      "/home/tkyono/anaconda3/lib/python3.6/site-packages/sklearn/linear_model/stochastic_gradient.py:128: FutureWarning: max_iter and tol parameters have been added in <class 'sklearn.linear_model.perceptron.Perceptron'> in 0.19. If both are left unset, they default to max_iter=5 and tol=None. If tol is not None, max_iter defaults to max_iter=1000. From 0.21, default max_iter will be 1000, and default tol will be 1e-3.\n",
      "  \"and default tol will be 1e-3.\" % type(self), FutureWarning)\n"
     ]
    },
    {
     "name": "stdout",
     "output_type": "stream",
     "text": [
      "Error: Perceptron() 0.16616915422885573\n",
      "Error: DecisionTreeClassifier() 0.27562189054726366\n",
      "Error: LinearSVC() 0.28955223880597014\n",
      "Error: GaussianNB() 0.37512437810945276\n",
      "Violation: {'f'} {'a', 'd', 'f', 'c', 'e', 'b'} g <pycausal.pycausal.pycausal object at 0x7f4e18272f60>\n",
      "Error: BernoulliNB() 0.2626865671641791\n",
      "Error: LinearDiscriminantAnalysis() 0.3800995024875622\n",
      "Error: RandomForestClassifier() 0.33134328358208953\n",
      "Error: ExtraTreesClassifier() 0.30845771144278605\n",
      "Error: AdaBoostClassifier() 0.27064676616915423\n",
      "Error: BaggingClassifier() 0.32039800995024875\n",
      "Error: GradientBoostingClassifier() 0.37910447761194027\n",
      "Error: MLPClassifier() 0.3572139303482587\n",
      "Error: LogisticRegression() 0.25970149253731345\n"
     ]
    },
    {
     "name": "stderr",
     "output_type": "stream",
     "text": [
      "/home/tkyono/anaconda3/lib/python3.6/site-packages/sklearn/linear_model/stochastic_gradient.py:128: FutureWarning: max_iter and tol parameters have been added in <class 'sklearn.linear_model.perceptron.Perceptron'> in 0.19. If both are left unset, they default to max_iter=5 and tol=None. If tol is not None, max_iter defaults to max_iter=1000. From 0.21, default max_iter will be 1000, and default tol will be 1e-3.\n",
      "  \"and default tol will be 1e-3.\" % type(self), FutureWarning)\n"
     ]
    },
    {
     "name": "stdout",
     "output_type": "stream",
     "text": [
      "Error: Perceptron() 0.2099502487562189\n",
      "Violation: {'f'} {'f', 'b'} g <pycausal.pycausal.pycausal object at 0x7f4e18272f60>\n",
      "Error: DecisionTreeClassifier() 0.26666666666666666\n",
      "Error: LinearSVC() 0.29950248756218906\n",
      "Error: GaussianNB() 0.3582089552238806\n",
      "Violation: {'f'} {'a', 'd', 'f', 'c', 'e', 'b'} g <pycausal.pycausal.pycausal object at 0x7f4e18272f60>\n",
      "Error: BernoulliNB() 0.24577114427860697\n",
      "Error: LinearDiscriminantAnalysis() 0.3701492537313433\n",
      "Error: RandomForestClassifier() 0.3034825870646766\n",
      "Error: ExtraTreesClassifier() 0.29950248756218906\n",
      "Error: AdaBoostClassifier() 0.24875621890547264\n",
      "Error: BaggingClassifier() 0.32935323383084575\n",
      "Error: GradientBoostingClassifier() 0.35522388059701493\n",
      "Error: MLPClassifier() 0.36318407960199006\n",
      "Error: LogisticRegression() 0.24975124378109453\n",
      "Violation: {'f'} set() g <pycausal.pycausal.pycausal object at 0x7f4e18272f60>\n"
     ]
    },
    {
     "name": "stderr",
     "output_type": "stream",
     "text": [
      "/home/tkyono/anaconda3/lib/python3.6/site-packages/sklearn/linear_model/stochastic_gradient.py:128: FutureWarning: max_iter and tol parameters have been added in <class 'sklearn.linear_model.perceptron.Perceptron'> in 0.19. If both are left unset, they default to max_iter=5 and tol=None. If tol is not None, max_iter defaults to max_iter=1000. From 0.21, default max_iter will be 1000, and default tol will be 1e-3.\n",
      "  \"and default tol will be 1e-3.\" % type(self), FutureWarning)\n"
     ]
    },
    {
     "name": "stdout",
     "output_type": "stream",
     "text": [
      "Error: Perceptron() 0.23184079601990049\n",
      "Violation: {'f'} {'d', 'f'} g <pycausal.pycausal.pycausal object at 0x7f4e18272f60>\n",
      "Error: DecisionTreeClassifier() 0.27064676616915423\n",
      "Error: LinearSVC() 0.27860696517412936\n",
      "Error: GaussianNB() 0.3661691542288557\n",
      "Violation: {'f'} {'a', 'd', 'f', 'c', 'e', 'b'} g <pycausal.pycausal.pycausal object at 0x7f4e18272f60>\n",
      "Error: BernoulliNB() 0.23781094527363184\n",
      "Error: LinearDiscriminantAnalysis() 0.37512437810945276\n",
      "Error: RandomForestClassifier() 0.2855721393034826\n",
      "Error: ExtraTreesClassifier() 0.2736318407960199\n",
      "Error: AdaBoostClassifier() 0.25970149253731345\n",
      "Error: BaggingClassifier() 0.29054726368159206\n",
      "Error: GradientBoostingClassifier() 0.3611940298507463\n",
      "Error: MLPClassifier() 0.3592039800995025\n",
      "Violation: {'f'} {'a', 'd', 'f', 'e', 'b'} g <pycausal.pycausal.pycausal object at 0x7f4e18272f60>\n",
      "Error: LogisticRegression() 0.25870646766169153\n"
     ]
    },
    {
     "name": "stderr",
     "output_type": "stream",
     "text": [
      "/home/tkyono/anaconda3/lib/python3.6/site-packages/sklearn/linear_model/stochastic_gradient.py:128: FutureWarning: max_iter and tol parameters have been added in <class 'sklearn.linear_model.perceptron.Perceptron'> in 0.19. If both are left unset, they default to max_iter=5 and tol=None. If tol is not None, max_iter defaults to max_iter=1000. From 0.21, default max_iter will be 1000, and default tol will be 1e-3.\n",
      "  \"and default tol will be 1e-3.\" % type(self), FutureWarning)\n"
     ]
    },
    {
     "name": "stdout",
     "output_type": "stream",
     "text": [
      "Error: Perceptron() 0.17114427860696518\n",
      "Error: DecisionTreeClassifier() 0.2855721393034826\n",
      "Error: LinearSVC() 0.28756218905472636\n",
      "Error: GaussianNB() 0.3482587064676617\n",
      "Violation: {'f'} {'a', 'd', 'f', 'c', 'e', 'b'} g <pycausal.pycausal.pycausal object at 0x7f4e18272f60>\n",
      "Error: BernoulliNB() 0.21393034825870647\n",
      "Error: LinearDiscriminantAnalysis() 0.3522388059701492\n",
      "Violation: {'f'} {'c', 'f'} g <pycausal.pycausal.pycausal object at 0x7f4e18272f60>\n",
      "Error: RandomForestClassifier() 0.3034825870646766\n",
      "Error: ExtraTreesClassifier() 0.2845771144278607\n",
      "Error: AdaBoostClassifier() 0.25970149253731345\n",
      "Error: BaggingClassifier() 0.29253731343283584\n",
      "Error: GradientBoostingClassifier() 0.3353233830845771\n",
      "Error: MLPClassifier() 0.35522388059701493\n",
      "Error: LogisticRegression() 0.28955223880597014\n"
     ]
    },
    {
     "name": "stderr",
     "output_type": "stream",
     "text": [
      "/home/tkyono/anaconda3/lib/python3.6/site-packages/sklearn/linear_model/stochastic_gradient.py:128: FutureWarning: max_iter and tol parameters have been added in <class 'sklearn.linear_model.perceptron.Perceptron'> in 0.19. If both are left unset, they default to max_iter=5 and tol=None. If tol is not None, max_iter defaults to max_iter=1000. From 0.21, default max_iter will be 1000, and default tol will be 1e-3.\n",
      "  \"and default tol will be 1e-3.\" % type(self), FutureWarning)\n"
     ]
    },
    {
     "name": "stdout",
     "output_type": "stream",
     "text": [
      "Error: Perceptron() 0.16318407960199005\n",
      "Violation: {'f'} {'d'} g <pycausal.pycausal.pycausal object at 0x7f4e18272f60>\n",
      "Error: DecisionTreeClassifier() 0.2656716417910448\n",
      "Error: LinearSVC() 0.309452736318408\n",
      "Error: GaussianNB() 0.36716417910447763\n",
      "Violation: {'f'} {'a', 'f', 'c', 'e', 'b'} g <pycausal.pycausal.pycausal object at 0x7f4e18272f60>\n",
      "Error: BernoulliNB() 0.24477611940298508\n",
      "Error: LinearDiscriminantAnalysis() 0.36716417910447763\n",
      "Error: RandomForestClassifier() 0.28059701492537314\n",
      "Error: ExtraTreesClassifier() 0.2855721393034826\n",
      "Error: AdaBoostClassifier() 0.27064676616915423\n",
      "Error: BaggingClassifier() 0.3024875621890547\n",
      "Error: GradientBoostingClassifier() 0.34427860696517415\n",
      "Violation: {'f'} {'c', 'f'} g <pycausal.pycausal.pycausal object at 0x7f4e18272f60>\n",
      "Error: MLPClassifier() 0.36019900497512436\n",
      "Error: LogisticRegression() 0.28286852589641437\n"
     ]
    },
    {
     "name": "stderr",
     "output_type": "stream",
     "text": [
      "/home/tkyono/anaconda3/lib/python3.6/site-packages/sklearn/linear_model/stochastic_gradient.py:128: FutureWarning: max_iter and tol parameters have been added in <class 'sklearn.linear_model.perceptron.Perceptron'> in 0.19. If both are left unset, they default to max_iter=5 and tol=None. If tol is not None, max_iter defaults to max_iter=1000. From 0.21, default max_iter will be 1000, and default tol will be 1e-3.\n",
      "  \"and default tol will be 1e-3.\" % type(self), FutureWarning)\n"
     ]
    },
    {
     "name": "stdout",
     "output_type": "stream",
     "text": [
      "Error: Perceptron() 0.17729083665338646\n",
      "Error: DecisionTreeClassifier() 0.2589641434262948\n",
      "Error: LinearSVC() 0.3197211155378486\n",
      "Error: GaussianNB() 0.3794820717131474\n",
      "Violation: {'f'} {'a', 'd', 'f', 'c', 'e', 'b'} g <pycausal.pycausal.pycausal object at 0x7f4e18272f60>\n",
      "Error: BernoulliNB() 0.2450199203187251\n",
      "Error: LinearDiscriminantAnalysis() 0.3934262948207171\n",
      "Error: RandomForestClassifier() 0.31274900398406374\n",
      "Error: ExtraTreesClassifier() 0.30677290836653387\n",
      "Error: AdaBoostClassifier() 0.2729083665338645\n",
      "Error: BaggingClassifier() 0.3237051792828685\n",
      "Error: GradientBoostingClassifier() 0.38147410358565736\n",
      "Error: MLPClassifier() 0.38745019920318724\n",
      "Error: LogisticRegression() 0.2868525896414343\n"
     ]
    },
    {
     "name": "stderr",
     "output_type": "stream",
     "text": [
      "/home/tkyono/anaconda3/lib/python3.6/site-packages/sklearn/linear_model/stochastic_gradient.py:128: FutureWarning: max_iter and tol parameters have been added in <class 'sklearn.linear_model.perceptron.Perceptron'> in 0.19. If both are left unset, they default to max_iter=5 and tol=None. If tol is not None, max_iter defaults to max_iter=1000. From 0.21, default max_iter will be 1000, and default tol will be 1e-3.\n",
      "  \"and default tol will be 1e-3.\" % type(self), FutureWarning)\n"
     ]
    },
    {
     "name": "stdout",
     "output_type": "stream",
     "text": [
      "Error: Perceptron() 0.1553784860557769\n",
      "Error: DecisionTreeClassifier() 0.26593625498007967\n",
      "Error: LinearSVC() 0.30776892430278885\n",
      "Error: GaussianNB() 0.3854581673306773\n",
      "Violation: {'f'} {'a', 'd', 'f', 'c', 'e', 'b'} g <pycausal.pycausal.pycausal object at 0x7f4e18272f60>\n",
      "Error: BernoulliNB() 0.2340637450199203\n",
      "Error: LinearDiscriminantAnalysis() 0.399402390438247\n",
      "Error: RandomForestClassifier() 0.3256972111553785\n",
      "Error: ExtraTreesClassifier() 0.2918326693227092\n",
      "Error: AdaBoostClassifier() 0.27091633466135456\n",
      "Error: BaggingClassifier() 0.3147410358565737\n",
      "Error: GradientBoostingClassifier() 0.3834661354581673\n",
      "Error: MLPClassifier() 0.39741035856573703\n",
      "Violation: {'f'} {'a', 'd', 'f', 'c', 'e', 'b'} g <pycausal.pycausal.pycausal object at 0x7f4e18272f60>\n",
      "Error: LogisticRegression() 0.2811565304087737\n"
     ]
    },
    {
     "name": "stderr",
     "output_type": "stream",
     "text": [
      "/home/tkyono/anaconda3/lib/python3.6/site-packages/sklearn/linear_model/stochastic_gradient.py:128: FutureWarning: max_iter and tol parameters have been added in <class 'sklearn.linear_model.perceptron.Perceptron'> in 0.19. If both are left unset, they default to max_iter=5 and tol=None. If tol is not None, max_iter defaults to max_iter=1000. From 0.21, default max_iter will be 1000, and default tol will be 1e-3.\n",
      "  \"and default tol will be 1e-3.\" % type(self), FutureWarning)\n"
     ]
    },
    {
     "name": "stdout",
     "output_type": "stream",
     "text": [
      "Error: Perceptron() 0.15054835493519442\n",
      "Error: DecisionTreeClassifier() 0.2711864406779661\n",
      "Violation: {'f'} {'c', 'f'} g <pycausal.pycausal.pycausal object at 0x7f4e18272f60>\n",
      "Error: LinearSVC() 0.3040877367896311\n",
      "Error: GaussianNB() 0.37886340977068794\n",
      "Violation: {'f'} {'a', 'd', 'f', 'c', 'e', 'b'} g <pycausal.pycausal.pycausal object at 0x7f4e18272f60>\n",
      "Error: BernoulliNB() 0.23928215353938184\n",
      "Error: LinearDiscriminantAnalysis() 0.36390827517447655\n",
      "Error: RandomForestClassifier() 0.2951146560319043\n",
      "Error: ExtraTreesClassifier() 0.27916251246261214\n",
      "Error: AdaBoostClassifier() 0.26520438683948155\n",
      "Error: BaggingClassifier() 0.3220338983050847\n",
      "Error: GradientBoostingClassifier() 0.353938185443669\n",
      "Error: MLPClassifier() 0.36490528414755735\n",
      "Error: LogisticRegression() 0.27345309381237526\n"
     ]
    },
    {
     "name": "stderr",
     "output_type": "stream",
     "text": [
      "/home/tkyono/anaconda3/lib/python3.6/site-packages/sklearn/linear_model/stochastic_gradient.py:128: FutureWarning: max_iter and tol parameters have been added in <class 'sklearn.linear_model.perceptron.Perceptron'> in 0.19. If both are left unset, they default to max_iter=5 and tol=None. If tol is not None, max_iter defaults to max_iter=1000. From 0.21, default max_iter will be 1000, and default tol will be 1e-3.\n",
      "  \"and default tol will be 1e-3.\" % type(self), FutureWarning)\n"
     ]
    },
    {
     "name": "stdout",
     "output_type": "stream",
     "text": [
      "Error: Perceptron() 0.20359281437125748\n",
      "Violation: {'f'} {'e', 'f'} g <pycausal.pycausal.pycausal object at 0x7f4e18272f60>\n",
      "Error: DecisionTreeClassifier() 0.2465069860279441\n",
      "Error: LinearSVC() 0.3073852295409182\n",
      "Error: GaussianNB() 0.34830339321357284\n",
      "Violation: {'f'} {'a', 'd', 'f', 'c', 'e', 'b'} g <pycausal.pycausal.pycausal object at 0x7f4e18272f60>\n",
      "Error: BernoulliNB() 0.23952095808383234\n",
      "Error: LinearDiscriminantAnalysis() 0.3463073852295409\n",
      "Violation: {'f'} {'a', 'd', 'f', 'c', 'e', 'b'} g <pycausal.pycausal.pycausal object at 0x7f4e18272f60>\n",
      "Error: RandomForestClassifier() 0.27944111776447106\n",
      "Error: ExtraTreesClassifier() 0.282435129740519\n",
      "Error: AdaBoostClassifier() 0.2694610778443114\n",
      "Error: BaggingClassifier() 0.27045908183632733\n",
      "Error: GradientBoostingClassifier() 0.3373253493013972\n",
      "Error: MLPClassifier() 0.3592814371257485\n",
      "Violation: {'f'} {'a', 'd', 'f', 'c', 'e', 'b'} g <pycausal.pycausal.pycausal object at 0x7f4e18272f60>\n",
      "Error: LogisticRegression() 0.2777222777222777\n"
     ]
    },
    {
     "name": "stderr",
     "output_type": "stream",
     "text": [
      "/home/tkyono/anaconda3/lib/python3.6/site-packages/sklearn/linear_model/stochastic_gradient.py:128: FutureWarning: max_iter and tol parameters have been added in <class 'sklearn.linear_model.perceptron.Perceptron'> in 0.19. If both are left unset, they default to max_iter=5 and tol=None. If tol is not None, max_iter defaults to max_iter=1000. From 0.21, default max_iter will be 1000, and default tol will be 1e-3.\n",
      "  \"and default tol will be 1e-3.\" % type(self), FutureWarning)\n"
     ]
    },
    {
     "name": "stdout",
     "output_type": "stream",
     "text": [
      "Error: Perceptron() 0.21478521478521478\n",
      "Violation: {'f'} {'e', 'f'} g <pycausal.pycausal.pycausal object at 0x7f4e18272f60>\n",
      "Error: DecisionTreeClassifier() 0.26673326673326675\n",
      "Error: LinearSVC() 0.2937062937062937\n",
      "Error: GaussianNB() 0.3826173826173826\n",
      "Violation: {'f'} {'a', 'd', 'f', 'c', 'e', 'b'} g <pycausal.pycausal.pycausal object at 0x7f4e18272f60>\n",
      "Error: BernoulliNB() 0.25774225774225773\n",
      "Error: LinearDiscriminantAnalysis() 0.3876123876123876\n",
      "Error: RandomForestClassifier() 0.3196803196803197\n",
      "Error: ExtraTreesClassifier() 0.2907092907092907\n",
      "Error: AdaBoostClassifier() 0.27672327672327673\n",
      "Error: BaggingClassifier() 0.3176823176823177\n",
      "Error: GradientBoostingClassifier() 0.38161838161838163\n",
      "Error: MLPClassifier() 0.3946053946053946\n",
      "Error: LogisticRegression() 0.27672327672327673\n"
     ]
    },
    {
     "name": "stderr",
     "output_type": "stream",
     "text": [
      "/home/tkyono/anaconda3/lib/python3.6/site-packages/sklearn/linear_model/stochastic_gradient.py:128: FutureWarning: max_iter and tol parameters have been added in <class 'sklearn.linear_model.perceptron.Perceptron'> in 0.19. If both are left unset, they default to max_iter=5 and tol=None. If tol is not None, max_iter defaults to max_iter=1000. From 0.21, default max_iter will be 1000, and default tol will be 1e-3.\n",
      "  \"and default tol will be 1e-3.\" % type(self), FutureWarning)\n"
     ]
    },
    {
     "name": "stdout",
     "output_type": "stream",
     "text": [
      "Error: Perceptron() 0.18981018981018982\n",
      "Error: DecisionTreeClassifier() 0.26573426573426573\n",
      "Error: LinearSVC() 0.3146853146853147\n",
      "Error: GaussianNB() 0.36163836163836166\n",
      "Violation: {'f'} {'a', 'd', 'f', 'c', 'e', 'b'} g <pycausal.pycausal.pycausal object at 0x7f4e18272f60>\n",
      "Error: BernoulliNB() 0.24175824175824176\n",
      "Violation: {'f'} {'a', 'f'} g <pycausal.pycausal.pycausal object at 0x7f4e18272f60>\n",
      "Error: LinearDiscriminantAnalysis() 0.37362637362637363\n",
      "Violation: {'f'} {'a', 'f'} g <pycausal.pycausal.pycausal object at 0x7f4e18272f60>\n",
      "Error: RandomForestClassifier() 0.3166833166833167\n",
      "Error: ExtraTreesClassifier() 0.31868131868131866\n",
      "Error: AdaBoostClassifier() 0.2707292707292707\n",
      "Error: BaggingClassifier() 0.3106893106893107\n",
      "Error: GradientBoostingClassifier() 0.35864135864135865\n",
      "Error: MLPClassifier() 0.3706293706293706\n",
      "Error: LogisticRegression() 0.262\n"
     ]
    },
    {
     "name": "stderr",
     "output_type": "stream",
     "text": [
      "/home/tkyono/anaconda3/lib/python3.6/site-packages/sklearn/linear_model/stochastic_gradient.py:128: FutureWarning: max_iter and tol parameters have been added in <class 'sklearn.linear_model.perceptron.Perceptron'> in 0.19. If both are left unset, they default to max_iter=5 and tol=None. If tol is not None, max_iter defaults to max_iter=1000. From 0.21, default max_iter will be 1000, and default tol will be 1e-3.\n",
      "  \"and default tol will be 1e-3.\" % type(self), FutureWarning)\n"
     ]
    },
    {
     "name": "stdout",
     "output_type": "stream",
     "text": [
      "Error: Perceptron() 0.158\n",
      "Violation: {'f'} {'d', 'f'} g <pycausal.pycausal.pycausal object at 0x7f4e18272f60>\n",
      "Error: DecisionTreeClassifier() 0.273\n",
      "Error: LinearSVC() 0.303\n",
      "Error: GaussianNB() 0.369\n",
      "Violation: {'f'} {'a', 'd', 'f', 'c', 'e', 'b'} g <pycausal.pycausal.pycausal object at 0x7f4e18272f60>\n",
      "Error: BernoulliNB() 0.258\n",
      "Error: LinearDiscriminantAnalysis() 0.373\n",
      "Error: RandomForestClassifier() 0.309\n",
      "Error: ExtraTreesClassifier() 0.299\n",
      "Error: AdaBoostClassifier() 0.26\n",
      "Error: BaggingClassifier() 0.3\n",
      "Error: GradientBoostingClassifier() 0.354\n",
      "Error: MLPClassifier() 0.358\n",
      "Violation: {'f'} {'a', 'f'} g <pycausal.pycausal.pycausal object at 0x7f4e18272f60>\n",
      "Error: LogisticRegression() 0.27\n"
     ]
    },
    {
     "name": "stderr",
     "output_type": "stream",
     "text": [
      "/home/tkyono/anaconda3/lib/python3.6/site-packages/sklearn/linear_model/stochastic_gradient.py:128: FutureWarning: max_iter and tol parameters have been added in <class 'sklearn.linear_model.perceptron.Perceptron'> in 0.19. If both are left unset, they default to max_iter=5 and tol=None. If tol is not None, max_iter defaults to max_iter=1000. From 0.21, default max_iter will be 1000, and default tol will be 1e-3.\n",
      "  \"and default tol will be 1e-3.\" % type(self), FutureWarning)\n"
     ]
    },
    {
     "name": "stdout",
     "output_type": "stream",
     "text": [
      "Error: Perceptron() 0.123\n",
      "Violation: {'f'} set() g <pycausal.pycausal.pycausal object at 0x7f4e18272f60>\n",
      "Error: DecisionTreeClassifier() 0.281\n",
      "Error: LinearSVC() 0.317\n",
      "Error: GaussianNB() 0.363\n",
      "Violation: {'f'} {'a', 'd', 'f', 'c', 'e', 'b'} g <pycausal.pycausal.pycausal object at 0x7f4e18272f60>\n",
      "Error: BernoulliNB() 0.254\n",
      "Error: LinearDiscriminantAnalysis() 0.384\n",
      "Error: RandomForestClassifier() 0.327\n",
      "Error: ExtraTreesClassifier() 0.306\n",
      "Error: AdaBoostClassifier() 0.274\n",
      "Error: BaggingClassifier() 0.324\n",
      "Error: GradientBoostingClassifier() 0.359\n",
      "Error: MLPClassifier() 0.375\n",
      "Violation: {'f'} {'a', 'd', 'f', 'c', 'b'} g <pycausal.pycausal.pycausal object at 0x7f4e18272f60>\n",
      "Error: LogisticRegression() 0.2652652652652653\n"
     ]
    },
    {
     "name": "stderr",
     "output_type": "stream",
     "text": [
      "/home/tkyono/anaconda3/lib/python3.6/site-packages/sklearn/linear_model/stochastic_gradient.py:128: FutureWarning: max_iter and tol parameters have been added in <class 'sklearn.linear_model.perceptron.Perceptron'> in 0.19. If both are left unset, they default to max_iter=5 and tol=None. If tol is not None, max_iter defaults to max_iter=1000. From 0.21, default max_iter will be 1000, and default tol will be 1e-3.\n",
      "  \"and default tol will be 1e-3.\" % type(self), FutureWarning)\n"
     ]
    },
    {
     "name": "stdout",
     "output_type": "stream",
     "text": [
      "Error: Perceptron() 0.19519519519519518\n",
      "Error: DecisionTreeClassifier() 0.24124124124124124\n",
      "Error: LinearSVC() 0.3013013013013013\n",
      "Error: GaussianNB() 0.37737737737737737\n",
      "Violation: {'f'} {'a', 'd', 'f', 'c', 'e', 'b'} g <pycausal.pycausal.pycausal object at 0x7f4e18272f60>\n",
      "Error: BernoulliNB() 0.26426426426426425\n",
      "Violation: {'f'} {'a', 'f'} g <pycausal.pycausal.pycausal object at 0x7f4e18272f60>\n",
      "Error: LinearDiscriminantAnalysis() 0.3763763763763764\n",
      "Error: RandomForestClassifier() 0.32732732732732733\n",
      "Error: ExtraTreesClassifier() 0.3013013013013013\n",
      "Error: AdaBoostClassifier() 0.2732732732732733\n",
      "Error: BaggingClassifier() 0.32932932932932935\n",
      "Error: GradientBoostingClassifier() 0.3613613613613614\n",
      "Error: MLPClassifier() 0.3713713713713714\n",
      "Error: LogisticRegression() 0.2685370741482966\n",
      "Violation: {'f'} {'e', 'f', 'b'} g <pycausal.pycausal.pycausal object at 0x7f4e18272f60>\n",
      "Error: Perceptron() 0.10821643286573146\n"
     ]
    },
    {
     "name": "stderr",
     "output_type": "stream",
     "text": [
      "/home/tkyono/anaconda3/lib/python3.6/site-packages/sklearn/linear_model/stochastic_gradient.py:128: FutureWarning: max_iter and tol parameters have been added in <class 'sklearn.linear_model.perceptron.Perceptron'> in 0.19. If both are left unset, they default to max_iter=5 and tol=None. If tol is not None, max_iter defaults to max_iter=1000. From 0.21, default max_iter will be 1000, and default tol will be 1e-3.\n",
      "  \"and default tol will be 1e-3.\" % type(self), FutureWarning)\n"
     ]
    },
    {
     "name": "stdout",
     "output_type": "stream",
     "text": [
      "Violation: {'f'} set() g <pycausal.pycausal.pycausal object at 0x7f4e18272f60>\n",
      "Error: DecisionTreeClassifier() 0.29158316633266534\n",
      "Error: LinearSVC() 0.30561122244488975\n",
      "Error: GaussianNB() 0.3787575150300601\n",
      "Violation: {'f'} {'a', 'd', 'f', 'c', 'e', 'b'} g <pycausal.pycausal.pycausal object at 0x7f4e18272f60>\n",
      "Error: BernoulliNB() 0.26152304609218435\n",
      "Error: LinearDiscriminantAnalysis() 0.3847695390781563\n",
      "Error: RandomForestClassifier() 0.312625250501002\n",
      "Error: ExtraTreesClassifier() 0.3186372745490982\n",
      "Error: AdaBoostClassifier() 0.27655310621242485\n",
      "Error: BaggingClassifier() 0.3336673346693387\n",
      "Error: GradientBoostingClassifier() 0.3687374749498998\n",
      "Error: MLPClassifier() 0.3837675350701403\n",
      "Error: LogisticRegression() 0.2858575727181545\n",
      "Violation: {'e', 'f'} {'f'} g <pycausal.pycausal.pycausal object at 0x7f4e18272f60>\n"
     ]
    },
    {
     "name": "stderr",
     "output_type": "stream",
     "text": [
      "/home/tkyono/anaconda3/lib/python3.6/site-packages/sklearn/linear_model/stochastic_gradient.py:128: FutureWarning: max_iter and tol parameters have been added in <class 'sklearn.linear_model.perceptron.Perceptron'> in 0.19. If both are left unset, they default to max_iter=5 and tol=None. If tol is not None, max_iter defaults to max_iter=1000. From 0.21, default max_iter will be 1000, and default tol will be 1e-3.\n",
      "  \"and default tol will be 1e-3.\" % type(self), FutureWarning)\n"
     ]
    },
    {
     "name": "stdout",
     "output_type": "stream",
     "text": [
      "Error: Perceptron() 0.2316950852557673\n",
      "Violation: {'e', 'f'} {'a', 'f'} g <pycausal.pycausal.pycausal object at 0x7f4e18272f60>\n",
      "Error: DecisionTreeClassifier() 0.275827482447342\n",
      "Violation: {'e', 'f'} {'f'} g <pycausal.pycausal.pycausal object at 0x7f4e18272f60>\n",
      "Error: LinearSVC() 0.3139418254764293\n",
      "Violation: {'e', 'f'} {'f'} g <pycausal.pycausal.pycausal object at 0x7f4e18272f60>\n",
      "Error: GaussianNB() 0.3881644934804413\n",
      "Violation: {'e', 'f'} {'a', 'd', 'f', 'c', 'e', 'b'} g <pycausal.pycausal.pycausal object at 0x7f4e18272f60>\n",
      "Error: BernoulliNB() 0.22567703109327983\n",
      "Violation: {'e', 'f'} {'f'} g <pycausal.pycausal.pycausal object at 0x7f4e18272f60>\n",
      "Error: LinearDiscriminantAnalysis() 0.39117352056168503\n"
     ]
    },
    {
     "name": "stderr",
     "output_type": "stream",
     "text": [
      "/home/tkyono/anaconda3/lib/python3.6/site-packages/sklearn/discriminant_analysis.py:442: UserWarning: The priors do not sum to 1. Renormalizing\n",
      "  UserWarning)\n"
     ]
    },
    {
     "name": "stdout",
     "output_type": "stream",
     "text": [
      "Violation: {'e', 'f'} {'f'} g <pycausal.pycausal.pycausal object at 0x7f4e18272f60>\n",
      "Error: RandomForestClassifier() 0.3039117352056169\n",
      "Violation: {'e', 'f'} {'f'} g <pycausal.pycausal.pycausal object at 0x7f4e18272f60>\n",
      "Error: ExtraTreesClassifier() 0.29989969909729186\n",
      "Violation: {'e', 'f'} {'f'} g <pycausal.pycausal.pycausal object at 0x7f4e18272f60>\n",
      "Error: AdaBoostClassifier() 0.26479438314944836\n",
      "Violation: {'e', 'f'} {'f'} g <pycausal.pycausal.pycausal object at 0x7f4e18272f60>\n",
      "Error: BaggingClassifier() 0.3239719157472417\n",
      "Violation: {'e', 'f'} {'f'} g <pycausal.pycausal.pycausal object at 0x7f4e18272f60>\n",
      "Error: GradientBoostingClassifier() 0.36609829488465395\n",
      "Violation: {'e', 'f'} {'f'} g <pycausal.pycausal.pycausal object at 0x7f4e18272f60>\n",
      "Error: MLPClassifier() 0.3630892678034102\n",
      "Violation: {'e', 'f'} {'f'} g <pycausal.pycausal.pycausal object at 0x7f4e18272f60>\n",
      "Error: LogisticRegression() 0.2948846539618857\n"
     ]
    },
    {
     "name": "stderr",
     "output_type": "stream",
     "text": [
      "/home/tkyono/anaconda3/lib/python3.6/site-packages/sklearn/linear_model/stochastic_gradient.py:128: FutureWarning: max_iter and tol parameters have been added in <class 'sklearn.linear_model.perceptron.Perceptron'> in 0.19. If both are left unset, they default to max_iter=5 and tol=None. If tol is not None, max_iter defaults to max_iter=1000. From 0.21, default max_iter will be 1000, and default tol will be 1e-3.\n",
      "  \"and default tol will be 1e-3.\" % type(self), FutureWarning)\n"
     ]
    },
    {
     "name": "stdout",
     "output_type": "stream",
     "text": [
      "Error: Perceptron() 0.2136409227683049\n",
      "Error: DecisionTreeClassifier() 0.2748244734202608\n",
      "Error: LinearSVC() 0.3159478435305918\n",
      "Error: GaussianNB() 0.36609829488465395\n",
      "Violation: {'f'} set() g <pycausal.pycausal.pycausal object at 0x7f4e18272f60>\n",
      "Error: BernoulliNB() 0.24473420260782347\n"
     ]
    },
    {
     "name": "stderr",
     "output_type": "stream",
     "text": [
      "/home/tkyono/anaconda3/lib/python3.6/site-packages/sklearn/discriminant_analysis.py:442: UserWarning: The priors do not sum to 1. Renormalizing\n",
      "  UserWarning)\n"
     ]
    },
    {
     "name": "stdout",
     "output_type": "stream",
     "text": [
      "Error: LinearDiscriminantAnalysis() 0.3691073219658977\n",
      "Violation: {'f'} {'a', 'd', 'c', 'f'} g <pycausal.pycausal.pycausal object at 0x7f4e18272f60>\n",
      "Error: RandomForestClassifier() 0.30792377131394183\n",
      "Error: ExtraTreesClassifier() 0.316950852557673\n",
      "Error: AdaBoostClassifier() 0.2657973921765296\n",
      "Error: BaggingClassifier() 0.31093279839518556\n",
      "Error: GradientBoostingClassifier() 0.35005015045135407\n",
      "Error: MLPClassifier() 0.3650952858575727\n",
      "Violation: {'f'} {'a', 'f'} g <pycausal.pycausal.pycausal object at 0x7f4e18272f60>\n",
      "Error: LogisticRegression() 0.2748244734202608\n"
     ]
    },
    {
     "name": "stderr",
     "output_type": "stream",
     "text": [
      "/home/tkyono/anaconda3/lib/python3.6/site-packages/sklearn/linear_model/stochastic_gradient.py:128: FutureWarning: max_iter and tol parameters have been added in <class 'sklearn.linear_model.perceptron.Perceptron'> in 0.19. If both are left unset, they default to max_iter=5 and tol=None. If tol is not None, max_iter defaults to max_iter=1000. From 0.21, default max_iter will be 1000, and default tol will be 1e-3.\n",
      "  \"and default tol will be 1e-3.\" % type(self), FutureWarning)\n"
     ]
    },
    {
     "name": "stdout",
     "output_type": "stream",
     "text": [
      "Error: Perceptron() 0.21865596790371114\n",
      "Violation: {'f'} {'f', 'b'} g <pycausal.pycausal.pycausal object at 0x7f4e18272f60>\n",
      "Error: DecisionTreeClassifier() 0.26278836509528586\n",
      "Error: LinearSVC() 0.30090270812437314\n",
      "Error: GaussianNB() 0.3811434302908726\n",
      "Violation: {'f'} {'a', 'd', 'f', 'c', 'e', 'b'} g <pycausal.pycausal.pycausal object at 0x7f4e18272f60>\n",
      "Error: BernoulliNB() 0.23069207622868607\n"
     ]
    },
    {
     "name": "stderr",
     "output_type": "stream",
     "text": [
      "/home/tkyono/anaconda3/lib/python3.6/site-packages/sklearn/discriminant_analysis.py:442: UserWarning: The priors do not sum to 1. Renormalizing\n",
      "  UserWarning)\n"
     ]
    },
    {
     "name": "stdout",
     "output_type": "stream",
     "text": [
      "Error: LinearDiscriminantAnalysis() 0.3831494483450351\n",
      "Error: RandomForestClassifier() 0.3239719157472417\n",
      "Error: ExtraTreesClassifier() 0.3139418254764293\n",
      "Error: AdaBoostClassifier() 0.2848545636910732\n",
      "Error: BaggingClassifier() 0.3039117352056169\n",
      "Error: GradientBoostingClassifier() 0.3711133400200602\n",
      "Error: MLPClassifier() 0.38515546639919757\n",
      "Error: LogisticRegression() 0.2793969849246231\n",
      "Violation: {'f'} set() g <pycausal.pycausal.pycausal object at 0x7f4e18272f60>\n"
     ]
    },
    {
     "name": "stderr",
     "output_type": "stream",
     "text": [
      "/home/tkyono/anaconda3/lib/python3.6/site-packages/sklearn/linear_model/stochastic_gradient.py:128: FutureWarning: max_iter and tol parameters have been added in <class 'sklearn.linear_model.perceptron.Perceptron'> in 0.19. If both are left unset, they default to max_iter=5 and tol=None. If tol is not None, max_iter defaults to max_iter=1000. From 0.21, default max_iter will be 1000, and default tol will be 1e-3.\n",
      "  \"and default tol will be 1e-3.\" % type(self), FutureWarning)\n"
     ]
    },
    {
     "name": "stdout",
     "output_type": "stream",
     "text": [
      "Error: Perceptron() 0.1678391959798995\n",
      "Error: DecisionTreeClassifier() 0.27738693467336684\n",
      "Error: LinearSVC() 0.30452261306532663\n",
      "Error: GaussianNB() 0.3698492462311558\n",
      "Violation: {'f'} {'a', 'd', 'f', 'c', 'e', 'b'} g <pycausal.pycausal.pycausal object at 0x7f4e18272f60>\n",
      "Error: BernoulliNB() 0.24723618090452262\n",
      "Violation: {'f'} {'a', 'f'} g <pycausal.pycausal.pycausal object at 0x7f4e18272f60>\n",
      "Error: LinearDiscriminantAnalysis() 0.3708542713567839\n",
      "Error: RandomForestClassifier() 0.2964824120603015\n",
      "Error: ExtraTreesClassifier() 0.30251256281407035\n",
      "Error: AdaBoostClassifier() 0.26532663316582916\n",
      "Error: BaggingClassifier() 0.3075376884422111\n",
      "Error: GradientBoostingClassifier() 0.35577889447236183\n",
      "Error: MLPClassifier() 0.36381909547738694\n",
      "Error: LogisticRegression() 0.26532663316582916\n"
     ]
    },
    {
     "name": "stderr",
     "output_type": "stream",
     "text": [
      "/home/tkyono/anaconda3/lib/python3.6/site-packages/sklearn/linear_model/stochastic_gradient.py:128: FutureWarning: max_iter and tol parameters have been added in <class 'sklearn.linear_model.perceptron.Perceptron'> in 0.19. If both are left unset, they default to max_iter=5 and tol=None. If tol is not None, max_iter defaults to max_iter=1000. From 0.21, default max_iter will be 1000, and default tol will be 1e-3.\n",
      "  \"and default tol will be 1e-3.\" % type(self), FutureWarning)\n"
     ]
    },
    {
     "name": "stdout",
     "output_type": "stream",
     "text": [
      "Error: Perceptron() 0.22914572864321608\n",
      "Error: DecisionTreeClassifier() 0.2804020100502513\n",
      "Error: LinearSVC() 0.2984924623115578\n",
      "Error: GaussianNB() 0.37386934673366834\n",
      "Violation: {'f'} {'a', 'd', 'f', 'c', 'e', 'b'} g <pycausal.pycausal.pycausal object at 0x7f4e18272f60>\n",
      "Error: BernoulliNB() 0.2371859296482412\n",
      "Error: LinearDiscriminantAnalysis() 0.36683417085427134\n",
      "Error: RandomForestClassifier() 0.3155778894472362\n",
      "Error: ExtraTreesClassifier() 0.3005025125628141\n",
      "Error: AdaBoostClassifier() 0.264321608040201\n",
      "Error: BaggingClassifier() 0.3155778894472362\n",
      "Error: GradientBoostingClassifier() 0.36180904522613067\n",
      "Error: MLPClassifier() 0.38090452261306534\n",
      "Error: LogisticRegression() 0.2595573440643863\n"
     ]
    },
    {
     "name": "stderr",
     "output_type": "stream",
     "text": [
      "/home/tkyono/anaconda3/lib/python3.6/site-packages/sklearn/linear_model/stochastic_gradient.py:128: FutureWarning: max_iter and tol parameters have been added in <class 'sklearn.linear_model.perceptron.Perceptron'> in 0.19. If both are left unset, they default to max_iter=5 and tol=None. If tol is not None, max_iter defaults to max_iter=1000. From 0.21, default max_iter will be 1000, and default tol will be 1e-3.\n",
      "  \"and default tol will be 1e-3.\" % type(self), FutureWarning)\n"
     ]
    },
    {
     "name": "stdout",
     "output_type": "stream",
     "text": [
      "Error: Perceptron() 0.15995975855130784\n",
      "Violation: {'f'} set() g <pycausal.pycausal.pycausal object at 0x7f4e18272f60>\n",
      "Error: DecisionTreeClassifier() 0.27565392354124746\n",
      "Error: LinearSVC() 0.3158953722334004\n",
      "Error: GaussianNB() 0.3702213279678068\n",
      "Violation: {'f'} {'a', 'd', 'f', 'c', 'e', 'b'} g <pycausal.pycausal.pycausal object at 0x7f4e18272f60>\n",
      "Error: BernoulliNB() 0.23641851106639838\n",
      "Error: LinearDiscriminantAnalysis() 0.3611670020120724\n",
      "Error: RandomForestClassifier() 0.2917505030181087\n",
      "Error: ExtraTreesClassifier() 0.28470824949698187\n",
      "Error: AdaBoostClassifier() 0.27062374245472837\n",
      "Error: BaggingClassifier() 0.289738430583501\n",
      "Error: GradientBoostingClassifier() 0.3682092555331992\n",
      "Error: MLPClassifier() 0.3420523138832998\n",
      "Error: LogisticRegression() 0.2716297786720322\n"
     ]
    },
    {
     "name": "stderr",
     "output_type": "stream",
     "text": [
      "/home/tkyono/anaconda3/lib/python3.6/site-packages/sklearn/linear_model/stochastic_gradient.py:128: FutureWarning: max_iter and tol parameters have been added in <class 'sklearn.linear_model.perceptron.Perceptron'> in 0.19. If both are left unset, they default to max_iter=5 and tol=None. If tol is not None, max_iter defaults to max_iter=1000. From 0.21, default max_iter will be 1000, and default tol will be 1e-3.\n",
      "  \"and default tol will be 1e-3.\" % type(self), FutureWarning)\n"
     ]
    },
    {
     "name": "stdout",
     "output_type": "stream",
     "text": [
      "Error: Perceptron() 0.2062374245472837\n",
      "Violation: {'f'} {'c', 'f'} g <pycausal.pycausal.pycausal object at 0x7f4e18272f60>\n",
      "Error: DecisionTreeClassifier() 0.2947686116700201\n",
      "Error: LinearSVC() 0.2947686116700201\n",
      "Error: GaussianNB() 0.3702213279678068\n",
      "Violation: {'f'} {'a', 'd', 'f', 'c', 'e', 'b'} g <pycausal.pycausal.pycausal object at 0x7f4e18272f60>\n",
      "Error: BernoulliNB() 0.23843058350100604\n",
      "Error: LinearDiscriminantAnalysis() 0.3702213279678068\n",
      "Error: RandomForestClassifier() 0.3118712273641851\n",
      "Error: ExtraTreesClassifier() 0.3299798792756539\n",
      "Error: AdaBoostClassifier() 0.2545271629778672\n",
      "Error: BaggingClassifier() 0.3209255533199195\n",
      "Error: GradientBoostingClassifier() 0.358148893360161\n",
      "Error: MLPClassifier() 0.3611670020120724\n",
      "Error: LogisticRegression() 0.2676056338028169\n"
     ]
    },
    {
     "name": "stderr",
     "output_type": "stream",
     "text": [
      "/home/tkyono/anaconda3/lib/python3.6/site-packages/sklearn/linear_model/stochastic_gradient.py:128: FutureWarning: max_iter and tol parameters have been added in <class 'sklearn.linear_model.perceptron.Perceptron'> in 0.19. If both are left unset, they default to max_iter=5 and tol=None. If tol is not None, max_iter defaults to max_iter=1000. From 0.21, default max_iter will be 1000, and default tol will be 1e-3.\n",
      "  \"and default tol will be 1e-3.\" % type(self), FutureWarning)\n"
     ]
    },
    {
     "name": "stdout",
     "output_type": "stream",
     "text": [
      "Error: Perceptron() 0.2152917505030181\n",
      "Error: DecisionTreeClassifier() 0.2776659959758551\n",
      "Error: LinearSVC() 0.3008048289738431\n",
      "Error: GaussianNB() 0.36519114688128773\n",
      "Violation: {'f'} {'a', 'd', 'f', 'c', 'e', 'b'} g <pycausal.pycausal.pycausal object at 0x7f4e18272f60>\n",
      "Error: BernoulliNB() 0.24849094567404426\n",
      "Error: LinearDiscriminantAnalysis() 0.3682092555331992\n",
      "Violation: {'f'} {'a', 'd', 'f', 'c', 'e', 'b'} g <pycausal.pycausal.pycausal object at 0x7f4e18272f60>\n",
      "Error: RandomForestClassifier() 0.2987927565392354\n",
      "Error: ExtraTreesClassifier() 0.2837022132796781\n",
      "Error: AdaBoostClassifier() 0.27364185110663986\n",
      "Error: BaggingClassifier() 0.31086519114688127\n",
      "Error: GradientBoostingClassifier() 0.3501006036217304\n",
      "Error: MLPClassifier() 0.3702213279678068\n",
      "Violation: {'f'} set() g <pycausal.pycausal.pycausal object at 0x7f4e18272f60>\n",
      "Error: LogisticRegression() 0.2605633802816901\n"
     ]
    },
    {
     "name": "stderr",
     "output_type": "stream",
     "text": [
      "/home/tkyono/anaconda3/lib/python3.6/site-packages/sklearn/linear_model/stochastic_gradient.py:128: FutureWarning: max_iter and tol parameters have been added in <class 'sklearn.linear_model.perceptron.Perceptron'> in 0.19. If both are left unset, they default to max_iter=5 and tol=None. If tol is not None, max_iter defaults to max_iter=1000. From 0.21, default max_iter will be 1000, and default tol will be 1e-3.\n",
      "  \"and default tol will be 1e-3.\" % type(self), FutureWarning)\n"
     ]
    },
    {
     "name": "stdout",
     "output_type": "stream",
     "text": [
      "Error: Perceptron() 0.18309859154929578\n",
      "Error: DecisionTreeClassifier() 0.2625754527162978\n",
      "Error: LinearSVC() 0.29577464788732394\n",
      "Error: GaussianNB() 0.38329979879275655\n",
      "Violation: {'f'} {'a', 'd', 'f', 'c', 'b'} g <pycausal.pycausal.pycausal object at 0x7f4e18272f60>\n",
      "Error: BernoulliNB() 0.24346076458752516\n",
      "Error: LinearDiscriminantAnalysis() 0.3641851106639839\n",
      "Error: RandomForestClassifier() 0.3028169014084507\n",
      "Error: ExtraTreesClassifier() 0.28772635814889336\n",
      "Error: AdaBoostClassifier() 0.2665995975855131\n",
      "Error: BaggingClassifier() 0.3148893360160966\n",
      "Error: GradientBoostingClassifier() 0.36016096579476864\n",
      "Error: MLPClassifier() 0.3682092555331992\n",
      "Error: LogisticRegression() 0.2618328298086606\n"
     ]
    },
    {
     "name": "stderr",
     "output_type": "stream",
     "text": [
      "/home/tkyono/anaconda3/lib/python3.6/site-packages/sklearn/linear_model/stochastic_gradient.py:128: FutureWarning: max_iter and tol parameters have been added in <class 'sklearn.linear_model.perceptron.Perceptron'> in 0.19. If both are left unset, they default to max_iter=5 and tol=None. If tol is not None, max_iter defaults to max_iter=1000. From 0.21, default max_iter will be 1000, and default tol will be 1e-3.\n",
      "  \"and default tol will be 1e-3.\" % type(self), FutureWarning)\n"
     ]
    },
    {
     "name": "stdout",
     "output_type": "stream",
     "text": [
      "Error: Perceptron() 0.21953675730110775\n",
      "Violation: {'f'} {'a', 'f'} g <pycausal.pycausal.pycausal object at 0x7f4e18272f60>\n",
      "Error: DecisionTreeClassifier() 0.2719033232628399\n",
      "Error: LinearSVC() 0.3162134944612286\n",
      "Error: GaussianNB() 0.364551863041289\n",
      "Violation: {'f'} {'a', 'd', 'f', 'c', 'e', 'b'} g <pycausal.pycausal.pycausal object at 0x7f4e18272f60>\n",
      "Error: BernoulliNB() 0.2457200402819738\n",
      "Error: LinearDiscriminantAnalysis() 0.3716012084592145\n",
      "Error: RandomForestClassifier() 0.31017119838872104\n",
      "Error: ExtraTreesClassifier() 0.2980866062437059\n",
      "Error: AdaBoostClassifier() 0.2618328298086606\n",
      "Error: BaggingClassifier() 0.297079556898288\n",
      "Error: GradientBoostingClassifier() 0.35246727089627394\n",
      "Error: MLPClassifier() 0.3766364551863041\n",
      "Violation: {'f'} {'a', 'd', 'f', 'c', 'e', 'b'} g <pycausal.pycausal.pycausal object at 0x7f4e18272f60>\n",
      "Error: LogisticRegression() 0.283987915407855\n"
     ]
    },
    {
     "name": "stderr",
     "output_type": "stream",
     "text": [
      "/home/tkyono/anaconda3/lib/python3.6/site-packages/sklearn/linear_model/stochastic_gradient.py:128: FutureWarning: max_iter and tol parameters have been added in <class 'sklearn.linear_model.perceptron.Perceptron'> in 0.19. If both are left unset, they default to max_iter=5 and tol=None. If tol is not None, max_iter defaults to max_iter=1000. From 0.21, default max_iter will be 1000, and default tol will be 1e-3.\n",
      "  \"and default tol will be 1e-3.\" % type(self), FutureWarning)\n"
     ]
    },
    {
     "name": "stdout",
     "output_type": "stream",
     "text": [
      "Error: Perceptron() 0.19838872104733132\n",
      "Violation: {'f'} {'c', 'f'} g <pycausal.pycausal.pycausal object at 0x7f4e18272f60>\n",
      "Error: DecisionTreeClassifier() 0.3021148036253776\n",
      "Error: LinearSVC() 0.3081570996978852\n",
      "Error: GaussianNB() 0.37462235649546827\n",
      "Violation: {'f'} {'a', 'd', 'f', 'c', 'b'} g <pycausal.pycausal.pycausal object at 0x7f4e18272f60>\n",
      "Error: BernoulliNB() 0.2588116817724068\n",
      "Error: LinearDiscriminantAnalysis() 0.3826787512588117\n",
      "Error: RandomForestClassifier() 0.30614300100704933\n",
      "Error: ExtraTreesClassifier() 0.33131923464249746\n",
      "Error: AdaBoostClassifier() 0.27492447129909364\n",
      "Error: BaggingClassifier() 0.3333333333333333\n",
      "Error: GradientBoostingClassifier() 0.3806646525679758\n",
      "Error: MLPClassifier() 0.3826787512588117\n",
      "Error: LogisticRegression() 0.2752016129032258\n"
     ]
    },
    {
     "name": "stderr",
     "output_type": "stream",
     "text": [
      "/home/tkyono/anaconda3/lib/python3.6/site-packages/sklearn/linear_model/stochastic_gradient.py:128: FutureWarning: max_iter and tol parameters have been added in <class 'sklearn.linear_model.perceptron.Perceptron'> in 0.19. If both are left unset, they default to max_iter=5 and tol=None. If tol is not None, max_iter defaults to max_iter=1000. From 0.21, default max_iter will be 1000, and default tol will be 1e-3.\n",
      "  \"and default tol will be 1e-3.\" % type(self), FutureWarning)\n"
     ]
    },
    {
     "name": "stdout",
     "output_type": "stream",
     "text": [
      "Error: Perceptron() 0.1844758064516129\n",
      "Violation: {'f'} {'c', 'f'} g <pycausal.pycausal.pycausal object at 0x7f4e18272f60>\n",
      "Error: DecisionTreeClassifier() 0.26411290322580644\n",
      "Error: LinearSVC() 0.3084677419354839\n",
      "Error: GaussianNB() 0.3467741935483871\n",
      "Violation: {'f'} {'a', 'd', 'f', 'c', 'e', 'b'} g <pycausal.pycausal.pycausal object at 0x7f4e18272f60>\n",
      "Error: BernoulliNB() 0.2469758064516129\n",
      "Error: LinearDiscriminantAnalysis() 0.3558467741935484\n",
      "Error: RandomForestClassifier() 0.2963709677419355\n",
      "Error: ExtraTreesClassifier() 0.3084677419354839\n",
      "Error: AdaBoostClassifier() 0.26814516129032256\n",
      "Error: BaggingClassifier() 0.31350806451612906\n",
      "Error: GradientBoostingClassifier() 0.3548387096774194\n",
      "Error: MLPClassifier() 0.35786290322580644\n",
      "Error: LogisticRegression() 0.29939516129032256\n"
     ]
    },
    {
     "name": "stderr",
     "output_type": "stream",
     "text": [
      "/home/tkyono/anaconda3/lib/python3.6/site-packages/sklearn/linear_model/stochastic_gradient.py:128: FutureWarning: max_iter and tol parameters have been added in <class 'sklearn.linear_model.perceptron.Perceptron'> in 0.19. If both are left unset, they default to max_iter=5 and tol=None. If tol is not None, max_iter defaults to max_iter=1000. From 0.21, default max_iter will be 1000, and default tol will be 1e-3.\n",
      "  \"and default tol will be 1e-3.\" % type(self), FutureWarning)\n"
     ]
    },
    {
     "name": "stdout",
     "output_type": "stream",
     "text": [
      "Error: Perceptron() 0.20262096774193547\n",
      "Violation: {'f'} {'f', 'b'} g <pycausal.pycausal.pycausal object at 0x7f4e18272f60>\n",
      "Error: DecisionTreeClassifier() 0.2782258064516129\n",
      "Error: LinearSVC() 0.29536290322580644\n",
      "Error: GaussianNB() 0.35685483870967744\n",
      "Violation: {'f'} {'a', 'd', 'f', 'c', 'e', 'b'} g <pycausal.pycausal.pycausal object at 0x7f4e18272f60>\n",
      "Error: BernoulliNB() 0.25100806451612906\n",
      "Error: LinearDiscriminantAnalysis() 0.3497983870967742\n",
      "Error: RandomForestClassifier() 0.2923387096774194\n",
      "Violation: {'f'} set() g <pycausal.pycausal.pycausal object at 0x7f4e18272f60>\n",
      "Error: ExtraTreesClassifier() 0.3034274193548387\n",
      "Error: AdaBoostClassifier() 0.26310483870967744\n",
      "Error: BaggingClassifier() 0.30443548387096775\n",
      "Error: GradientBoostingClassifier() 0.3598790322580645\n",
      "Error: MLPClassifier() 0.35181451612903225\n",
      "Violation: {'f'} set() g <pycausal.pycausal.pycausal object at 0x7f4e18272f60>\n",
      "Error: LogisticRegression() 0.2762096774193548\n"
     ]
    },
    {
     "name": "stderr",
     "output_type": "stream",
     "text": [
      "/home/tkyono/anaconda3/lib/python3.6/site-packages/sklearn/linear_model/stochastic_gradient.py:128: FutureWarning: max_iter and tol parameters have been added in <class 'sklearn.linear_model.perceptron.Perceptron'> in 0.19. If both are left unset, they default to max_iter=5 and tol=None. If tol is not None, max_iter defaults to max_iter=1000. From 0.21, default max_iter will be 1000, and default tol will be 1e-3.\n",
      "  \"and default tol will be 1e-3.\" % type(self), FutureWarning)\n"
     ]
    },
    {
     "name": "stdout",
     "output_type": "stream",
     "text": [
      "Error: Perceptron() 0.17641129032258066\n",
      "Violation: {'f'} {'a', 'f'} g <pycausal.pycausal.pycausal object at 0x7f4e18272f60>\n",
      "Error: DecisionTreeClassifier() 0.2540322580645161\n",
      "Error: LinearSVC() 0.31048387096774194\n",
      "Error: GaussianNB() 0.36088709677419356\n",
      "Violation: {'f'} {'a', 'd', 'f', 'c', 'e', 'b'} g <pycausal.pycausal.pycausal object at 0x7f4e18272f60>\n",
      "Error: BernoulliNB() 0.24193548387096775\n",
      "Error: LinearDiscriminantAnalysis() 0.34475806451612906\n",
      "Violation: {'f'} {'c', 'f'} g <pycausal.pycausal.pycausal object at 0x7f4e18272f60>\n",
      "Error: RandomForestClassifier() 0.3185483870967742\n",
      "Error: ExtraTreesClassifier() 0.3175403225806452\n",
      "Error: AdaBoostClassifier() 0.25\n",
      "Error: BaggingClassifier() 0.29536290322580644\n",
      "Error: GradientBoostingClassifier() 0.3497983870967742\n",
      "Error: MLPClassifier() 0.3558467741935484\n",
      "Error: LogisticRegression() 0.26310483870967744\n"
     ]
    },
    {
     "name": "stderr",
     "output_type": "stream",
     "text": [
      "/home/tkyono/anaconda3/lib/python3.6/site-packages/sklearn/linear_model/stochastic_gradient.py:128: FutureWarning: max_iter and tol parameters have been added in <class 'sklearn.linear_model.perceptron.Perceptron'> in 0.19. If both are left unset, they default to max_iter=5 and tol=None. If tol is not None, max_iter defaults to max_iter=1000. From 0.21, default max_iter will be 1000, and default tol will be 1e-3.\n",
      "  \"and default tol will be 1e-3.\" % type(self), FutureWarning)\n"
     ]
    },
    {
     "name": "stdout",
     "output_type": "stream",
     "text": [
      "Error: Perceptron() 0.18850806451612903\n",
      "Error: DecisionTreeClassifier() 0.2711693548387097\n",
      "Error: LinearSVC() 0.3004032258064516\n",
      "Error: GaussianNB() 0.3639112903225806\n",
      "Violation: {'f'} {'a', 'd', 'f', 'c', 'e', 'b'} g <pycausal.pycausal.pycausal object at 0x7f4e18272f60>\n",
      "Error: BernoulliNB() 0.24193548387096775\n",
      "Error: LinearDiscriminantAnalysis() 0.3639112903225806\n",
      "Error: RandomForestClassifier() 0.31350806451612906\n",
      "Error: ExtraTreesClassifier() 0.3064516129032258\n",
      "Error: AdaBoostClassifier() 0.26411290322580644\n",
      "Error: BaggingClassifier() 0.32963709677419356\n",
      "Error: GradientBoostingClassifier() 0.3588709677419355\n",
      "Error: MLPClassifier() 0.38205645161290325\n",
      "Error: LogisticRegression() 0.272452068617558\n"
     ]
    },
    {
     "name": "stderr",
     "output_type": "stream",
     "text": [
      "/home/tkyono/anaconda3/lib/python3.6/site-packages/sklearn/linear_model/stochastic_gradient.py:128: FutureWarning: max_iter and tol parameters have been added in <class 'sklearn.linear_model.perceptron.Perceptron'> in 0.19. If both are left unset, they default to max_iter=5 and tol=None. If tol is not None, max_iter defaults to max_iter=1000. From 0.21, default max_iter will be 1000, and default tol will be 1e-3.\n",
      "  \"and default tol will be 1e-3.\" % type(self), FutureWarning)\n"
     ]
    },
    {
     "name": "stdout",
     "output_type": "stream",
     "text": [
      "Error: Perceptron() 0.11402623612512613\n",
      "Violation: {'f'} set() g <pycausal.pycausal.pycausal object at 0x7f4e18272f60>\n",
      "Error: DecisionTreeClassifier() 0.2704339051463169\n",
      "Error: LinearSVC() 0.2976791120080727\n",
      "Error: GaussianNB() 0.3784056508577195\n",
      "Violation: {'f'} {'a', 'd', 'f', 'c', 'e', 'b'} g <pycausal.pycausal.pycausal object at 0x7f4e18272f60>\n",
      "Error: BernoulliNB() 0.24217961654894046\n",
      "Error: LinearDiscriminantAnalysis() 0.36528758829465185\n",
      "Error: RandomForestClassifier() 0.29969727547931385\n",
      "Error: ExtraTreesClassifier() 0.29364278506559033\n",
      "Error: AdaBoostClassifier() 0.2704339051463169\n",
      "Error: BaggingClassifier() 0.32996972754793136\n",
      "Error: GradientBoostingClassifier() 0.34712411705348134\n",
      "Error: MLPClassifier() 0.36730575176589303\n",
      "Violation: {'f'} {'f', 'b'} g <pycausal.pycausal.pycausal object at 0x7f4e18272f60>\n",
      "Error: LogisticRegression() 0.28456104944500504\n"
     ]
    },
    {
     "name": "stderr",
     "output_type": "stream",
     "text": [
      "/home/tkyono/anaconda3/lib/python3.6/site-packages/sklearn/linear_model/stochastic_gradient.py:128: FutureWarning: max_iter and tol parameters have been added in <class 'sklearn.linear_model.perceptron.Perceptron'> in 0.19. If both are left unset, they default to max_iter=5 and tol=None. If tol is not None, max_iter defaults to max_iter=1000. From 0.21, default max_iter will be 1000, and default tol will be 1e-3.\n",
      "  \"and default tol will be 1e-3.\" % type(self), FutureWarning)\n"
     ]
    },
    {
     "name": "stdout",
     "output_type": "stream",
     "text": [
      "Error: Perceptron() 0.10898082744702321\n",
      "Violation: {'f'} set() g <pycausal.pycausal.pycausal object at 0x7f4e18272f60>\n",
      "Error: DecisionTreeClassifier() 0.2694248234106963\n",
      "Error: LinearSVC() 0.31079717457114026\n",
      "Error: GaussianNB() 0.384460141271443\n",
      "Violation: {'f'} {'a', 'd', 'f', 'c', 'e', 'b'} g <pycausal.pycausal.pycausal object at 0x7f4e18272f60>\n",
      "Error: BernoulliNB() 0.23814328960645811\n",
      "Error: LinearDiscriminantAnalysis() 0.38042381432896066\n",
      "Error: RandomForestClassifier() 0.3007063572149344\n",
      "Error: ExtraTreesClassifier() 0.3360242179616549\n",
      "Error: AdaBoostClassifier() 0.26437941473259335\n",
      "Error: BaggingClassifier() 0.30272452068617556\n",
      "Error: GradientBoostingClassifier() 0.3612512613521695\n",
      "Error: MLPClassifier() 0.36629667003027244\n",
      "Violations =  [ 5. 21.  2.  1. 40.  4.  7.  5.  1.  1.  1.  3. 15.]\n",
      "Model_name =  LogisticRegression() Violations =  5.0\n",
      "Average_violations =  0.030000000000000006 0.08426149773176358\n",
      "Accuracy =  0.2719357924703506 0.012704968989840538 MSE =  2.1591662382604198 0.07717034608946367\n",
      "Model_name =  Perceptron() Violations =  21.0\n",
      "Average_violations =  0.125 0.13181426326464069\n",
      "Accuracy =  0.18360832078065076 0.03268530254821634 MSE =  4.996569324977996 1.7784586297183103\n",
      "Model_name =  DecisionTreeClassifier() Violations =  2.0\n",
      "Average_violations =  0.01 0.04358898943540674\n",
      "Accuracy =  0.27153721594899854 0.011524320733645442 MSE =  2.1973493785324103 0.10537524874782324\n",
      "Model_name =  LinearSVC() Violations =  1.0\n",
      "Average_violations =  0.005 0.03122498999199199\n",
      "Accuracy =  0.30450218840844406 0.009583066492880094 MSE =  1.8667349956009467 0.07505845101893867\n",
      "Model_name =  GaussianNB() Violations =  40.0\n",
      "Average_violations =  0.96 0.13564659966250536\n",
      "Accuracy =  0.36881105842867423 0.01266105304132096 MSE =  1.1913456030795557 0.04159871631092531\n",
      "Model_name =  BernoulliNB() Violations =  4.0\n",
      "Average_violations =  0.02 0.060000000000000005\n",
      "Accuracy =  0.2452449827407536 0.011060013803140797 MSE =  3.0097563291354534 0.14023233478161667\n",
      "Model_name =  LinearDiscriminantAnalysis() Violations =  7.0\n",
      "Average_violations =  0.08499999999999999 0.23616731357239087\n",
      "Accuracy =  0.37141117401308205 0.013968871798877031 MSE =  1.1637576290644218 0.03486868366927182\n",
      "Model_name =  RandomForestClassifier() Violations =  5.0\n",
      "Average_violations =  0.05 0.1596871942267131\n",
      "Accuracy =  0.3072167932482279 0.013849110616028091 MSE =  1.6806429497447795 0.05664269419493484\n",
      "Model_name =  ExtraTreesClassifier() Violations =  1.0\n",
      "Average_violations =  0.005 0.03122498999199199\n",
      "Accuracy =  0.30162358139055956 0.015378173727373991 MSE =  1.7713614033359968 0.07338267002451651\n",
      "Model_name =  AdaBoostClassifier() Violations =  1.0\n",
      "Average_violations =  0.005 0.03122498999199199\n",
      "Accuracy =  0.2668718298777912 0.008427023156115819 MSE =  3.056338541130799 0.14686683798300632\n",
      "Model_name =  BaggingClassifier() Violations =  1.0\n",
      "Average_violations =  0.005 0.03122498999199199\n",
      "Accuracy =  0.3127731239827316 0.01479814948293206 MSE =  1.6602011544587394 0.058443567439624984\n",
      "Model_name =  GradientBoostingClassifier() Violations =  3.0\n",
      "Average_violations =  0.015000000000000003 0.0526782687642637\n",
      "Accuracy =  0.36044210117627384 0.011527124075892698 MSE =  1.319458510746523 0.0722703783915006\n",
      "Model_name =  MLPClassifier() Violations =  15.0\n",
      "Average_violations =  0.175 0.3072051431861127\n",
      "Accuracy =  0.3682277126323512 0.01323456264887373 MSE =  1.2023750435090899 0.04530389043357776\n",
      "[0.27193579 0.18360832 0.27153722 0.30450219 0.36881106 0.24524498\n",
      " 0.37141117 0.30721679 0.30162358 0.26687183 0.31277312 0.3604421\n",
      " 0.36822771] [0.01270497 0.0326853  0.01152432 0.00958307 0.01266105 0.01106001\n",
      " 0.01396887 0.01384911 0.01537817 0.00842702 0.01479815 0.01152712\n",
      " 0.01323456] [0.03  0.125 0.01  0.005 0.96  0.02  0.085 0.05  0.005 0.005 0.005 0.015\n",
      " 0.175] [0.0842615  0.13181426 0.04358899 0.03122499 0.1356466  0.06\n",
      " 0.23616731 0.15968719 0.03122499 0.03122499 0.03122499 0.05267827\n",
      " 0.30720514]\n"
     ]
    },
    {
     "data": {
      "image/png": "[encoded data removed]",
      "text/plain": [
       "<Figure size 1332x756 with 1 Axes>"
      ]
     },
     "metadata": {},
     "output_type": "display_data"
    }
   ],
   "source": [
    "import numpy as np\n",
    "import pandas as pd\n",
    "import matplotlib.pyplot as plt\n",
    "import sys\n",
    "from sklearn.metrics import roc_auc_score, average_precision_score, mean_squared_error, accuracy_score\n",
    "from sklearn.model_selection import StratifiedKFold\n",
    "from sklearn.linear_model import LogisticRegression, Perceptron\n",
    "from sklearn.neighbors import KNeighborsClassifier\n",
    "from sklearn.tree import DecisionTreeClassifier\n",
    "from sklearn.svm import LinearSVC\n",
    "from sklearn.naive_bayes import GaussianNB, BernoulliNB\n",
    "from sklearn.discriminant_analysis import LinearDiscriminantAnalysis\n",
    "from sklearn.ensemble import RandomForestClassifier, ExtraTreesClassifier, AdaBoostClassifier, BaggingClassifier, GradientBoostingClassifier\n",
    "from sklearn.neural_network import MLPClassifier\n",
    "import pandas as pd\n",
    "\n",
    "from pycausal import search as s\n",
    "\n",
    "def get_CG(df, tetrad):\n",
    "    tetrad.run(algoId = 'gfci', dfs = df, testId = 'sem-bic', scoreId = 'sem-bic', dataType = 'continuous',\n",
    "           structurePrior = 1.0, samplePrior = 1.0, maxDegree = -1, maxPathLength = -1, \n",
    "           completeRuleSetUsed = False, faithfulnessAssumed = True, verbose = True)\n",
    "    #tetrad.run(algoId = 'gfci', dfs = df, testId = 'bdeu', scoreId = 'bdeu', dataType = 'discrete',\n",
    "    #       structurePrior = 1.0, samplePrior = 1.0, maxDegree = 3, faithfulnessAssumed = True, verbose = True)\n",
    "\n",
    "\n",
    "    return tetrad.getTetradGraph()\n",
    "\n",
    "def get_MB(graph, var, pc):\n",
    "    parents = set()\n",
    "    for i in pc.extractTetradGraphEdges(graph):\n",
    "        if i[-1] == var and i[3:5] == '->':\n",
    "            parents.add(i[0])\n",
    "        if i[0] == var and i[3:5] == '->':\n",
    "            parents.add(i[-1])\n",
    "    return parents\n",
    "\n",
    "from pycausal.pycausal import pycausal as pc\n",
    "pc = pc()\n",
    "pc.start_vm(java_max_heap_size = '5000M')\n",
    "tetrad = s.tetradrunner()\n",
    "def run_models(models, model_names, x, y, num_folds=40):\n",
    "    violations = np.zeros(len(models))\n",
    "    violation_mean = np.zeros((len(models), num_folds))\n",
    "    mean = np.zeros((len(models), num_folds))\n",
    "    mean2 = np.zeros((len(models), num_folds)) # used to store our secondary metric\n",
    "    \n",
    "    skf = StratifiedKFold(n_splits=num_folds)\n",
    "    fold = 0\n",
    "    for train_index, test_index in skf.split(x, y):\n",
    "        x_train, x_test = x[train_index], x[test_index]\n",
    "        y_train, y_test = y[train_index], y[test_index]\n",
    "        for idx, model in enumerate(models):\n",
    "            model.fit(x_train, y_train)\n",
    "            original_df = pd.DataFrame(x_test, columns = ['a', 'b', 'c', 'd', 'e', 'f'])\n",
    "\n",
    "            original_targets = pd.DataFrame(y_test, columns = ['g'])\n",
    "            original_df = original_df.join(original_targets)\n",
    "            test_df = pd.DataFrame(x_test, columns = ['a', 'b', 'c', 'd', 'e', 'f'])\n",
    "            test_targets = pd.DataFrame(model.predict(x_test), columns = ['g'])\n",
    "            test_df = test_df.join(test_targets)\n",
    "            #print(get_MB(get_CG(test_df), 'g'))\n",
    "            print(\"Error:\", model_names[idx], accuracy_score(y_test, model.predict(x_test)))\n",
    "            \n",
    "            \n",
    "            mean[idx][fold] = accuracy_score(y_test, model.predict(x_test))\n",
    "            mean2[idx][fold] = mean_squared_error(y_test, model.predict(x_test))\n",
    "            \n",
    "            setA = get_MB(get_CG(original_df, tetrad), 'g', pc)\n",
    "            setB = get_MB(get_CG(test_df, tetrad), 'g', pc)\n",
    "            #assert(setA == {'f'})\n",
    "            violation_mean[idx][fold] = len(setA.difference(setB)) + len(setB.difference(setA))\n",
    "            if setA != setB:\n",
    "                print(\"Violation:\", setA , setB, 'g', pc)\n",
    "                violations[idx] += 1\n",
    "            \n",
    "            #pc.stop_vm()\n",
    "        fold += 1\n",
    "    \n",
    "    print(\"Violations = \", violations)\n",
    "    \n",
    "    metric = []\n",
    "    metric_err = []\n",
    "    viol = []\n",
    "    viol_err = []\n",
    "    \n",
    "    #normalize the violations for prettier graphing.\n",
    "    #also violations are always positive, so just divide by max.\n",
    "    violation_mean = violation_mean / np.max(violation_mean)\n",
    "    \n",
    "    for i in range(len(violations)):\n",
    "        print(\"Model_name = \", model_names[i], \"Violations = \", violations[i])\n",
    "        print(\"Average_violations = \", np.mean(violation_mean[i]), np.std(violation_mean[i]))\n",
    "        print(\"Accuracy = \", np.mean(mean[i]), np.std(mean[i]), \"MSE = \", np.mean(mean2[i]), np.std(mean2[i]),)\n",
    "        metric.append(np.mean(mean[i]))\n",
    "        metric_err.append(np.std(mean[i]))\n",
    "        viol.append(np.mean(violation_mean[i]))\n",
    "        \n",
    "        viol_err.append(np.std(violation_mean[i]))\n",
    "    print(np.array(metric), \n",
    "             np.array(metric_err), \n",
    "             np.array(viol), \n",
    "             np.array(viol_err))    \n",
    "    \n",
    "    bar_plot(model_names, \n",
    "             np.array(metric), \n",
    "             np.array(metric_err), \n",
    "             np.array(viol), \n",
    "             np.array(viol_err))\n",
    "    return \n",
    "\n",
    "X = df[['a', 'b', 'c', 'd', 'e', 'f']].values\n",
    "y = df['g'].values\n",
    "\n",
    "models = [LogisticRegression(), \n",
    "          Perceptron(),  \n",
    "          DecisionTreeClassifier(),\n",
    "          LinearSVC(),\n",
    "          GaussianNB(),\n",
    "          BernoulliNB(),\n",
    "          LinearDiscriminantAnalysis(),\n",
    "          RandomForestClassifier(),\n",
    "          ExtraTreesClassifier(),\n",
    "          AdaBoostClassifier(),\n",
    "          BaggingClassifier(),\n",
    "          GradientBoostingClassifier(),\n",
    "          MLPClassifier()\n",
    "         ]\n",
    "model_names = ['LogisticRegression()', \n",
    "          'Perceptron()',  \n",
    "          'DecisionTreeClassifier()',\n",
    "          'LinearSVC()',\n",
    "          'GaussianNB()',\n",
    "          'BernoulliNB()',\n",
    "          'LinearDiscriminantAnalysis()',\n",
    "          'RandomForestClassifier()',\n",
    "          'ExtraTreesClassifier()', \n",
    "          'AdaBoostClassifier()',\n",
    "          'BaggingClassifier()',\n",
    "          'GradientBoostingClassifier()',\n",
    "          'MLPClassifier()'\n",
    "         ]\n",
    "\n",
    "run_models(models,model_names, X,y)"
   ]
  },
  {
   "cell_type": "code",
   "execution_count": 15,
   "metadata": {},
   "outputs": [
    {
     "name": "stdout",
     "output_type": "stream",
     "text": [
      "['boo', 'hoo', 'hoo2']\n"
     ]
    },
    {
     "data": {
      "image/png": "[encoded data removed]",
      "text/plain": [
       "<Figure size 1332x756 with 1 Axes>"
      ]
     },
     "metadata": {},
     "output_type": "display_data"
    }
   ],
   "source": [
    "def bar_plot(x_ax, val1, val1std, val2, val2std):\n",
    "    fig = plt.figure()\n",
    "    ax = fig.add_subplot(111)\n",
    "\n",
    "    ## the data\n",
    "    N = len(x_ax)\n",
    "\n",
    "    ## necessary variables\n",
    "    ind = np.arange(N)                # the x locations for the groups\n",
    "    width = 0.35                      # the width of the bars\n",
    "    fig.set_size_inches(18.5, 10.5)\n",
    "    ## the bars\n",
    "    rects1 = ax.bar(ind, val1, width,\n",
    "                    color='gray',\n",
    "                    yerr=val1std,\n",
    "                    error_kw=dict(elinewidth=2,ecolor='blue'))\n",
    "\n",
    "    rects2 = ax.bar(ind+width, val2, width,\n",
    "                        color='blue',\n",
    "                        #yerr=val2std,\n",
    "                        error_kw=dict(elinewidth=2,ecolor='gray'))\n",
    "\n",
    "    # axes and labels\n",
    "    ax.set_xlim(-width,len(ind)+width)\n",
    "    #ax.set_ylim(0,45)\n",
    "    ax.set_ylabel('Percentage')\n",
    "    ax.set_title('')\n",
    "    plt.xticks(ind + width / 2, x_ax, rotation=75, size = )\n",
    "    ## add a legend\n",
    "    ax.legend( (rects1[0], rects2[0]), ('Accuracy', '% Violations') )\n",
    "    fig.savefig(\"violations.pdf\", bbox_inches='tight')\n",
    "    plt.show()\n",
    "\n",
    "\n",
    "bar_plot(['boo', 'hoo', 'hoo2'], [1, 2, 3], [0, 0, 0], [1, 2, 3], [0,0,0])"
   ]
  },
  {
   "cell_type": "code",
   "execution_count": null,
   "metadata": {},
   "outputs": [],
   "source": []
  }
 ],
 "metadata": {
  "kernelspec": {
   "display_name": "Python 3",
   "language": "python",
   "name": "python3"
  },
  "language_info": {
   "codemirror_mode": {
    "name": "ipython",
    "version": 3
   },
   "file_extension": ".py",
   "mimetype": "text/x-python",
   "name": "python",
   "nbconvert_exporter": "python",
   "pygments_lexer": "ipython3",
   "version": "3.6.5"
  }
 },
 "nbformat": 4,
 "nbformat_minor": 2
}
