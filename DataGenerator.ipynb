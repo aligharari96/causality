{
 "cells": [
  {
   "cell_type": "markdown",
   "metadata": {},
   "source": [
    "# Generate Synthetic Data"
   ]
  },
  {
   "cell_type": "code",
   "execution_count": 18,
   "metadata": {},
   "outputs": [],
   "source": [
    "#Synthetic data\n",
    "import numpy as np\n",
    "import pandas as pd\n",
    "import random\n",
    "import matplotlib.pyplot as plt"
   ]
  },
  {
   "cell_type": "code",
   "execution_count": 173,
   "metadata": {},
   "outputs": [],
   "source": [
    "def transform1(x):\n",
    "    return x * random.randint(1,2) + random.randint(0,10)\n",
    "\n",
    "def transform2(x):\n",
    "    return x * random.randint(1,2) + random.randint(0,10)\n",
    "\n",
    "center = 0\n",
    "std_dev = 1\n",
    "nb_samples = 1000000\n",
    "gauss = np.random.normal(loc = center, scale = std_dev, size = nb_samples)\n",
    "X = gauss * 3\n",
    "Y = transform1(X)\n",
    "Z = transform2(Y)"
   ]
  },
  {
   "cell_type": "code",
   "execution_count": 174,
   "metadata": {},
   "outputs": [
    {
     "data": {
      "image/png": "[encoded data removed]",
      "text/plain": [
       "<Figure size 432x288 with 1 Axes>"
      ]
     },
     "metadata": {
      "needs_background": "light"
     },
     "output_type": "display_data"
    }
   ],
   "source": [
    "plt.hist(X, alpha = 1, label = 'X')\n",
    "plt.hist(Y, alpha = 0.3, label = 'Y')\n",
    "plt.hist(Z, alpha = 0.2, label = 'Z')\n",
    "\n",
    "plt.legend(loc = 'upper right')\n",
    "plt.show()"
   ]
  },
  {
   "cell_type": "markdown",
   "metadata": {},
   "source": [
    "# Steps\n",
    "### 1) Use various ml algorithms to predict Z* given X, Y\n",
    "### 2) Use the PC algorithm on each to vizualize a graph."
   ]
  },
  {
   "cell_type": "code",
   "execution_count": 175,
   "metadata": {},
   "outputs": [
    {
     "name": "stdout",
     "output_type": "stream",
     "text": [
      "Edges are: [(0, 1), (0, 2), (1, 0), (1, 2), (2, 0), (2, 1)] => WRONG\n",
      "True edges should be: [(0, 1), (1, 2)]\n"
     ]
    }
   ],
   "source": [
    "from pcalg import *\n",
    "\n",
    "import networkx as nx\n",
    "import numpy as np\n",
    "from gsq.ci_tests import ci_test_bin, ci_test_dis\n",
    "from gsq.gsq_testdata import bin_data, dis_data\n",
    "\n",
    "dm = np.array(bin_data).reshape((5000, 5))\n",
    "X = X.astype(int)\n",
    "Y = Y.astype(int)\n",
    "Z = Z.astype(int)\n",
    "dm2 = np.transpose(np.array([X,Y,Z]))\n",
    "(g, sep_set) = estimate_skeleton(indep_test_func=ci_test_dis,\n",
    "                                 data_matrix=dm2,\n",
    "                                 alpha=0.01)\n",
    "g = estimate_cpdag(skel_graph=g, sep_set=sep_set)\n",
    "g_answer = nx.DiGraph()\n",
    "g_answer.add_nodes_from([0, 1, 2])\n",
    "g_answer.add_edges_from([(0, 1), (1,2)])\n",
    "print('Edges are:', g.edges(), end='')\n",
    "if nx.is_isomorphic(g, g_answer):\n",
    "    print(' => GOOD')\n",
    "else:\n",
    "    print(' => WRONG')\n",
    "    print('True edges should be:', g_answer.edges())\n",
    "\n"
   ]
  },
  {
   "cell_type": "code",
   "execution_count": 164,
   "metadata": {},
   "outputs": [
    {
     "data": {
      "text/plain": [
       "array([ 1.64915677, -2.08951695,  3.80626961, ...,  0.06143337,\n",
       "        2.23709124,  1.14097728])"
      ]
     },
     "execution_count": 164,
     "metadata": {},
     "output_type": "execute_result"
    }
   ],
   "source": [
    "X"
   ]
  },
  {
   "cell_type": "code",
   "execution_count": 176,
   "metadata": {},
   "outputs": [
    {
     "name": "stdout",
     "output_type": "stream",
     "text": [
      "Edges are: [(0, 2), (1, 2), (1, 3), (4, 3)] => GOOD\n"
     ]
    }
   ],
   "source": [
    "dm = np.array(dis_data).reshape((10000, 5))\n",
    "(g, sep_set) = estimate_skeleton(indep_test_func=ci_test_dis,\n",
    "                             data_matrix=dm,\n",
    "                             alpha=0.01,\n",
    "                             levels=[3,2,3,4,2])\n",
    "g = estimate_cpdag(skel_graph=g, sep_set=sep_set)\n",
    "g_answer = nx.DiGraph()\n",
    "g_answer.add_nodes_from([0, 1, 2, 3, 4])\n",
    "g_answer.add_edges_from([(0, 2), (1, 2), (1, 3), (4, 3)])\n",
    "print('Edges are:', g.edges(), end='')\n",
    "if nx.is_isomorphic(g, g_answer):\n",
    "    print(' => GOOD')\n",
    "else:\n",
    "    print(' => WRONG')\n",
    "    print('True edges should be:', g_answer.edges())\n"
   ]
  }
 ],
 "metadata": {
  "kernelspec": {
   "display_name": "Python 3",
   "language": "python",
   "name": "python3"
  },
  "language_info": {
   "codemirror_mode": {
    "name": "ipython",
    "version": 3
   },
   "file_extension": ".py",
   "mimetype": "text/x-python",
   "name": "python",
   "nbconvert_exporter": "python",
   "pygments_lexer": "ipython3",
   "version": "3.5.2"
  }
 },
 "nbformat": 4,
 "nbformat_minor": 2
}
