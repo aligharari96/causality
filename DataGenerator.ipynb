{
 "cells": [
  {
   "cell_type": "markdown",
   "metadata": {},
   "source": [
    "# Generate Synthetic Data"
   ]
  },
  {
   "cell_type": "markdown",
   "metadata": {},
   "source": [
    "## Notes \n",
    "### Required installing Oracle JAVA 8 to get javabridge installed\n",
    "### Then, I was able to install py-causal from https://bd2kccd.github.io/docs/py-causal/\n",
    "### GFCI is slower than RFCI, but more accurate (SPIRTES), GFCI and RFCI account for unobserved variables, FGES assumes no unobserved variables."
   ]
  },
  {
   "cell_type": "markdown",
   "metadata": {},
   "source": [
    "Structure Learning Performance Guarantees If the assumptions in the previous section hold, then in the large sample limit, the CBN structure output by GFCId will contain an edge of one of four kinds between Xand Y   if and only if Xand Yare not independent conditional on any subset of the other measured variables of less than or equal to a specified size. In addition, there is (1) an arc X->Y   if and only if Xdirectly or indirectly causes Y, and Y   does not directly or indirectly cause X; (2) an edge X <-->Y   if and only if X   is not a direct or indirect cause of Yand Y   is not a direct or indirect cause of X(which can only occur if there are latent confounders of Xand some other variable or Yand some other variable; (3) an edge Xo->Y   only if Yis not a direct or indirect cause of X, but Xmay or may not be an indirect cause of Y; (4) an edge X o–o Y   indicates that Xand Y   are dependent no matter what subset of observed variables is conditioned on, but contains no orientation information (X   may be a direct or indirect cause of Y, and Ymay be an indirect cause of X, or there may be a latent common cause of Xand Y."
   ]
  },
  {
   "cell_type": "code",
   "execution_count": 1,
   "metadata": {},
   "outputs": [],
   "source": [
    "#Synthetic data\n",
    "import numpy as np\n",
    "import pandas as pd\n",
    "import random\n",
    "import matplotlib.pyplot as plt"
   ]
  },
  {
   "cell_type": "code",
   "execution_count": 2,
   "metadata": {},
   "outputs": [],
   "source": [
    "def transform1(x):\n",
    "    return x * random.randint(1,2) + random.randint(0,10)\n",
    "\n",
    "def transform2(x):\n",
    "    return x * random.randint(1,2) + random.randint(0,10)\n",
    "\n",
    "center = 0\n",
    "std_dev = 1\n",
    "nb_samples = 1000000\n",
    "gauss = np.random.normal(loc = center, scale = std_dev, size = nb_samples)\n",
    "X = gauss * 3\n",
    "Y = transform1(X)\n",
    "Z = transform2(Y)"
   ]
  },
  {
   "cell_type": "code",
   "execution_count": 3,
   "metadata": {},
   "outputs": [
    {
     "data": {
      "image/png": "[encoded data removed]",
      "text/plain": [
       "<Figure size 432x288 with 1 Axes>"
      ]
     },
     "metadata": {},
     "output_type": "display_data"
    }
   ],
   "source": [
    "plt.hist(X, alpha = 1, label = 'X')\n",
    "plt.hist(Y, alpha = 0.3, label = 'Y')\n",
    "plt.hist(Z, alpha = 0.2, label = 'Z')\n",
    "\n",
    "plt.legend(loc = 'upper right')\n",
    "plt.show()"
   ]
  },
  {
   "cell_type": "markdown",
   "metadata": {},
   "source": [
    "# Steps\n",
    "### 1) Use various ml algorithms to predict Z* given X, Y\n",
    "### 2) Use the PC algorithm on each to vizualize a graph."
   ]
  },
  {
   "cell_type": "code",
   "execution_count": 71,
   "metadata": {},
   "outputs": [],
   "source": [
    "from pcalg import *\n",
    "\n",
    "import networkx as nx\n",
    "import numpy as np\n",
    "from gsq.ci_tests import ci_test_bin, ci_test_dis\n",
    "from gsq.gsq_testdata import bin_data, dis_data\n",
    "\n"
   ]
  },
  {
   "cell_type": "code",
   "execution_count": 72,
   "metadata": {},
   "outputs": [
    {
     "name": "stdout",
     "output_type": "stream",
     "text": [
      "Edges are: [(0, 2), (1, 2), (1, 3), (4, 3)]"
     ]
    },
    {
     "name": "stderr",
     "output_type": "stream",
     "text": [
      "/home/tkyono/anaconda3/lib/python3.6/site-packages/gsq/discrete.py:100: RuntimeWarning: invalid value encountered in true_divide\n",
      "  tlog = nijk * row_size / tdij\n",
      "/home/tkyono/anaconda3/lib/python3.6/site-packages/gsq/discrete.py:74: RuntimeWarning: invalid value encountered in true_divide\n",
      "  tlog[:, :, k] = nijk[:, :, k] * nk[k] / tdijk\n"
     ]
    },
    {
     "name": "stdout",
     "output_type": "stream",
     "text": [
      "Edges are: [(0, 1), (0, 2), (3, 2), (4, 1)]"
     ]
    }
   ],
   "source": [
    "dm = np.array(dis_data).reshape((10000, 5))\n",
    "(g, sep_set) = estimate_skeleton(indep_test_func=ci_test_dis,\n",
    "                             data_matrix=dm,\n",
    "                             alpha=0.01)\n",
    "g = estimate_cpdag(skel_graph=g, sep_set=sep_set)\n",
    "\n",
    "print('Edges are:', g.edges(), end='')\n",
    "\n",
    "dmt = np.transpose(dm)\n",
    "#dmt[3].copy()\n",
    "dmt = np.append(dmt[1:].copy(), [dmt[0].copy()], axis =0)\n",
    "#dmt = dmt[1:]\n",
    "dmt = np.transpose(dmt)\n",
    "dmt = dmt.copy()+dmt.copy()\n",
    "dm = np.array(dis_data).reshape((10000, 5))\n",
    "(g, sep_set) = estimate_skeleton(indep_test_func=ci_test_dis,\n",
    "                             data_matrix=dmt,\n",
    "                             alpha=0.01)\n",
    "g = estimate_cpdag(skel_graph=g, sep_set=sep_set)\n",
    "\n",
    "print('Edges are:', g.edges(), end='')"
   ]
  },
  {
   "cell_type": "code",
   "execution_count": 88,
   "metadata": {},
   "outputs": [
    {
     "name": "stdout",
     "output_type": "stream",
     "text": [
      "Edges are: [(0, 1), (0, 2), (1, 0), (1, 2), (2, 0), (2, 1)]"
     ]
    }
   ],
   "source": [
    "import numpy as np\n",
    "import pandas as pd\n",
    "from pcalg import *\n",
    "\n",
    "import networkx as nx\n",
    "import numpy as np\n",
    "from gsq.ci_tests import ci_test_bin, ci_test_dis\n",
    "from gsq.gsq_testdata import bin_data, dis_data\n",
    "def generate_data(n_samples=10000, set_X=None, show_z=True):\n",
    "    p_z = 0.5\n",
    "    p_x_z = [0.9, 0.1]\n",
    "    p_y_xz = [0.2, 0.4, 0.6, 0.8]\n",
    "    Z = np.random.binomial(n=1, p=p_z, size=n_samples)\n",
    "    if set_X is not None:\n",
    "        assert(len(set_X) == n_samples)\n",
    "        X = set_X\n",
    "    else:\n",
    "        p_x = np.choose(Z, p_x_z)\n",
    "        X = np.random.binomial(n=1, p=p_x, size=n_samples)\n",
    "        \n",
    "    p_y = np.choose(X+2*Z, p_y_xz)\n",
    "    Y = np.random.binomial(n=1, p=p_y, size=n_samples)\n",
    "    if show_z:\n",
    "        return pd.DataFrame({\"x\":X, \"y\":Y, \"z\":Z})\n",
    "    \n",
    "    return pd.DataFrame({\"x\":X, \"y\":Y})\n",
    "\n",
    "\n",
    "\n",
    "def generate_data2(n_samples=5000):\n",
    "    p_z = 0.5\n",
    "    p_x_z = [0.9, 0.1]\n",
    "    p_y_xz = [0.2, 0.8]\n",
    "    p_x_y = [0.9, 0.1]\n",
    "    Z = np.random.binomial(n=1, p=p_z, size=n_samples)\n",
    "    \n",
    "    p_y = np.choose(Z, p_y_xz)\n",
    "    Y = np.random.binomial(n=1, p=p_y, size=n_samples)\n",
    "    \n",
    "    p_x = np.choose(Y, p_x_y)\n",
    "    X = np.random.binomial(n=1, p=p_x, size=n_samples)\n",
    "\n",
    "    return pd.DataFrame({\"x\":X, \"y\":Y, \"z\":Z}) \n",
    "\n",
    "\n",
    "def random_data(n_samples=5000):\n",
    "    p_z = 0.5\n",
    "\n",
    "    Z = np.random.binomial(n=1, p=p_z, size=n_samples)\n",
    "    Y = np.random.binomial(n=1, p=p_z, size=n_samples)\n",
    "    X = np.random.binomial(n=1, p=p_z, size=n_samples)\n",
    "\n",
    "    return pd.DataFrame({\"x\":X, \"y\":Y, \"z\":Y}) \n",
    "\n",
    "\n",
    "\n",
    "gen_df = generate_data()\n",
    "\n",
    "from pcalg import *\n",
    "\n",
    "import networkx as nx\n",
    "import numpy as np\n",
    "from gsq.ci_tests import ci_test_bin, ci_test_dis\n",
    "from gsq.gsq_testdata import bin_data, dis_data\n",
    "\n",
    "\n",
    "(g, sep_set) = estimate_skeleton(indep_test_func=ci_test_dis,\n",
    "                                 data_matrix=gen_df.values,\n",
    "                                 alpha=0.01)\n",
    "g = estimate_cpdag(skel_graph=g, sep_set=sep_set)\n",
    "\n",
    "print('Edges are:', g.edges(), end='')"
   ]
  },
  {
   "cell_type": "code",
   "execution_count": 89,
   "metadata": {},
   "outputs": [],
   "source": [
    "df = gen_df\n"
   ]
  },
  {
   "cell_type": "code",
   "execution_count": 90,
   "metadata": {},
   "outputs": [
    {
     "name": "stdout",
     "output_type": "stream",
     "text": [
      "samplePrior: Sample prior (min = 1.0) (java.lang.Double) [default:1.0]\n",
      "structurePrior: Structure prior coefficient (min = 1.0) (java.lang.Double) [default:1.0]\n",
      "faithfulnessAssumed: Yes if (one edge) faithfulness should be assumed (java.lang.Boolean) [default:true]\n",
      "symmetricFirstStep: Yes if the first step step for FGES should do scoring for both X->Y and Y->X (java.lang.Boolean) [default:false]\n",
      "maxDegree: The maximum degree of the graph (min = -1) (java.lang.Integer) [default:4]\n",
      "verbose: Yes if verbose output should be printed or logged (java.lang.Boolean) [default:true]\n",
      "numberResampling: The number of bootstraps/resampling iterations (min = 0) (java.lang.Integer) [default:0]\n",
      "percentResampleSize: The percentage of resample size (min = 0.1) (java.lang.Integer) [default:100]\n",
      "resamplingWithReplacement: Yes, if sampling with replacement (bootstrapping) (java.lang.Boolean) [default:true]\n",
      "resamplingEnsemble: Ensemble method: Preserved (0), Highest (1), Majority (2) (java.lang.Integer) [default:1]\n",
      "addOriginalDataset: Yes, if adding an original dataset as another bootstrapping (java.lang.Boolean) [default:false]\n"
     ]
    },
    {
     "data": {
      "image/svg+xml": [
       "<svg height=\"248pt\" viewBox=\"0.00 0.00 182.00 248.00\" width=\"182pt\" xmlns=\"http://www.w3.org/2000/svg\" xmlns:xlink=\"http://www.w3.org/1999/xlink\">\n",
       "<g class=\"graph\" id=\"graph0\" transform=\"scale(1 1) rotate(0) translate(4 244)\">\n",
       "<title>g</title>\n",
       "<polygon fill=\"#ffffff\" points=\"-4,4 -4,-244 178,-244 178,4 -4,4\" stroke=\"transparent\"/>\n",
       "<!-- x -->\n",
       "<g class=\"node\" id=\"node1\">\n",
       "<title>x</title>\n",
       "<ellipse cx=\"49\" cy=\"-222\" fill=\"none\" rx=\"27\" ry=\"18\" stroke=\"#000000\"/>\n",
       "<text fill=\"#000000\" font-family=\"Times,serif\" font-size=\"14.00\" text-anchor=\"middle\" x=\"49\" y=\"-218.3\">x</text>\n",
       "</g>\n",
       "<!-- z -->\n",
       "<g class=\"node\" id=\"node2\">\n",
       "<title>z</title>\n",
       "<ellipse cx=\"27\" cy=\"-18\" fill=\"none\" rx=\"27\" ry=\"18\" stroke=\"#000000\"/>\n",
       "<text fill=\"#000000\" font-family=\"Times,serif\" font-size=\"14.00\" text-anchor=\"middle\" x=\"27\" y=\"-14.3\">z</text>\n",
       "</g>\n",
       "<!-- x&#45;&gt;z -->\n",
       "<g class=\"edge\" id=\"edge1\">\n",
       "<title>x-&gt;z</title>\n",
       "<path d=\"M41.1414,-204.7467C34.0068,-188.0695 24.0075,-161.8881 20,-138 13.9923,-102.1888 19.3851,-59.6214 23.4563,-36.026\" fill=\"none\" stroke=\"#000000\"/>\n",
       "<text fill=\"#000000\" font-family=\"Courier,monospace\" font-size=\"14.00\" text-anchor=\"middle\" x=\"57.5\" y=\"-123.8\">x - z</text>\n",
       "<text fill=\"#000000\" font-family=\"Courier,monospace\" font-size=\"14.00\" text-anchor=\"middle\" x=\"57.5\" y=\"-108.8\">[---]:1.0</text>\n",
       "</g>\n",
       "<!-- y -->\n",
       "<g class=\"node\" id=\"node3\">\n",
       "<title>y</title>\n",
       "<ellipse cx=\"131\" cy=\"-120\" fill=\"none\" rx=\"27\" ry=\"18\" stroke=\"#000000\"/>\n",
       "<text fill=\"#000000\" font-family=\"Times,serif\" font-size=\"14.00\" text-anchor=\"middle\" x=\"131\" y=\"-116.3\">y</text>\n",
       "</g>\n",
       "<!-- x&#45;&gt;y -->\n",
       "<g class=\"edge\" id=\"edge2\">\n",
       "<title>x-&gt;y</title>\n",
       "<path d=\"M61.8125,-206.0625C77.1274,-187.0122 102.6125,-155.3113 118.0069,-136.1622\" fill=\"none\" stroke=\"#000000\"/>\n",
       "<text fill=\"#000000\" font-family=\"Courier,monospace\" font-size=\"14.00\" text-anchor=\"middle\" x=\"136.5\" y=\"-174.8\">x - y</text>\n",
       "<text fill=\"#000000\" font-family=\"Courier,monospace\" font-size=\"14.00\" text-anchor=\"middle\" x=\"136.5\" y=\"-159.8\">[---]:1.0</text>\n",
       "</g>\n",
       "<!-- y&#45;&gt;z -->\n",
       "<g class=\"edge\" id=\"edge3\">\n",
       "<title>y-&gt;z</title>\n",
       "<path d=\"M115.6544,-104.9495C95.9915,-85.6648 62.1017,-52.4267 42.4085,-33.1122\" fill=\"none\" stroke=\"#000000\"/>\n",
       "<text fill=\"#000000\" font-family=\"Courier,monospace\" font-size=\"14.00\" text-anchor=\"middle\" x=\"128.5\" y=\"-72.8\">y - z</text>\n",
       "<text fill=\"#000000\" font-family=\"Courier,monospace\" font-size=\"14.00\" text-anchor=\"middle\" x=\"128.5\" y=\"-57.8\">[---]:1.0</text>\n",
       "</g>\n",
       "</g>\n",
       "</svg>"
      ],
      "text/plain": [
       "<IPython.core.display.SVG object>"
      ]
     },
     "execution_count": 90,
     "metadata": {},
     "output_type": "execute_result"
    }
   ],
   "source": [
    "import pandas as pd\n",
    "from pycausal.pycausal import pycausal as pc\n",
    "pc = pc()\n",
    "pc.start_vm(java_max_heap_size = '500M')\n",
    "from pycausal import prior as p\n",
    "#forbid = [['history_noise','class'],['history_fluctuating','class']]\n",
    "#tempForbid = p.ForbiddenWithin(\n",
    "#    ['class','history_fluctuating','history_noise'])\n",
    "#temporal = [tempForbid]\n",
    "#prior = p.knowledge(forbiddirect = forbid, addtemporal = temporal)\n",
    "#prior\n",
    "from pycausal import search as s\n",
    "tetrad = s.tetradrunner()\n",
    "tetrad.getAlgorithmParameters(algoId = 'fges', scoreId = 'bdeu')\n",
    "tetrad.run(algoId = 'fges', dfs = df, scoreId = 'bdeu', dataType = 'discrete',\n",
    "           structurePrior = 1.0, samplePrior = 1.0, maxDegree = 3, faithfulnessAssumed = True, verbose = True, \n",
    "           numberResampling = 5, resamplingEnsemble = 1, addOriginalDataset = True)\n",
    "\n",
    "import pydot\n",
    "from IPython.display import SVG\n",
    "dot_str = pc.tetradGraphToDot(tetrad.getTetradGraph())\n",
    "graphs = pydot.graph_from_dot_data(dot_str)\n",
    "svg_str = graphs[0].create_svg()\n",
    "SVG(svg_str)"
   ]
  },
  {
   "cell_type": "code",
   "execution_count": 91,
   "metadata": {},
   "outputs": [
    {
     "data": {
      "image/svg+xml": [
       "<svg height=\"248pt\" viewBox=\"0.00 0.00 201.00 248.00\" width=\"201pt\" xmlns=\"http://www.w3.org/2000/svg\" xmlns:xlink=\"http://www.w3.org/1999/xlink\">\n",
       "<g class=\"graph\" id=\"graph0\" transform=\"scale(1 1) rotate(0) translate(4 244)\">\n",
       "<title>g</title>\n",
       "<polygon fill=\"#ffffff\" points=\"-4,4 -4,-244 197,-244 197,4 -4,4\" stroke=\"transparent\"/>\n",
       "<!-- y -->\n",
       "<g class=\"node\" id=\"node1\">\n",
       "<title>y</title>\n",
       "<ellipse cx=\"27\" cy=\"-120\" fill=\"none\" rx=\"27\" ry=\"18\" stroke=\"#000000\"/>\n",
       "<text fill=\"#000000\" font-family=\"Times,serif\" font-size=\"14.00\" text-anchor=\"middle\" x=\"27\" y=\"-116.3\">y</text>\n",
       "</g>\n",
       "<!-- z -->\n",
       "<g class=\"node\" id=\"node2\">\n",
       "<title>z</title>\n",
       "<ellipse cx=\"72\" cy=\"-18\" fill=\"none\" rx=\"27\" ry=\"18\" stroke=\"#000000\"/>\n",
       "<text fill=\"#000000\" font-family=\"Times,serif\" font-size=\"14.00\" text-anchor=\"middle\" x=\"72\" y=\"-14.3\">z</text>\n",
       "</g>\n",
       "<!-- y&#45;&gt;z -->\n",
       "<g class=\"edge\" id=\"edge1\">\n",
       "<title>y-&gt;z</title>\n",
       "<path d=\"M22.4251,-93.6948C21.447,-81.1018 22.1263,-66.1562 28,-54 31.6714,-46.4017 37.7984,-39.8632 44.3313,-34.5242\" fill=\"none\" stroke=\"#000000\"/>\n",
       "<ellipse cx=\"22.892\" cy=\"-97.9974\" fill=\"none\" rx=\"4\" ry=\"4\" stroke=\"#000000\"/>\n",
       "<ellipse cx=\"47.7211\" cy=\"-31.987\" fill=\"none\" rx=\"4\" ry=\"4\" stroke=\"#000000\"/>\n",
       "<text fill=\"#000000\" font-family=\"Courier,monospace\" font-size=\"14.00\" text-anchor=\"middle\" x=\"65.5\" y=\"-72.8\">y - z</text>\n",
       "<text fill=\"#000000\" font-family=\"Courier,monospace\" font-size=\"14.00\" text-anchor=\"middle\" x=\"65.5\" y=\"-57.8\">[o-o]:1.0</text>\n",
       "</g>\n",
       "<!-- x -->\n",
       "<g class=\"node\" id=\"node3\">\n",
       "<title>x</title>\n",
       "<ellipse cx=\"72\" cy=\"-222\" fill=\"none\" rx=\"27\" ry=\"18\" stroke=\"#000000\"/>\n",
       "<text fill=\"#000000\" font-family=\"Times,serif\" font-size=\"14.00\" text-anchor=\"middle\" x=\"72\" y=\"-218.3\">x</text>\n",
       "</g>\n",
       "<!-- x&#45;&gt;y -->\n",
       "<g class=\"edge\" id=\"edge2\">\n",
       "<title>x-&gt;y</title>\n",
       "<path d=\"M44.3313,-205.4758C37.7984,-200.1368 31.6714,-193.5983 28,-186 22.1263,-173.8438 21.447,-158.8982 22.4251,-146.3052\" fill=\"none\" stroke=\"#000000\"/>\n",
       "<ellipse cx=\"47.7211\" cy=\"-208.013\" fill=\"none\" rx=\"4\" ry=\"4\" stroke=\"#000000\"/>\n",
       "<ellipse cx=\"22.892\" cy=\"-142.0026\" fill=\"none\" rx=\"4\" ry=\"4\" stroke=\"#000000\"/>\n",
       "<text fill=\"#000000\" font-family=\"Courier,monospace\" font-size=\"14.00\" text-anchor=\"middle\" x=\"65.5\" y=\"-174.8\">x - y</text>\n",
       "<text fill=\"#000000\" font-family=\"Courier,monospace\" font-size=\"14.00\" text-anchor=\"middle\" x=\"65.5\" y=\"-159.8\">[o-o]:1.0</text>\n",
       "</g>\n",
       "<!-- x&#45;&gt;z -->\n",
       "<g class=\"edge\" id=\"edge3\">\n",
       "<title>x-&gt;z</title>\n",
       "<path d=\"M94.1515,-201.1501C97.774,-196.5385 100.9943,-191.403 103,-186 123.417,-131.0007 123.417,-108.9993 103,-54 100.9943,-48.597 97.774,-43.4615 94.1515,-38.8499\" fill=\"none\" stroke=\"#000000\"/>\n",
       "<ellipse cx=\"91.2696\" cy=\"-204.478\" fill=\"none\" rx=\"4\" ry=\"4\" stroke=\"#000000\"/>\n",
       "<ellipse cx=\"91.2696\" cy=\"-35.522\" fill=\"none\" rx=\"4\" ry=\"4\" stroke=\"#000000\"/>\n",
       "<text fill=\"#000000\" font-family=\"Courier,monospace\" font-size=\"14.00\" text-anchor=\"middle\" x=\"155.5\" y=\"-123.8\">x - z</text>\n",
       "<text fill=\"#000000\" font-family=\"Courier,monospace\" font-size=\"14.00\" text-anchor=\"middle\" x=\"155.5\" y=\"-108.8\">[o-o]:1.0</text>\n",
       "</g>\n",
       "</g>\n",
       "</svg>"
      ],
      "text/plain": [
       "<IPython.core.display.SVG object>"
      ]
     },
     "execution_count": 91,
     "metadata": {},
     "output_type": "execute_result"
    }
   ],
   "source": [
    "#BOOTSTRAP GFCI\n",
    "tetrad.run(algoId = 'gfci', dfs = df, testId = 'disc-bic', scoreId = 'bdeu', dataType = 'discrete',\n",
    "           structurePrior = 1.0, samplePrior = 1.0, maxDegree = 3, maxPathLength = -1, \n",
    "           completeRuleSetUsed = False, faithfulnessAssumed = True, verbose = True,\n",
    "           numberResampling = 5, resamplingEnsemble = 1, addOriginalDataset = True)\n",
    "\n",
    "\n",
    "import pydot\n",
    "from IPython.display import SVG\n",
    "dot_str = pc.tetradGraphToDot(tetrad.getTetradGraph())\n",
    "graphs = pydot.graph_from_dot_data(dot_str)\n",
    "svg_str = graphs[0].create_svg()\n",
    "SVG(svg_str)"
   ]
  },
  {
   "cell_type": "code",
   "execution_count": 92,
   "metadata": {},
   "outputs": [
    {
     "data": {
      "image/svg+xml": [
       "<svg height=\"188pt\" viewBox=\"0.00 0.00 89.00 188.00\" width=\"89pt\" xmlns=\"http://www.w3.org/2000/svg\" xmlns:xlink=\"http://www.w3.org/1999/xlink\">\n",
       "<g class=\"graph\" id=\"graph0\" transform=\"scale(1 1) rotate(0) translate(4 184)\">\n",
       "<title>g</title>\n",
       "<polygon fill=\"#ffffff\" points=\"-4,4 -4,-184 85,-184 85,4 -4,4\" stroke=\"transparent\"/>\n",
       "<!-- y -->\n",
       "<g class=\"node\" id=\"node1\">\n",
       "<title>y</title>\n",
       "<ellipse cx=\"27\" cy=\"-90\" fill=\"none\" rx=\"27\" ry=\"18\" stroke=\"#000000\"/>\n",
       "<text fill=\"#000000\" font-family=\"Times,serif\" font-size=\"14.00\" text-anchor=\"middle\" x=\"27\" y=\"-86.3\">y</text>\n",
       "</g>\n",
       "<!-- z -->\n",
       "<g class=\"node\" id=\"node2\">\n",
       "<title>z</title>\n",
       "<ellipse cx=\"54\" cy=\"-18\" fill=\"none\" rx=\"27\" ry=\"18\" stroke=\"#000000\"/>\n",
       "<text fill=\"#000000\" font-family=\"Times,serif\" font-size=\"14.00\" text-anchor=\"middle\" x=\"54\" y=\"-14.3\">z</text>\n",
       "</g>\n",
       "<!-- y&#45;&gt;z -->\n",
       "<g class=\"edge\" id=\"edge1\">\n",
       "<title>y-&gt;z</title>\n",
       "<path d=\"M33.6742,-72.2022C37.8593,-61.0419 43.2321,-46.7143 47.4026,-35.593\" fill=\"none\" stroke=\"#000000\"/>\n",
       "</g>\n",
       "<!-- x -->\n",
       "<g class=\"node\" id=\"node3\">\n",
       "<title>x</title>\n",
       "<ellipse cx=\"54\" cy=\"-162\" fill=\"none\" rx=\"27\" ry=\"18\" stroke=\"#000000\"/>\n",
       "<text fill=\"#000000\" font-family=\"Times,serif\" font-size=\"14.00\" text-anchor=\"middle\" x=\"54\" y=\"-158.3\">x</text>\n",
       "</g>\n",
       "<!-- x&#45;&gt;y -->\n",
       "<g class=\"edge\" id=\"edge2\">\n",
       "<title>x-&gt;y</title>\n",
       "<path d=\"M47.3258,-144.2022C43.1407,-133.0419 37.7679,-118.7143 33.5974,-107.593\" fill=\"none\" stroke=\"#000000\"/>\n",
       "</g>\n",
       "<!-- x&#45;&gt;z -->\n",
       "<g class=\"edge\" id=\"edge3\">\n",
       "<title>x-&gt;z</title>\n",
       "<path d=\"M57.7474,-144.0931C59.7466,-133.6241 61.9966,-120.1241 63,-108 64.3197,-92.0545 64.3197,-87.9455 63,-72 61.9966,-59.8759 59.7466,-46.3759 57.7474,-35.9069\" fill=\"none\" stroke=\"#000000\"/>\n",
       "</g>\n",
       "</g>\n",
       "</svg>"
      ],
      "text/plain": [
       "<IPython.core.display.SVG object>"
      ]
     },
     "execution_count": 92,
     "metadata": {},
     "output_type": "execute_result"
    }
   ],
   "source": [
    "#FGES\n",
    "tetrad.run(algoId = 'fges', dfs = df, scoreId = 'bdeu', \n",
    "           #priorKnowledge = prior, \n",
    "           dataType = 'discrete',\n",
    "           structurePrior = 1.0, samplePrior = 1.0, maxDegree = 3, faithfulnessAssumed = True, verbose = True)\n",
    "\n",
    "import pydot\n",
    "from IPython.display import SVG\n",
    "dot_str = pc.tetradGraphToDot(tetrad.getTetradGraph())\n",
    "graphs = pydot.graph_from_dot_data(dot_str)\n",
    "svg_str = graphs[0].create_svg()\n",
    "SVG(svg_str)"
   ]
  },
  {
   "cell_type": "code",
   "execution_count": 93,
   "metadata": {},
   "outputs": [
    {
     "data": {
      "image/svg+xml": [
       "<svg height=\"188pt\" viewBox=\"0.00 0.00 90.00 188.00\" width=\"90pt\" xmlns=\"http://www.w3.org/2000/svg\" xmlns:xlink=\"http://www.w3.org/1999/xlink\">\n",
       "<g class=\"graph\" id=\"graph0\" transform=\"scale(1 1) rotate(0) translate(4 184)\">\n",
       "<title>g</title>\n",
       "<polygon fill=\"#ffffff\" points=\"-4,4 -4,-184 86,-184 86,4 -4,4\" stroke=\"transparent\"/>\n",
       "<!-- x -->\n",
       "<g class=\"node\" id=\"node1\">\n",
       "<title>x</title>\n",
       "<ellipse cx=\"27\" cy=\"-162\" fill=\"none\" rx=\"27\" ry=\"18\" stroke=\"#000000\"/>\n",
       "<text fill=\"#000000\" font-family=\"Times,serif\" font-size=\"14.00\" text-anchor=\"middle\" x=\"27\" y=\"-158.3\">x</text>\n",
       "</g>\n",
       "<!-- z -->\n",
       "<g class=\"node\" id=\"node2\">\n",
       "<title>z</title>\n",
       "<ellipse cx=\"27\" cy=\"-18\" fill=\"none\" rx=\"27\" ry=\"18\" stroke=\"#000000\"/>\n",
       "<text fill=\"#000000\" font-family=\"Times,serif\" font-size=\"14.00\" text-anchor=\"middle\" x=\"27\" y=\"-14.3\">z</text>\n",
       "</g>\n",
       "<!-- x&#45;&gt;z -->\n",
       "<g class=\"edge\" id=\"edge1\">\n",
       "<title>x-&gt;z</title>\n",
       "<path d=\"M22.357,-135.9932C20.9876,-127.1413 19.6754,-117.1682 19,-108 17.8244,-92.0432 17.8244,-87.9568 19,-72 19.6754,-62.8318 20.9876,-52.8587 22.357,-44.0068\" fill=\"none\" stroke=\"#000000\"/>\n",
       "<ellipse cx=\"23.0276\" cy=\"-140.1253\" fill=\"none\" rx=\"4\" ry=\"4\" stroke=\"#000000\"/>\n",
       "<ellipse cx=\"23.0276\" cy=\"-39.8747\" fill=\"none\" rx=\"4\" ry=\"4\" stroke=\"#000000\"/>\n",
       "</g>\n",
       "<!-- y -->\n",
       "<g class=\"node\" id=\"node3\">\n",
       "<title>y</title>\n",
       "<ellipse cx=\"55\" cy=\"-90\" fill=\"none\" rx=\"27\" ry=\"18\" stroke=\"#000000\"/>\n",
       "<text fill=\"#000000\" font-family=\"Times,serif\" font-size=\"14.00\" text-anchor=\"middle\" x=\"55\" y=\"-86.3\">y</text>\n",
       "</g>\n",
       "<!-- x&#45;&gt;y -->\n",
       "<g class=\"edge\" id=\"edge3\">\n",
       "<title>x-&gt;y</title>\n",
       "<path d=\"M36.6917,-137.0784C39.4143,-130.0775 42.3777,-122.4572 45.1116,-115.4272\" fill=\"none\" stroke=\"#000000\"/>\n",
       "<ellipse cx=\"35.2278\" cy=\"-140.8428\" fill=\"none\" rx=\"4\" ry=\"4\" stroke=\"#000000\"/>\n",
       "<ellipse cx=\"46.7375\" cy=\"-111.2463\" fill=\"none\" rx=\"4\" ry=\"4\" stroke=\"#000000\"/>\n",
       "</g>\n",
       "<!-- y&#45;&gt;z -->\n",
       "<g class=\"edge\" id=\"edge2\">\n",
       "<title>y-&gt;z</title>\n",
       "<path d=\"M45.3083,-65.0784C42.5857,-58.0775 39.6223,-50.4572 36.8884,-43.4272\" fill=\"none\" stroke=\"#000000\"/>\n",
       "<ellipse cx=\"46.7722\" cy=\"-68.8428\" fill=\"none\" rx=\"4\" ry=\"4\" stroke=\"#000000\"/>\n",
       "<ellipse cx=\"35.2625\" cy=\"-39.2463\" fill=\"none\" rx=\"4\" ry=\"4\" stroke=\"#000000\"/>\n",
       "</g>\n",
       "</g>\n",
       "</svg>"
      ],
      "text/plain": [
       "<IPython.core.display.SVG object>"
      ]
     },
     "execution_count": 93,
     "metadata": {},
     "output_type": "execute_result"
    }
   ],
   "source": [
    "#GFCI = Greedy Fast Causal Interference (GFCI) \n",
    "# bdeu = Bayesian Dirichlet likelihood equivalence and uniform\n",
    "tetrad.run(algoId = 'gfci', dfs = df, testId = 'bdeu', scoreId = 'bdeu', dataType = 'discrete',\n",
    "           structurePrior = 1.0, samplePrior = 1.0, maxDegree = -1, maxPathLength = -1, \n",
    "           completeRuleSetUsed = False, faithfulnessAssumed = True, verbose = True)\n",
    "\n",
    "import pydot\n",
    "from IPython.display import SVG\n",
    "dot_str = pc.tetradGraphToDot(tetrad.getTetradGraph())\n",
    "graphs = pydot.graph_from_dot_data(dot_str)\n",
    "svg_str = graphs[0].create_svg()\n",
    "SVG(svg_str)"
   ]
  },
  {
   "cell_type": "code",
   "execution_count": 94,
   "metadata": {},
   "outputs": [
    {
     "data": {
      "text/plain": [
       "['x o-o z', 'z o-o y', 'y o-o x']"
      ]
     },
     "execution_count": 94,
     "metadata": {},
     "output_type": "execute_result"
    }
   ],
   "source": [
    "pc.extractTetradGraphEdges(tetrad.getTetradGraph())"
   ]
  },
  {
   "cell_type": "code",
   "execution_count": 95,
   "metadata": {},
   "outputs": [
    {
     "data": {
      "image/svg+xml": [
       "<svg height=\"188pt\" viewBox=\"0.00 0.00 90.00 188.00\" width=\"90pt\" xmlns=\"http://www.w3.org/2000/svg\" xmlns:xlink=\"http://www.w3.org/1999/xlink\">\n",
       "<g class=\"graph\" id=\"graph0\" transform=\"scale(1 1) rotate(0) translate(4 184)\">\n",
       "<title>g</title>\n",
       "<polygon fill=\"#ffffff\" points=\"-4,4 -4,-184 86,-184 86,4 -4,4\" stroke=\"transparent\"/>\n",
       "<!-- x -->\n",
       "<g class=\"node\" id=\"node1\">\n",
       "<title>x</title>\n",
       "<ellipse cx=\"27\" cy=\"-162\" fill=\"none\" rx=\"27\" ry=\"18\" stroke=\"#000000\"/>\n",
       "<text fill=\"#000000\" font-family=\"Times,serif\" font-size=\"14.00\" text-anchor=\"middle\" x=\"27\" y=\"-158.3\">x</text>\n",
       "</g>\n",
       "<!-- z -->\n",
       "<g class=\"node\" id=\"node2\">\n",
       "<title>z</title>\n",
       "<ellipse cx=\"27\" cy=\"-18\" fill=\"none\" rx=\"27\" ry=\"18\" stroke=\"#000000\"/>\n",
       "<text fill=\"#000000\" font-family=\"Times,serif\" font-size=\"14.00\" text-anchor=\"middle\" x=\"27\" y=\"-14.3\">z</text>\n",
       "</g>\n",
       "<!-- x&#45;&gt;z -->\n",
       "<g class=\"edge\" id=\"edge1\">\n",
       "<title>x-&gt;z</title>\n",
       "<path d=\"M22.357,-135.9932C20.9876,-127.1413 19.6754,-117.1682 19,-108 17.8244,-92.0432 17.8244,-87.9568 19,-72 19.6754,-62.8318 20.9876,-52.8587 22.357,-44.0068\" fill=\"none\" stroke=\"#000000\"/>\n",
       "<ellipse cx=\"23.0276\" cy=\"-140.1253\" fill=\"none\" rx=\"4\" ry=\"4\" stroke=\"#000000\"/>\n",
       "<ellipse cx=\"23.0276\" cy=\"-39.8747\" fill=\"none\" rx=\"4\" ry=\"4\" stroke=\"#000000\"/>\n",
       "</g>\n",
       "<!-- y -->\n",
       "<g class=\"node\" id=\"node3\">\n",
       "<title>y</title>\n",
       "<ellipse cx=\"55\" cy=\"-90\" fill=\"none\" rx=\"27\" ry=\"18\" stroke=\"#000000\"/>\n",
       "<text fill=\"#000000\" font-family=\"Times,serif\" font-size=\"14.00\" text-anchor=\"middle\" x=\"55\" y=\"-86.3\">y</text>\n",
       "</g>\n",
       "<!-- x&#45;&gt;y -->\n",
       "<g class=\"edge\" id=\"edge3\">\n",
       "<title>x-&gt;y</title>\n",
       "<path d=\"M36.6917,-137.0784C39.4143,-130.0775 42.3777,-122.4572 45.1116,-115.4272\" fill=\"none\" stroke=\"#000000\"/>\n",
       "<ellipse cx=\"35.2278\" cy=\"-140.8428\" fill=\"none\" rx=\"4\" ry=\"4\" stroke=\"#000000\"/>\n",
       "<ellipse cx=\"46.7375\" cy=\"-111.2463\" fill=\"none\" rx=\"4\" ry=\"4\" stroke=\"#000000\"/>\n",
       "</g>\n",
       "<!-- y&#45;&gt;z -->\n",
       "<g class=\"edge\" id=\"edge2\">\n",
       "<title>y-&gt;z</title>\n",
       "<path d=\"M45.3083,-65.0784C42.5857,-58.0775 39.6223,-50.4572 36.8884,-43.4272\" fill=\"none\" stroke=\"#000000\"/>\n",
       "<ellipse cx=\"46.7722\" cy=\"-68.8428\" fill=\"none\" rx=\"4\" ry=\"4\" stroke=\"#000000\"/>\n",
       "<ellipse cx=\"35.2625\" cy=\"-39.2463\" fill=\"none\" rx=\"4\" ry=\"4\" stroke=\"#000000\"/>\n",
       "</g>\n",
       "</g>\n",
       "</svg>"
      ],
      "text/plain": [
       "<IPython.core.display.SVG object>"
      ]
     },
     "execution_count": 95,
     "metadata": {},
     "output_type": "execute_result"
    }
   ],
   "source": [
    "import pydot\n",
    "from IPython.display import SVG\n",
    "dot_str = pc.tetradGraphToDot(tetrad.getTetradGraph())\n",
    "graphs = pydot.graph_from_dot_data(dot_str)\n",
    "svg_str = graphs[0].create_svg()\n",
    "SVG(svg_str)"
   ]
  },
  {
   "cell_type": "code",
   "execution_count": 47,
   "metadata": {},
   "outputs": [],
   "source": [
    "dm = np.array(bin_data).reshape((5000, 5))\n",
    "df = pd.DataFrame(dm, columns = ['a', 'b', 'c', 'd', 'e']) "
   ]
  },
  {
   "cell_type": "code",
   "execution_count": null,
   "metadata": {},
   "outputs": [],
   "source": []
  },
  {
   "cell_type": "code",
   "execution_count": null,
   "metadata": {},
   "outputs": [],
   "source": []
  }
 ],
 "metadata": {
  "kernelspec": {
   "display_name": "Python 3",
   "language": "python",
   "name": "python3"
  },
  "language_info": {
   "codemirror_mode": {
    "name": "ipython",
    "version": 3
   },
   "file_extension": ".py",
   "mimetype": "text/x-python",
   "name": "python",
   "nbconvert_exporter": "python",
   "pygments_lexer": "ipython3",
   "version": "3.6.5"
  }
 },
 "nbformat": 4,
 "nbformat_minor": 2
}
